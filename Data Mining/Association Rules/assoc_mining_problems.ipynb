{
 "cells": [
  {
   "cell_type": "markdown",
   "metadata": {},
   "source": [
    "# Association Mining\n",
    "\n",
    "The goal in this problem set is to design and code an algorithm for generating association rules based on the apriori algorithm. The dataset that you will use to mine for association rules is a synthetic dataset containing over 1500 transactions. The format of the data is as follows:\n",
    "\n",
    "* Each row in the file represents a single transaction\n",
    "* Each transaction contains one or more letters representing items\n",
    "* The number of each item is immaterial for mining, so each unique letter will appear at most once in a transaction\n",
    "    - Note: this means you cannot just read the data into a dataframe, because the data is not columnar\n",
    "\n",
    "Example:\n",
    "\n",
    "A\n",
    "\n",
    "A, C, E\n",
    "\n",
    "B, D\n",
    "\n",
    "The above represents 3 transactions, where the third transaction contained at least one of each for items B and D.\n",
    "\n",
    "## Problems\n",
    "\n",
    "1. Write a scipt to read the data file 'itemsets.dat' into a list of lists\n",
    "    - one inner list of items for each transaction\n",
    "    - the .dat file is essentially just a text file\n",
    "2. For a bit of EDA: \n",
    "    * create a script that plots the proportions of single items sold\n",
    "    * plot the counts for the different itemset sizes\n",
    "3. Create a function to compute support for a given itemset from a transaction\n",
    "4. Write an apriori function that handles the pruning and generation of frequent itemsets\n",
    "    - should return a dict of frequent itemsets as keys, and their support as values\n",
    "    - must have a method for setting a minimum support value to determine frequent itemsets\n",
    "    - hint: use sets and frozensets <- dict keys cant be mutable objects\n",
    "5. Create a function that uses the frequent itemsets to generate association rules\n",
    "    - must have a min confidence level as a parameter\n",
    "        + do not keep rules that fall under this threshold\n",
    "    - return dict of rules with string for keys\n",
    "        + string key will take a form like: \"{'A', 'B'} -> {'C'}\"\n",
    "        + values must be a dict containing metric:value pairs where metrics include support, confidence, and lift\n",
    "    - return dataframe of rules with the following columns\n",
    "        + antecedent, consequent, support, confidence, lift\n",
    "    - Note: the support is for the entire set: antecedent union consequent\n",
    "6. Create a scatter plot to analyze the association rules\n",
    "    - one axis for antecedent and one for consequent\n",
    "    - set marker size based on support (use a multiplier to scale these up)\n",
    "    - set marker color based on lift\n",
    "    - hint: convert axes columns to numeric codes using `.astype('category').cat.codes`\n",
    "7. How should you interpret the lift values that are less than 1?"
   ]
  },
  {
   "cell_type": "markdown",
   "metadata": {},
   "source": [
    "## 1. Write a scipt to read the data file 'itemsets.dat' into a list of lists\n",
    "- one inner list of items for each transaction\n",
    "- the .dat file is essentially just a text file"
   ]
  },
  {
   "cell_type": "code",
   "execution_count": 1,
   "metadata": {
    "collapsed": true
   },
   "outputs": [],
   "source": [
    "import numpy as np\n",
    "import pandas as pd\n",
    "import matplotlib.pyplot as plt\n",
    "%matplotlib inline"
   ]
  },
  {
   "cell_type": "code",
   "execution_count": 2,
   "metadata": {
    "collapsed": true
   },
   "outputs": [],
   "source": [
    "with open('itemsets.dat') as f:\n",
    "    transactions = []\n",
    "    for row in f:\n",
    "        transactions.append(row.strip().split(','))"
   ]
  },
  {
   "cell_type": "code",
   "execution_count": 3,
   "metadata": {
    "scrolled": true
   },
   "outputs": [
    {
     "data": {
      "text/plain": [
       "[['A', 'C'], ['A', 'C'], ['D', 'E'], ['A', 'C', 'D'], ['A', 'E']]"
      ]
     },
     "execution_count": 3,
     "metadata": {},
     "output_type": "execute_result"
    }
   ],
   "source": [
    "transactions[0:5]"
   ]
  },
  {
   "cell_type": "markdown",
   "metadata": {},
   "source": [
    "## 2. For a bit of EDA: \n",
    "* create a script that plots the proportions of single items sold\n",
    "* plot the counts for the different itemset sizes"
   ]
  },
  {
   "cell_type": "code",
   "execution_count": 4,
   "metadata": {
    "collapsed": true
   },
   "outputs": [],
   "source": [
    "items_counts = {}\n",
    "for tran in transactions:\n",
    "    for item in tran:\n",
    "        if item in items_counts:\n",
    "            items_counts[item] += 1\n",
    "        else:\n",
    "            items_counts[item] = 1"
   ]
  },
  {
   "cell_type": "code",
   "execution_count": 5,
   "metadata": {},
   "outputs": [
    {
     "data": {
      "image/png": "[encoded data removed]",
      "text/plain": [
       "<matplotlib.figure.Figure at 0x18cc75a5da0>"
      ]
     },
     "metadata": {},
     "output_type": "display_data"
    }
   ],
   "source": [
    "plt.bar(items_counts.keys(), items_counts.values());"
   ]
  },
  {
   "cell_type": "code",
   "execution_count": 6,
   "metadata": {
    "collapsed": true
   },
   "outputs": [],
   "source": [
    "itemsets_sizes = {}\n",
    "for tran in transactions:\n",
    "    tran = frozenset(tran)\n",
    "    if tran in itemsets_sizes:\n",
    "        itemsets_sizes[tran] += 1\n",
    "    else:\n",
    "        itemsets_sizes[tran] = 1"
   ]
  },
  {
   "cell_type": "code",
   "execution_count": 7,
   "metadata": {},
   "outputs": [
    {
     "data": {
      "image/png": "[encoded data removed]",
      "text/plain": [
       "<matplotlib.figure.Figure at 0x18cc770ae48>"
      ]
     },
     "metadata": {},
     "output_type": "display_data"
    }
   ],
   "source": [
    "fig, ax = plt.subplots(figsize=(16, 8))\n",
    "ax.bar(itemsets_sizes.keys(), itemsets_sizes.values())\n",
    "ax.set_xticklabels([list(itemset) for itemset in itemsets_sizes.keys()], rotation='vertical');"
   ]
  },
  {
   "cell_type": "markdown",
   "metadata": {},
   "source": [
    "## 3. Create a function to compute support for a given itemset from a transaction"
   ]
  },
  {
   "cell_type": "code",
   "execution_count": 8,
   "metadata": {
    "collapsed": true
   },
   "outputs": [],
   "source": [
    "def support_count(trans, itemset):\n",
    "    count = 0\n",
    "    for tran in trans:\n",
    "        if set(itemset).issubset(set(tran)):\n",
    "            count += 1\n",
    "    return count"
   ]
  },
  {
   "cell_type": "code",
   "execution_count": 9,
   "metadata": {},
   "outputs": [
    {
     "name": "stdout",
     "output_type": "stream",
     "text": [
      "860\n",
      "344\n",
      "0\n"
     ]
    }
   ],
   "source": [
    "print(support_count(transactions, ['A']))\n",
    "print(support_count(transactions, ['A', 'C']))\n",
    "print(support_count(transactions, ['F']))"
   ]
  },
  {
   "cell_type": "code",
   "execution_count": 10,
   "metadata": {
    "collapsed": true
   },
   "outputs": [],
   "source": [
    "def support(trans, itemset):\n",
    "    return support_count(trans, itemset) / len(trans)"
   ]
  },
  {
   "cell_type": "code",
   "execution_count": 11,
   "metadata": {},
   "outputs": [
    {
     "name": "stdout",
     "output_type": "stream",
     "text": [
      "0.5491698595146871\n",
      "0.21966794380587484\n",
      "0.0\n"
     ]
    }
   ],
   "source": [
    "print(support(transactions, ['A']))\n",
    "print(support(transactions, ['A', 'C']))\n",
    "print(support(transactions, ['F']))"
   ]
  },
  {
   "cell_type": "markdown",
   "metadata": {},
   "source": [
    "## 4. Write an apriori function that handles the pruning and generation of frequent itemsets\n",
    "- should return a dict of frequent itemsets as keys, and their support as values\n",
    "- must have a method for setting a minimum support value to determine frequent itemsets\n",
    "- hint: use sets and frozensets <- dict keys cant be mutable objects"
   ]
  },
  {
   "cell_type": "code",
   "execution_count": 12,
   "metadata": {
    "collapsed": true
   },
   "outputs": [],
   "source": [
    "def generate_supsets(items, sets):\n",
    "    sups = {}\n",
    "    for s in sets:\n",
    "        for item in items:\n",
    "            sup = frozenset(s.union(item))\n",
    "            if sup != s and sup not in sups:\n",
    "                sups[sup] = 1\n",
    "    return list(sups.keys())"
   ]
  },
  {
   "cell_type": "code",
   "execution_count": 13,
   "metadata": {
    "collapsed": true
   },
   "outputs": [],
   "source": [
    "def apriori(trans, minsupp):\n",
    "    frequent_itemsets = {}\n",
    "    # get items list\n",
    "    items = list(set([item for tran in trans for item in tran]))\n",
    "    # initialize list of itemsets to check\n",
    "    curr_sets = items\n",
    "    # iterate till max itemset length\n",
    "    for i in range(len(items)):\n",
    "        # print(i, curr_sets)\n",
    "        # initialize candidates itemsets for generation of supsets\n",
    "        next_sets = []\n",
    "        # initialize current iteration unfrequent itemsets list\n",
    "        unfrequent = []\n",
    "        for s in curr_sets:\n",
    "            supp = support(trans, s)\n",
    "            # print(s, supp)\n",
    "            # if we are over minsupp add itemset to frequent list and to supsets generation candidates\n",
    "            if supp >= minsupp:\n",
    "                frequent_itemsets[frozenset(s)] = supp\n",
    "                next_sets.append(frozenset(s))\n",
    "            #else add to unfrequent list\n",
    "            else:\n",
    "                unfrequent.append(frozenset(s))\n",
    "        # if this is the first iteration update items list in order to optimize supsets generation\n",
    "        if i == 0:\n",
    "            items = [item for item in items if item not in unfrequent]\n",
    "        # generate supsets and exclude those that contain an unfrequent itemset\n",
    "        curr_sets = generate_supsets(items, next_sets)\n",
    "        for unfr in unfrequent:\n",
    "            curr_sets = [s for s in curr_sets if not unfr.issubset(s)]\n",
    "        # print(next_sets)\n",
    "        # print(unfrequent)\n",
    "        # print(curr_sets)\n",
    "        if len(curr_sets) == 0:\n",
    "            break\n",
    "    return frequent_itemsets"
   ]
  },
  {
   "cell_type": "code",
   "execution_count": 14,
   "metadata": {},
   "outputs": [
    {
     "data": {
      "text/plain": [
       "{frozenset({'A'}): 0.5491698595146871,\n",
       " frozenset({'C'}): 0.4220945083014049,\n",
       " frozenset({'B'}): 0.4144316730523627,\n",
       " frozenset({'E'}): 0.5977011494252874,\n",
       " frozenset({'D'}): 0.3876117496807152,\n",
       " frozenset({'A', 'C'}): 0.21966794380587484,\n",
       " frozenset({'A', 'B'}): 0.1826309067688378,\n",
       " frozenset({'A', 'E'}): 0.2796934865900383,\n",
       " frozenset({'A', 'D'}): 0.13218390804597702,\n",
       " frozenset({'B', 'C'}): 0.2247765006385696,\n",
       " frozenset({'C', 'E'}): 0.2164750957854406,\n",
       " frozenset({'B', 'E'}): 0.1583652618135377,\n",
       " frozenset({'B', 'D'}): 0.18518518518518517,\n",
       " frozenset({'D', 'E'}): 0.21966794380587484,\n",
       " frozenset({'A', 'B', 'C'}): 0.10600255427841634,\n",
       " frozenset({'B', 'C', 'E'}): 0.11558109833971902}"
      ]
     },
     "execution_count": 14,
     "metadata": {},
     "output_type": "execute_result"
    }
   ],
   "source": [
    "apriori(transactions, 0.1)"
   ]
  },
  {
   "cell_type": "markdown",
   "metadata": {},
   "source": [
    "## 5. Create a function that uses the frequent itemsets to generate association rules\n",
    "- must have a min confidence level as a parameter\n",
    "    + do not keep rules that fall under this threshold\n",
    "- return dict of rules with string for keys\n",
    "    + string key will take a form like: \"{'A', 'B'} -> {'C'}\"\n",
    "    + values must be a dict containing metric:value pairs where metrics include support, confidence, and lift\n",
    "- return dataframe of rules with the following columns\n",
    "    + antecedent, consequent, support, confidence, lift\n",
    "- Note: the support is for the entire set: antecedent union consequent"
   ]
  },
  {
   "cell_type": "code",
   "execution_count": 15,
   "metadata": {
    "collapsed": true
   },
   "outputs": [],
   "source": [
    "def calc_metrics(trans, X, Y):\n",
    "    supp = support(trans, X.union(Y))\n",
    "    supp_X = support(trans, X)\n",
    "    supp_Y = support(trans, Y)\n",
    "    conf = supp / supp_X\n",
    "    lift = supp / (supp_X*supp_Y)\n",
    "    return conf, lift, supp"
   ]
  },
  {
   "cell_type": "code",
   "execution_count": 16,
   "metadata": {
    "collapsed": true
   },
   "outputs": [],
   "source": [
    "def generate_subsets(items, sets):\n",
    "    subs = {}\n",
    "    for s in sets:\n",
    "        for item in items:\n",
    "            sup = frozenset(s.difference(item))\n",
    "            if sup != s and sup not in subs:\n",
    "                subs[sup] = 1\n",
    "    return list(subs.keys())"
   ]
  },
  {
   "cell_type": "code",
   "execution_count": 17,
   "metadata": {
    "collapsed": true
   },
   "outputs": [],
   "source": [
    "def association_rules(trans, frequent, minconf):\n",
    "    rules = {}\n",
    "    # get items list\n",
    "    items = list(frequent)\n",
    "    # initialize list of antecedents to check\n",
    "    curr_antecedents = generate_subsets(items, [frequent])\n",
    "    # iterate till itemset length - 1\n",
    "    for i in range(len(frequent)-1):\n",
    "        # print(i, curr_rules)\n",
    "        # initialize candidates itemsets for generation of subsets\n",
    "        next_antecedents = []\n",
    "        # initialize current iteration unfrequent itemsets list\n",
    "        unconfident = []\n",
    "        for ant in curr_antecedents:\n",
    "            cons = set(items).difference(ant)\n",
    "            conf, lift, supp = calc_metrics(trans, ant, cons)\n",
    "            # print(ant, conf)\n",
    "            # if we are over minconf add rule to rules list and to subsets generation candidates\n",
    "            if conf >= minconf:\n",
    "                rule_ant = ', '.join('{}'.format(a) for a in (list(ant)))\n",
    "                rule_cons = ', '.join('{}'.format(c) for c in (list(cons)))\n",
    "                rule = '{{{}}}->{{{}}}'.format(rule_ant, rule_cons)\n",
    "                metrics = {}\n",
    "                metrics['confidence'] = conf\n",
    "                metrics['lift'] = lift\n",
    "                metrics['support'] = supp\n",
    "                rules[rule] = metrics\n",
    "                next_antecedents.append(frozenset(ant))\n",
    "            #else add to unconfident list\n",
    "            else:\n",
    "                unconfident.append(frozenset(ant))\n",
    "        # generate subsets and exclude those that are contained in an unconfident rule\n",
    "        curr_antecedents = generate_subsets(items, next_antecedents)\n",
    "        for uncf in unconfident:\n",
    "            curr_antecedents = [ant for ant in curr_antecedents if not uncf.issuperset(ant)]\n",
    "        # print(next_antecedents)\n",
    "        # print(unconfident)\n",
    "        # print(curr_antecedents)\n",
    "        if len(curr_antecedents) == 0:\n",
    "            break\n",
    "    return rules"
   ]
  },
  {
   "cell_type": "code",
   "execution_count": 18,
   "metadata": {
    "scrolled": true
   },
   "outputs": [
    {
     "data": {
      "text/plain": [
       "{'{A, B}->{C}': {'confidence': 0.5804195804195804,\n",
       "  'lift': 1.3750938924917742,\n",
       "  'support': 0.10600255427841634},\n",
       " '{A, C}->{B}': {'confidence': 0.4825581395348837,\n",
       "  'lift': 1.1643852796789333,\n",
       "  'support': 0.10600255427841634},\n",
       " '{B}->{A, C}': {'confidence': 0.2557781201848998,\n",
       "  'lift': 1.1643852796789333,\n",
       "  'support': 0.10600255427841634},\n",
       " '{C, B}->{A}': {'confidence': 0.47159090909090906,\n",
       "  'lift': 0.8587341437632134,\n",
       "  'support': 0.10600255427841634},\n",
       " '{C}->{A, B}': {'confidence': 0.2511346444780635,\n",
       "  'lift': 1.3750938924917742,\n",
       "  'support': 0.10600255427841634}}"
      ]
     },
     "execution_count": 18,
     "metadata": {},
     "output_type": "execute_result"
    }
   ],
   "source": [
    "association_rules(transactions, frozenset({'A', 'B', 'C'}), 0.2)"
   ]
  },
  {
   "cell_type": "code",
   "execution_count": 19,
   "metadata": {
    "collapsed": true
   },
   "outputs": [],
   "source": [
    "def get_all_rules(trans, frequent_itemsets, minconf):\n",
    "    rules_dict = {}\n",
    "    for frequent in frequent_itemsets:\n",
    "        rules = association_rules(trans, frequent, minconf)\n",
    "        rules_dict.update(rules)\n",
    "    rules_df = pd.DataFrame(rules_dict).T.reset_index()\n",
    "    rules_df['antecedent'] = rules_df['index'].apply(lambda x: x.split('->')[0])\n",
    "    rules_df['consequent'] = rules_df['index'].apply(lambda x: x.split('->')[1])\n",
    "    rules_df.drop('index', axis=1, inplace=True)\n",
    "    return rules_dict, rules_df"
   ]
  },
  {
   "cell_type": "code",
   "execution_count": 20,
   "metadata": {
    "collapsed": true
   },
   "outputs": [],
   "source": [
    "frequent_itemsets = apriori(transactions, 0.1)"
   ]
  },
  {
   "cell_type": "code",
   "execution_count": 21,
   "metadata": {
    "collapsed": true
   },
   "outputs": [],
   "source": [
    "rules_dict, rules_df = get_all_rules(transactions, frequent_itemsets, 0.3)"
   ]
  },
  {
   "cell_type": "code",
   "execution_count": 22,
   "metadata": {},
   "outputs": [
    {
     "data": {
      "text/plain": [
       "{'{A, B}->{C}': {'confidence': 0.5804195804195804,\n",
       "  'lift': 1.3750938924917742,\n",
       "  'support': 0.10600255427841634},\n",
       " '{A, C}->{B}': {'confidence': 0.4825581395348837,\n",
       "  'lift': 1.1643852796789333,\n",
       "  'support': 0.10600255427841634},\n",
       " '{A}->{B}': {'confidence': 0.3325581395348837,\n",
       "  'lift': 0.8024438312968073,\n",
       "  'support': 0.1826309067688378},\n",
       " '{A}->{C}': {'confidence': 0.4,\n",
       "  'lift': 0.9476550680786686,\n",
       "  'support': 0.21966794380587484},\n",
       " '{A}->{E}': {'confidence': 0.5093023255813953,\n",
       "  'lift': 0.8521019677996421,\n",
       "  'support': 0.2796934865900383},\n",
       " '{B}->{A}': {'confidence': 0.4406779661016949,\n",
       "  'lift': 0.8024438312968073,\n",
       "  'support': 0.1826309067688378},\n",
       " '{B}->{C}': {'confidence': 0.5423728813559322,\n",
       "  'lift': 1.284956024513449,\n",
       "  'support': 0.2247765006385696},\n",
       " '{B}->{D}': {'confidence': 0.4468412942989214,\n",
       "  'lift': 1.1528063704647624,\n",
       "  'support': 0.18518518518518517},\n",
       " '{B}->{E}': {'confidence': 0.38212634822804314,\n",
       "  'lift': 0.6393267749199952,\n",
       "  'support': 0.1583652618135377},\n",
       " '{C, B}->{A}': {'confidence': 0.47159090909090906,\n",
       "  'lift': 0.8587341437632134,\n",
       "  'support': 0.10600255427841634},\n",
       " '{C, B}->{E}': {'confidence': 0.5142045454545454,\n",
       "  'lift': 0.8603037587412586,\n",
       "  'support': 0.11558109833971902},\n",
       " '{C}->{A}': {'confidence': 0.5204236006051437,\n",
       "  'lift': 0.9476550680786686,\n",
       "  'support': 0.21966794380587484},\n",
       " '{C}->{B}': {'confidence': 0.5325264750378215,\n",
       "  'lift': 1.284956024513449,\n",
       "  'support': 0.2247765006385696},\n",
       " '{C}->{E}': {'confidence': 0.51285930408472,\n",
       "  'lift': 0.8580530664494355,\n",
       "  'support': 0.2164750957854406},\n",
       " '{D}->{A}': {'confidence': 0.34102141680395387,\n",
       "  'lift': 0.6209762078081299,\n",
       "  'support': 0.13218390804597702},\n",
       " '{D}->{B}': {'confidence': 0.4777594728171334,\n",
       "  'lift': 1.1528063704647624,\n",
       "  'support': 0.18518518518518517},\n",
       " '{D}->{E}': {'confidence': 0.5667215815485996,\n",
       "  'lift': 0.9481687998986186,\n",
       "  'support': 0.21966794380587484},\n",
       " '{E, B}->{C}': {'confidence': 0.7298387096774193,\n",
       "  'lift': 1.729088380264506,\n",
       "  'support': 0.11558109833971902},\n",
       " '{E, C}->{B}': {'confidence': 0.5339233038348082,\n",
       "  'lift': 1.2883264927662708,\n",
       "  'support': 0.11558109833971902},\n",
       " '{E}->{A}': {'confidence': 0.46794871794871784,\n",
       "  'lift': 0.8521019677996421,\n",
       "  'support': 0.2796934865900383},\n",
       " '{E}->{C}': {'confidence': 0.36217948717948717,\n",
       "  'lift': 0.8580530664494355,\n",
       "  'support': 0.2164750957854406},\n",
       " '{E}->{D}': {'confidence': 0.3675213675213675,\n",
       "  'lift': 0.9481687998986186,\n",
       "  'support': 0.21966794380587484}}"
      ]
     },
     "execution_count": 22,
     "metadata": {},
     "output_type": "execute_result"
    }
   ],
   "source": [
    "rules_dict"
   ]
  },
  {
   "cell_type": "code",
   "execution_count": 23,
   "metadata": {},
   "outputs": [
    {
     "data": {
      "text/html": [
       "<div>\n",
       "<style>\n",
       "    .dataframe thead tr:only-child th {\n",
       "        text-align: right;\n",
       "    }\n",
       "\n",
       "    .dataframe thead th {\n",
       "        text-align: left;\n",
       "    }\n",
       "\n",
       "    .dataframe tbody tr th {\n",
       "        vertical-align: top;\n",
       "    }\n",
       "</style>\n",
       "<table border=\"1\" class=\"dataframe\">\n",
       "  <thead>\n",
       "    <tr style=\"text-align: right;\">\n",
       "      <th></th>\n",
       "      <th>confidence</th>\n",
       "      <th>lift</th>\n",
       "      <th>support</th>\n",
       "      <th>antecedent</th>\n",
       "      <th>consequent</th>\n",
       "    </tr>\n",
       "  </thead>\n",
       "  <tbody>\n",
       "    <tr>\n",
       "      <th>0</th>\n",
       "      <td>0.580420</td>\n",
       "      <td>1.375094</td>\n",
       "      <td>0.106003</td>\n",
       "      <td>{A, B}</td>\n",
       "      <td>{C}</td>\n",
       "    </tr>\n",
       "    <tr>\n",
       "      <th>1</th>\n",
       "      <td>0.482558</td>\n",
       "      <td>1.164385</td>\n",
       "      <td>0.106003</td>\n",
       "      <td>{A, C}</td>\n",
       "      <td>{B}</td>\n",
       "    </tr>\n",
       "    <tr>\n",
       "      <th>2</th>\n",
       "      <td>0.332558</td>\n",
       "      <td>0.802444</td>\n",
       "      <td>0.182631</td>\n",
       "      <td>{A}</td>\n",
       "      <td>{B}</td>\n",
       "    </tr>\n",
       "    <tr>\n",
       "      <th>3</th>\n",
       "      <td>0.400000</td>\n",
       "      <td>0.947655</td>\n",
       "      <td>0.219668</td>\n",
       "      <td>{A}</td>\n",
       "      <td>{C}</td>\n",
       "    </tr>\n",
       "    <tr>\n",
       "      <th>4</th>\n",
       "      <td>0.509302</td>\n",
       "      <td>0.852102</td>\n",
       "      <td>0.279693</td>\n",
       "      <td>{A}</td>\n",
       "      <td>{E}</td>\n",
       "    </tr>\n",
       "    <tr>\n",
       "      <th>5</th>\n",
       "      <td>0.440678</td>\n",
       "      <td>0.802444</td>\n",
       "      <td>0.182631</td>\n",
       "      <td>{B}</td>\n",
       "      <td>{A}</td>\n",
       "    </tr>\n",
       "    <tr>\n",
       "      <th>6</th>\n",
       "      <td>0.542373</td>\n",
       "      <td>1.284956</td>\n",
       "      <td>0.224777</td>\n",
       "      <td>{B}</td>\n",
       "      <td>{C}</td>\n",
       "    </tr>\n",
       "    <tr>\n",
       "      <th>7</th>\n",
       "      <td>0.446841</td>\n",
       "      <td>1.152806</td>\n",
       "      <td>0.185185</td>\n",
       "      <td>{B}</td>\n",
       "      <td>{D}</td>\n",
       "    </tr>\n",
       "    <tr>\n",
       "      <th>8</th>\n",
       "      <td>0.382126</td>\n",
       "      <td>0.639327</td>\n",
       "      <td>0.158365</td>\n",
       "      <td>{B}</td>\n",
       "      <td>{E}</td>\n",
       "    </tr>\n",
       "    <tr>\n",
       "      <th>9</th>\n",
       "      <td>0.471591</td>\n",
       "      <td>0.858734</td>\n",
       "      <td>0.106003</td>\n",
       "      <td>{C, B}</td>\n",
       "      <td>{A}</td>\n",
       "    </tr>\n",
       "    <tr>\n",
       "      <th>10</th>\n",
       "      <td>0.514205</td>\n",
       "      <td>0.860304</td>\n",
       "      <td>0.115581</td>\n",
       "      <td>{C, B}</td>\n",
       "      <td>{E}</td>\n",
       "    </tr>\n",
       "    <tr>\n",
       "      <th>11</th>\n",
       "      <td>0.520424</td>\n",
       "      <td>0.947655</td>\n",
       "      <td>0.219668</td>\n",
       "      <td>{C}</td>\n",
       "      <td>{A}</td>\n",
       "    </tr>\n",
       "    <tr>\n",
       "      <th>12</th>\n",
       "      <td>0.532526</td>\n",
       "      <td>1.284956</td>\n",
       "      <td>0.224777</td>\n",
       "      <td>{C}</td>\n",
       "      <td>{B}</td>\n",
       "    </tr>\n",
       "    <tr>\n",
       "      <th>13</th>\n",
       "      <td>0.512859</td>\n",
       "      <td>0.858053</td>\n",
       "      <td>0.216475</td>\n",
       "      <td>{C}</td>\n",
       "      <td>{E}</td>\n",
       "    </tr>\n",
       "    <tr>\n",
       "      <th>14</th>\n",
       "      <td>0.341021</td>\n",
       "      <td>0.620976</td>\n",
       "      <td>0.132184</td>\n",
       "      <td>{D}</td>\n",
       "      <td>{A}</td>\n",
       "    </tr>\n",
       "    <tr>\n",
       "      <th>15</th>\n",
       "      <td>0.477759</td>\n",
       "      <td>1.152806</td>\n",
       "      <td>0.185185</td>\n",
       "      <td>{D}</td>\n",
       "      <td>{B}</td>\n",
       "    </tr>\n",
       "    <tr>\n",
       "      <th>16</th>\n",
       "      <td>0.566722</td>\n",
       "      <td>0.948169</td>\n",
       "      <td>0.219668</td>\n",
       "      <td>{D}</td>\n",
       "      <td>{E}</td>\n",
       "    </tr>\n",
       "    <tr>\n",
       "      <th>17</th>\n",
       "      <td>0.729839</td>\n",
       "      <td>1.729088</td>\n",
       "      <td>0.115581</td>\n",
       "      <td>{E, B}</td>\n",
       "      <td>{C}</td>\n",
       "    </tr>\n",
       "    <tr>\n",
       "      <th>18</th>\n",
       "      <td>0.533923</td>\n",
       "      <td>1.288326</td>\n",
       "      <td>0.115581</td>\n",
       "      <td>{E, C}</td>\n",
       "      <td>{B}</td>\n",
       "    </tr>\n",
       "    <tr>\n",
       "      <th>19</th>\n",
       "      <td>0.467949</td>\n",
       "      <td>0.852102</td>\n",
       "      <td>0.279693</td>\n",
       "      <td>{E}</td>\n",
       "      <td>{A}</td>\n",
       "    </tr>\n",
       "    <tr>\n",
       "      <th>20</th>\n",
       "      <td>0.362179</td>\n",
       "      <td>0.858053</td>\n",
       "      <td>0.216475</td>\n",
       "      <td>{E}</td>\n",
       "      <td>{C}</td>\n",
       "    </tr>\n",
       "    <tr>\n",
       "      <th>21</th>\n",
       "      <td>0.367521</td>\n",
       "      <td>0.948169</td>\n",
       "      <td>0.219668</td>\n",
       "      <td>{E}</td>\n",
       "      <td>{D}</td>\n",
       "    </tr>\n",
       "  </tbody>\n",
       "</table>\n",
       "</div>"
      ],
      "text/plain": [
       "    confidence      lift   support antecedent consequent\n",
       "0     0.580420  1.375094  0.106003     {A, B}        {C}\n",
       "1     0.482558  1.164385  0.106003     {A, C}        {B}\n",
       "2     0.332558  0.802444  0.182631        {A}        {B}\n",
       "3     0.400000  0.947655  0.219668        {A}        {C}\n",
       "4     0.509302  0.852102  0.279693        {A}        {E}\n",
       "5     0.440678  0.802444  0.182631        {B}        {A}\n",
       "6     0.542373  1.284956  0.224777        {B}        {C}\n",
       "7     0.446841  1.152806  0.185185        {B}        {D}\n",
       "8     0.382126  0.639327  0.158365        {B}        {E}\n",
       "9     0.471591  0.858734  0.106003     {C, B}        {A}\n",
       "10    0.514205  0.860304  0.115581     {C, B}        {E}\n",
       "11    0.520424  0.947655  0.219668        {C}        {A}\n",
       "12    0.532526  1.284956  0.224777        {C}        {B}\n",
       "13    0.512859  0.858053  0.216475        {C}        {E}\n",
       "14    0.341021  0.620976  0.132184        {D}        {A}\n",
       "15    0.477759  1.152806  0.185185        {D}        {B}\n",
       "16    0.566722  0.948169  0.219668        {D}        {E}\n",
       "17    0.729839  1.729088  0.115581     {E, B}        {C}\n",
       "18    0.533923  1.288326  0.115581     {E, C}        {B}\n",
       "19    0.467949  0.852102  0.279693        {E}        {A}\n",
       "20    0.362179  0.858053  0.216475        {E}        {C}\n",
       "21    0.367521  0.948169  0.219668        {E}        {D}"
      ]
     },
     "execution_count": 23,
     "metadata": {},
     "output_type": "execute_result"
    }
   ],
   "source": [
    "rules_df"
   ]
  },
  {
   "cell_type": "markdown",
   "metadata": {},
   "source": [
    "## 6. Create a scatter plot to analyze the association rules\n",
    "- one axis for antecedent and one for consequent\n",
    "- set marker size based on support (use a multiplier to scale these up)\n",
    "- set marker color based on lift\n",
    "- hint: convert axes columns to numeric codes using `.astype('category').cat.codes`"
   ]
  },
  {
   "cell_type": "code",
   "execution_count": 24,
   "metadata": {},
   "outputs": [
    {
     "data": {
      "image/png": "[encoded data removed]",
      "text/plain": [
       "<matplotlib.figure.Figure at 0x18cc7d195f8>"
      ]
     },
     "metadata": {},
     "output_type": "display_data"
    }
   ],
   "source": [
    "x = rules_df['antecedent'].astype('category')\n",
    "y = rules_df['consequent'].astype('category')\n",
    "\n",
    "fig, ax = plt.subplots(figsize=(12, 10))\n",
    "sct = ax.scatter(x.cat.codes, y.cat.codes, s=rules_df['support']*10000, c=rules_df['lift'])\n",
    "ax.xaxis.set_major_locator(plt.MaxNLocator(len(x.unique())))\n",
    "ax.xaxis.set_ticklabels(np.append([''], x.cat.categories))\n",
    "ax.yaxis.set_major_locator(plt.MaxNLocator(len(y.unique())))\n",
    "ax.yaxis.set_ticklabels(np.append([''], y.cat.categories))\n",
    "fig.colorbar(sct);"
   ]
  },
  {
   "cell_type": "markdown",
   "metadata": {},
   "source": [
    "## 7. How should you interpret the lift values that are less than 1?"
   ]
  },
  {
   "cell_type": "markdown",
   "metadata": {},
   "source": [
    "Given a rule $X \\rightarrow Y$, lift is defined as the support of the union of $X$ and $Y$ divided by the support of $X$ multiplied by the support of $Y$:\n",
    "\n",
    "$$lift(X \\rightarrow Y) = \\frac{supp(X \\cup Y)}{supp(X) \\cdot supp(Y)}.$$\n",
    "\n",
    "Furthermore, the rule we are considering is over a certain threshold for confidence, which is defined as\n",
    "\n",
    "$$conf(X \\rightarrow Y) = \\frac{supp(X \\cup Y)}{supp(X)},$$\n",
    "\n",
    "and so\n",
    "\n",
    "$$lift(X \\rightarrow Y) = \\frac{conf(X \\rightarrow Y)}{supp(Y)}.$$\n",
    "\n",
    "so a rule with lift less than 1 can be interpreted as a rule where the support of consequent is greater than the confidence of the rule. That is to say that we have a rule that has confidence over the threshold but the weight in the high confidence value is due in good part to the fact that the consequent has high support, in other words the rule happens frequently because the consequent is frequent."
   ]
  }
 ],
 "metadata": {
  "kernelspec": {
   "display_name": "Python 3",
   "language": "python",
   "name": "python3"
  },
  "language_info": {
   "codemirror_mode": {
    "name": "ipython",
    "version": 3
   },
   "file_extension": ".py",
   "mimetype": "text/x-python",
   "name": "python",
   "nbconvert_exporter": "python",
   "pygments_lexer": "ipython3",
   "version": "3.6.3"
  }
 },
 "nbformat": 4,
 "nbformat_minor": 2
}
