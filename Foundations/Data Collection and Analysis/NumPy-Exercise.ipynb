{
 "cells": [
  {
   "cell_type": "markdown",
   "metadata": {},
   "source": [
    "# NumPy Exercise\n",
    "NumPy is the fundamental package for scientific computing in Python. It is a Python library that provides a multidimensional array object, various derived objects (such as masked arrays and matrices), and an assortment of routines for fast operations on arrays, including mathematical, logical, shape manipulation, sorting, selecting, I/O, discrete Fourier transforms, basic linear algebra, basic statistical operations, random simulation and much more.\n",
    "\n",
    "At the core of the NumPy package, is the ndarray object. This encapsulates n-dimensional arrays of homogeneous data types, with many operations being performed in compiled code for performance. There are several important differences between NumPy arrays and the standard Python sequences:\n",
    "\n",
    "- NumPy arrays have a fixed size at creation, unlike Python lists (which can grow dynamically). Changing the size of an ndarray will create a new array and delete the original.\n",
    "- The elements in a NumPy array are all required to be of the same data type, and thus will be the same size in memory. The exception: one can have arrays of (Python, including NumPy) objects, thereby allowing for arrays of different sized elements.\n",
    "- NumPy arrays facilitate advanced mathematical and other types of operations on large numbers of data. Typically, such operations are executed more efficiently and with less code than is possible using Python’s built-in sequences.\n",
    "- A growing plethora of scientific and mathematical Python-based packages are using NumPy arrays; though these typically support Python-sequence input, they convert such input to NumPy arrays prior to processing, and they often output NumPy arrays. In other words, in order to efficiently use much (perhaps even most) of today’s scientific/mathematical Python-based software, just knowing how to use Python’s built-in sequence types is insufficient - one also needs to know how to use NumPy arrays.\n",
    "\n",
    "Using only NumPy, perform the following."
   ]
  },
  {
   "cell_type": "code",
   "execution_count": 1,
   "metadata": {
    "collapsed": true
   },
   "outputs": [],
   "source": [
    "import numpy as np"
   ]
  },
  {
   "cell_type": "markdown",
   "metadata": {},
   "source": [
    "1 - Create an array of the form $b = \\begin{bmatrix} 1 \\\\ 2 \\end{bmatrix}$"
   ]
  },
  {
   "cell_type": "code",
   "execution_count": 2,
   "metadata": {
    "collapsed": false
   },
   "outputs": [
    {
     "name": "stdout",
     "output_type": "stream",
     "text": [
      "[[1]\n",
      " [2]]\n"
     ]
    }
   ],
   "source": [
    "b = np.arange(1, 3).reshape(2, 1) # Using reshape\n",
    "#b = np.arange(1, 3)[:, np.newaxis] # Using newaxis\n",
    "print(b)"
   ]
  },
  {
   "cell_type": "markdown",
   "metadata": {},
   "source": [
    "2 - Create a 2x2 array of the form $X = \\begin{bmatrix} 1 & 2 \\\\ 3 & 4 \\end{bmatrix}$"
   ]
  },
  {
   "cell_type": "code",
   "execution_count": 3,
   "metadata": {
    "collapsed": false
   },
   "outputs": [
    {
     "name": "stdout",
     "output_type": "stream",
     "text": [
      "[[1 2]\n",
      " [3 4]]\n"
     ]
    }
   ],
   "source": [
    "X = np.arange(1, 5).reshape(2, 2)\n",
    "print(X)"
   ]
  },
  {
   "cell_type": "markdown",
   "metadata": {},
   "source": [
    "3 - Multiply the two arrays element wise, then using matrix multiplication, and finally the inner product of $b \\bullet b$."
   ]
  },
  {
   "cell_type": "code",
   "execution_count": 4,
   "metadata": {
    "collapsed": false
   },
   "outputs": [
    {
     "name": "stdout",
     "output_type": "stream",
     "text": [
      "Element wise product:\n",
      " [[1 2]\n",
      " [6 8]]\n",
      "Matrix multiplication:\n",
      " [[ 5]\n",
      " [11]]\n",
      "Inner product:\n",
      " 5\n"
     ]
    }
   ],
   "source": [
    "prod1 = X * b # element wise\n",
    "prod2 = X.dot(b) # matrix multiplication\n",
    "prod3 = b.reshape(2).dot(b.reshape(2)) # inner product\n",
    "\n",
    "print('Element wise product:\\n', prod1)\n",
    "print('Matrix multiplication:\\n', prod2)\n",
    "print('Inner product:\\n', prod3)"
   ]
  },
  {
   "cell_type": "markdown",
   "metadata": {},
   "source": [
    "4 - For each of your results in part (3), print the shape and data type."
   ]
  },
  {
   "cell_type": "code",
   "execution_count": 5,
   "metadata": {
    "collapsed": false
   },
   "outputs": [
    {
     "name": "stdout",
     "output_type": "stream",
     "text": [
      "-----------------------------\n",
      "Shape: (2, 2)\n",
      "Data type: int32\n",
      "-----------------------------\n",
      "Shape: (2, 1)\n",
      "Data type: int32\n",
      "-----------------------------\n",
      "Shape: ()\n",
      "Data type: int32\n"
     ]
    }
   ],
   "source": [
    "for pr in [prod1, prod2, prod3]:\n",
    "    print('-----------------------------')\n",
    "    print('Shape: {}'.format(pr.shape))\n",
    "    print('Data type: {}'.format(pr.dtype))"
   ]
  },
  {
   "cell_type": "markdown",
   "metadata": {},
   "source": [
    "5 - Reshape (or flatten), the array $X$ such that it consists of only 1 row."
   ]
  },
  {
   "cell_type": "code",
   "execution_count": 6,
   "metadata": {
    "collapsed": false
   },
   "outputs": [
    {
     "name": "stdout",
     "output_type": "stream",
     "text": [
      "[1 2 3 4]\n"
     ]
    }
   ],
   "source": [
    "print(X.flatten())"
   ]
  },
  {
   "cell_type": "markdown",
   "metadata": {},
   "source": [
    "6 - Create an array of the integers 1 to 10, inclusive, setting the datatype to float."
   ]
  },
  {
   "cell_type": "code",
   "execution_count": 7,
   "metadata": {
    "collapsed": false
   },
   "outputs": [
    {
     "name": "stdout",
     "output_type": "stream",
     "text": [
      "[  1.   2.   3.   4.   5.   6.   7.   8.   9.  10.]\n"
     ]
    }
   ],
   "source": [
    "print(np.arange(1, 11, dtype='float'))"
   ]
  },
  {
   "cell_type": "markdown",
   "metadata": {},
   "source": [
    "7 - Create a 10x10 identity matrix using the built in numpy function."
   ]
  },
  {
   "cell_type": "code",
   "execution_count": 8,
   "metadata": {
    "collapsed": false
   },
   "outputs": [
    {
     "name": "stdout",
     "output_type": "stream",
     "text": [
      "[[ 1.  0.  0.  0.  0.  0.  0.  0.  0.  0.]\n",
      " [ 0.  1.  0.  0.  0.  0.  0.  0.  0.  0.]\n",
      " [ 0.  0.  1.  0.  0.  0.  0.  0.  0.  0.]\n",
      " [ 0.  0.  0.  1.  0.  0.  0.  0.  0.  0.]\n",
      " [ 0.  0.  0.  0.  1.  0.  0.  0.  0.  0.]\n",
      " [ 0.  0.  0.  0.  0.  1.  0.  0.  0.  0.]\n",
      " [ 0.  0.  0.  0.  0.  0.  1.  0.  0.  0.]\n",
      " [ 0.  0.  0.  0.  0.  0.  0.  1.  0.  0.]\n",
      " [ 0.  0.  0.  0.  0.  0.  0.  0.  1.  0.]\n",
      " [ 0.  0.  0.  0.  0.  0.  0.  0.  0.  1.]]\n"
     ]
    }
   ],
   "source": [
    "print(np.eye(10))"
   ]
  },
  {
   "cell_type": "markdown",
   "metadata": {},
   "source": [
    "8 - Create a 10x10 identity matrix using a for loop."
   ]
  },
  {
   "cell_type": "code",
   "execution_count": 9,
   "metadata": {
    "collapsed": false
   },
   "outputs": [
    {
     "name": "stdout",
     "output_type": "stream",
     "text": [
      "[[ 1.  0.  0.  0.  0.  0.  0.  0.  0.  0.]\n",
      " [ 0.  1.  0.  0.  0.  0.  0.  0.  0.  0.]\n",
      " [ 0.  0.  1.  0.  0.  0.  0.  0.  0.  0.]\n",
      " [ 0.  0.  0.  1.  0.  0.  0.  0.  0.  0.]\n",
      " [ 0.  0.  0.  0.  1.  0.  0.  0.  0.  0.]\n",
      " [ 0.  0.  0.  0.  0.  1.  0.  0.  0.  0.]\n",
      " [ 0.  0.  0.  0.  0.  0.  1.  0.  0.  0.]\n",
      " [ 0.  0.  0.  0.  0.  0.  0.  1.  0.  0.]\n",
      " [ 0.  0.  0.  0.  0.  0.  0.  0.  1.  0.]\n",
      " [ 0.  0.  0.  0.  0.  0.  0.  0.  0.  1.]]\n"
     ]
    }
   ],
   "source": [
    "identity = np.zeros((10, 10))\n",
    "\n",
    "for i in range(0, 10):\n",
    "    for j in range(0, 10):\n",
    "        if i == j:\n",
    "            identity[i, j] = 1\n",
    "\n",
    "print(identity)"
   ]
  },
  {
   "cell_type": "markdown",
   "metadata": {},
   "source": [
    "9 - Generate a set of random data, $X$, drawn from a normal distribution, consisting of 9 columns of 100 rows each, then attach a column of all ones, resulting in a 100x10 matrix for $X$.  Next generate a random array $\\beta$, drawn from a uniform distribution, of length 10.  Also make an array, $\\epsilon$ of length 100, drawn from a normal distribution.  Finally, compute a vector $\\vec{y}$ such that $\\vec{y} = X\\beta + \\epsilon$.  Be sure to set the random seed to 0 before drawing any random numbers.  All random numbers should be on the interval [0, 1)."
   ]
  },
  {
   "cell_type": "code",
   "execution_count": 10,
   "metadata": {
    "collapsed": false
   },
   "outputs": [
    {
     "data": {
      "text/plain": [
       "array([ 5.55407421,  4.0221431 , -0.63233802,  3.14836958,  2.52841109,\n",
       "       -4.23344139, -0.07221712, -1.3116249 , -2.06006701,  3.05349886,\n",
       "        4.16502457,  1.31482709,  7.25805173,  1.16388755,  1.68099846,\n",
       "        1.11753374,  3.84406527, -0.10668459,  1.27001171, -1.56017448,\n",
       "       -6.86593131,  2.34870246,  2.74181891, -0.92599072,  2.3670654 ,\n",
       "       -2.42942755, -0.01716856, -1.37036836,  0.06621503,  0.33511171,\n",
       "       -2.20731907,  3.39067489,  1.50455258, -1.57315195, -2.20476809,\n",
       "       -1.12483232,  2.21236973, -0.56561111, -1.89290923, -1.95335582,\n",
       "       -0.12841631, -2.39258313, -5.64564031,  1.08924031,  0.48384041,\n",
       "       -0.76923341,  1.53414815, -1.48576336, -0.57862226, -0.91245323,\n",
       "       -0.60029246, -1.2699939 , -0.36919871, -1.88141371,  5.24888922,\n",
       "        0.38676173, -1.31965014, -0.17710609, -3.26316343, -0.32471721,\n",
       "       -1.4764068 , -1.706166  , -1.39604906, -0.6730484 , -1.72871219,\n",
       "       -2.36502924, -2.90964393, -4.04927365,  0.76821519, -0.0425243 ,\n",
       "        1.41275174,  2.08787121,  2.11701513, -4.1436901 , -2.36027099,\n",
       "        2.41856446, -1.41077045, -3.27365909,  2.16219144,  0.47712801,\n",
       "       -1.22609221, -0.07326877, -0.4177156 , -0.35221856,  1.91645121,\n",
       "        1.58314767,  0.84375138, -1.2553495 , -1.4788939 ,  0.97292743,\n",
       "        2.10649098,  3.06172698,  1.66510268,  3.41758477, -3.85886542,\n",
       "        0.08521761, -0.4533968 ,  0.56389   , -1.71443653,  2.37248175])"
      ]
     },
     "execution_count": 10,
     "metadata": {},
     "output_type": "execute_result"
    }
   ],
   "source": [
    "# Set seed to 0\n",
    "np.random.seed(0)\n",
    "\n",
    "# Random matrix from normal distribution + column of ones\n",
    "X = np.random.normal(size=(100, 9))\n",
    "X = np.hstack([X, np.ones(100).reshape(100, 1)])\n",
    "#print('Shape of X:', X.shape)\n",
    "\n",
    "# Random array from uniform distribution\n",
    "np.random.seed(0)\n",
    "β = np.random.uniform(size=10) # defaults are ok for random number interval\n",
    "\n",
    "# Random array from normal distribution\n",
    "np.random.seed(0)\n",
    "ϵ = np.random.normal(size=100)\n",
    "\n",
    "# Compute y\n",
    "y = X.dot(β) + ϵ\n",
    "y"
   ]
  },
  {
   "cell_type": "markdown",
   "metadata": {
    "collapsed": true
   },
   "source": [
    "10 - Using the vector $\\vec{y}$ computed in part 9, create a vector $\\vec{c}$ containing the labels \"positive\" or \"negative\" for each value in $\\vec{y}$, treating 0 as positive.  **Bonus:** Do it with a one-liner."
   ]
  },
  {
   "cell_type": "code",
   "execution_count": 11,
   "metadata": {
    "collapsed": false
   },
   "outputs": [
    {
     "name": "stdout",
     "output_type": "stream",
     "text": [
      "['positive' 'positive' 'negative' 'positive' 'positive' 'negative'\n",
      " 'negative' 'negative' 'negative' 'positive' 'positive' 'positive'\n",
      " 'positive' 'positive' 'positive' 'positive' 'positive' 'negative'\n",
      " 'positive' 'negative' 'negative' 'positive' 'positive' 'negative'\n",
      " 'positive' 'negative' 'negative' 'negative' 'positive' 'positive'\n",
      " 'negative' 'positive' 'positive' 'negative' 'negative' 'negative'\n",
      " 'positive' 'negative' 'negative' 'negative' 'negative' 'negative'\n",
      " 'negative' 'positive' 'positive' 'negative' 'positive' 'negative'\n",
      " 'negative' 'negative' 'negative' 'negative' 'negative' 'negative'\n",
      " 'positive' 'positive' 'negative' 'negative' 'negative' 'negative'\n",
      " 'negative' 'negative' 'negative' 'negative' 'negative' 'negative'\n",
      " 'negative' 'negative' 'positive' 'negative' 'positive' 'positive'\n",
      " 'positive' 'negative' 'negative' 'positive' 'negative' 'negative'\n",
      " 'positive' 'positive' 'negative' 'negative' 'negative' 'negative'\n",
      " 'positive' 'positive' 'positive' 'negative' 'negative' 'positive'\n",
      " 'positive' 'positive' 'positive' 'positive' 'negative' 'positive'\n",
      " 'negative' 'positive' 'negative' 'positive']\n"
     ]
    }
   ],
   "source": [
    "c = np.array(['positive' if el else 'negative' for el in y >= 0])\n",
    "print(c)"
   ]
  },
  {
   "cell_type": "markdown",
   "metadata": {},
   "source": [
    "11 - Using the classes generated in part 10, separate the matrix X into two smaller matricies, $X_p$, $X_n$, containing only rows which map to positive or negative values respectively."
   ]
  },
  {
   "cell_type": "code",
   "execution_count": 12,
   "metadata": {
    "collapsed": false
   },
   "outputs": [
    {
     "name": "stdout",
     "output_type": "stream",
     "text": [
      "(44, 10)\n",
      "(56, 10)\n",
      "[ True  True  True  True  True  True  True  True  True  True]\n",
      "[False False False False False False False False False  True]\n",
      "[ True  True  True  True  True  True  True  True  True  True]\n",
      "[ True  True  True  True  True  True  True  True  True  True]\n"
     ]
    }
   ],
   "source": [
    "Xp = X[c == 'positive', :]\n",
    "print(Xp.shape)\n",
    "Xn = X[c == 'negative', :]\n",
    "print(Xn.shape)\n",
    "\n",
    "print(X[0] == Xp[0])\n",
    "print(X[5] == Xn[0])\n",
    "print(X[-1] == Xp[-1])\n",
    "print(X[-2] == Xn[-1])"
   ]
  },
  {
   "cell_type": "markdown",
   "metadata": {},
   "source": [
    "12 - Generate a meshgrid on the interval [0, 1], of shape 100x100.  Then compute the Euclidean Distance given by $d = \\sqrt{x^2 + y^2}$ from the origin for each unit, $(x_n, y_n)$, in the grid.  **Bonus:** Do it with a one-liner."
   ]
  },
  {
   "cell_type": "code",
   "execution_count": 13,
   "metadata": {
    "collapsed": false
   },
   "outputs": [
    {
     "name": "stdout",
     "output_type": "stream",
     "text": [
      "1.41421356237\n",
      "1.41421356237\n"
     ]
    }
   ],
   "source": [
    "x, y = np.meshgrid(np.linspace(0, 1, 100), np.linspace(0, 1, 100))\n",
    "d = np.sqrt(x**2 + y**2)\n",
    "\n",
    "d2 = np.fromfunction(lambda i, j: np.sqrt((i/99)**2 + (j/99)**2), (100, 100), dtype=float)\n",
    "\n",
    "print(d[-1, -1])\n",
    "print(d2[-1, -1])"
   ]
  },
  {
   "cell_type": "markdown",
   "metadata": {},
   "source": [
    "13 - Generate a set of 100 values, $p$,  on the interval $[0, 2\\pi]$ and two vectors, $\\vec{x}, \\vec{y}$ such that $\\vec{x} = cos(p)$ and $\\vec{y} = sin(p)$.  Then compute the vector $\\vec{r} = \\sqrt{x^2 + y^2}$.  Comment on your results."
   ]
  },
  {
   "cell_type": "code",
   "execution_count": 14,
   "metadata": {
    "collapsed": false
   },
   "outputs": [
    {
     "name": "stdout",
     "output_type": "stream",
     "text": [
      "[]\n"
     ]
    }
   ],
   "source": [
    "p = np.linspace(0, 2*np.pi, 100)\n",
    "x = np.cos(p)\n",
    "y = np.sin(p)\n",
    "\n",
    "r = np.sqrt(x**2 + y**2)\n",
    "\n",
    "print(r[(r < 0.9999999) | (r > 1.0000001)])"
   ]
  },
  {
   "cell_type": "markdown",
   "metadata": {},
   "source": [
    "14 - Generate two lists, `a`, `b`, consisting of 10 randomly drawn values from a normal and uniform distribution respectively.  Compute the mean and median of each."
   ]
  },
  {
   "cell_type": "code",
   "execution_count": 15,
   "metadata": {
    "collapsed": false
   },
   "outputs": [
    {
     "name": "stdout",
     "output_type": "stream",
     "text": [
      "Normal distribution mean: 0.32472\n",
      "Normal distribution median: 0.27789\n",
      "Uniform distribution mean: 0.64130\n",
      "Uniform distribution median: 0.65265\n"
     ]
    }
   ],
   "source": [
    "a = np.random.normal(size=10)\n",
    "b = np.random.uniform(size=10)\n",
    "\n",
    "print('Normal distribution mean: {:.5f}\\nNormal distribution median: {:.5f}'.format(a.mean(), np.median(a)))\n",
    "print('Uniform distribution mean: {:.5f}\\nUniform distribution median: {:.5f}'.format(b.mean(), np.median(b)))"
   ]
  },
  {
   "cell_type": "markdown",
   "metadata": {},
   "source": [
    "15 - Using `a` from part 14, create a new list `c` by calling `a = c`.  Now change the shape of `c`.  Comment on your results."
   ]
  },
  {
   "cell_type": "code",
   "execution_count": 16,
   "metadata": {
    "collapsed": false
   },
   "outputs": [
    {
     "name": "stdout",
     "output_type": "stream",
     "text": [
      "(10,)\n",
      "(10,)\n"
     ]
    }
   ],
   "source": [
    "c = a\n",
    "c.reshape(5, 2)\n",
    "print(c.shape)\n",
    "print(a.shape)"
   ]
  },
  {
   "cell_type": "markdown",
   "metadata": {},
   "source": [
    "16 - How would you solve the problem that appeared in part 15?"
   ]
  },
  {
   "cell_type": "code",
   "execution_count": 17,
   "metadata": {
    "collapsed": false
   },
   "outputs": [
    {
     "name": "stdout",
     "output_type": "stream",
     "text": [
      "(5, 2)\n",
      "(10,)\n"
     ]
    }
   ],
   "source": [
    "c = a\n",
    "c = c.reshape(5, 2)\n",
    "print(c.shape)\n",
    "print(a.shape)"
   ]
  }
 ],
 "metadata": {
  "anaconda-cloud": {},
  "kernelspec": {
   "display_name": "Python 3",
   "language": "python",
   "name": "python3"
  },
  "language_info": {
   "codemirror_mode": {
    "name": "ipython",
    "version": 3
   },
   "file_extension": ".py",
   "mimetype": "text/x-python",
   "name": "python",
   "nbconvert_exporter": "python",
   "pygments_lexer": "ipython3",
   "version": "3.6.0"
  }
 },
 "nbformat": 4,
 "nbformat_minor": 2
}
