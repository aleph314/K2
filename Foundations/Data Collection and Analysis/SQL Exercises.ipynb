{
 "cells": [
  {
   "cell_type": "markdown",
   "metadata": {},
   "source": [
    "# SQL Introduction\n",
    "\n",
    "Using the [Titanic](https://vincentarelbundock.github.io/Rdatasets/csv/datasets/Titanic.csv) dataset, perform the following exercises.\n",
    "\n",
    "1 - Import the data into SQLite, removing the index column."
   ]
  },
  {
   "cell_type": "markdown",
   "metadata": {},
   "source": [
    "```\n",
    ".mode csv\n",
    ".import Titanic.csv titanic\n",
    "```"
   ]
  },
  {
   "cell_type": "markdown",
   "metadata": {},
   "source": [
    "```SQL\n",
    "CREATE TABLE temp AS SELECT Name, PClass, Age, Sex, Survived, SexCode FROM titanic;\n",
    "DROP TABLE titanic;\n",
    "ALTER TABLE temp RENAME TO titanic;\n",
    "```"
   ]
  },
  {
   "cell_type": "markdown",
   "metadata": {},
   "source": [
    "2 - Run a query that returns the number of passengers in each class under the age of 16."
   ]
  },
  {
   "cell_type": "markdown",
   "metadata": {},
   "source": [
    "```SQL\n",
    "SELECT PClass, COUNT(*)\n",
    "FROM titanic\n",
    "WHERE Age <= 16\n",
    "GROUP BY PClass;\n",
    "```"
   ]
  },
  {
   "cell_type": "markdown",
   "metadata": {},
   "source": [
    "3 - Run a query that returns the average age of those who died (`Survived = 0`) and those who survived for male and female separately as well as the counts for each group."
   ]
  },
  {
   "cell_type": "markdown",
   "metadata": {},
   "source": [
    "```SQL\n",
    "SELECT Sex, Survived, AVG(Age) AS Age_Average, COUNT(*) AS Passengers_count\n",
    "FROM titanic\n",
    "GROUP BY Sex, Survived;\n",
    "```"
   ]
  },
  {
   "cell_type": "markdown",
   "metadata": {},
   "source": [
    "4 - Run a query that returns the portion of survivors in each class."
   ]
  },
  {
   "cell_type": "markdown",
   "metadata": {},
   "source": [
    "```SQL\n",
    "SELECT PClass, SUM(Survived) / CAST(COUNT(*) AS float) AS Survivor_portion\n",
    "FROM titanic\n",
    "GROUP BY PClass;\n",
    "\n",
    "```"
   ]
  },
  {
   "cell_type": "markdown",
   "metadata": {},
   "source": [
    "5 - Run a query that returns the portion of females and males in each class who survived with an age greater than the average."
   ]
  },
  {
   "cell_type": "markdown",
   "metadata": {},
   "source": [
    "Not really clear what is the desired output, let's try this:\n",
    "\n",
    "```SQL\n",
    "SELECT PClass, Sex ,SUM(Survived) / CAST(COUNT(*) AS float) AS Survivor_portion\n",
    "FROM titanic\n",
    "WHERE Age > (SELECT AVG(Age) FROM titanic)\n",
    "GROUP BY PClass, Sex;\n",
    "```"
   ]
  },
  {
   "cell_type": "markdown",
   "metadata": {},
   "source": [
    "6 - Download the [USArrest](https://vincentarelbundock.github.io/Rdatasets/csv/datasets/USArrests.csv) and [road](https://vincentarelbundock.github.io/Rdatasets/csv/MASS/road.csv) accident data and perform the following.\n",
    "1. Import the data into your SQLite environment.\n",
    "1. What column should the data be joined on?  After identifying it, `JOIN` on that column.\n",
    "1. Perform a `LEFT_JOIN` on the column identified in part 2.\n",
    "1. Are the results of your joins useful?  If not, what would be required to fix them? (Don't actually do it!)."
   ]
  },
  {
   "cell_type": "markdown",
   "metadata": {},
   "source": [
    "```\n",
    ".import USArrests.csv usarrests\n",
    ".import road.csv road\n",
    "```"
   ]
  },
  {
   "cell_type": "markdown",
   "metadata": {},
   "source": [
    "```SQL\n",
    "SELECT * FROM usarrests AS arr INNER JOIN road AS ro ON ro.State = arr.State;\n",
    "\n",
    "SELECT * FROM usarrests AS arr LEFT JOIN road AS ro ON ro.State = arr.State;\n",
    "```"
   ]
  },
  {
   "cell_type": "markdown",
   "metadata": {},
   "source": [
    "The results are not useful for two reasons:\n",
    "\n",
    "1. the road dataset does not contain all US states\n",
    "2. the state are registered in different ways between the two dataset\n",
    "\n",
    "To solve the latter problem we could modify the state names in order to have them match each other, to solve the former we need to get the missing data somewhere."
   ]
  },
  {
   "cell_type": "markdown",
   "metadata": {},
   "source": [
    "# SQLite3 in Python"
   ]
  },
  {
   "cell_type": "code",
   "execution_count": 1,
   "metadata": {
    "collapsed": true
   },
   "outputs": [],
   "source": [
    "import sqlite3\n",
    "\n",
    "sqlite_db = './myDB.db'"
   ]
  },
  {
   "cell_type": "markdown",
   "metadata": {},
   "source": [
    "1 - Add a new column, of type `char`, called `class`, to the mtcars data set, containing `low`, `med` or `high` for cars with `mpg` < 15, `mpg` < 20, and `mpg` > 20 respectively.  Be sure to properly open, commit, and close the connection before proceding."
   ]
  },
  {
   "cell_type": "code",
   "execution_count": 8,
   "metadata": {
    "collapsed": false
   },
   "outputs": [],
   "source": [
    "conn = sqlite3.connect(sqlite_db)\n",
    "c = conn.cursor()\n",
    "\n",
    "c.execute('ALTER TABLE mtcars ADD class char;')\n",
    "c.execute(\"UPDATE mtcars SET class = CASE WHEN mpg < 15 THEN 'low' WHEN mpg < 20 THEN 'med' ELSE 'high' END;\")\n",
    "\n",
    "conn.commit()\n",
    "conn.close()"
   ]
  },
  {
   "cell_type": "markdown",
   "metadata": {},
   "source": [
    "2 - What if you wanted to select cars with both `class = 'high'` or `class = 'low'` using the `?` place holder like above?  Consult the sqlite3 [documentation](https://docs.python.org/2/library/sqlite3.html) and write a query, using `?`, doing just that and print your results."
   ]
  },
  {
   "cell_type": "code",
   "execution_count": 12,
   "metadata": {
    "collapsed": false
   },
   "outputs": [
    {
     "name": "stdout",
     "output_type": "stream",
     "text": [
      "('Mazda RX4', '21', '6', '160', '110', '3.9', '2.62', '16.46', '0', '1', '4', '4', 'high')\n",
      "('Mazda RX4 Wag', '21', '6', '160', '110', '3.9', '2.875', '17.02', '0', '1', '4', '4', 'high')\n",
      "('Datsun 710', '22.8', '4', '108', '93', '3.85', '2.32', '18.61', '1', '1', '4', '1', 'high')\n",
      "('Hornet 4 Drive', '21.4', '6', '258', '110', '3.08', '3.215', '19.44', '1', '0', '3', '1', 'high')\n",
      "('Duster 360', '14.3', '8', '360', '245', '3.21', '3.57', '15.84', '0', '0', '3', '4', 'low')\n",
      "('Merc 240D', '24.4', '4', '146.7', '62', '3.69', '3.19', '20', '1', '0', '4', '2', 'high')\n",
      "('Merc 230', '22.8', '4', '140.8', '95', '3.92', '3.15', '22.9', '1', '0', '4', '2', 'high')\n",
      "('Cadillac Fleetwood', '10.4', '8', '472', '205', '2.93', '5.25', '17.98', '0', '0', '3', '4', 'low')\n",
      "('Lincoln Continental', '10.4', '8', '460', '215', '3', '5.424', '17.82', '0', '0', '3', '4', 'low')\n",
      "('Chrysler Imperial', '14.7', '8', '440', '230', '3.23', '5.345', '17.42', '0', '0', '3', '4', 'low')\n",
      "('Fiat 128', '32.4', '4', '78.7', '66', '4.08', '2.2', '19.47', '1', '1', '4', '1', 'high')\n",
      "('Honda Civic', '30.4', '4', '75.7', '52', '4.93', '1.615', '18.52', '1', '1', '4', '2', 'high')\n",
      "('Toyota Corolla', '33.9', '4', '71.1', '65', '4.22', '1.835', '19.9', '1', '1', '4', '1', 'high')\n",
      "('Toyota Corona', '21.5', '4', '120.1', '97', '3.7', '2.465', '20.01', '1', '0', '3', '1', 'high')\n",
      "('Camaro Z28', '13.3', '8', '350', '245', '3.73', '3.84', '15.41', '0', '0', '3', '4', 'low')\n",
      "('Fiat X1-9', '27.3', '4', '79', '66', '4.08', '1.935', '18.9', '1', '1', '4', '1', 'high')\n",
      "('Porsche 914-2', '26', '4', '120.3', '91', '4.43', '2.14', '16.7', '0', '1', '5', '2', 'high')\n",
      "('Lotus Europa', '30.4', '4', '95.1', '113', '3.77', '1.513', '16.9', '1', '1', '5', '2', 'high')\n",
      "('Volvo 142E', '21.4', '4', '121', '109', '4.11', '2.78', '18.6', '1', '1', '4', '2', 'high')\n"
     ]
    }
   ],
   "source": [
    "conn = sqlite3.connect(sqlite_db)\n",
    "c = conn.cursor()\n",
    "\n",
    "cl = ['high', 'low']\n",
    "results = c.execute(\"SELECT * FROM mtcars WHERE class IN (?, ?)\", cl)\n",
    "for row in results:\n",
    "    print(row)"
   ]
  },
  {
   "cell_type": "markdown",
   "metadata": {},
   "source": [
    "3 - Like we did above, create a copy of the `mtcars` table, and insert 3 new cars into the table, using only a subset of the columns, with proper error checking using a `try` statement, verifying that they were properly inserted before commiting your changes."
   ]
  },
  {
   "cell_type": "code",
   "execution_count": 13,
   "metadata": {
    "collapsed": true
   },
   "outputs": [],
   "source": [
    "conn = sqlite3.connect(sqlite_db)\n",
    "c = conn.cursor()\n",
    "\n",
    "c.execute('CREATE TABLE mtcars_copy AS SELECT * FROM mtcars;')\n",
    "\n",
    "conn.commit()\n",
    "conn.close()"
   ]
  },
  {
   "cell_type": "code",
   "execution_count": 19,
   "metadata": {
    "collapsed": false
   },
   "outputs": [],
   "source": [
    "import sys\n",
    "\n",
    "conn = None\n",
    "\n",
    "new_data = [('Panda','21','6'),\n",
    "           ('Punto','15','5'),\n",
    "           ('Uno','17','4')]\n",
    "\n",
    "try:\n",
    "    conn = sqlite3.connect(sqlite_db)\n",
    "    c = conn.cursor()\n",
    "\n",
    "    c.executemany('INSERT INTO mtcars_copy VALUES(?, ?, ?)', new_data)\n",
    "    #c.executemany('INSERT INTO mtcars_copy(name, mpg, cyl) VALUES(?, ?, ?)', new_data) # correct statement\n",
    "\n",
    "except sqlite3.Error as e:\n",
    "    print('Something went wrong:', e.args[0])\n",
    "\n",
    "finally:\n",
    "    if conn:\n",
    "        conn.commit()\n",
    "        conn.close()"
   ]
  },
  {
   "cell_type": "markdown",
   "metadata": {},
   "source": [
    "4 - Create a Pandas dataframe from the mtcars dataset, containing only cars with 6 cylinder engines and then create a new table in the database from this dataframe.  Verify that all operations worked."
   ]
  },
  {
   "cell_type": "code",
   "execution_count": 25,
   "metadata": {
    "collapsed": false
   },
   "outputs": [
    {
     "data": {
      "text/html": [
       "<div>\n",
       "<table border=\"1\" class=\"dataframe\">\n",
       "  <thead>\n",
       "    <tr style=\"text-align: right;\">\n",
       "      <th></th>\n",
       "      <th>name</th>\n",
       "      <th>mpg</th>\n",
       "      <th>cyl</th>\n",
       "      <th>disp</th>\n",
       "      <th>hp</th>\n",
       "      <th>drat</th>\n",
       "      <th>wt</th>\n",
       "      <th>qsec</th>\n",
       "      <th>vs</th>\n",
       "      <th>am</th>\n",
       "      <th>gear</th>\n",
       "      <th>carb</th>\n",
       "      <th>class</th>\n",
       "    </tr>\n",
       "  </thead>\n",
       "  <tbody>\n",
       "    <tr>\n",
       "      <th>0</th>\n",
       "      <td>Mazda RX4</td>\n",
       "      <td>21</td>\n",
       "      <td>6</td>\n",
       "      <td>160</td>\n",
       "      <td>110</td>\n",
       "      <td>3.9</td>\n",
       "      <td>2.62</td>\n",
       "      <td>16.46</td>\n",
       "      <td>0</td>\n",
       "      <td>1</td>\n",
       "      <td>4</td>\n",
       "      <td>4</td>\n",
       "      <td>high</td>\n",
       "    </tr>\n",
       "    <tr>\n",
       "      <th>1</th>\n",
       "      <td>Mazda RX4 Wag</td>\n",
       "      <td>21</td>\n",
       "      <td>6</td>\n",
       "      <td>160</td>\n",
       "      <td>110</td>\n",
       "      <td>3.9</td>\n",
       "      <td>2.875</td>\n",
       "      <td>17.02</td>\n",
       "      <td>0</td>\n",
       "      <td>1</td>\n",
       "      <td>4</td>\n",
       "      <td>4</td>\n",
       "      <td>high</td>\n",
       "    </tr>\n",
       "    <tr>\n",
       "      <th>2</th>\n",
       "      <td>Datsun 710</td>\n",
       "      <td>22.8</td>\n",
       "      <td>4</td>\n",
       "      <td>108</td>\n",
       "      <td>93</td>\n",
       "      <td>3.85</td>\n",
       "      <td>2.32</td>\n",
       "      <td>18.61</td>\n",
       "      <td>1</td>\n",
       "      <td>1</td>\n",
       "      <td>4</td>\n",
       "      <td>1</td>\n",
       "      <td>high</td>\n",
       "    </tr>\n",
       "    <tr>\n",
       "      <th>3</th>\n",
       "      <td>Hornet 4 Drive</td>\n",
       "      <td>21.4</td>\n",
       "      <td>6</td>\n",
       "      <td>258</td>\n",
       "      <td>110</td>\n",
       "      <td>3.08</td>\n",
       "      <td>3.215</td>\n",
       "      <td>19.44</td>\n",
       "      <td>1</td>\n",
       "      <td>0</td>\n",
       "      <td>3</td>\n",
       "      <td>1</td>\n",
       "      <td>high</td>\n",
       "    </tr>\n",
       "    <tr>\n",
       "      <th>4</th>\n",
       "      <td>Hornet Sportabout</td>\n",
       "      <td>18.7</td>\n",
       "      <td>8</td>\n",
       "      <td>360</td>\n",
       "      <td>175</td>\n",
       "      <td>3.15</td>\n",
       "      <td>3.44</td>\n",
       "      <td>17.02</td>\n",
       "      <td>0</td>\n",
       "      <td>0</td>\n",
       "      <td>3</td>\n",
       "      <td>2</td>\n",
       "      <td>med</td>\n",
       "    </tr>\n",
       "  </tbody>\n",
       "</table>\n",
       "</div>"
      ],
      "text/plain": [
       "                name   mpg cyl disp   hp  drat     wt   qsec vs am gear carb  \\\n",
       "0          Mazda RX4    21   6  160  110   3.9   2.62  16.46  0  1    4    4   \n",
       "1      Mazda RX4 Wag    21   6  160  110   3.9  2.875  17.02  0  1    4    4   \n",
       "2         Datsun 710  22.8   4  108   93  3.85   2.32  18.61  1  1    4    1   \n",
       "3     Hornet 4 Drive  21.4   6  258  110  3.08  3.215  19.44  1  0    3    1   \n",
       "4  Hornet Sportabout  18.7   8  360  175  3.15   3.44  17.02  0  0    3    2   \n",
       "\n",
       "  class  \n",
       "0  high  \n",
       "1  high  \n",
       "2  high  \n",
       "3  high  \n",
       "4   med  "
      ]
     },
     "execution_count": 25,
     "metadata": {},
     "output_type": "execute_result"
    }
   ],
   "source": [
    "import pandas as pd\n",
    "\n",
    "conn = sqlite3.connect(sqlite_db)\n",
    "\n",
    "mtcars = pd.read_sql_query('SELECT * FROM mtcars', conn)\n",
    "\n",
    "conn.close()\n",
    "\n",
    "mtcars.head()"
   ]
  },
  {
   "cell_type": "code",
   "execution_count": 35,
   "metadata": {
    "collapsed": false
   },
   "outputs": [
    {
     "data": {
      "text/html": [
       "<div>\n",
       "<table border=\"1\" class=\"dataframe\">\n",
       "  <thead>\n",
       "    <tr style=\"text-align: right;\">\n",
       "      <th></th>\n",
       "      <th>index</th>\n",
       "      <th>name</th>\n",
       "      <th>mpg</th>\n",
       "      <th>cyl</th>\n",
       "      <th>disp</th>\n",
       "      <th>hp</th>\n",
       "      <th>drat</th>\n",
       "      <th>wt</th>\n",
       "      <th>qsec</th>\n",
       "      <th>vs</th>\n",
       "      <th>am</th>\n",
       "      <th>gear</th>\n",
       "      <th>carb</th>\n",
       "      <th>class</th>\n",
       "    </tr>\n",
       "  </thead>\n",
       "  <tbody>\n",
       "    <tr>\n",
       "      <th>0</th>\n",
       "      <td>0</td>\n",
       "      <td>Mazda RX4</td>\n",
       "      <td>21</td>\n",
       "      <td>6</td>\n",
       "      <td>160</td>\n",
       "      <td>110</td>\n",
       "      <td>3.9</td>\n",
       "      <td>2.62</td>\n",
       "      <td>16.46</td>\n",
       "      <td>0</td>\n",
       "      <td>1</td>\n",
       "      <td>4</td>\n",
       "      <td>4</td>\n",
       "      <td>high</td>\n",
       "    </tr>\n",
       "    <tr>\n",
       "      <th>1</th>\n",
       "      <td>1</td>\n",
       "      <td>Mazda RX4 Wag</td>\n",
       "      <td>21</td>\n",
       "      <td>6</td>\n",
       "      <td>160</td>\n",
       "      <td>110</td>\n",
       "      <td>3.9</td>\n",
       "      <td>2.875</td>\n",
       "      <td>17.02</td>\n",
       "      <td>0</td>\n",
       "      <td>1</td>\n",
       "      <td>4</td>\n",
       "      <td>4</td>\n",
       "      <td>high</td>\n",
       "    </tr>\n",
       "    <tr>\n",
       "      <th>2</th>\n",
       "      <td>3</td>\n",
       "      <td>Hornet 4 Drive</td>\n",
       "      <td>21.4</td>\n",
       "      <td>6</td>\n",
       "      <td>258</td>\n",
       "      <td>110</td>\n",
       "      <td>3.08</td>\n",
       "      <td>3.215</td>\n",
       "      <td>19.44</td>\n",
       "      <td>1</td>\n",
       "      <td>0</td>\n",
       "      <td>3</td>\n",
       "      <td>1</td>\n",
       "      <td>high</td>\n",
       "    </tr>\n",
       "    <tr>\n",
       "      <th>3</th>\n",
       "      <td>5</td>\n",
       "      <td>Valiant</td>\n",
       "      <td>18.1</td>\n",
       "      <td>6</td>\n",
       "      <td>225</td>\n",
       "      <td>105</td>\n",
       "      <td>2.76</td>\n",
       "      <td>3.46</td>\n",
       "      <td>20.22</td>\n",
       "      <td>1</td>\n",
       "      <td>0</td>\n",
       "      <td>3</td>\n",
       "      <td>1</td>\n",
       "      <td>med</td>\n",
       "    </tr>\n",
       "    <tr>\n",
       "      <th>4</th>\n",
       "      <td>9</td>\n",
       "      <td>Merc 280</td>\n",
       "      <td>19.2</td>\n",
       "      <td>6</td>\n",
       "      <td>167.6</td>\n",
       "      <td>123</td>\n",
       "      <td>3.92</td>\n",
       "      <td>3.44</td>\n",
       "      <td>18.3</td>\n",
       "      <td>1</td>\n",
       "      <td>0</td>\n",
       "      <td>4</td>\n",
       "      <td>4</td>\n",
       "      <td>med</td>\n",
       "    </tr>\n",
       "    <tr>\n",
       "      <th>5</th>\n",
       "      <td>10</td>\n",
       "      <td>Merc 280C</td>\n",
       "      <td>17.8</td>\n",
       "      <td>6</td>\n",
       "      <td>167.6</td>\n",
       "      <td>123</td>\n",
       "      <td>3.92</td>\n",
       "      <td>3.44</td>\n",
       "      <td>18.9</td>\n",
       "      <td>1</td>\n",
       "      <td>0</td>\n",
       "      <td>4</td>\n",
       "      <td>4</td>\n",
       "      <td>med</td>\n",
       "    </tr>\n",
       "    <tr>\n",
       "      <th>6</th>\n",
       "      <td>29</td>\n",
       "      <td>Ferrari Dino</td>\n",
       "      <td>19.7</td>\n",
       "      <td>6</td>\n",
       "      <td>145</td>\n",
       "      <td>175</td>\n",
       "      <td>3.62</td>\n",
       "      <td>2.77</td>\n",
       "      <td>15.5</td>\n",
       "      <td>0</td>\n",
       "      <td>1</td>\n",
       "      <td>5</td>\n",
       "      <td>6</td>\n",
       "      <td>med</td>\n",
       "    </tr>\n",
       "  </tbody>\n",
       "</table>\n",
       "</div>"
      ],
      "text/plain": [
       "   index            name   mpg cyl   disp   hp  drat     wt   qsec vs am gear  \\\n",
       "0      0       Mazda RX4    21   6    160  110   3.9   2.62  16.46  0  1    4   \n",
       "1      1   Mazda RX4 Wag    21   6    160  110   3.9  2.875  17.02  0  1    4   \n",
       "2      3  Hornet 4 Drive  21.4   6    258  110  3.08  3.215  19.44  1  0    3   \n",
       "3      5         Valiant  18.1   6    225  105  2.76   3.46  20.22  1  0    3   \n",
       "4      9        Merc 280  19.2   6  167.6  123  3.92   3.44   18.3  1  0    4   \n",
       "5     10       Merc 280C  17.8   6  167.6  123  3.92   3.44   18.9  1  0    4   \n",
       "6     29    Ferrari Dino  19.7   6    145  175  3.62   2.77   15.5  0  1    5   \n",
       "\n",
       "  carb class  \n",
       "0    4  high  \n",
       "1    4  high  \n",
       "2    1  high  \n",
       "3    1   med  \n",
       "4    4   med  \n",
       "5    4   med  \n",
       "6    6   med  "
      ]
     },
     "execution_count": 35,
     "metadata": {},
     "output_type": "execute_result"
    }
   ],
   "source": [
    "conn = sqlite3.connect(sqlite_db)\n",
    "\n",
    "mtcars_6cyl = mtcars[mtcars['cyl'] == '6']\n",
    "mtcars_6cyl.to_sql('mtcars_6cyl', conn)\n",
    "pd.read_sql_query('SELECT * FROM mtcars_6cyl', conn)"
   ]
  },
  {
   "cell_type": "code",
   "execution_count": 36,
   "metadata": {
    "collapsed": true
   },
   "outputs": [],
   "source": [
    "conn.close()"
   ]
  },
  {
   "cell_type": "markdown",
   "metadata": {},
   "source": [
    "# Postgres and SQLAlchemy"
   ]
  },
  {
   "cell_type": "markdown",
   "metadata": {},
   "source": [
    "1 - Now that the mtcars data is in our Postgres Database, all we need is the Titanic data.  Do the same as above, bringing in the Titanic.csv we downloaded earlier. *Hint:* The data contains some `NA` values.  You could just import the column as a `character`, but there is a proper way to do this..."
   ]
  },
  {
   "cell_type": "markdown",
   "metadata": {},
   "source": [
    "2 - Print out the metadata for the columns of the `mtcars` table, including the data types for each column."
   ]
  },
  {
   "cell_type": "code",
   "execution_count": 1,
   "metadata": {
    "collapsed": false
   },
   "outputs": [],
   "source": [
    "import sqlalchemy\n",
    "\n",
    "def connect(user, password, db, schema, host='localhost', port = 5432):\n",
    "    \"\"\"Connects SQLAlchemy to a Postgres database\n",
    "        \n",
    "    Args:\n",
    "        user: Postgres user\n",
    "        password: User password\n",
    "        db: Database name\n",
    "        schema: Schema name\n",
    "        host: Host default as localhost\n",
    "        port: Postgres port, default 5432\n",
    "            \n",
    "    Returns:\n",
    "        A connection and metadata object\n",
    "    \"\"\"\n",
    "    # Generate the URL for our database\n",
    "    url = 'postgresql://{}:{}@{}:{}/{}'\n",
    "    url = url.format(user, password, host, port, db)\n",
    "\n",
    "    # Get the connection object\n",
    "    con = sqlalchemy.create_engine(url, client_encoding = 'utf8')\n",
    "\n",
    "    # Get the metadata object\n",
    "    meta = sqlalchemy.MetaData(bind = con)\n",
    "    meta.reflect(bind = con, schema = schema)\n",
    "\n",
    "    return con, meta"
   ]
  },
  {
   "cell_type": "code",
   "execution_count": 2,
   "metadata": {
    "collapsed": false
   },
   "outputs": [],
   "source": [
    "con, meta = connect(user = 'postgres', password = 'password', schema = 'tutorial', db = 'postgres')"
   ]
  },
  {
   "cell_type": "code",
   "execution_count": 3,
   "metadata": {
    "collapsed": false
   },
   "outputs": [
    {
     "name": "stdout",
     "output_type": "stream",
     "text": [
      "mtcars.name is of type VARCHAR\n",
      "mtcars.mpg is of type NUMERIC\n",
      "mtcars.cyl is of type INTEGER\n",
      "mtcars.disp is of type NUMERIC\n",
      "mtcars.hp is of type NUMERIC\n",
      "mtcars.drat is of type NUMERIC\n",
      "mtcars.wt is of type NUMERIC\n",
      "mtcars.qsec is of type NUMERIC\n",
      "mtcars.vs is of type INTEGER\n",
      "mtcars.am is of type INTEGER\n",
      "mtcars.gear is of type INTEGER\n",
      "mtcars.carb is of type INTEGER\n"
     ]
    }
   ],
   "source": [
    "for col in meta.tables['tutorial.mtcars'].c:\n",
    "    print('{} is of type {}'.format(col, col.type))"
   ]
  },
  {
   "cell_type": "markdown",
   "metadata": {
    "collapsed": true
   },
   "source": [
    "3 - Write a query to return the average `mpg` for all rows with a `hp` greater than or equal to 115, grouped by `cyl`."
   ]
  },
  {
   "cell_type": "code",
   "execution_count": 4,
   "metadata": {
    "collapsed": false
   },
   "outputs": [
    {
     "name": "stdout",
     "output_type": "stream",
     "text": [
      "(8, Decimal('15.1000000000000000'))\n",
      "(6, Decimal('18.9000000000000000'))\n"
     ]
    }
   ],
   "source": [
    "from sqlalchemy.sql import text\n",
    "\n",
    "s = text('SELECT cyl, AVG(mpg) FROM tutorial.mtcars WHERE hp >= 115 GROUP BY cyl')\n",
    "results = con.execute(s)\n",
    "\n",
    "for row in results:\n",
    "    print(row)"
   ]
  },
  {
   "cell_type": "code",
   "execution_count": 5,
   "metadata": {
    "collapsed": false
   },
   "outputs": [
    {
     "name": "stdout",
     "output_type": "stream",
     "text": [
      "(8, Decimal('15.1000000000000000'))\n",
      "(6, Decimal('18.9000000000000000'))\n"
     ]
    }
   ],
   "source": [
    "from sqlalchemy.sql import select, func\n",
    "\n",
    "t = meta.tables['tutorial.mtcars']\n",
    "s = select([t.c.cyl, func.avg(t.c.mpg)]).group_by(t.c.cyl)\n",
    "\n",
    "results = con.execute(s.where(t.c.hp >= 115))\n",
    "\n",
    "for row in results:\n",
    "    print(row)"
   ]
  },
  {
   "cell_type": "markdown",
   "metadata": {},
   "source": [
    "4 - Go to the [R Dataset Repository](https://vincentarelbundock.github.io/Rdatasets/datasets.html) and download the [Iraq Vote](https://vincentarelbundock.github.io/Rdatasets/csv/pscl/iraqVote.csv) and [SAT](https://vincentarelbundock.github.io/Rdatasets/csv/mosaicData/SAT.csv) datasets.  After you have them, connect to your database using SQLAlchemy, insert the data, and verify that it worked correctly using SQLAlchemy."
   ]
  },
  {
   "cell_type": "code",
   "execution_count": 6,
   "metadata": {
    "collapsed": true
   },
   "outputs": [],
   "source": [
    "from sqlalchemy import Table, Column, Integer, Numeric, Boolean, String, ForeignKey"
   ]
  },
  {
   "cell_type": "code",
   "execution_count": 7,
   "metadata": {
    "collapsed": false
   },
   "outputs": [],
   "source": [
    "SAT = Table('SAT', meta,\n",
    "            Column('state', String, primary_key = True),\n",
    "            Column('expend', Numeric),\n",
    "            Column('ratio', Numeric),\n",
    "            Column('salary', Numeric),\n",
    "            Column('frac', Integer),\n",
    "            Column('verbal', Integer),\n",
    "            Column('math', Integer),\n",
    "            Column('sat', Integer)\n",
    ")\n",
    "\n",
    "IraqVote = Table('IraqVote', meta,\n",
    "                Column('id', Integer, primary_key = True),\n",
    "                Column('y', Integer),\n",
    "                Column('state_abb', String),\n",
    "                Column('name', String),\n",
    "                Column('rep', Boolean),\n",
    "                Column('state_name', String, ForeignKey('SAT.state')),\n",
    "                Column('gorevote', Numeric)\n",
    ")\n",
    "\n",
    "meta.create_all(con)"
   ]
  },
  {
   "cell_type": "code",
   "execution_count": 8,
   "metadata": {
    "collapsed": false
   },
   "outputs": [
    {
     "data": {
      "text/plain": [
       "<sqlalchemy.engine.result.ResultProxy at 0x23e61b01278>"
      ]
     },
     "execution_count": 8,
     "metadata": {},
     "output_type": "execute_result"
    }
   ],
   "source": [
    "import pandas as pd\n",
    "\n",
    "SAT_data = pd.read_csv('SAT.csv')\n",
    "\n",
    "rows = []\n",
    "\n",
    "for i in range(len(SAT_data)):\n",
    "    rows.append({'state': SAT_data.iloc[i, 1],\n",
    "           'expend': round(float(SAT_data.iloc[i, 2]), 3),\n",
    "           'ratio': round(float(SAT_data.iloc[i, 3]), 1),\n",
    "           'salary': round(float(SAT_data.iloc[i, 4]), 3),\n",
    "           'frac': int(SAT_data.iloc[i, 5]),\n",
    "           'verbal': int(SAT_data.iloc[i, 6]),\n",
    "           'math': int(SAT_data.iloc[i, 7]),\n",
    "           'sat': int(SAT_data.iloc[i, 8]),\n",
    "           })\n",
    "\n",
    "con.execute(meta.tables['SAT'].insert(), rows)"
   ]
  },
  {
   "cell_type": "code",
   "execution_count": 9,
   "metadata": {
    "collapsed": false
   },
   "outputs": [
    {
     "name": "stdout",
     "output_type": "stream",
     "text": [
      "('Alabama', Decimal('4.405'), Decimal('17.2'), Decimal('31.144'), 8, 491, 538, 1029)\n",
      "('Alaska', Decimal('8.963'), Decimal('17.6'), Decimal('47.951'), 47, 445, 489, 934)\n",
      "('Arizona', Decimal('4.778'), Decimal('19.3'), Decimal('32.175'), 27, 448, 496, 944)\n",
      "('Arkansas', Decimal('4.459'), Decimal('17.1'), Decimal('28.934'), 6, 482, 523, 1005)\n",
      "('California', Decimal('4.992'), Decimal('24.0'), Decimal('41.078'), 45, 417, 485, 902)\n"
     ]
    }
   ],
   "source": [
    "t = meta.tables['SAT']\n",
    "s = select([t])\n",
    "\n",
    "results = con.execute(s.limit(5))\n",
    "\n",
    "for row in results:\n",
    "    print(row)"
   ]
  },
  {
   "cell_type": "code",
   "execution_count": 10,
   "metadata": {
    "collapsed": false
   },
   "outputs": [
    {
     "data": {
      "text/plain": [
       "<sqlalchemy.engine.result.ResultProxy at 0x23e61b38cf8>"
      ]
     },
     "execution_count": 10,
     "metadata": {},
     "output_type": "execute_result"
    }
   ],
   "source": [
    "IraqVote_data = pd.read_csv('IraqVote.csv')\n",
    "\n",
    "rows = []\n",
    "\n",
    "for i in range(len(IraqVote_data)):\n",
    "    rows.append({'id': int(IraqVote_data.iloc[i, 0]),\n",
    "            'y': int(IraqVote_data.iloc[i, 1]),\n",
    "            'state_abb': IraqVote_data.iloc[i, 2],\n",
    "            'name': IraqVote_data.iloc[i, 3],\n",
    "            'rep': bool(IraqVote_data.iloc[i, 4]),\n",
    "            'state_name': IraqVote_data.iloc[i, 5],\n",
    "            'gorevote': round(float(IraqVote_data.iloc[i, 6]), 2)\n",
    "           })\n",
    "\n",
    "con.execute(meta.tables['IraqVote'].insert(), rows)"
   ]
  },
  {
   "cell_type": "code",
   "execution_count": 11,
   "metadata": {
    "collapsed": false
   },
   "outputs": [
    {
     "name": "stdout",
     "output_type": "stream",
     "text": [
      "(1, 1, 'AL', 'SESSIONS (R AL)', True, 'Alabama', Decimal('41.59'))\n",
      "(2, 1, 'AL', 'SHELBY (R AL)', True, 'Alabama', Decimal('41.59'))\n",
      "(3, 1, 'AK', 'MURKOWSKI (R AK)', True, 'Alaska', Decimal('27.67'))\n",
      "(4, 1, 'AK', 'STEVENS (R AK)', True, 'Alaska', Decimal('27.67'))\n",
      "(5, 1, 'AZ', 'KYL (R AZ)', True, 'Arizona', Decimal('44.67'))\n"
     ]
    }
   ],
   "source": [
    "t = meta.tables['IraqVote']\n",
    "s = select([t])\n",
    "\n",
    "results = con.execute(s.limit(5))\n",
    "\n",
    "for row in results:\n",
    "    print(row)"
   ]
  },
  {
   "cell_type": "markdown",
   "metadata": {},
   "source": [
    "5 - Using SQLAlchemy, select all states which had a salary greater than `30.000` and a math score greater than `500`."
   ]
  },
  {
   "cell_type": "code",
   "execution_count": 13,
   "metadata": {
    "collapsed": false
   },
   "outputs": [
    {
     "name": "stdout",
     "output_type": "stream",
     "text": [
      "('Alabama',)\n",
      "('Colorado',)\n",
      "('Illinois',)\n",
      "('Iowa',)\n",
      "('Kansas',)\n",
      "('Kentucky',)\n",
      "('Michigan',)\n",
      "('Minnesota',)\n",
      "('Missouri',)\n",
      "('Nebraska',)\n",
      "('Ohio',)\n",
      "('Tennessee',)\n",
      "('Wisconsin',)\n",
      "('Wyoming',)\n"
     ]
    }
   ],
   "source": [
    "from sqlalchemy.sql import and_\n",
    "\n",
    "t = meta.tables['SAT']\n",
    "s = select([t.c.state])\n",
    "\n",
    "results = con.execute(s.where(and_(t.c.salary > 30, t.c.math > 500)))\n",
    "\n",
    "for row in results:\n",
    "    print(row)"
   ]
  },
  {
   "cell_type": "markdown",
   "metadata": {},
   "source": [
    "6 - Using SQLAlchemy, count the votes for the war, versus votes against the war for Republican senators, versus for the war not Republican senators."
   ]
  },
  {
   "cell_type": "code",
   "execution_count": 36,
   "metadata": {
    "collapsed": false
   },
   "outputs": [
    {
     "name": "stdout",
     "output_type": "stream",
     "text": [
      "Votes for war: 77\n",
      "Republican votes against war: 1\n",
      "Non republican votes against war: 29\n"
     ]
    }
   ],
   "source": [
    "t = meta.tables['IraqVote']\n",
    "s1 = select([func.count().label('count')]).where(t.c.y == 1)\n",
    "s2 = select([func.count().label('count')]).where(and_(t.c.rep == True, t.c.y == 0))\n",
    "s3 = select([func.count().label('count')]).where(and_(t.c.rep == False, t.c.y == 1))\n",
    "\n",
    "results1 = con.execute(s1)\n",
    "results2 = con.execute(s2)\n",
    "results3 = con.execute(s3)\n",
    "\n",
    "for row in results1:\n",
    "    print('Votes for war:', row[0])\n",
    "\n",
    "for row in results2:\n",
    "    print('Republican votes against war:', row[0])\n",
    "\n",
    "for row in results3:\n",
    "    print('Non republican votes against war:', row[0])"
   ]
  },
  {
   "cell_type": "markdown",
   "metadata": {},
   "source": [
    "7 - Using SQLAlchemy, calculate the average SAT score for states that voted for the Iraq war, those that voted against, and those with split votes."
   ]
  },
  {
   "cell_type": "code",
   "execution_count": 59,
   "metadata": {
    "collapsed": false
   },
   "outputs": [
    {
     "name": "stdout",
     "output_type": "stream",
     "text": [
      "Against states average SAT score: 950.83\n",
      "Split states average SAT score: 968.64\n",
      "For states average SAT score: 967.76\n"
     ]
    }
   ],
   "source": [
    "from sqlalchemy import case\n",
    "\n",
    "sat = meta.tables['SAT']\n",
    "vote = meta.tables['IraqVote']\n",
    "t = vote.join(sat)\n",
    "\n",
    "states = select([sat.c.state, sat.c.sat, func.sum(vote.c.y).label('NVotes')])\\\n",
    "        .select_from(t).group_by(sat.c.state, sat.c.sat).alias('st')\n",
    "\n",
    "s = select([case({0: \"Against\", 1: \"Split\", 2: \"For\"}, value=states.c.NVotes), func.avg(states.c.sat).label('AvgSATScore')]).select_from(states).group_by(states.c.NVotes)\n",
    "\n",
    "results = con.execute(s)\n",
    "\n",
    "for row in results:\n",
    "    print('{} states average SAT score: {:.2f}'.format(row[0], row[1]))"
   ]
  }
 ],
 "metadata": {
  "kernelspec": {
   "display_name": "Python 3",
   "language": "python",
   "name": "python3"
  },
  "language_info": {
   "codemirror_mode": {
    "name": "ipython",
    "version": 3
   },
   "file_extension": ".py",
   "mimetype": "text/x-python",
   "name": "python",
   "nbconvert_exporter": "python",
   "pygments_lexer": "ipython3",
   "version": "3.6.0"
  }
 },
 "nbformat": 4,
 "nbformat_minor": 2
}
