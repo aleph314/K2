{
 "cells": [
  {
   "cell_type": "markdown",
   "metadata": {},
   "source": [
    "## Exercise 05.1 (random numbers)\n",
    "\n",
    "- Using the '`randint`' function from the '`random`' module (https://docs.python.org/3/library/random.html#random.randint), \n",
    "  develop a function that emulates the roll of a dice with $n$ sides.\n",
    "\n",
    "- For $n=6$, devise and implement a test to check that it is a fair dice."
   ]
  },
  {
   "cell_type": "code",
   "execution_count": 2,
   "metadata": {
    "collapsed": true
   },
   "outputs": [],
   "source": [
    "from random import randint\n",
    "\n",
    "def roll(n):\n",
    "    \"Roll of an n-sided dice\"\n",
    "    return randint(1, n)"
   ]
  },
  {
   "cell_type": "code",
   "execution_count": 3,
   "metadata": {
    "collapsed": false
   },
   "outputs": [
    {
     "data": {
      "text/plain": [
       "[0.164, 0.1683, 0.1659, 0.16955, 0.16619, 0.16606]"
      ]
     },
     "execution_count": 3,
     "metadata": {},
     "output_type": "execute_result"
    }
   ],
   "source": [
    "def test_six_sided_dice(n_rolls):\n",
    "    \"Emulates n rolls of a 6-sided dice and checks the frequency of each side\"\n",
    "    # Initialize a list to store the result of the roll\n",
    "    rolls = [0, 0, 0, 0, 0, 0]\n",
    "    \n",
    "    # Roll the dice and store the result\n",
    "    for i in range(n_rolls):\n",
    "        rolls[roll(6)-1] += 1\n",
    "    \n",
    "    # Calculate the frequency of each side\n",
    "    for i in range(6):\n",
    "        rolls[i] = rolls[i] / n_rolls\n",
    "    \n",
    "    return rolls\n",
    "\n",
    "# Emulate 100000 rolls\n",
    "test_six_sided_dice(100000)"
   ]
  },
  {
   "cell_type": "markdown",
   "metadata": {},
   "source": [
    "## Exercise 05.2 (data compression)\n",
    "\n",
    "For devices with limited memory, data compression can be important. Data compression is\n",
    "a field of its own, but with libraries we can compress (and uncompress) data easily.\n",
    "\n",
    "Below is a program code for compressing a passage from Hamlet, by Shakespeare."
   ]
  },
  {
   "cell_type": "code",
   "execution_count": 4,
   "metadata": {
    "collapsed": false
   },
   "outputs": [
    {
     "name": "stdout",
     "output_type": "stream",
     "text": [
      "<class 'bytes'>\n",
      "Number of bytes for uncompressed string: 785\n",
      "Number of bytes for compressed string: 466\n",
      "Compression efficiency:  0.5936305732484076\n",
      "All good: original and decompressed strings are the same.\n"
     ]
    }
   ],
   "source": [
    "# Import the compression module\n",
    "import zlib\n",
    "\n",
    "# Create a string that we wish to compress\n",
    "text = \"\"\"\n",
    "Welcome, dear Rosencrantz and Guildenstern!\n",
    "Moreover that we much did long to see you,\n",
    "The need we have to use you did provoke\n",
    "Our hasty sending. Something have you heard\n",
    "Of Hamlet's transformation; so call it,\n",
    "Sith nor the exterior nor the inward man\n",
    "Resembles that it was. What it should be,\n",
    "More than his father's death, that thus hath put him\n",
    "So much from the understanding of himself,\n",
    "I cannot dream of: I entreat you both,\n",
    "That, being of so young days brought up with him,\n",
    "And sith so neighbour'd to his youth and havior,\n",
    "That you vouchsafe your rest here in our court\n",
    "Some little time: so by your companies\n",
    "To draw him on to pleasures, and to gather,\n",
    "So much as from occasion you may glean,\n",
    "Whether aught, to us unknown, afflicts him thus,\n",
    "That, open'd, lies within our remedy.\"\"\"\n",
    "\n",
    "# Convert Python string to bytes, and check type\n",
    "text_bytes = text.encode(\"utf-8\")\n",
    "print(type(text_bytes))\n",
    "\n",
    "# Get number of bytes (memory) used to store string\n",
    "print(\"Number of bytes for uncompressed string:\", len(text_bytes))\n",
    "\n",
    "# Compress string and get number of byes used for compressed string\n",
    "text_comp = zlib.compress(text_bytes)\n",
    "print(\"Number of bytes for compressed string:\", len(text_comp))\n",
    "\n",
    "# Display the compression efficiency\n",
    "print(\"Compression efficiency: \", len(text_comp)/len(text_bytes))\n",
    "\n",
    "# Decompress the string\n",
    "text_decomp = zlib.decompress(text_comp)\n",
    "\n",
    "# Check that original and decompressed strings are the same\n",
    "if text == text_decomp.decode(\"utf-8\"):\n",
    "    print(\"All good: original and decompressed strings are the same.\")\n",
    "else:\n",
    "    print(\"Problem: original and decompressed strings differ.\")"
   ]
  },
  {
   "cell_type": "markdown",
   "metadata": {},
   "source": [
    "Using the above as a guide, examine the compression efficiency of \n",
    "\n",
    "1. Compressing one large string made up of the passage by Shakespeare repeated 100 times; and\n",
    "2. Compressing a random string of the same length as the repeated Shakespeare passage.\n",
    "\n",
    "To help you, the below function generates a random string of length `N`:"
   ]
  },
  {
   "cell_type": "code",
   "execution_count": 5,
   "metadata": {
    "collapsed": false
   },
   "outputs": [
    {
     "name": "stdout",
     "output_type": "stream",
     "text": [
      "bTzGRl7L\n"
     ]
    }
   ],
   "source": [
    "import random\n",
    "import string\n",
    "\n",
    "def random_string(N):\n",
    "    return ''.join([random.choice(string.ascii_letters + string.digits) for n in range(N)])\n",
    "\n",
    "print(random_string(8))"
   ]
  },
  {
   "cell_type": "code",
   "execution_count": 6,
   "metadata": {
    "collapsed": false
   },
   "outputs": [
    {
     "name": "stdout",
     "output_type": "stream",
     "text": [
      "Compression efficiency for Shakespeare's passage repeated 100 times: 0.01178343949044586\n",
      "Compression efficiency for a random string of the same length: 0.7519235668789809\n"
     ]
    }
   ],
   "source": [
    "def compression_efficiency(string):\n",
    "    \"Calculate the compression efficiency obtained applying zlib.compress\"\n",
    "    # Convert Python string to bytes\n",
    "    text_bytes = string.encode('utf-8')\n",
    "\n",
    "    # Compress string\n",
    "    text_comp = zlib.compress(text_bytes)\n",
    "\n",
    "    # Calculate the compression efficiency\n",
    "    return len(text_comp)/len(text_bytes)\n",
    "\n",
    "# Comparison of compression efficiency (the smaller the better)\n",
    "print('Compression efficiency for Shakespeare\\'s passage repeated 100 times:', compression_efficiency(text*100))\n",
    "print('Compression efficiency for a random string of the same length:', compression_efficiency(random_string(len(text)*100)))"
   ]
  }
 ],
 "metadata": {
  "kernelspec": {
   "display_name": "Python 3",
   "language": "python",
   "name": "python3"
  },
  "language_info": {
   "codemirror_mode": {
    "name": "ipython",
    "version": 3
   },
   "file_extension": ".py",
   "mimetype": "text/x-python",
   "name": "python",
   "nbconvert_exporter": "python",
   "pygments_lexer": "ipython3",
   "version": "3.6.0"
  }
 },
 "nbformat": 4,
 "nbformat_minor": 2
}
