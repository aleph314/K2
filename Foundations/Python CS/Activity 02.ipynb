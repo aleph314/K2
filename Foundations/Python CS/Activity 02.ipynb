{
 "cells": [
  {
   "cell_type": "markdown",
   "metadata": {},
   "source": [
    "## Exercise 02.1 (if-else)\n",
    "\n",
    "Consider the following assessment criteria which map a score out of 100 to an \n",
    "assessment grade:\n",
    "\n",
    "| Grade            | Raw score  (/100)      |\n",
    "| ---------------- | ---------------------- |\n",
    "| Excellent        | $\\ge 82$               |\n",
    "| Very good        | $\\ge 76.5$ and $< 82$  |\n",
    "| Good             | $\\ge 66$ and $< 76.5$  |\n",
    "| Need improvement | $\\ge 45$ and $< 66$    |\n",
    "| Did you try?     | $< 45$                 |\n",
    "\n",
    "Write a program that asks for the input score and prints the appropriate grade. Print an error message if the input score is greater than 100 or less than zero.\n",
    "\n",
    "Recall that \n",
    "```python\n",
    "# Get input from user\n",
    "number = float(input('How many seconds in one minute? '))\n",
    "```    \n",
    "can be used for interactive input."
   ]
  },
  {
   "cell_type": "code",
   "execution_count": 1,
   "metadata": {
    "collapsed": false
   },
   "outputs": [
    {
     "name": "stdout",
     "output_type": "stream",
     "text": [
      "What's your score? 75\n",
      "Good\n"
     ]
    }
   ],
   "source": [
    "# Get input from user\n",
    "score = float(input('What\\'s your score? '))\n",
    "\n",
    "if score < 0 or score > 100:\n",
    "    print('Score must be between 0 and 100')\n",
    "elif score < 45:\n",
    "    print('Did you try?')\n",
    "elif score < 66:\n",
    "    print('Need improvement')\n",
    "elif score < 76.5:\n",
    "    print('Good')\n",
    "elif score < 82:\n",
    "    print('Very good')\n",
    "else:\n",
    "    print('Excellent')"
   ]
  },
  {
   "cell_type": "markdown",
   "metadata": {},
   "source": [
    "## Exercise 02.2 (bisection)\n",
    "\n",
    "Bisection is an iterative method for approximating roots of a function. Say we know that the function $f(x)$ has one root between $x_{0}$ and $x_{1}$ ($x_{0} < x_{1}$). We then:\n",
    "\n",
    "- Evaluate $f$ at the midpoint $x_{\\rm mid} = (x_0 + x_1)/2$, i.e. compute\n",
    "   $f_{\\rm mid} = f(x_{\\rm mid})$\n",
    "- Evaluate $f(x_0) \\cdot f(x_{\\rm mid})$\n",
    "\n",
    "  - If $f(x_0) \\cdot f(x_{\\rm mid}) < 0$: \n",
    "\n",
    "    $f$ must change sign somewhere between $x_0$ and $x_{\\rm mid}$, hence the root must lie between \n",
    "    $x_0$ and $x_{\\rm mid}$, so set $x_1 = x_{\\rm mid}$.\n",
    "   \n",
    "  - Else\n",
    "\n",
    "    $f$ must change sign somewhere between $x_{\\rm mid}$ and $x_1$, so set\n",
    "    $x_0 = x_{\\rm mid}$.\n",
    "\n",
    "The above steps can be repeated a specified number of times, or until $|f_{\\rm mid}|$\n",
    "is below a tolerance, with $x_{\\rm mid}$ being the approximate root.\n",
    "\n",
    "\n",
    "**Task:** The function\n",
    "\n",
    "$$\n",
    "f(x) = x^3 - 6x^2 + 4x + 12\n",
    "$$\n",
    "\n",
    "has one root somewhere between $x_0 = 3$ and $x_1 = 6$.\n",
    "\n",
    "1. Use the bisection method to find an approximate root $x_{r}$ using 15 iterations \n",
    "   (use a `for` loop).\n",
    "2. Use the bisection method to find an approximate root $x_{r}$ such that \n",
    "   $\\left| f(x_{r}) \\right| < 1 \\times 10^{-6}$ and report the number of iterations \n",
    "   required (use a `while` loop).\n",
    "\n",
    "*Hint:* Use  `abs` to compute the absolute value of a number, e.g. `y = abs(x)` assigns the absolute value of `x` to `y`. "
   ]
  },
  {
   "cell_type": "markdown",
   "metadata": {},
   "source": [
    "#### Approximate root using 15 iterations"
   ]
  },
  {
   "cell_type": "code",
   "execution_count": 2,
   "metadata": {
    "collapsed": false
   },
   "outputs": [
    {
     "name": "stdout",
     "output_type": "stream",
     "text": [
      "Approximated root: 4.534149169921875\n"
     ]
    }
   ],
   "source": [
    "# Number of iterations to do\n",
    "n_iter = 15\n",
    "\n",
    "# Initialize x_0 and x_1\n",
    "x_0 = 3\n",
    "x_1 = 6\n",
    "\n",
    "for i in range(n_iter):\n",
    "    \n",
    "    # Compute x_mid\n",
    "    x_mid = (x_0 + x_1) / 2\n",
    "    \n",
    "    # Compute f for the three values\n",
    "    f_0 = x_0**3 - 6*x_0**2 + 4*x_0 + 12\n",
    "    f_1 = x_1**3 - 6*x_1**2 + 4*x_1 + 12\n",
    "    f_mid = x_mid**3 - 6*x_mid**2 + 4*x_mid + 12\n",
    "    \n",
    "    # Check the value of f_0*f_mid to determine how to update the endpoints\n",
    "    if f_0*f_mid < 0:\n",
    "        x_1 = x_mid\n",
    "    else:\n",
    "        x_0 = x_mid\n",
    "\n",
    "print('Approximated root:', x_mid)"
   ]
  },
  {
   "cell_type": "markdown",
   "metadata": {},
   "source": [
    "#### Approximate root under $1 \\times 10^{-6}$ tolerance"
   ]
  },
  {
   "cell_type": "code",
   "execution_count": 3,
   "metadata": {
    "collapsed": false
   },
   "outputs": [
    {
     "name": "stdout",
     "output_type": "stream",
     "text": [
      "Approximated root: 4.534070134162903\n",
      "Number of iterations required: 23\n"
     ]
    }
   ],
   "source": [
    "# Desired precision\n",
    "prec = 1e-6\n",
    "# Counter for number of iterations\n",
    "n_iter = 0\n",
    "\n",
    "# Initialize x_0 and x_1\n",
    "x_0 = 3\n",
    "x_1 = 6\n",
    "\n",
    "while(True):\n",
    "    \n",
    "    # Update the number of iterations\n",
    "    n_iter += 1\n",
    "    \n",
    "    # Compute x_mid\n",
    "    x_mid = (x_0 + x_1) / 2\n",
    "    \n",
    "    # Compute f for the three values\n",
    "    f_0 = x_0**3 - 6*x_0**2 + 4*x_0 + 12\n",
    "    f_1 = x_1**3 - 6*x_1**2 + 4*x_1 + 12\n",
    "    f_mid = x_mid**3 - 6*x_mid**2 + 4*x_mid + 12\n",
    "    \n",
    "    # Check the value of f_0*f_mid to determine how to update the endpoints\n",
    "    if f_0*f_mid < 0:\n",
    "        x_1 = x_mid\n",
    "    else:\n",
    "        x_0 = x_mid\n",
    "    \n",
    "    # Check if the desired precision is reached and break\n",
    "    if abs(f_mid) < prec:\n",
    "        break\n",
    "\n",
    "print('Approximated root:', x_mid)\n",
    "print('Number of iterations required:', n_iter)"
   ]
  },
  {
   "cell_type": "markdown",
   "metadata": {},
   "source": [
    "## Exercise 02.3 (series expansion)\n",
    "\n",
    "The power series expansion for sine is: \n",
    "\n",
    "$$\n",
    "\\sin(x) = \\sum_{n = 0}^{\\infty} (-1)^n \\frac{x^{2n +1}}{(2n+1)!}\n",
    "$$\n",
    "\n",
    "(See mathematics data book for a less compact version; the compact version is preferred here as it is simpler to program.)\n",
    "\n",
    "1. Using a `for` statement, approximate $\\sin(3\\pi/2)$ using 15 terms in the series exansion and report the absolute error.\n",
    "\n",
    "1. Using a `while` statement, compute how many terms in the series are required to approximate $\\sin(3\\pi/2)$ to within $1 \\times 10^{-8}$. \n",
    "\n",
    "*Note:* Calculators and computers use iterative or series expansions to compute trigonometric functions, similar to the one above (although they use more efficient formulations than the above series).\n",
    "\n",
    "**Hints**\n",
    "\n",
    "To compute the factorial and to get a good approximation of $\\pi$, use the Python `math` module:\n",
    "```python\n",
    "import math\n",
    "nfact = math.factorial(10)\n",
    "pi = math.pi\n",
    "```\n",
    "You only need '`import math`' once at the top of your program. Standard modules, like `math` will be explained in a later exercise. If you want to test for angles for which sine is not simple, you can use \n",
    "```python\n",
    "a = 1.3\n",
    "s = math.sin(a)\n",
    "```    \n",
    "to get an accurate computation of sine to check the error."
   ]
  },
  {
   "cell_type": "code",
   "execution_count": 4,
   "metadata": {
    "collapsed": true
   },
   "outputs": [],
   "source": [
    "# Import math module to compute factorial and sine\n",
    "import math"
   ]
  },
  {
   "cell_type": "markdown",
   "metadata": {},
   "source": [
    "#### Taylor series with 15 terms"
   ]
  },
  {
   "cell_type": "code",
   "execution_count": 5,
   "metadata": {
    "collapsed": false
   },
   "outputs": [
    {
     "name": "stdout",
     "output_type": "stream",
     "text": [
      "Calculated sine: -0.9999999999999121\n",
      "Absolute error: 8.79296635503124e-14\n"
     ]
    }
   ],
   "source": [
    "# Number of iterations to do\n",
    "n_terms = 15\n",
    "\n",
    "# Initialize x and its sine\n",
    "x = 3*math.pi/2\n",
    "sin_x = 0\n",
    "\n",
    "for i in range(n_terms):\n",
    "    \n",
    "    # Add the next term to the summatory\n",
    "    sin_x += (-1)**i * (x**(2*i+1) / math.factorial(2*i+1))\n",
    "\n",
    "print('Calculated sine:', sin_x)\n",
    "print('Absolute error:', abs(sin_x - math.sin(x)))"
   ]
  },
  {
   "cell_type": "markdown",
   "metadata": {},
   "source": [
    "#### Number of terms required to approximate sine under $1 \\times 10^{-8}$ precision"
   ]
  },
  {
   "cell_type": "code",
   "execution_count": 6,
   "metadata": {
    "collapsed": false
   },
   "outputs": [
    {
     "name": "stdout",
     "output_type": "stream",
     "text": [
      "Calculated sine: -1.0000000042344912\n",
      "Number of terms required: 12\n"
     ]
    }
   ],
   "source": [
    "# Desired precision\n",
    "prec = 1e-8\n",
    "\n",
    "# Initialize x, its sine, the \"real\" sine and the number of terms used\n",
    "x = 3*math.pi/2\n",
    "sin_x = 0\n",
    "true_sin_x = math.sin(x)\n",
    "n_terms = 0\n",
    "\n",
    "# Initialize the counter\n",
    "i = 0\n",
    "\n",
    "while(True):\n",
    "    \n",
    "    # Update the number of terms\n",
    "    n_terms += 1\n",
    "    \n",
    "    # Add the next term to the summatory\n",
    "    sin_x += (-1)**i * (x**(2*i+1) / math.factorial(2*i+1))\n",
    "    \n",
    "    # Update counter\n",
    "    i += 1\n",
    "    \n",
    "    # Check if the desired precision is reached and break\n",
    "    if abs(sin_x - true_sin_x) < prec:\n",
    "        break\n",
    "\n",
    "print('Calculated sine:', sin_x)\n",
    "print('Number of terms required:', n_terms)"
   ]
  }
 ],
 "metadata": {
  "kernelspec": {
   "display_name": "Python 3",
   "language": "python",
   "name": "python3"
  },
  "language_info": {
   "codemirror_mode": {
    "name": "ipython",
    "version": 3
   },
   "file_extension": ".py",
   "mimetype": "text/x-python",
   "name": "python",
   "nbconvert_exporter": "python",
   "pygments_lexer": "ipython3",
   "version": "3.6.0"
  }
 },
 "nbformat": 4,
 "nbformat_minor": 2
}
