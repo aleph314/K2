{
 "cells": [
  {
   "cell_type": "code",
   "execution_count": 1,
   "metadata": {
    "collapsed": true
   },
   "outputs": [],
   "source": [
    "import math"
   ]
  },
  {
   "cell_type": "markdown",
   "metadata": {},
   "source": [
    "## Exercise 04.1 (simple function)\n",
    "\n",
    "Write a function called `is_odd` which takes an integer as an argument and returns `True` if the argument is odd, otherwise returns `False`. Test your function for several values."
   ]
  },
  {
   "cell_type": "code",
   "execution_count": 2,
   "metadata": {
    "collapsed": false
   },
   "outputs": [
    {
     "name": "stdout",
     "output_type": "stream",
     "text": [
      "Is 0 odd? False\n",
      "Is 1 odd? True\n",
      "Is 2 odd? False\n",
      "Is 3 odd? True\n",
      "Is 4 odd? False\n",
      "Is 5 odd? True\n",
      "Is 6 odd? False\n",
      "Is 7 odd? True\n",
      "Is 8 odd? False\n",
      "Is 9 odd? True\n",
      "Is 10 odd? False\n"
     ]
    }
   ],
   "source": [
    "def is_odd(n):\n",
    "    \"Check if n is odd\"\n",
    "    # Check if n is divisible by 2\n",
    "    if n%2 == 0:\n",
    "        return False\n",
    "    else:\n",
    "        return True\n",
    "\n",
    "# Test the function for integers from 0 to 10\n",
    "for i in range(11):\n",
    "    print('Is', i, 'odd?', is_odd(i))"
   ]
  },
  {
   "cell_type": "markdown",
   "metadata": {},
   "source": [
    "## Exercise 04.2 (functions and default arguments)\n",
    "\n",
    "Write a single function that takes the components of a vector of length 2 or 3 and returns the magnitude.\n",
    "Use default arguments to handle vectors of length 2 or 3 with the same code. Test your function for correctness against hand calculations for a selection of values."
   ]
  },
  {
   "cell_type": "code",
   "execution_count": 3,
   "metadata": {
    "collapsed": false
   },
   "outputs": [
    {
     "name": "stdout",
     "output_type": "stream",
     "text": [
      "0.0\n",
      "1.4142135623730951\n",
      "5.0\n",
      "7.0710678118654755\n"
     ]
    }
   ],
   "source": [
    "def magnitude(x, y, z=0):\n",
    "    \"Calculate the length of a 2 or 3-dimensional vector\"\n",
    "    return math.sqrt(x**2 + y**2 + z**2)\n",
    "\n",
    "# Test some cases\n",
    "print(magnitude(0, 0)) # 0\n",
    "print(magnitude(1, 1)) # square root of 2\n",
    "print(magnitude(3, 4)) # 5\n",
    "print(magnitude(3, 4, 5)) # 7.07106..."
   ]
  },
  {
   "cell_type": "markdown",
   "metadata": {},
   "source": [
    "## Exercise 04.3 (functions)\n",
    "\n",
    "Given the coordinates of the vertices of a triangle, $(x_0, y_0)$, $(x_1, y_1)$ and $(x_2, y_2)$, the area $A$ of a triangle is given by:\n",
    "\n",
    "$$\n",
    "A = \\left| \\frac{x_0(y_1  - y_2) + x_1(y_2 - y_0) + x_2(y_0 - y_1)}{2} \\right|\n",
    "$$\n",
    "\n",
    "Write a function that computes the area of a triangle given the coordinates of the vertices.\n",
    "Test the output of your function against some known solutions."
   ]
  },
  {
   "cell_type": "code",
   "execution_count": 4,
   "metadata": {
    "collapsed": false
   },
   "outputs": [
    {
     "name": "stdout",
     "output_type": "stream",
     "text": [
      "0.5\n",
      "20.0\n"
     ]
    }
   ],
   "source": [
    "def area(x0, y0, x1, y1, x2, y2):\n",
    "    \"Calculate the area of a triangle given the vertices coordinates\"\n",
    "    return abs((x0*(y1-y2) + x1*(y2-y0) + x2*(y0-y1)) / 2)\n",
    "\n",
    "# Test some cases\n",
    "print(area(0, 0, 1, 0, 0, 1)) # 0.5\n",
    "print(area(0, 0, 5, 0, 0, 8)) # 20"
   ]
  },
  {
   "cell_type": "markdown",
   "metadata": {},
   "source": [
    "## Exercise 04.4 (recursion)\n",
    "\n",
    "The factorial of a non-negative integer $n$ ($n!$) is expressed recursively by:\n",
    "\n",
    "$$\n",
    "n! = \n",
    "\\begin{cases}\n",
    "1 & n = 0 \\\\\n",
    "(n - 1)! \\,n & n > 0\n",
    "\\end{cases}\n",
    "$$\n",
    "\n",
    "Using recursion, program a function for computing the factorial.\n",
    "\n",
    "Test your function against the `math.factorial` function, e.g."
   ]
  },
  {
   "cell_type": "code",
   "execution_count": 5,
   "metadata": {
    "collapsed": false
   },
   "outputs": [
    {
     "name": "stdout",
     "output_type": "stream",
     "text": [
      "Reference factorial: 120\n",
      "Calculated factorial: 120\n"
     ]
    }
   ],
   "source": [
    "def fact(n):\n",
    "    \"Calculate factorial recursively\"\n",
    "    if n == 0:\n",
    "        return 1\n",
    "    else:\n",
    "        return n*fact(n-1)\n",
    "\n",
    "# Test the function against the factorial from math module\n",
    "print('Reference factorial:', math.factorial(5))\n",
    "print('Calculated factorial:',fact(5))"
   ]
  },
  {
   "cell_type": "markdown",
   "metadata": {},
   "source": [
    "## Exercise 04.5 (functions and passing functions as arguments)\n",
    "\n",
    "Restructure your program from the bisection exercise in Activity 02 to \n",
    "\n",
    "- Use a Python function to evaluate the mathematical function $f$ that we want to find the root of; \n",
    "\n",
    "and then\n",
    "\n",
    "- Encapsulate the bisection algorithm inside a Python function, which takes as arguments:\n",
    "    - the function we want to find the roots of,\n",
    "    - the points $x_{0}$ and $x_{1}$ between which we want to search for a root,\n",
    "    - the tolerance for exiting the bisection algorithm (exit when $|f(x)| < \\text{tol}$)\n",
    "    - maximum number of iterations (the algorithm should exit once this limit is reached)\n",
    "\n",
    "\n",
    "For the first step, use a function for evaluating $f$, e.g.:\n",
    "\n",
    "    def f(x):\n",
    "        # Put body of the function f(x) here, and return the function value\n",
    "           \n",
    "For the second step, encapsulate the bisection algorithm in a function:\n",
    "\n",
    "    def compute_root(f, x0, x1, tol, max_it):\n",
    "        # Implement bisection algorithm here, and return when tolerance is satisfied or\n",
    "        # number of iterations exceeds max_it\n",
    "        \n",
    "        # Return the approximate root, value of f(x) and the number of iterations\n",
    "        return x, f, num_it\n",
    "        \n",
    "    # Compute approximate root of the function f\n",
    "    x, f_x, num_it = compute_root(f, x0=3, x1=6, tol=1.0e-6, max_it=1000)\n",
    "\n",
    "\n",
    "Try testing your program for a different function. A quadratic function, whose roots you can analytically, would be a good test case."
   ]
  },
  {
   "cell_type": "markdown",
   "metadata": {},
   "source": [
    "Function for evaluating $f$.\n",
    "\n",
    "Note that this method does not work for functions tanget to the $x$ axis, such as $x^2 - 8x + 16 = (x - 4)^2$."
   ]
  },
  {
   "cell_type": "code",
   "execution_count": 8,
   "metadata": {
    "collapsed": true
   },
   "outputs": [],
   "source": [
    "def f(x):\n",
    "    #return x**3 - 6*x**2 + 4*x + 12\n",
    "    return x**2 + x - 20 # Roots = -5, 4"
   ]
  },
  {
   "cell_type": "markdown",
   "metadata": {},
   "source": [
    "Bisection algorithm function:"
   ]
  },
  {
   "cell_type": "code",
   "execution_count": 11,
   "metadata": {
    "collapsed": false
   },
   "outputs": [
    {
     "name": "stdout",
     "output_type": "stream",
     "text": [
      "Approximate root: 3.9999999403953552\n",
      "Value of f: -5.364417994258019e-07\n",
      "Number of iterations: 24\n",
      "-----------------------------------------------------------\n",
      "Approximate root: -4.999999910593033\n",
      "Value of f: -8.046626973623461e-07\n",
      "Number of iterations: 25\n"
     ]
    }
   ],
   "source": [
    "def compute_root(f, x0, x1, tol, max_it):\n",
    "    \"\"\"Computes the root of f between x0 and x1 using bisection,\n",
    "        stops if the value of f at the root is under tol or if max_it is reached\n",
    "        and returns the root, the value of f at the root and the number of iterations\"\"\"\n",
    "    for i in range(max_it):\n",
    "    \n",
    "        # Compute x_mid\n",
    "        x_mid = (x0 + x1) / 2\n",
    "\n",
    "        # Compute f for the three values\n",
    "        f_0, f_1, f_mid = f(x0), f(x1), f(x_mid)\n",
    "\n",
    "        # Check the value of f_0*f_mid to determine how to update the endpoints\n",
    "        if f_0*f_mid < 0:\n",
    "            x1 = x_mid\n",
    "        else:\n",
    "            x0 = x_mid\n",
    "        \n",
    "        # Check if f is under tol\n",
    "        if abs(f_mid) < tol:\n",
    "            return x_mid, f_mid, i+1\n",
    "\n",
    "    # Return the approximate root in case max_it is reached\n",
    "    return x_mid, f_mid, i+1\n",
    "\n",
    "# Test for the function f\n",
    "x, f_x, num_it = compute_root(f, x0=3, x1=6, tol=1.0e-6, max_it=1000)\n",
    "\n",
    "print('Approximate root:', x)\n",
    "print('Value of f:', f_x)\n",
    "print('Number of iterations:', num_it)\n",
    "\n",
    "print('-----------------------------------------------------------')\n",
    "\n",
    "x, f_x, num_it = compute_root(f, x0=-7, x1=0, tol=1.0e-6, max_it=1000)\n",
    "\n",
    "print('Approximate root:', x)\n",
    "print('Value of f:', f_x)\n",
    "print('Number of iterations:', num_it)"
   ]
  },
  {
   "cell_type": "markdown",
   "metadata": {},
   "source": [
    "### Optional extension \n",
    "\n",
    "Use recursion to write a `compute_root` function that *does not* require a `for` or `while` loop."
   ]
  },
  {
   "cell_type": "code",
   "execution_count": 12,
   "metadata": {
    "collapsed": false
   },
   "outputs": [
    {
     "name": "stdout",
     "output_type": "stream",
     "text": [
      "Approximate root: 3.9999999403953552\n",
      "Value of f: -5.364417994258019e-07\n",
      "Number of iterations: 24\n",
      "-----------------------------------------------------------\n",
      "Approximate root: -4.999999910593033\n",
      "Value of f: -8.046626973623461e-07\n",
      "Number of iterations: 25\n"
     ]
    }
   ],
   "source": [
    "def compute_root_rec(f, x0, x1, tol, max_it):\n",
    "    \"\"\"Computes the root of f between x0 and x1 using bisection recursively,\n",
    "        stops if the value of f at the root is under tol or if max_it is reached\n",
    "        and returns the root, the value of f at the root and the number of iterations\"\"\"\n",
    "    # Base case 1: value under minimum tollerance\n",
    "    if abs(f((x1+x0)/2)) < tol:\n",
    "        return (x1+x0)/2, f((x1+x0)/2), max_it\n",
    "    \n",
    "    # Base case 2: maximum number of iterations reached\n",
    "    elif max_it == 1:\n",
    "        return (x1+x0)/2, f((x1+x0)/2), max_it\n",
    "    \n",
    "    # Check the value of f_0*f_mid to determine how to update the endpoints\n",
    "    elif f(x0)*f((x1+x0)/2) < 0:\n",
    "        return compute_root_rec(f, x0, (x1+x0)/2, tol, max_it-1)\n",
    "    else:\n",
    "        return compute_root_rec(f, (x1+x0)/2, x1, tol, max_it-1)\n",
    "\n",
    "# Test for the function f\n",
    "x, f_x, num_it = compute_root(f, x0=3, x1=6, tol=1.0e-6, max_it=1000)\n",
    "\n",
    "print('Approximate root:', x)\n",
    "print('Value of f:', f_x)\n",
    "print('Number of iterations:', num_it)\n",
    "\n",
    "print('-----------------------------------------------------------')\n",
    "\n",
    "x, f_x, num_it = compute_root(f, x0=-7, x1=0, tol=1.0e-6, max_it=1000)\n",
    "\n",
    "print('Approximate root:', x)\n",
    "print('Value of f:', f_x)\n",
    "print('Number of iterations:', num_it)"
   ]
  }
 ],
 "metadata": {
  "kernelspec": {
   "display_name": "Python 3",
   "language": "python",
   "name": "python3"
  },
  "language_info": {
   "codemirror_mode": {
    "name": "ipython",
    "version": 3
   },
   "file_extension": ".py",
   "mimetype": "text/x-python",
   "name": "python",
   "nbconvert_exporter": "python",
   "pygments_lexer": "ipython3",
   "version": "3.6.0"
  }
 },
 "nbformat": 4,
 "nbformat_minor": 2
}
