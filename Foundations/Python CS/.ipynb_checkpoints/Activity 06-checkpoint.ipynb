{
 "cells": [
  {
   "cell_type": "markdown",
   "metadata": {},
   "source": [
    "## Exercise 06.1 (selecting and passing data structures)\n",
    "\n",
    "The exercise in Activity 04 that involved computing the area of a triangle involved a function with six arguments ($x$ and $y$ components of each vertex). With six arguments, the likelihood of a user passing arguments in the wrong order is high. \n",
    "\n",
    "Use an appropriate data structure to develop a new version of the function with a simpler interface (the interface is the arguments that are passed to the function). Add appropriate checks inside your function to validate the input data."
   ]
  },
  {
   "cell_type": "code",
   "execution_count": 1,
   "metadata": {
    "collapsed": false
   },
   "outputs": [
    {
     "name": "stdout",
     "output_type": "stream",
     "text": [
      "0.5\n",
      "20.0\n",
      "Insert the coordinates of three points in the format (x, y)\n"
     ]
    }
   ],
   "source": [
    "def area(p0, p1, p2):\n",
    "    \"Calculate the area of a triangle given three points coordinates in the format (x, y)\"\n",
    "    # Check if all the points have two coordinates\n",
    "    if len(p0) == 2 and len(p1) == 2 and len(p2) == 2:\n",
    "        return abs((p0[0]*(p1[1]-p2[1]) + p1[0]*(p2[1]-p0[1]) + p2[0]*(p0[1]-p1[1])) / 2)\n",
    "    else:\n",
    "        return 'Insert the coordinates of three points in the format (x, y)'\n",
    "\n",
    "# Test cases\n",
    "print(area((0, 0), (1, 0), (0, 1))) # 0.5\n",
    "print(area((0, 0), (5, 0), (0, 8))) # 20\n",
    "print(area((0, 0), (5, 1, 0), (0, 8))) # Error message"
   ]
  },
  {
   "cell_type": "markdown",
   "metadata": {},
   "source": [
    "## Exercise 06.2 (selecting data structures)\n",
    "\n",
    "For a simple (non-intersecting) polygon with $n$ vertices, $(x_0, y_0)$, $(x_1, y_1)$, . . , $(x_{n-1}, y_{n-1})$, the area $A$ is given by\n",
    "\n",
    "$$\n",
    "A = \\left| \\frac{1}{2} \\sum_{i=0}^{n-1} \\left(x_{i} y _{i+1} - x_{i+1} y_{i} \\right) \\right|\n",
    "$$\n",
    "\n",
    "and where $(x_n, y_n) = (x_0, y_0)$. The vertices should be ordered as you move around the polygon.\n",
    "\n",
    "Write a function that computes the area of a simple polygon with an arbitrary number of vertices. Test your function for some simple shapes. Pay careful attention to the range of any loops."
   ]
  },
  {
   "cell_type": "code",
   "execution_count": 3,
   "metadata": {
    "collapsed": false
   },
   "outputs": [
    {
     "name": "stdout",
     "output_type": "stream",
     "text": [
      "0.5\n",
      "1.0\n"
     ]
    }
   ],
   "source": [
    "def polygon_area(points):\n",
    "    \"\"\"Calculate the area of a simple polygon given a tuple of points in the format (x, y).\n",
    "        The points have to be ordered as you move around the polygon\"\"\"\n",
    "    # Initialize area to 0\n",
    "    area = 0\n",
    "    \n",
    "    # For each point check the number of coordinates and add to the area\n",
    "    for i in range(len(points)):\n",
    "        if len(points[i]) == 2:\n",
    "            # Here I use modulo to restart from 0 to account for the term where i=n-1\n",
    "            area += points[i][0]*points[(i+1)%len(points)][1] - points[(i+1)%len(points)][0]*points[i][1]\n",
    "        else:\n",
    "            return 'The coordinates of the points should be in the format (x, y)'\n",
    "    \n",
    "    return abs(area/2)\n",
    "\n",
    "# Test cases\n",
    "print(polygon_area(((0, 0), (1, 0), (0, 1)))) # triangle, area = 0.5\n",
    "print(polygon_area(((0, 0), (1, 0), (1, 1), (0, 1)))) # square, area = 1"
   ]
  },
  {
   "cell_type": "markdown",
   "metadata": {},
   "source": [
    "## Exercise 06.3 (indexing)\n",
    "\n",
    "Write a function that uses list indexing to add two vectors of arbitrary length, and returns the new vector. Include a check that the vector sizes match, and print a warning message if there is a size mismatch. The more error information you provide, the easier it would be for someone using your function to debug their code.\n",
    "\n",
    "Add some tests of your code.\n",
    "\n",
    "*Hint*: You can create a list of zeros of length `n` by\n",
    "\n",
    "    z = [0]*n"
   ]
  },
  {
   "cell_type": "code",
   "execution_count": 5,
   "metadata": {
    "collapsed": false
   },
   "outputs": [
    {
     "name": "stdout",
     "output_type": "stream",
     "text": [
      "[3, 1]\n",
      "The two vectors must have the same length\n",
      "[3, 1, -4, 16]\n"
     ]
    }
   ],
   "source": [
    "def add_vec(x, y):\n",
    "    \"Sum two vectors of arbitrary length\"\n",
    "    # Check if the vectors have the same length\n",
    "    if len(x) == len(y):\n",
    "        \n",
    "        # Initialize sum to zero\n",
    "        z = [0]*len(x)\n",
    "        \n",
    "        # Add vectors element by element\n",
    "        for i in range(len(x)):\n",
    "            z[i] = x[i] + y[i]\n",
    "        \n",
    "        return z\n",
    "    else:\n",
    "        return 'The two vectors must have the same length'\n",
    "\n",
    "# Test cases\n",
    "print(add_vec((1, 4), (2, -3)))\n",
    "print(add_vec((1, 4), (2, -3, 1))) # Error message\n",
    "print(add_vec((1, 4, -5, 9), (2, -3, 1, 7)))"
   ]
  },
  {
   "cell_type": "markdown",
   "metadata": {},
   "source": [
    "*Optional (advanced):* Try writing a one-line version of this operation using list comprehension and the built-in function [`zip`](https://docs.python.org/3/library/functions.html#zip)."
   ]
  },
  {
   "cell_type": "code",
   "execution_count": 6,
   "metadata": {
    "collapsed": false
   },
   "outputs": [
    {
     "name": "stdout",
     "output_type": "stream",
     "text": [
      "[3, 1]\n",
      "The two vectors must have the same size\n",
      "[3, 1, -4, 16]\n"
     ]
    }
   ],
   "source": [
    "def add_vec2(x, y):\n",
    "    \"Sum two vectors of arbitrary length using list comprehension\"\n",
    "    # Check if the vectors have the same length\n",
    "    if len(x) == len(y):\n",
    "        # Create a new list summing the two vectors element-wise\n",
    "        return [a + b for a, b in zip(x, y)]\n",
    "    else:\n",
    "        return 'The two vectors must have the same size'\n",
    "\n",
    "# Test cases\n",
    "print(add_vec2((1, 4), (2, -3)))\n",
    "print(add_vec2((1, 4), (2, -3, 1))) # Error message\n",
    "print(add_vec2((1, 4, -5, 9), (2, -3, 1, 7)))"
   ]
  },
  {
   "cell_type": "markdown",
   "metadata": {},
   "source": [
    "## Exercise 06.4 (dictionaries)\n",
    "\n",
    "\n",
    "Create a dictionary that maps college names (the key) to college abbreviations for at least 5 colleges\n",
    "(you can find abbreviations at https://en.wikipedia.org/wiki/Colleges_of_the_University_of_Cambridge#Colleges).\n",
    "From the dictionary, produce and print\n",
    "\n",
    "1. A dictionary from college abbreviation to name; and\n",
    "1. A list of college abbreviations sorted into alphabetical order."
   ]
  },
  {
   "cell_type": "code",
   "execution_count": null,
   "metadata": {
    "collapsed": true
   },
   "outputs": [],
   "source": [
    "colleges = {'Christ\\'s':'CHR'\n",
    "            , 'Churchill':'CHU'\n",
    "            , 'Clare':'CL'\n",
    "            , 'Clare Hall':'CLH'\n",
    "            , 'Corpus Christi':'CC'\n",
    "            , 'Darwin':'DAR'\n",
    "            , 'Downing':'DOW'\n",
    "            , 'Emmanuel':'EM'\n",
    "            , 'Fitzwilliam':'F'\n",
    "            , 'Girton':'G'\n",
    "           }\n",
    "\n",
    "print(colleges)\n",
    "\n",
    "colleges_abbr = {}\n",
    "\n",
    "for name, abbr in colleges.items():\n",
    "    colleges_abbr[abbr] = name\n",
    "\n",
    "print(colleges_abbr)\n",
    "\n",
    "colleges_abbr_sorted = sorted(colleges_abbr)\n",
    "\n",
    "print(colleges_abbr_sorted)"
   ]
  },
  {
   "cell_type": "markdown",
   "metadata": {},
   "source": [
    "*Optional extension:* Create a dictionary that maps college names (the key) to dictionaries of:\n",
    "\n",
    "- College abbreviation\n",
    "- Year of foundation \n",
    "- Total number students\n",
    " \n",
    "For at least 5 colleges. Take the data from https://en.wikipedia.org/wiki/Colleges_of_the_University_of_Cambridge#Colleges. Using this dictionary, \n",
    "\n",
    "1. Find the college with the greatest number of students and print the abbreviation; and \n",
    "2. Find the oldest college, and print the number of students and the abbreviation for this college."
   ]
  },
  {
   "cell_type": "code",
   "execution_count": null,
   "metadata": {
    "collapsed": true
   },
   "outputs": [],
   "source": [
    "colleges_ext = {'Christ\\'s':{'abbreviation':'CHR', 'year':1505, 'students':541}\n",
    "                , 'Churchill':{'abbreviation':'CHU', 'year':1960, 'students':704}\n",
    "                , 'Clare':{'abbreviation':'CL', 'year':1326, 'students':655}\n",
    "                , 'Clare Hall':{'abbreviation':'CLH', 'year':1966, 'students':155}\n",
    "                , 'Corpus Christi':{'abbreviation':'CC', 'year':1352, 'students':467}\n",
    "                , 'Darwin':{'abbreviation':'DAR', 'year':1964, 'students':674}\n",
    "                , 'Downing':{'abbreviation':'DOW', 'year':1800, 'students':623}\n",
    "                , 'Emmanuel':{'abbreviation':'EM', 'year':1584, 'students':750}\n",
    "                , 'Fitzwilliam':{'abbreviation':'F', 'year':1869, 'students':688}\n",
    "                , 'Girton':{'abbreviation':'G', 'year':1869, 'students':677}\n",
    "               }\n",
    "\n",
    "more_students = ''\n",
    "n_students = 0\n",
    "\n",
    "for coll, data in colleges_ext.items():\n",
    "\n",
    "    if data['students'] > n_students:\n",
    "        more_students, n_students = coll, data['students']\n",
    "\n",
    "print(more_students)\n",
    "\n",
    "year = 2500\n",
    "out = [0, '']\n",
    "\n",
    "for coll, data in colleges_ext.items():\n",
    "\n",
    "    if data['year'] < year:\n",
    "        out, year = [data['students'], data['abbreviation']], data['year']\n",
    "\n",
    "print(out)"
   ]
  }
 ],
 "metadata": {
  "kernelspec": {
   "display_name": "Python 3",
   "language": "python",
   "name": "python3"
  },
  "language_info": {
   "codemirror_mode": {
    "name": "ipython",
    "version": 3
   },
   "file_extension": ".py",
   "mimetype": "text/x-python",
   "name": "python",
   "nbconvert_exporter": "python",
   "pygments_lexer": "ipython3",
   "version": "3.6.0"
  }
 },
 "nbformat": 4,
 "nbformat_minor": 2
}
