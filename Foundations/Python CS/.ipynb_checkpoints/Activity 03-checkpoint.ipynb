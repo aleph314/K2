{
 "cells": [
  {
   "cell_type": "markdown",
   "metadata": {},
   "source": [
    "## Exercise 03.1\n",
    "\n",
    "Compare the computed values of \n",
    "\n",
    "$$ \n",
    "d_0 = a \\cdot b + a  \\cdot  c\n",
    "$$\n",
    "\n",
    "and \n",
    "\n",
    "$$ \n",
    "d_1 = a \\cdot (b + c)\n",
    "$$\n",
    "\n",
    "when $a = 100$, $b = 0.1$ and $c = 0.2$. Try check for equality, e.g. `print(d0 == d1)`. "
   ]
  },
  {
   "cell_type": "code",
   "execution_count": 1,
   "metadata": {
    "collapsed": false
   },
   "outputs": [
    {
     "name": "stdout",
     "output_type": "stream",
     "text": [
      "30.0\n",
      "30.000000000000004\n",
      "False\n"
     ]
    }
   ],
   "source": [
    "# Initializa a, b and c\n",
    "a = 100\n",
    "b = 0.1\n",
    "c = 0.2\n",
    "\n",
    "# Compute the two values\n",
    "d_0 = a*b + a*c\n",
    "d_1 = a*(b + c)\n",
    "\n",
    "print(d_0)\n",
    "print(d_1)\n",
    "print(d_0 == d_1)"
   ]
  },
  {
   "cell_type": "markdown",
   "metadata": {},
   "source": [
    "## Exercise 03.2\n",
    "\n",
    "For the polynomial \n",
    "\n",
    "\\begin{align}\n",
    "f(x, y) &= (x + y)^{6} \n",
    "\\\\\n",
    "&=  x^6 + 6x^{5}y + 15x^{4}y^{2} + 20x^{3}y^{3} + 15x^{2}y^{4} + 6xy^{5} + y^{6}\n",
    "\\end{align}\n",
    "\n",
    "compute $f$ using: (a) the compact form $(x + y)^{6}$; and (b) the expanded form for:\n",
    "\n",
    "- $x = 10$ and $y = 10.1$\n",
    "- $x = 10$ and $y = -10.1$\n",
    "\n",
    "and compare the number of significant digits for which the answers are the same.\n",
    "For the second case compare the computed and analytical solutions.\n",
    "\n",
    "Which approach would you recommend for computing this expression?"
   ]
  },
  {
   "cell_type": "markdown",
   "metadata": {},
   "source": [
    "I would choose the compact form since, containing less terms, it minimizes the possibility of errors due to the floating point representation of numbers"
   ]
  },
  {
   "cell_type": "code",
   "execution_count": 2,
   "metadata": {
    "collapsed": false
   },
   "outputs": [
    {
     "name": "stdout",
     "output_type": "stream",
     "text": [
      "x and y values: 10 10.1\n",
      "Compact form: 65944160.60120103 \n",
      "Expanded form: 65944160.601201 \n",
      "Difference: 2.9802322387695312e-08\n",
      "\n",
      "---------------------------------------------------------\n",
      "\n",
      "x and y values: 10 -10.1\n",
      "Compact form: 9.999999999999788e-07 \n",
      "Expanded form: 9.958166629076004e-07 \n",
      "Difference: 4.183337092378376e-09\n"
     ]
    }
   ],
   "source": [
    "# Initialize x and y\n",
    "x, y = 10, 10.1\n",
    "print('x and y values:' ,x, y)\n",
    "\n",
    "# Calculate the two expressions\n",
    "f1 = (x + y)**6\n",
    "f2 = x**6 + 6*x**5*y + 15*x**4*y**2 + 20*x**3*y**3 + 15*x**2*y**4 + 6*x*y**5 + y**6\n",
    "\n",
    "print('Compact form:', f1, '\\nExpanded form:', f2, '\\nDifference:', f1-f2)\n",
    "\n",
    "print('\\n---------------------------------------------------------\\n')\n",
    "\n",
    "# Initialize x and y\n",
    "x, y = 10, -10.1\n",
    "print('x and y values:' ,x, y)\n",
    "\n",
    "# Calculate the two expressions\n",
    "f1 = (x + y)**6\n",
    "f2 = x**6 + 6*x**5*y + 15*x**4*y**2 + 20*x**3*y**3 + 15*x**2*y**4 + 6*x*y**5 + y**6\n",
    "\n",
    "print('Compact form:', f1, '\\nExpanded form:', f2, '\\nDifference:', f1-f2)"
   ]
  },
  {
   "cell_type": "markdown",
   "metadata": {},
   "source": [
    "## Exercise 03.3\n",
    "\n",
    "Consider the expression\n",
    "\n",
    "$$\n",
    "f = \\frac{1}{\\sqrt{x^2 - 1} - x}\n",
    "$$\n",
    "\n",
    "When $x$ is very large, the denominator approaches zero, which can cause problems.\n",
    "\n",
    "Try rephrasing the problem and eliminating the fraction by multiplying the numerator and denominator by $\\sqrt{x^2 - 1} + x$ and evaluate the two versions of the expression when:\n",
    "\n",
    "- $x = 1 \\times 10^{7}$\n",
    "- $x = 1 \\times 10^{9}$ (You may get a Python error for this case. Why?)\n"
   ]
  },
  {
   "cell_type": "code",
   "execution_count": 3,
   "metadata": {
    "collapsed": true
   },
   "outputs": [],
   "source": [
    "# Import math to compute square root\n",
    "import math"
   ]
  },
  {
   "cell_type": "markdown",
   "metadata": {},
   "source": [
    "The expression obtained by multiplying the numerator and denominator by $\\sqrt{x^2 - 1} + x$ is\n",
    "\n",
    "$$\n",
    "f = -\\sqrt{x^2 - 1} - x.\n",
    "$$\n",
    "\n",
    "Let's try the first value $1 \\times 10^{7}$"
   ]
  },
  {
   "cell_type": "code",
   "execution_count": 4,
   "metadata": {
    "collapsed": false
   },
   "outputs": [
    {
     "name": "stdout",
     "output_type": "stream",
     "text": [
      "Result of the first expression: -19884107.85185185 \n",
      "Result of the second expression: -19999999.999999948\n"
     ]
    }
   ],
   "source": [
    "# Initialize x\n",
    "x = 1e7\n",
    "\n",
    "# Compute the two expressions\n",
    "f1 = 1 / (math.sqrt(x**2-1) - x)\n",
    "f2 = -math.sqrt(x**2-1) - x\n",
    "\n",
    "print('Result of the first expression:', f1, '\\nResult of the second expression:', f2)"
   ]
  },
  {
   "cell_type": "markdown",
   "metadata": {},
   "source": [
    "The second expression is more precise; moreover it avoids the risk of a division by zero error:"
   ]
  },
  {
   "cell_type": "code",
   "execution_count": 5,
   "metadata": {
    "collapsed": false
   },
   "outputs": [
    {
     "ename": "ZeroDivisionError",
     "evalue": "float division by zero",
     "output_type": "error",
     "traceback": [
      "\u001b[0;31m---------------------------------------------------------------------------\u001b[0m",
      "\u001b[0;31mZeroDivisionError\u001b[0m                         Traceback (most recent call last)",
      "\u001b[0;32m<ipython-input-5-b89dd747f70c>\u001b[0m in \u001b[0;36m<module>\u001b[0;34m()\u001b[0m\n\u001b[1;32m      3\u001b[0m \u001b[1;33m\u001b[0m\u001b[0m\n\u001b[1;32m      4\u001b[0m \u001b[1;31m# This gives division by zero error\u001b[0m\u001b[1;33m\u001b[0m\u001b[1;33m\u001b[0m\u001b[0m\n\u001b[0;32m----> 5\u001b[0;31m \u001b[0mf1\u001b[0m \u001b[1;33m=\u001b[0m \u001b[1;36m1\u001b[0m \u001b[1;33m/\u001b[0m \u001b[1;33m(\u001b[0m\u001b[0mmath\u001b[0m\u001b[1;33m.\u001b[0m\u001b[0msqrt\u001b[0m\u001b[1;33m(\u001b[0m\u001b[0mx\u001b[0m\u001b[1;33m**\u001b[0m\u001b[1;36m2\u001b[0m\u001b[1;33m-\u001b[0m\u001b[1;36m1\u001b[0m\u001b[1;33m)\u001b[0m \u001b[1;33m-\u001b[0m \u001b[0mx\u001b[0m\u001b[1;33m)\u001b[0m\u001b[1;33m\u001b[0m\u001b[0m\n\u001b[0m\u001b[1;32m      6\u001b[0m \u001b[1;33m\u001b[0m\u001b[0m\n\u001b[1;32m      7\u001b[0m \u001b[0mprint\u001b[0m\u001b[1;33m(\u001b[0m\u001b[1;34m'Result of the first expression:'\u001b[0m\u001b[1;33m,\u001b[0m \u001b[0mf1\u001b[0m\u001b[1;33m)\u001b[0m\u001b[1;33m\u001b[0m\u001b[0m\n",
      "\u001b[0;31mZeroDivisionError\u001b[0m: float division by zero"
     ]
    }
   ],
   "source": [
    "# Initialize x\n",
    "x = 1e9\n",
    "\n",
    "# This gives division by zero error\n",
    "f1 = 1 / (math.sqrt(x**2-1) - x)\n",
    "\n",
    "print('Result of the first expression:', f1)"
   ]
  },
  {
   "cell_type": "code",
   "execution_count": 6,
   "metadata": {
    "collapsed": false
   },
   "outputs": [
    {
     "name": "stdout",
     "output_type": "stream",
     "text": [
      "Result of the second expression: 2000000000.0\n"
     ]
    }
   ],
   "source": [
    "# Initialize x\n",
    "x = 1e9\n",
    "\n",
    "# This doesn't\n",
    "f2 = (math.sqrt(x**2-1) + x)\n",
    "\n",
    "print('Result of the second expression:', f2)"
   ]
  }
 ],
 "metadata": {
  "kernelspec": {
   "display_name": "Python 3",
   "language": "python",
   "name": "python3"
  },
  "language_info": {
   "codemirror_mode": {
    "name": "ipython",
    "version": 3
   },
   "file_extension": ".py",
   "mimetype": "text/x-python",
   "name": "python",
   "nbconvert_exporter": "python",
   "pygments_lexer": "ipython3",
   "version": "3.6.0"
  }
 },
 "nbformat": 4,
 "nbformat_minor": 2
}
