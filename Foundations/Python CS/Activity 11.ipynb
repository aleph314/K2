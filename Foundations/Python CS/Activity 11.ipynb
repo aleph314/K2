{
 "cells": [
  {
   "cell_type": "code",
   "execution_count": 1,
   "metadata": {
    "collapsed": true
   },
   "outputs": [],
   "source": [
    "import numpy as np\n",
    "import matplotlib.pyplot as plt\n",
    "%matplotlib inline"
   ]
  },
  {
   "cell_type": "markdown",
   "metadata": {},
   "source": [
    "## Exercise 11.1\n",
    "\n",
    "Determine by operating counting the complexity of:\n",
    "\n",
    "1. Dot product between two vectors\n",
    "1. Matrix-vector product\n",
    "1. Matrix-matrix product\n",
    "\n",
    "for vectors of length $n$ and matrices of size $n \\times n$. (This is a reasoning exercise - you do not need to write a program.)\n",
    "\n",
    "\n",
    "### Optional\n",
    "\n",
    "Test the complexity experimentally with your own functions for performing the operations, and\n",
    "with the NumPy 'vectorised' equivalents."
   ]
  },
  {
   "cell_type": "markdown",
   "metadata": {
    "collapsed": true
   },
   "source": [
    "1. Dot product between two vectors of length $n$: we have to iterate through all elements of the vectors, so the complexity is $O(n)$\n",
    "2. Matrix-vector product between a vector of length $n$ and a $n \\times n$ matrix: to obtain an element of the product we have to multiply each row of the matrix with the vector, which is like doing $n$ times a dot product; therefore the complexity is $O(n^2)$\n",
    "3. Matrix-matrix product between $n \\times n$ matrices: the $(i,j)$-th element of the product is the dot product between the $i$-th row of the first matrix and the $j$-th column of the second one; since we have $n^2$ elements in the product the complexity is $O(n^3)$"
   ]
  },
  {
   "cell_type": "markdown",
   "metadata": {},
   "source": [
    "Functions for calculating dot product and matrix-vector/matrix-matrix product for experimentally determine the complexity:"
   ]
  },
  {
   "cell_type": "code",
   "execution_count": 43,
   "metadata": {
    "collapsed": false
   },
   "outputs": [
    {
     "name": "stdout",
     "output_type": "stream",
     "text": [
      "1\n",
      "0\n",
      "[ 1.  1.]\n",
      "[[ 2.  2.]\n",
      " [ 2.  2.]]\n",
      "[[2 2]\n",
      " [2 2]]\n"
     ]
    }
   ],
   "source": [
    "def dot_product(A, B):\n",
    "    \"Compute the dot product between two vectors of equal length,\"\n",
    "    # Check if A and B are vectors \n",
    "    if len(np.shape(A)) == 1 and len(np.shape(B)) == 1:\n",
    "        # Check if A and B have the same length\n",
    "        if len(A) == len(B):\n",
    "            # Initialize product\n",
    "            P = 0\n",
    "            # Calculate dot product iterating over each element\n",
    "            for i in range(len(A)):\n",
    "                P += A[i]*B[i]\n",
    "        else:\n",
    "            raise ValueError('Vectors must be of the same length')\n",
    "    else:\n",
    "        raise ValueError('A and B must be vectors')\n",
    "    \n",
    "    return P\n",
    "\n",
    "def product(A, B):\n",
    "    \"\"\"Compute the product between two numpy arrays:\n",
    "        A and B can be a matrix of size (m,n) and a vector of length n\n",
    "        or two matrices of size, respectively, (m,l) and (l,n)\"\"\"\n",
    "    # Matrix-vector case\n",
    "    if len(np.shape(A)) == 2 and len(np.shape(B)) == 1:\n",
    "        # Check if the number of columns of A is equal to the number of elements of B\n",
    "        if np.shape(A)[1] == len(B):\n",
    "            # Initialize the product\n",
    "            P = np.zeros(len(B))\n",
    "            #Calculate product iterating over the rows of A and using dot_product function\n",
    "            for i in range(np.shape(A)[0]):\n",
    "                P[i] = dot_product(A[i], B)\n",
    "        else:\n",
    "            raise ValueError('The number of columns of A must equal the length of B')\n",
    "    \n",
    "    # Matrix-matrix case\n",
    "    elif len(np.shape(A)) == 2 and len(np.shape(B)) == 2:\n",
    "        # Check if the number of columns of A is equal to the number of rows of B\n",
    "        if np.shape(A)[1] == np.shape(B)[0]:\n",
    "            # Initialize the product\n",
    "            P = np.zeros((np.shape(A)[0], np.shape(B)[1]))\n",
    "            # Calculate product iterating over the rows of A and columns of B and using dot_product function\n",
    "            for i in range(np.shape(A)[0]):\n",
    "                for j in range(np.shape(B)[1]):\n",
    "                    P[i, j] = dot_product(A[i], B[j])\n",
    "        else:\n",
    "            raise ValueError('The number of columns of A must equal the number of rows of B')\n",
    "    else:\n",
    "        raise ValueError('A and B must be a matrix and a vector or two matrices')\n",
    "    \n",
    "    return P\n",
    "\n",
    "# Test cases\n",
    "A = np.array([0, 1])\n",
    "B = np.array([1, 0])\n",
    "M = np.array([[1, 1], [1, 1]])\n",
    "N = np.array([[1, 1], [1, 1]])\n",
    "\n",
    "print(dot_product(A, A))\n",
    "print(dot_product(A, B))\n",
    "print(product(M, B))\n",
    "print(product(M, N))"
   ]
  },
  {
   "cell_type": "markdown",
   "metadata": {},
   "source": [
    "Test for matrix-matrix product using 8 different matrix dimensions:"
   ]
  },
  {
   "cell_type": "code",
   "execution_count": 44,
   "metadata": {
    "collapsed": false
   },
   "outputs": [],
   "source": [
    "# Test dimensions\n",
    "N = (2, 4, 8, 16, 32, 64, 128, 256)\n",
    "\n",
    "# Initialize times vectors\n",
    "times = []\n",
    "numpy_times = []\n",
    "\n",
    "# Time executions for each dimension\n",
    "for n in N:\n",
    "    # Generate random matrices for testing\n",
    "    A = np.random.rand(n, n)\n",
    "    B = np.random.rand(n, n)\n",
    "    # My function\n",
    "    t1 = %timeit -q -n4 -r1 -o product(A, B)\n",
    "    times.append(t1.best)\n",
    "    # Numpy function\n",
    "    t2 = %timeit -q -n4 -r1 -o A.dot(B)\n",
    "    numpy_times.append(t2.best)"
   ]
  },
  {
   "cell_type": "markdown",
   "metadata": {},
   "source": [
    "Plot of my functions vs. numpy ones:"
   ]
  },
  {
   "cell_type": "code",
   "execution_count": 45,
   "metadata": {
    "collapsed": false
   },
   "outputs": [
    {
     "data": {
      "image/png": "[encoded data removed]",
      "text/plain": [
       "<matplotlib.figure.Figure at 0x20b2b2a7e10>"
      ]
     },
     "metadata": {},
     "output_type": "display_data"
    }
   ],
   "source": [
    "# Plot and label the time taken\n",
    "plt.loglog(N, times, marker='o', label='Matrices product')\n",
    "plt.loglog(N, numpy_times, marker='o', label='Numpy product')\n",
    "plt.xlabel('$n$')\n",
    "plt.ylabel('$t$ (s)')\n",
    "\n",
    "# Show a reference line of O(n^3)\n",
    "plt.loglog(N, 1e-6*np.array(N)**3, label='$O(n^3)$')\n",
    "\n",
    "# Add legend\n",
    "plt.legend(loc=0);"
   ]
  },
  {
   "cell_type": "markdown",
   "metadata": {},
   "source": [
    "## Exercise 11.2\n",
    "\n",
    "For the recursive factorial algorithm in Activity 04, determine the algorithmic complexity by inspecting your implementation of the algorithm. Test this against numerical experiments."
   ]
  },
  {
   "cell_type": "markdown",
   "metadata": {},
   "source": [
    "The recursive implementation calls the function n times, in each call it computes a product so the complexity should be $O(n)$"
   ]
  },
  {
   "cell_type": "code",
   "execution_count": 46,
   "metadata": {
    "collapsed": false
   },
   "outputs": [
    {
     "name": "stdout",
     "output_type": "stream",
     "text": [
      "Calculated factorial: 120\n"
     ]
    }
   ],
   "source": [
    "def fact(n):\n",
    "    \"Calculate factorial recursively\"\n",
    "    if n == 0:\n",
    "        return 1\n",
    "    else:\n",
    "        return n*fact(n-1)\n",
    "\n",
    "# Test cases\n",
    "print('Calculated factorial:',fact(5))"
   ]
  },
  {
   "cell_type": "markdown",
   "metadata": {},
   "source": [
    "Let's test this using some numerical examples:"
   ]
  },
  {
   "cell_type": "code",
   "execution_count": 52,
   "metadata": {
    "collapsed": false
   },
   "outputs": [],
   "source": [
    "# Test cases\n",
    "N = (2, 4, 8, 16, 32, 64, 128, 256, 512, 1024, 2056)\n",
    "\n",
    "# Initialize times vectors\n",
    "times = []\n",
    "\n",
    "# Increase the limit on recursion\n",
    "import sys\n",
    "sys.setrecursionlimit(25000)\n",
    "\n",
    "# Time executions for each n\n",
    "for n in N:\n",
    "    t1 = %timeit -q -n4 -r1 -o fact(n)\n",
    "    times.append(t1.best)"
   ]
  },
  {
   "cell_type": "markdown",
   "metadata": {},
   "source": [
    "Plot the results:"
   ]
  },
  {
   "cell_type": "code",
   "execution_count": 53,
   "metadata": {
    "collapsed": false
   },
   "outputs": [
    {
     "data": {
      "image/png": "[encoded data removed]",
      "text/plain": [
       "<matplotlib.figure.Figure at 0x20b2b441d30>"
      ]
     },
     "metadata": {},
     "output_type": "display_data"
    }
   ],
   "source": [
    "# Plot and label the time taken\n",
    "plt.loglog(N, times, marker='o', label='Recursive factorial')\n",
    "plt.xlabel('$n$')\n",
    "plt.ylabel('$t$ (s)')\n",
    "\n",
    "# Show a reference line of O(n)\n",
    "plt.loglog(N, 1e-6*np.array(N), label='$O(n)$')\n",
    "\n",
    "# Add legend\n",
    "plt.legend(loc=0);"
   ]
  },
  {
   "cell_type": "markdown",
   "metadata": {},
   "source": [
    "## Exercise 11.3\n",
    "\n",
    "Determine experimentally the complexity of computing the determinant of a matrix. You can generate an $n \\times n$ matrix using:"
   ]
  },
  {
   "cell_type": "code",
   "execution_count": null,
   "metadata": {
    "collapsed": true
   },
   "outputs": [],
   "source": [
    "n = 100\n",
    "A = np.random.rand(n, n)"
   ]
  },
  {
   "cell_type": "markdown",
   "metadata": {},
   "source": [
    "and the determinant can be computed by:"
   ]
  },
  {
   "cell_type": "code",
   "execution_count": null,
   "metadata": {
    "collapsed": true
   },
   "outputs": [],
   "source": [
    "det = np.linalg.slogdet(A)"
   ]
  },
  {
   "cell_type": "markdown",
   "metadata": {},
   "source": [
    "Be sure that you test for sufficiently large $n$ to get into the 'large' $n$ regime. Use a log-log scale for\n",
    "your plot."
   ]
  },
  {
   "cell_type": "code",
   "execution_count": 85,
   "metadata": {
    "collapsed": false
   },
   "outputs": [
    {
     "name": "stdout",
     "output_type": "stream",
     "text": [
      "[   4    8   16   32   64  128  256  512 1024 2048 4096]\n",
      "[5.7822388725981e-05, 4.783405211128411e-05, 4.4443515662351274e-05, 8.787903448137513e-05, 0.00015138286244109622, 0.0002687687258458027, 0.0012092301758457324, 0.00483023126776061, 0.047464483674502844, 0.2321542331121691, 1.8285039267909724]\n"
     ]
    }
   ],
   "source": [
    "# Test dimensions\n",
    "N = 2**np.arange(2, 13)\n",
    "\n",
    "# Initialize times vectors\n",
    "times = []\n",
    "\n",
    "# Time executions for each dimension\n",
    "for n in N:\n",
    "    A = np.random.rand(n, n)\n",
    "    t1 = %timeit -q -n4 -r1 -o np.linalg.slogdet(A)\n",
    "    times.append(t1.best)\n",
    "    \n",
    "print(N)\n",
    "print(times)"
   ]
  },
  {
   "cell_type": "code",
   "execution_count": 87,
   "metadata": {
    "collapsed": false
   },
   "outputs": [
    {
     "data": {
      "image/png": "[encoded data removed]",
      "text/plain": [
       "<matplotlib.figure.Figure at 0x20b2ade4908>"
      ]
     },
     "metadata": {},
     "output_type": "display_data"
    }
   ],
   "source": [
    "# Plot and label the time taken\n",
    "plt.loglog(N, times, marker='o', label='Matrix determinant')\n",
    "plt.xlabel('$n$')\n",
    "plt.ylabel('$t$ (s)')\n",
    "\n",
    "# Show a reference line of O(n^2)\n",
    "plt.loglog(N, 1e-6*np.array(N)**2, label='$O(n^2)$')\n",
    "\n",
    "# Add legend\n",
    "plt.legend(loc=0);"
   ]
  },
  {
   "cell_type": "markdown",
   "metadata": {},
   "source": [
    "$O(n^2)$ seems a good fit, to see it better let's try again with powers of 10:"
   ]
  },
  {
   "cell_type": "code",
   "execution_count": 95,
   "metadata": {
    "collapsed": false
   },
   "outputs": [
    {
     "name": "stdout",
     "output_type": "stream",
     "text": [
      "[   10   100  1000 10000]\n",
      "[3.10646430534689e-05, 0.000305056627439626, 0.03741942436386125, 21.547240250100685]\n"
     ]
    }
   ],
   "source": [
    "# Test dimensions\n",
    "N = 10**np.arange(1, 5)\n",
    "\n",
    "# Initialize times vectors\n",
    "times = []\n",
    "\n",
    "# Time executions for each dimension\n",
    "for n in N:\n",
    "    A = np.random.rand(n, n)\n",
    "    t1 = %timeit -q -n4 -r1 -o np.linalg.slogdet(A)\n",
    "    times.append(t1.best)\n",
    "\n",
    "print(N)\n",
    "print(times)"
   ]
  },
  {
   "cell_type": "code",
   "execution_count": 96,
   "metadata": {
    "collapsed": false
   },
   "outputs": [
    {
     "data": {
      "image/png": "[encoded data removed]",
      "text/plain": [
       "<matplotlib.figure.Figure at 0x20b2b230828>"
      ]
     },
     "metadata": {},
     "output_type": "display_data"
    }
   ],
   "source": [
    "# Plot and label the time taken\n",
    "plt.loglog(N, times, marker='o', label='Matrix determinant')\n",
    "plt.xlabel('$n$')\n",
    "plt.ylabel('$t$ (s)')\n",
    "\n",
    "# Show a reference line of O(n^2)\n",
    "plt.loglog(N, 1e-6*np.array(N)**2, label='$O(n^2)$')\n",
    "\n",
    "# Add legend\n",
    "plt.legend(loc=0);"
   ]
  },
  {
   "cell_type": "markdown",
   "metadata": {},
   "source": [
    "Yep, seems good!"
   ]
  }
 ],
 "metadata": {
  "kernelspec": {
   "display_name": "Python 3",
   "language": "python",
   "name": "python3"
  },
  "language_info": {
   "codemirror_mode": {
    "name": "ipython",
    "version": 3
   },
   "file_extension": ".py",
   "mimetype": "text/x-python",
   "name": "python",
   "nbconvert_exporter": "python",
   "pygments_lexer": "ipython3",
   "version": "3.6.0"
  }
 },
 "nbformat": 4,
 "nbformat_minor": 2
}
