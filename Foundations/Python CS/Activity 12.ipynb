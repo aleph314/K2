{
 "cells": [
  {
   "cell_type": "code",
   "execution_count": 1,
   "metadata": {
    "collapsed": true
   },
   "outputs": [],
   "source": [
    "import numpy as np"
   ]
  },
  {
   "cell_type": "markdown",
   "metadata": {},
   "source": [
    "## Exercise 12.1\n",
    "\n",
    "Create a class to represent vectors of arbitrary length and which is initialised with a list of values, e.g.:\n",
    "```python\n",
    "x = MyVector([0, 2, 4])\n",
    "```\n",
    "\n",
    "Equip the class with methods that:\n",
    "\n",
    "1. Return the length of the vector\n",
    "2. Compute the norm of the vector $\\sqrt{x \\cdot x}$\n",
    "3. Compute the dot product of the vector with another vector\n",
    "\n",
    "Test your implementation using two vectors of length 3. To help you get started, a skeleton of the class is provided below. Don't forget to use `self` where necessary."
   ]
  },
  {
   "cell_type": "code",
   "execution_count": 2,
   "metadata": {
    "collapsed": true
   },
   "outputs": [],
   "source": [
    "class MyVector:\n",
    "    def __init__(self, x):\n",
    "        self.x = x\n",
    "        \n",
    "    # Return length of vector\n",
    "    def size(self):\n",
    "        return len(self.x)\n",
    "    \n",
    "    # This allows access by index, e.g. y[2]\n",
    "    def __getitem__(self, index):\n",
    "        return self.x[index]\n",
    "\n",
    "    # Return norm of vector\n",
    "    def norm(self):\n",
    "        squared_norm = 0\n",
    "        for el in self.x:\n",
    "            squared_norm += el*el\n",
    "        return np.sqrt(squared_norm)\n",
    "    \n",
    "    # Return dot product of vector with another vector\n",
    "    def dot(self, other):\n",
    "        # Check if vector have the same length\n",
    "        if self.size() == other.size():\n",
    "            # Initialize product\n",
    "            prod = 0\n",
    "            # Add the product element by element to the total\n",
    "            for i in range(self.size()):\n",
    "                prod += self[i]*other[i]\n",
    "        else:\n",
    "            raise ValueError('Vector must be of the same length')\n",
    "        return prod"
   ]
  },
  {
   "cell_type": "code",
   "execution_count": 3,
   "metadata": {
    "collapsed": false
   },
   "outputs": [
    {
     "name": "stdout",
     "output_type": "stream",
     "text": [
      "3\n",
      "3\n",
      "5.0\n",
      "6.40312423743\n",
      "11\n"
     ]
    },
    {
     "ename": "ValueError",
     "evalue": "Vector must be of the same length",
     "output_type": "error",
     "traceback": [
      "\u001b[0;31m---------------------------------------------------------------------------\u001b[0m",
      "\u001b[0;31mValueError\u001b[0m                                Traceback (most recent call last)",
      "\u001b[0;32m<ipython-input-3-008f79db6c4a>\u001b[0m in \u001b[0;36m<module>\u001b[0;34m()\u001b[0m\n\u001b[1;32m      9\u001b[0m \u001b[0mprint\u001b[0m\u001b[1;33m(\u001b[0m\u001b[0my\u001b[0m\u001b[1;33m.\u001b[0m\u001b[0mnorm\u001b[0m\u001b[1;33m(\u001b[0m\u001b[1;33m)\u001b[0m\u001b[1;33m)\u001b[0m \u001b[1;31m# square root of 41\u001b[0m\u001b[1;33m\u001b[0m\u001b[0m\n\u001b[1;32m     10\u001b[0m \u001b[0mprint\u001b[0m\u001b[1;33m(\u001b[0m\u001b[0mx\u001b[0m\u001b[1;33m.\u001b[0m\u001b[0mdot\u001b[0m\u001b[1;33m(\u001b[0m\u001b[0my\u001b[0m\u001b[1;33m)\u001b[0m\u001b[1;33m)\u001b[0m \u001b[1;31m# 11\u001b[0m\u001b[1;33m\u001b[0m\u001b[0m\n\u001b[0;32m---> 11\u001b[0;31m \u001b[0mprint\u001b[0m\u001b[1;33m(\u001b[0m\u001b[0mx\u001b[0m\u001b[1;33m.\u001b[0m\u001b[0mdot\u001b[0m\u001b[1;33m(\u001b[0m\u001b[0mz\u001b[0m\u001b[1;33m)\u001b[0m\u001b[1;33m)\u001b[0m \u001b[1;31m# Error\u001b[0m\u001b[1;33m\u001b[0m\u001b[0m\n\u001b[0m",
      "\u001b[0;32m<ipython-input-2-b60889fd1511>\u001b[0m in \u001b[0;36mdot\u001b[0;34m(self, other)\u001b[0m\n\u001b[1;32m     28\u001b[0m                 \u001b[0mprod\u001b[0m \u001b[1;33m+=\u001b[0m \u001b[0mself\u001b[0m\u001b[1;33m[\u001b[0m\u001b[0mi\u001b[0m\u001b[1;33m]\u001b[0m\u001b[1;33m*\u001b[0m\u001b[0mother\u001b[0m\u001b[1;33m[\u001b[0m\u001b[0mi\u001b[0m\u001b[1;33m]\u001b[0m\u001b[1;33m\u001b[0m\u001b[0m\n\u001b[1;32m     29\u001b[0m         \u001b[1;32melse\u001b[0m\u001b[1;33m:\u001b[0m\u001b[1;33m\u001b[0m\u001b[0m\n\u001b[0;32m---> 30\u001b[0;31m             \u001b[1;32mraise\u001b[0m \u001b[0mValueError\u001b[0m\u001b[1;33m(\u001b[0m\u001b[1;34m'Vector must be of the same length'\u001b[0m\u001b[1;33m)\u001b[0m\u001b[1;33m\u001b[0m\u001b[0m\n\u001b[0m\u001b[1;32m     31\u001b[0m         \u001b[1;32mreturn\u001b[0m \u001b[0mprod\u001b[0m\u001b[1;33m\u001b[0m\u001b[0m\n",
      "\u001b[0;31mValueError\u001b[0m: Vector must be of the same length"
     ]
    }
   ],
   "source": [
    "# Test cases\n",
    "x = MyVector([3, 4, 0])\n",
    "y = MyVector([1, 2, 6])\n",
    "z = MyVector([1, 2])\n",
    "\n",
    "print(x.size()) # 3\n",
    "print(y.size()) # 3\n",
    "print(x.norm()) # 5\n",
    "print(y.norm()) # square root of 41\n",
    "print(x.dot(y)) # 11\n",
    "print(x.dot(z)) # Error"
   ]
  },
  {
   "cell_type": "markdown",
   "metadata": {},
   "source": [
    "## Exercise 12.2\n",
    "\n",
    "1. Create a class for holding a student record entry. It should have the following attributes:\n",
    "   - Surname\n",
    "   - Forename\n",
    "   - Birth year\n",
    "   - Tripos year\n",
    "   - College\n",
    "   - CRSid (optional field)\n",
    "1. Equip your class with the method '`age`' that returns the age of the student\n",
    "1. Equip your class with the method '`__repr__`' such using `print` on a student record displays with the format\n",
    "\n",
    "       Surname: Bloggs, Forename: Andrea, College: Churchill\n",
    "\n",
    "1. Equip your class with the method `__lt__(self, other)` so that a list of record entries can be sorted by \n",
    "   (surname, forename). Create a list of entries and test the sorting. Make sure you have two entries with the same\n",
    "   surname.\n",
    "\n",
    "*Hint:* To get the current year:"
   ]
  },
  {
   "cell_type": "code",
   "execution_count": 4,
   "metadata": {
    "collapsed": false
   },
   "outputs": [
    {
     "name": "stdout",
     "output_type": "stream",
     "text": [
      "2017\n"
     ]
    }
   ],
   "source": [
    "import datetime\n",
    "year = datetime.date.today().year\n",
    "print(year)"
   ]
  },
  {
   "cell_type": "code",
   "execution_count": 5,
   "metadata": {
    "collapsed": true
   },
   "outputs": [],
   "source": [
    "class Students:\n",
    "    # We have 6 attributes, CRSid is optional (default value set to None)\n",
    "    def __init__(self, surname, forename, birthYear, triposYear, college, CRSid = None):\n",
    "        self.surname = surname\n",
    "        self.forename = forename\n",
    "        self.birthYear = birthYear\n",
    "        self.triposYear = triposYear\n",
    "        self.college = college\n",
    "        self.CRSid = CRSid\n",
    "    \n",
    "    def __repr__(self):\n",
    "        \"Print the student in the format Surname: surname, Forename: forename, College: college\"\n",
    "        return 'Surname: {}, Forename: {}, College: {}'.format(self.surname, self.forename, self.college)\n",
    "    \n",
    "    def age(self):\n",
    "        \"Return the age of the student subtracting the year of birth from the current year\"\n",
    "        return datetime.date.today().year - self.birthYear\n",
    "    \n",
    "    def __lt__(self, other):\n",
    "        \"\"\"Return true if a student's surname is before (in alphabetical order) another student's surname;\n",
    "            if the surnames are equal do the same with the forenames\"\"\"\n",
    "        if self.surname == other.surname:\n",
    "            return self.forename < other.forename\n",
    "        else:\n",
    "            return self.surname < other.surname"
   ]
  },
  {
   "cell_type": "code",
   "execution_count": 6,
   "metadata": {
    "collapsed": false
   },
   "outputs": [
    {
     "name": "stdout",
     "output_type": "stream",
     "text": [
      "Surname: Bella, Forename: Zio, College: Università degli Studi di Torino\n",
      "30\n",
      "True\n",
      "False\n",
      "True\n",
      "List:\n",
      "[Surname: Bella, Forename: Zio, College: Università degli Studi di Torino, Surname: Nano, Forename: Gongolo, College: Università degli Studi di Torino, Surname: Nano, Forename: Dotto, College: Università degli Studi di Torino, Surname: Casto, Forename: Immanuel, College: Università degli Studi di Torino, Surname: Ciavarro, Forename: Massimo, College: Università degli Studi di Torino]\n",
      "Sorted list:\n",
      "[Surname: Bella, Forename: Zio, College: Università degli Studi di Torino, Surname: Casto, Forename: Immanuel, College: Università degli Studi di Torino, Surname: Ciavarro, Forename: Massimo, College: Università degli Studi di Torino, Surname: Nano, Forename: Dotto, College: Università degli Studi di Torino, Surname: Nano, Forename: Gongolo, College: Università degli Studi di Torino]\n"
     ]
    }
   ],
   "source": [
    "# Test cases\n",
    "stud0 = Students('Bella' ,'Zio', 1987, 2011, 'Università degli Studi di Torino')\n",
    "stud1 = Students('Nano' ,'Gongolo', 1985, 2008, 'Università degli Studi di Torino')\n",
    "stud2 = Students('Nano' ,'Dotto', 1984, 2008, 'Università degli Studi di Torino')\n",
    "stud3 = Students('Casto' ,'Immanuel', 1988, 2011, 'Università degli Studi di Torino')\n",
    "stud4 = Students('Ciavarro' ,'Massimo', 1983, 2006, 'Università degli Studi di Torino')\n",
    "\n",
    "print(stud0)\n",
    "print(stud0.age()) # 30\n",
    "print(stud0 < stud1) # True\n",
    "print(stud1 < stud0) # False\n",
    "print(stud2 < stud1) # True\n",
    "\n",
    "students_list = [stud0, stud1, stud2, stud3, stud4]\n",
    "print('List:')\n",
    "print(students_list)\n",
    "print('Sorted list:')\n",
    "students_list.sort()\n",
    "print(students_list)"
   ]
  }
 ],
 "metadata": {
  "kernelspec": {
   "display_name": "Python 3",
   "language": "python",
   "name": "python3"
  },
  "language_info": {
   "codemirror_mode": {
    "name": "ipython",
    "version": 3
   },
   "file_extension": ".py",
   "mimetype": "text/x-python",
   "name": "python",
   "nbconvert_exporter": "python",
   "pygments_lexer": "ipython3",
   "version": "3.6.0"
  }
 },
 "nbformat": 4,
 "nbformat_minor": 2
}
