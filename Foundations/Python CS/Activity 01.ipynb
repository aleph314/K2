{
 "cells": [
  {
   "cell_type": "markdown",
   "metadata": {},
   "source": [
    "## Exercise 01.1\n",
    "\n",
    "Degrees Fahrenheit ($T_F$) are converted to degrees Celsius ($T_c$) using the formula:\n",
    "\n",
    "$$\n",
    "T_c = 5(T_f - 32)/9\n",
    "$$\n",
    "\n",
    "Write a program to convert 78 degrees Fahrenheit to degrees Celsius and print the result.\n",
    "Write your program such that you can easily change the temperature in Fahrenheit that you are converting from."
   ]
  },
  {
   "cell_type": "code",
   "execution_count": 1,
   "metadata": {
    "collapsed": false
   },
   "outputs": [
    {
     "name": "stdout",
     "output_type": "stream",
     "text": [
      "The temperature in degrees Celsius is 26.67\n"
     ]
    }
   ],
   "source": [
    "T_fahrenheit = 80\n",
    "\n",
    "T_celsius = 5 * (T_fahrenheit - 32) / 9\n",
    "\n",
    "print('The temperature in degrees Celsius is {0:.2f}'.format(T_celsius))"
   ]
  },
  {
   "cell_type": "markdown",
   "metadata": {},
   "source": [
    "## Exercise 01.2\n",
    "\n",
    "Interest on a bank loan is charged at fixed rate above the Bank of England 'official Bank Rate'. \n",
    "\n",
    "1. Write a program that computes the interest payable, using the following variables in your program:\n",
    "\n",
    "    1. Loan principal (amount borrowed)\n",
    "    1. Official Bank Rate (percentage, expressed per annum))\n",
    "    1. Rate over the official Bank Rate (percentage, expressed per annum)\n",
    "    1. Time in days\n",
    "\n",
    "  Test your program with a loan principal of £150,000, bank rate of 0.25%, rate over the \n",
    "  bank rate of 1.49% and a period of 28 days.\n",
    "    \n",
    "1. Modify your program such that it prompts the user to interactively enter the principal and the \n",
    "   number of days.\n",
    "\n",
    "*Hint*: To prompt a user to input numerical data, use the command:\n",
    "```python\n",
    "# Get input from user\n",
    "number = float(input('How many seconds in one minute? '))\n",
    "```\n",
    "Do not forget to use `float`. The reason for this will be explained later."
   ]
  },
  {
   "cell_type": "code",
   "execution_count": 2,
   "metadata": {
    "collapsed": false
   },
   "outputs": [
    {
     "name": "stdout",
     "output_type": "stream",
     "text": [
      "What is your loan principal? 150000\n",
      "What is the period (in days) of your loan? 28\n",
      "The interest on the loan is £200.22\n"
     ]
    }
   ],
   "source": [
    "# Initial values\n",
    "#loan_principal = 150000\n",
    "official_rate = 0.0025\n",
    "rate_over = 0.0149\n",
    "#days_period = 28\n",
    "\n",
    "# Get input from user\n",
    "loan_principal = float(input('What is your loan principal? '))\n",
    "days_period = float(input('What is the period (in days) of your loan? '))\n",
    "\n",
    "# Calculate the interest\n",
    "interest = (loan_principal\n",
    "            * ((official_rate + rate_over) / 365) # daily interest rate\n",
    "            * days_period)\n",
    "\n",
    "print('The interest on the loan is £{0:.2f}'.format(interest))"
   ]
  }
 ],
 "metadata": {
  "kernelspec": {
   "display_name": "Python 3",
   "language": "python",
   "name": "python3"
  },
  "language_info": {
   "codemirror_mode": {
    "name": "ipython",
    "version": 3
   },
   "file_extension": ".py",
   "mimetype": "text/x-python",
   "name": "python",
   "nbconvert_exporter": "python",
   "pygments_lexer": "ipython3",
   "version": "3.6.0"
  }
 },
 "nbformat": 4,
 "nbformat_minor": 2
}
