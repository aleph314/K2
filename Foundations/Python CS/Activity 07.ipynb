{
 "cells": [
  {
   "cell_type": "code",
   "execution_count": 2,
   "metadata": {
    "collapsed": true
   },
   "outputs": [],
   "source": [
    "import numpy as np"
   ]
  },
  {
   "cell_type": "markdown",
   "metadata": {},
   "source": [
    "## Exercise 07.1 (indexing and timing)\n",
    "\n",
    "Create two very long NumPy arrays `x` and `y` and sum the arrays using:\n",
    "\n",
    "1. The NumPy addition syntax, `z = x + y`; and\n",
    "2. A `for` loop that computes the sum entry-by-entry\n",
    "\n",
    "Compare the time required for the two approaches for vectors of different lengths. The values of the array entries are not important for this test.\n",
    "\n",
    "*Hint:* To loop over an array using indices, try a construction like:\n",
    "```python\n",
    "x = np.ones(100)\n",
    "y = np.ones(len(x))\n",
    "for i in range(len(x)):\n",
    "    print(x[i]*y[i])\n",
    "```"
   ]
  },
  {
   "cell_type": "markdown",
   "metadata": {},
   "source": [
    "Timing NumPy addition for 1 million elements arrays"
   ]
  },
  {
   "cell_type": "code",
   "execution_count": 2,
   "metadata": {
    "collapsed": false
   },
   "outputs": [
    {
     "name": "stdout",
     "output_type": "stream",
     "text": [
      "Wall time: 3.01 ms\n"
     ]
    }
   ],
   "source": [
    "n = 1000000\n",
    "x = np.random.rand(n)\n",
    "y = np.random.rand(n)\n",
    "\n",
    "%time z = x + y"
   ]
  },
  {
   "cell_type": "markdown",
   "metadata": {},
   "source": [
    "Timing 1 million elements arrays addition using an entry-by-entry function"
   ]
  },
  {
   "cell_type": "code",
   "execution_count": 3,
   "metadata": {
    "collapsed": false
   },
   "outputs": [
    {
     "name": "stdout",
     "output_type": "stream",
     "text": [
      "Wall time: 476 ms\n"
     ]
    }
   ],
   "source": [
    "def sum_vec(x, y):\n",
    "    \"Sum two vectors entry by entry\"\n",
    "    z = np.zeros(n)\n",
    "    for i in range(n):\n",
    "        z[i] = x[i] + y[i]\n",
    "    return z\n",
    "\n",
    "%time w = sum_vec(x, y)"
   ]
  },
  {
   "cell_type": "markdown",
   "metadata": {},
   "source": [
    "## Exercise 07.2 (member functions and slicing)\n",
    "\n",
    "Anonymised scores (out of 60) for an examination are stored in a NumPy array. Write:\n",
    "\n",
    "1. A function that takes a NumPy array of the raw scores and returns the scores as a percentage sorted from \n",
    "   lowest to highest (try using `scores.sort()`, where `scores` is a NumPy array holding the scores).\n",
    "1. A function that returns the maximum, minimum and mean of the raw scores as a dictionary with the \n",
    "   keys '`min`', '`max`' and '`mean`'. Use the NumPy array functions `min()`, `max()` and `mean()` to do the \n",
    "   computation, e.g. `max = scores.max()`.\n",
    "1. Modify your function for the min, max and mean to optionally exclude the highest and lowest scores from the \n",
    "   computation of the min, max and mean. *Hint:* sort the array of scores and use array slicing to exclude\n",
    "   the first and the last entries.\n",
    "\n",
    "Use the scores \n",
    "```python\n",
    "scores = np.array([58.0, 35.0, 24.0, 42, 7.8])\n",
    "```\n"
   ]
  },
  {
   "cell_type": "code",
   "execution_count": 4,
   "metadata": {
    "collapsed": true
   },
   "outputs": [],
   "source": [
    "# Test scores\n",
    "scores = np.array([58.0, 35.0, 24.0, 42, 7.8])"
   ]
  },
  {
   "cell_type": "markdown",
   "metadata": {},
   "source": [
    "#### Function that takes a NumPy array of the raw scores and returns the scores as a percentage sorted from lowest to highest"
   ]
  },
  {
   "cell_type": "code",
   "execution_count": 5,
   "metadata": {
    "collapsed": false
   },
   "outputs": [
    {
     "name": "stdout",
     "output_type": "stream",
     "text": [
      "[ 0.13        0.4         0.58333333  0.7         0.96666667]\n"
     ]
    }
   ],
   "source": [
    "def percentages(scores):\n",
    "    \"Calculate percentages (max score = 60) from a list of scores and returns them sorted\"\n",
    "    sorted_scores = scores / 60\n",
    "    sorted_scores.sort()\n",
    "    return sorted_scores\n",
    "\n",
    "print(percentages(scores))"
   ]
  },
  {
   "cell_type": "markdown",
   "metadata": {},
   "source": [
    "#### Function that returns the maximum, minimum and mean of the raw scores as a dictionary"
   ]
  },
  {
   "cell_type": "code",
   "execution_count": 6,
   "metadata": {
    "collapsed": false
   },
   "outputs": [
    {
     "name": "stdout",
     "output_type": "stream",
     "text": [
      "{'min': 7.7999999999999998, 'max': 58.0, 'mean': 33.359999999999999}\n"
     ]
    }
   ],
   "source": [
    "def max_min_mean(scores):\n",
    "    \"Return a dictionary with max, min and mean score from a list of scores\"\n",
    "    out = {}\n",
    "    out['min'] = scores.min()\n",
    "    out['max'] = scores.max()\n",
    "    out['mean'] = scores.mean()\n",
    "    return out\n",
    "\n",
    "print(max_min_mean(scores))"
   ]
  },
  {
   "cell_type": "markdown",
   "metadata": {},
   "source": [
    "#### Modify your function for the min, max and mean to optionally exclude the highest and lowest scores"
   ]
  },
  {
   "cell_type": "code",
   "execution_count": 7,
   "metadata": {
    "collapsed": false
   },
   "outputs": [
    {
     "name": "stdout",
     "output_type": "stream",
     "text": [
      "{'min': 24.0, 'max': 42.0, 'mean': 33.666666666666664}\n"
     ]
    }
   ],
   "source": [
    "def max_min_mean2(scores, exclude_extreme):\n",
    "    \"Return a dictionary with max, min and mean score from a list of scores excluding extremes if exclude_extreme = 1\"\n",
    "    out = {}\n",
    "    # If extremes are excluded filter the sorted list from second to second to last element\n",
    "    if exclude_extreme == 1:\n",
    "        scores.sort()\n",
    "        scores_filtered = scores[1:-1]\n",
    "    # Else use the entire list\n",
    "    elif exclude_extreme == 0:\n",
    "        scores_filtered = scores\n",
    "    # If exclude_extreme is not 0 nor 1 return a message\n",
    "    else:\n",
    "        return 'The second parameter should be either 0 (to include extremes) or 1 (to exclude them)'\n",
    "    \n",
    "    out['min'] = scores_filtered.min()\n",
    "    out['max'] = scores_filtered.max()\n",
    "    out['mean'] = scores_filtered.mean()  \n",
    "    return out\n",
    "\n",
    "print(max_min_mean2(scores, 1))"
   ]
  },
  {
   "cell_type": "markdown",
   "metadata": {},
   "source": [
    "## Exercise 07.3 (slicing)\n",
    "\n",
    "For the two-dimensional array"
   ]
  },
  {
   "cell_type": "code",
   "execution_count": 8,
   "metadata": {
    "collapsed": false
   },
   "outputs": [
    {
     "name": "stdout",
     "output_type": "stream",
     "text": [
      "[[   4.      7.     -2.43   67.1 ]\n",
      " [  -4.     64.     54.7    -3.33]\n",
      " [   2.43   23.2     3.64    4.11]\n",
      " [   1.2     2.5  -113.2   323.22]]\n"
     ]
    }
   ],
   "source": [
    "A = np.array([[4.0, 7.0, -2.43, 67.1],\n",
    "             [-4.0, 64.0, 54.7, -3.33],\n",
    "             [2.43, 23.2, 3.64, 4.11],\n",
    "             [1.2, 2.5, -113.2, 323.22]])\n",
    "print(A)"
   ]
  },
  {
   "cell_type": "markdown",
   "metadata": {},
   "source": [
    "use array slicing to\n",
    "\n",
    "1. Extract the third column as a 1D array\n",
    "2. Extract the first two rows as a 2D sub-array\n",
    "3. Extract the bottom-right $2 \\times 2$ block as a 2D sub-array\n",
    "4. Sum the last column\n",
    "\n",
    "Print the results to the screen to check. Try to use array slicing such that your code would still work if the dimensions of `A` were enlarged.\n",
    "\n",
    "Also, compute the tranpose of `A` (search online to find the function/syntax to do this)."
   ]
  },
  {
   "cell_type": "markdown",
   "metadata": {},
   "source": [
    "Third column as a 1D array"
   ]
  },
  {
   "cell_type": "code",
   "execution_count": 9,
   "metadata": {
    "collapsed": false
   },
   "outputs": [
    {
     "name": "stdout",
     "output_type": "stream",
     "text": [
      "[  -2.43   54.7     3.64 -113.2 ]\n"
     ]
    }
   ],
   "source": [
    "print(A[:,2])"
   ]
  },
  {
   "cell_type": "markdown",
   "metadata": {},
   "source": [
    "First two rows as a 2D sub-array"
   ]
  },
  {
   "cell_type": "code",
   "execution_count": 10,
   "metadata": {
    "collapsed": false
   },
   "outputs": [
    {
     "name": "stdout",
     "output_type": "stream",
     "text": [
      "[[  4.     7.    -2.43  67.1 ]\n",
      " [ -4.    64.    54.7   -3.33]]\n"
     ]
    }
   ],
   "source": [
    "print(A[:2,:])"
   ]
  },
  {
   "cell_type": "markdown",
   "metadata": {},
   "source": [
    "Bottom right $2 \\times 2$ block as a 2D sub-array"
   ]
  },
  {
   "cell_type": "code",
   "execution_count": 11,
   "metadata": {
    "collapsed": false
   },
   "outputs": [
    {
     "name": "stdout",
     "output_type": "stream",
     "text": [
      "[[   3.64    4.11]\n",
      " [-113.2   323.22]]\n"
     ]
    }
   ],
   "source": [
    "print(A[-2:,-2:])"
   ]
  },
  {
   "cell_type": "markdown",
   "metadata": {},
   "source": [
    "Sum of the last column"
   ]
  },
  {
   "cell_type": "code",
   "execution_count": 12,
   "metadata": {
    "collapsed": false
   },
   "outputs": [
    {
     "name": "stdout",
     "output_type": "stream",
     "text": [
      "391.1\n"
     ]
    }
   ],
   "source": [
    "print(A[:,-1].sum())"
   ]
  },
  {
   "cell_type": "markdown",
   "metadata": {},
   "source": [
    "Transpose of A"
   ]
  },
  {
   "cell_type": "code",
   "execution_count": 13,
   "metadata": {
    "collapsed": false
   },
   "outputs": [
    {
     "name": "stdout",
     "output_type": "stream",
     "text": [
      "[[   4.     -4.      2.43    1.2 ]\n",
      " [   7.     64.     23.2     2.5 ]\n",
      " [  -2.43   54.7     3.64 -113.2 ]\n",
      " [  67.1    -3.33    4.11  323.22]]\n"
     ]
    }
   ],
   "source": [
    "print(A.transpose())"
   ]
  },
  {
   "cell_type": "markdown",
   "metadata": {},
   "source": [
    "## Exercise 07.4 (optional extension)\n",
    "\n",
    "In a previous exercise you implemented the bisection algorithm to find approximate roots of a mathematical function. Use the SciPy bisection function `optimize.bisect` (http://docs.scipy.org/doc/scipy-0.14.0/reference/generated/scipy.optimize.bisect.html) to find roots of the mathematical function that was used in the previous exercise. Compare the results computed by SciPy and your program from the earlier exercise, and compare the computational time (using `%time`)."
   ]
  },
  {
   "cell_type": "code",
   "execution_count": 3,
   "metadata": {
    "collapsed": true
   },
   "outputs": [],
   "source": [
    "def f(x):\n",
    "    return x**3 - 6*x**2 + 4*x + 12\n",
    "    #return x**2 + x - 20 # Roots = -5, 4"
   ]
  },
  {
   "cell_type": "code",
   "execution_count": 6,
   "metadata": {
    "collapsed": false
   },
   "outputs": [
    {
     "name": "stdout",
     "output_type": "stream",
     "text": [
      "Wall time: 500 µs\n",
      "Approximate root: 4.534070134162903\n",
      "Value of f: -7.047073751209609e-07\n",
      "Number of iterations: 23\n"
     ]
    }
   ],
   "source": [
    "def compute_root(f, x0, x1, tol, max_it):\n",
    "    \"\"\"Computes the root of f between x0 and x1 using bisection,\n",
    "        stops if the value of f at the root is under tol or if max_it is reached\n",
    "        and returns the root, the value of f at the root and the number of iterations\"\"\"\n",
    "    for i in range(max_it):\n",
    "    \n",
    "        # Compute x_mid\n",
    "        x_mid = (x0 + x1) / 2\n",
    "\n",
    "        # Compute f for the three values\n",
    "        f_0, f_1, f_mid = f(x0), f(x1), f(x_mid)\n",
    "\n",
    "        # Check the value of f_0*f_mid to determine how to update the endpoints\n",
    "        if f_0*f_mid < 0:\n",
    "            x1 = x_mid\n",
    "        else:\n",
    "            x0 = x_mid\n",
    "        \n",
    "        # Check if f is under tol\n",
    "        if abs(f_mid) < tol:\n",
    "            return x_mid, f_mid, i+1\n",
    "\n",
    "    # Return the approximate root in case max_it is reached\n",
    "    return x_mid, f_mid, i+1\n",
    "\n",
    "# Test for the function f\n",
    "%time x, f_x, num_it = compute_root(f, x0=3, x1=6, tol=1.0e-6, max_it=1000)\n",
    "\n",
    "print('Approximate root:', x)\n",
    "print('Value of f:', f_x)\n",
    "print('Number of iterations:', num_it)"
   ]
  },
  {
   "cell_type": "markdown",
   "metadata": {},
   "source": [
    "Below we compute the same root using scipy function bisect: the wall time for both functions is very low but the scipy function is considerably better:"
   ]
  },
  {
   "cell_type": "code",
   "execution_count": 7,
   "metadata": {
    "collapsed": false
   },
   "outputs": [
    {
     "name": "stdout",
     "output_type": "stream",
     "text": [
      "Wall time: 0 ns\n",
      "Approximate root: 4.534070196722951\n",
      "Value of f: 2.4584778657299466e-12\n"
     ]
    }
   ],
   "source": [
    "from scipy.optimize import bisect as bisect\n",
    "\n",
    "# Compute the root of f using scipy function\n",
    "%time x0 = bisect(f, a=3, b=6)\n",
    "\n",
    "print('Approximate root:', x0)\n",
    "print('Value of f:', f(x0))"
   ]
  }
 ],
 "metadata": {
  "kernelspec": {
   "display_name": "Python 3",
   "language": "python",
   "name": "python3"
  },
  "language_info": {
   "codemirror_mode": {
    "name": "ipython",
    "version": 3
   },
   "file_extension": ".py",
   "mimetype": "text/x-python",
   "name": "python",
   "nbconvert_exporter": "python",
   "pygments_lexer": "ipython3",
   "version": "3.6.0"
  }
 },
 "nbformat": 4,
 "nbformat_minor": 2
}
