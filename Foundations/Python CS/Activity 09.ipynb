{
 "cells": [
  {
   "cell_type": "code",
   "execution_count": 1,
   "metadata": {
    "collapsed": true
   },
   "outputs": [],
   "source": [
    "import pytest"
   ]
  },
  {
   "cell_type": "markdown",
   "metadata": {},
   "source": [
    "## Exercise 09.1 (checking data validity)\n",
    "\n",
    "The Fibonacci series is valid only for $n \\ge 0$. Add to the Fibonacci function in this notebook a check that raises an exception if $n < 0$. Try some invalid data cases to check that an exception is raised.\n",
    "\n",
    "*Optional:* Use `pytest` to test that an exception *is* raised for some $n < 0$ cases."
   ]
  },
  {
   "cell_type": "code",
   "execution_count": 4,
   "metadata": {
    "collapsed": false
   },
   "outputs": [
    {
     "name": "stdout",
     "output_type": "stream",
     "text": [
      "3\n"
     ]
    },
    {
     "ename": "ValueError",
     "evalue": "Fibonacci number can be calculated only for n greater than or equal to 0",
     "output_type": "error",
     "traceback": [
      "\u001b[0;31m---------------------------------------------------------------------------\u001b[0m",
      "\u001b[0;31mValueError\u001b[0m                                Traceback (most recent call last)",
      "\u001b[0;32m<ipython-input-4-bad68ae06f70>\u001b[0m in \u001b[0;36m<module>\u001b[0;34m()\u001b[0m\n\u001b[1;32m     13\u001b[0m \u001b[1;31m# Test cases\u001b[0m\u001b[1;33m\u001b[0m\u001b[1;33m\u001b[0m\u001b[0m\n\u001b[1;32m     14\u001b[0m \u001b[0mprint\u001b[0m\u001b[1;33m(\u001b[0m\u001b[0mf\u001b[0m\u001b[1;33m(\u001b[0m\u001b[1;36m4\u001b[0m\u001b[1;33m)\u001b[0m\u001b[1;33m)\u001b[0m\u001b[1;33m\u001b[0m\u001b[0m\n\u001b[0;32m---> 15\u001b[0;31m \u001b[0mprint\u001b[0m\u001b[1;33m(\u001b[0m\u001b[0mf\u001b[0m\u001b[1;33m(\u001b[0m\u001b[1;33m-\u001b[0m\u001b[1;36m1\u001b[0m\u001b[1;33m)\u001b[0m\u001b[1;33m)\u001b[0m\u001b[1;33m\u001b[0m\u001b[0m\n\u001b[0m",
      "\u001b[0;32m<ipython-input-4-bad68ae06f70>\u001b[0m in \u001b[0;36mf\u001b[0;34m(n)\u001b[0m\n\u001b[1;32m      3\u001b[0m     \u001b[1;32mif\u001b[0m \u001b[0mn\u001b[0m \u001b[1;33m<\u001b[0m \u001b[1;36m0\u001b[0m\u001b[1;33m:\u001b[0m\u001b[1;33m\u001b[0m\u001b[0m\n\u001b[1;32m      4\u001b[0m         \u001b[1;31m# Raise error if n is less than 0\u001b[0m\u001b[1;33m\u001b[0m\u001b[1;33m\u001b[0m\u001b[0m\n\u001b[0;32m----> 5\u001b[0;31m         \u001b[1;32mraise\u001b[0m \u001b[0mValueError\u001b[0m\u001b[1;33m(\u001b[0m\u001b[1;34m'Fibonacci number can be calculated only for n greater than or equal to 0'\u001b[0m\u001b[1;33m)\u001b[0m\u001b[1;33m\u001b[0m\u001b[0m\n\u001b[0m\u001b[1;32m      6\u001b[0m     \u001b[1;32mif\u001b[0m \u001b[0mn\u001b[0m \u001b[1;33m==\u001b[0m \u001b[1;36m0\u001b[0m\u001b[1;33m:\u001b[0m\u001b[1;33m\u001b[0m\u001b[0m\n\u001b[1;32m      7\u001b[0m         \u001b[1;32mreturn\u001b[0m \u001b[1;36m0\u001b[0m  \u001b[1;31m# This doesn't call f, so it breaks out of the recursion loop\u001b[0m\u001b[1;33m\u001b[0m\u001b[0m\n",
      "\u001b[0;31mValueError\u001b[0m: Fibonacci number can be calculated only for n greater than or equal to 0"
     ]
    }
   ],
   "source": [
    "def f(n): \n",
    "    \"Compute the nth Fibonacci number using recursion\"\n",
    "    if n < 0:\n",
    "        # Raise error if n is less than 0\n",
    "        raise ValueError('Fibonacci number can be calculated only for n greater than or equal to 0')\n",
    "    if n == 0:\n",
    "        return 0  # This doesn't call f, so it breaks out of the recursion loop\n",
    "    elif n == 1:\n",
    "        return 1  # This doesn't call f, so it breaks out of the recursion loop\n",
    "    else:\n",
    "        return f(n - 1) + f(n - 2)  # This calls f for n-1 and n-2 (recursion), and returns the sum\n",
    "\n",
    "# Test cases\n",
    "print(f(4))\n",
    "print(f(-1))"
   ]
  },
  {
   "cell_type": "markdown",
   "metadata": {},
   "source": [
    "Test exceptions with `pytest`:"
   ]
  },
  {
   "cell_type": "code",
   "execution_count": 5,
   "metadata": {
    "collapsed": true
   },
   "outputs": [],
   "source": [
    "def f(n):\n",
    "    \"Compute the nth Fibonacci number using recursion\"\n",
    "    if n < 0:\n",
    "        # Raise error if n is less than 0\n",
    "        raise ValueError('Fibonacci number can be calculated only for n greater than or equal to 0')\n",
    "    if n == 0:\n",
    "        return 0  # This doesn't call f, so it breaks out of the recursion loop\n",
    "    elif n == 1:\n",
    "        return 1  # This doesn't call f, so it breaks out of the recursion loop\n",
    "    else:\n",
    "        return f(n - 1) + f(n - 2)  # This calls f for n-1 and n-2 (recursion), and returns the sum\n",
    "\n",
    "# Check that n < 0 raises a ValueError\n",
    "with pytest.raises(ValueError):\n",
    "    f(-1)\n",
    "with pytest.raises(ValueError):\n",
    "    f(-12)\n",
    "with pytest.raises(ValueError):\n",
    "    f(-20)"
   ]
  },
  {
   "cell_type": "markdown",
   "metadata": {},
   "source": [
    "## Exercise 09.2 (catching and dealing with exceptions)\n",
    "\n",
    "For the loan interest question in Activity 01 that involved user-input, restructure that problem such that \n",
    "it checks the validity of the user input (principal and number of days). For invalid input your program \n",
    "should prompt the user to try again."
   ]
  },
  {
   "cell_type": "code",
   "execution_count": 6,
   "metadata": {
    "collapsed": false
   },
   "outputs": [
    {
     "name": "stdout",
     "output_type": "stream",
     "text": [
      "What is your loan principal? -5\n",
      "Invalid value entered, try again\n",
      "What is your loan principal? 150000\n",
      "What is the period (in days) of your loan? 0\n",
      "Invalid value entered, try again\n",
      "What is your loan principal? 150000\n",
      "What is the period (in days) of your loan? 28\n"
     ]
    },
    {
     "data": {
      "text/plain": [
       "200.21917808219177"
      ]
     },
     "execution_count": 6,
     "metadata": {},
     "output_type": "execute_result"
    }
   ],
   "source": [
    "def calculate_interest():\n",
    "    # Initial values\n",
    "    official_rate = 0.0025\n",
    "    rate_over = 0.0149\n",
    "    \n",
    "    try:\n",
    "        # Get input from user\n",
    "        loan_principal = float(input('What is your loan principal? '))\n",
    "        \n",
    "        #If loan principal is less than or equal to 0 raise an error\n",
    "        if loan_principal <= 0:\n",
    "            raise ValueError('Loan principal must be greater than 0')\n",
    "        \n",
    "        days_period = float(input('What is the period (in days) of your loan? '))\n",
    "        \n",
    "        #If the number of days is less than or equal to 0 raise an error\n",
    "        if days_period <= 0:\n",
    "            raise ValueError('Loan period must be greater than 0')\n",
    "        \n",
    "        # Calculate interest\n",
    "        interest = (loan_principal\n",
    "                    * ((official_rate + rate_over) / 365) # daily interest rate\n",
    "                    * days_period)\n",
    "        \n",
    "        return interest\n",
    "    \n",
    "    except:\n",
    "        # Handle exceptions\n",
    "        print('Invalid value entered, try again')\n",
    "        return calculate_interest()\n",
    "\n",
    "calculate_interest()"
   ]
  },
  {
   "cell_type": "markdown",
   "metadata": {},
   "source": [
    "## Exercise 09.3 (raising exceptions)\n",
    "\n",
    "Modify your program from the bisection exercise in Activity 04 to raise an error if the maximum number of iterations is exceeded. Reduce the maximum allowed iterations to test that an exception is raised.\n",
    "\n",
    "Add any other checks on the input data that you think are appropriate."
   ]
  },
  {
   "cell_type": "code",
   "execution_count": 7,
   "metadata": {
    "collapsed": true
   },
   "outputs": [],
   "source": [
    "def f(x):\n",
    "    #return x**3 - 6*x**2 + 4*x + 12\n",
    "    return x**2 + x - 20 # Roots = -5, 4"
   ]
  },
  {
   "cell_type": "code",
   "execution_count": 11,
   "metadata": {
    "collapsed": false
   },
   "outputs": [
    {
     "name": "stdout",
     "output_type": "stream",
     "text": [
      "Approximate root: 3.9999999403953552\n",
      "Value of f: -5.364417994258019e-07\n",
      "Number of iterations: 24\n",
      "-----------------------------------------------------------\n"
     ]
    },
    {
     "ename": "RuntimeError",
     "evalue": "There is no solution between x0 and x1",
     "output_type": "error",
     "traceback": [
      "\u001b[0;31m---------------------------------------------------------------------------\u001b[0m",
      "\u001b[0;31mRuntimeError\u001b[0m                              Traceback (most recent call last)",
      "\u001b[0;32m<ipython-input-11-6b7b3f8a35f6>\u001b[0m in \u001b[0;36m<module>\u001b[0;34m()\u001b[0m\n\u001b[1;32m     58\u001b[0m \u001b[1;31m#x, f_x, num_it = compute_root(f, x0=3, x1=6, tol=-5, max_it=1000) # Tolerance less than zero\u001b[0m\u001b[1;33m\u001b[0m\u001b[1;33m\u001b[0m\u001b[0m\n\u001b[1;32m     59\u001b[0m \u001b[1;33m\u001b[0m\u001b[0m\n\u001b[0;32m---> 60\u001b[0;31m \u001b[0mx\u001b[0m\u001b[1;33m,\u001b[0m \u001b[0mf_x\u001b[0m\u001b[1;33m,\u001b[0m \u001b[0mnum_it\u001b[0m \u001b[1;33m=\u001b[0m \u001b[0mcompute_root\u001b[0m\u001b[1;33m(\u001b[0m\u001b[0mf\u001b[0m\u001b[1;33m,\u001b[0m \u001b[0mx0\u001b[0m\u001b[1;33m=\u001b[0m\u001b[1;36m5\u001b[0m\u001b[1;33m,\u001b[0m \u001b[0mx1\u001b[0m\u001b[1;33m=\u001b[0m\u001b[1;36m6\u001b[0m\u001b[1;33m,\u001b[0m \u001b[0mtol\u001b[0m\u001b[1;33m=\u001b[0m\u001b[1;36m1.0e-6\u001b[0m\u001b[1;33m,\u001b[0m \u001b[0mmax_it\u001b[0m\u001b[1;33m=\u001b[0m\u001b[1;36m1000\u001b[0m\u001b[1;33m)\u001b[0m \u001b[1;31m# No root in the interval\u001b[0m\u001b[1;33m\u001b[0m\u001b[0m\n\u001b[0m",
      "\u001b[0;32m<ipython-input-11-6b7b3f8a35f6>\u001b[0m in \u001b[0;36mcompute_root\u001b[0;34m(f, x0, x1, tol, max_it)\u001b[0m\n\u001b[1;32m     15\u001b[0m     \u001b[1;31m# If f(x0)*f(x1) the function has no solution in the interval, so return an error\u001b[0m\u001b[1;33m\u001b[0m\u001b[1;33m\u001b[0m\u001b[0m\n\u001b[1;32m     16\u001b[0m     \u001b[1;32mif\u001b[0m \u001b[0mf\u001b[0m\u001b[1;33m(\u001b[0m\u001b[0mx0\u001b[0m\u001b[1;33m)\u001b[0m\u001b[1;33m*\u001b[0m\u001b[0mf\u001b[0m\u001b[1;33m(\u001b[0m\u001b[0mx1\u001b[0m\u001b[1;33m)\u001b[0m \u001b[1;33m>\u001b[0m \u001b[1;36m0\u001b[0m\u001b[1;33m:\u001b[0m\u001b[1;33m\u001b[0m\u001b[0m\n\u001b[0;32m---> 17\u001b[0;31m         \u001b[1;32mraise\u001b[0m \u001b[0mRuntimeError\u001b[0m\u001b[1;33m(\u001b[0m\u001b[1;34m'There is no solution between x0 and x1'\u001b[0m\u001b[1;33m)\u001b[0m\u001b[1;33m\u001b[0m\u001b[0m\n\u001b[0m\u001b[1;32m     18\u001b[0m \u001b[1;33m\u001b[0m\u001b[0m\n\u001b[1;32m     19\u001b[0m     \u001b[1;31m# Initialize iteration counter\u001b[0m\u001b[1;33m\u001b[0m\u001b[1;33m\u001b[0m\u001b[0m\n",
      "\u001b[0;31mRuntimeError\u001b[0m: There is no solution between x0 and x1"
     ]
    }
   ],
   "source": [
    "def compute_root(f, x0, x1, tol, max_it):\n",
    "    \"\"\"Computes the root of f between x0 and x1 using bisection,\n",
    "        stops if the value of f at the root is under tol or if max_it is reached\n",
    "        and returns the root, the value of f at the root and the number of iterations\"\"\"\n",
    "    # If tolerance is less than 0 return an error\n",
    "    if tol < 0:\n",
    "        raise ValueError('Tolerance must be greater than or equal to 0')\n",
    "    \n",
    "    # If x0 or x1 is a root return it\n",
    "    if f(x0) == 0:\n",
    "        return x0, f(x0), 0\n",
    "    if f(x1) == 0:\n",
    "        return x1, f(x1), 0\n",
    "    \n",
    "    # If f(x0)*f(x1) the function has no solution in the interval, so return an error\n",
    "    if f(x0)*f(x1) > 0:\n",
    "        raise RuntimeError('There is no solution between x0 and x1')\n",
    "    \n",
    "    # Initialize iteration counter\n",
    "    i = 0\n",
    "    \n",
    "    while True:\n",
    "        # Increment counter\n",
    "        i += 1\n",
    "        # If max_it is passed return an error\n",
    "        if i > max_it:\n",
    "            raise RuntimeError('Maximum number of iterations exceeded')\n",
    "        \n",
    "        # Compute x_mid\n",
    "        x_mid = (x0 + x1) / 2\n",
    "\n",
    "        # Compute f for the three values\n",
    "        f_0, f_1, f_mid = f(x0), f(x1), f(x_mid)\n",
    "\n",
    "        # Check the value of f_0*f_mid to determine how to update the endpoints\n",
    "        if f_0*f_mid < 0:\n",
    "            x1 = x_mid\n",
    "        else:\n",
    "            x0 = x_mid\n",
    "        \n",
    "        # Check if f is under tol\n",
    "        if abs(f_mid) < tol:\n",
    "            return x_mid, f_mid, i\n",
    "\n",
    "    # We don't need another return statement because if we pass max_it we return an error\n",
    "\n",
    "# Test for the function f\n",
    "x, f_x, num_it = compute_root(f, x0=3, x1=6, tol=1.0e-6, max_it=1000) # Ok\n",
    "\n",
    "print('Approximate root:', x)\n",
    "print('Value of f:', f_x)\n",
    "print('Number of iterations:', num_it)\n",
    "\n",
    "print('-----------------------------------------------------------')\n",
    "\n",
    "x, f_x, num_it = compute_root(f, x0=3, x1=6, tol=1.0e-6, max_it=10) # Maximum iterations exceeded\n",
    "\n",
    "x, f_x, num_it = compute_root(f, x0=3, x1=6, tol=-5, max_it=1000) # Tolerance less than zero\n",
    "\n",
    "x, f_x, num_it = compute_root(f, x0=5, x1=6, tol=1.0e-6, max_it=1000) # No root in the interval"
   ]
  }
 ],
 "metadata": {
  "kernelspec": {
   "display_name": "Python 3",
   "language": "python",
   "name": "python3"
  },
  "language_info": {
   "codemirror_mode": {
    "name": "ipython",
    "version": 3
   },
   "file_extension": ".py",
   "mimetype": "text/x-python",
   "name": "python",
   "nbconvert_exporter": "python",
   "pygments_lexer": "ipython3",
   "version": "3.6.0"
  }
 },
 "nbformat": 4,
 "nbformat_minor": 2
}
