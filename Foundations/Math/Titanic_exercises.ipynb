{
 "cells": [
  {
   "cell_type": "markdown",
   "metadata": {},
   "source": [
    "# Titanic Data Set - Statistics Review\n",
    "\n",
    "[Variable Descriptions](https://www.kaggle.com/c/titanic/data)."
   ]
  },
  {
   "cell_type": "markdown",
   "metadata": {},
   "source": [
    "**Describe the data. **\n",
    "- How big?\n",
    "- What are the columns and what do they mean?"
   ]
  },
  {
   "cell_type": "code",
   "execution_count": 1,
   "metadata": {
    "collapsed": true
   },
   "outputs": [],
   "source": [
    "import pandas as pd\n",
    "import numpy as np\n",
    "import scipy.stats as stats\n",
    "import matplotlib.pyplot as plt\n",
    "import random\n",
    "%matplotlib inline"
   ]
  },
  {
   "cell_type": "code",
   "execution_count": 2,
   "metadata": {
    "collapsed": true
   },
   "outputs": [],
   "source": [
    "titanic = pd.read_csv('titanic.csv')"
   ]
  },
  {
   "cell_type": "code",
   "execution_count": 3,
   "metadata": {
    "collapsed": false
   },
   "outputs": [
    {
     "data": {
      "text/plain": [
       "(891, 12)"
      ]
     },
     "execution_count": 3,
     "metadata": {},
     "output_type": "execute_result"
    }
   ],
   "source": [
    "titanic.shape"
   ]
  },
  {
   "cell_type": "code",
   "execution_count": 4,
   "metadata": {
    "collapsed": false
   },
   "outputs": [
    {
     "data": {
      "text/plain": [
       "PassengerId      int64\n",
       "Survived         int64\n",
       "Pclass           int64\n",
       "Name            object\n",
       "Sex             object\n",
       "Age            float64\n",
       "SibSp            int64\n",
       "Parch            int64\n",
       "Ticket          object\n",
       "Fare           float64\n",
       "Cabin           object\n",
       "Embarked        object\n",
       "dtype: object"
      ]
     },
     "execution_count": 4,
     "metadata": {},
     "output_type": "execute_result"
    }
   ],
   "source": [
    "titanic.dtypes"
   ]
  },
  {
   "cell_type": "code",
   "execution_count": 5,
   "metadata": {
    "collapsed": false
   },
   "outputs": [
    {
     "data": {
      "text/html": [
       "<div>\n",
       "<table border=\"1\" class=\"dataframe\">\n",
       "  <thead>\n",
       "    <tr style=\"text-align: right;\">\n",
       "      <th></th>\n",
       "      <th>PassengerId</th>\n",
       "      <th>Survived</th>\n",
       "      <th>Pclass</th>\n",
       "      <th>Name</th>\n",
       "      <th>Sex</th>\n",
       "      <th>Age</th>\n",
       "      <th>SibSp</th>\n",
       "      <th>Parch</th>\n",
       "      <th>Ticket</th>\n",
       "      <th>Fare</th>\n",
       "      <th>Cabin</th>\n",
       "      <th>Embarked</th>\n",
       "    </tr>\n",
       "  </thead>\n",
       "  <tbody>\n",
       "    <tr>\n",
       "      <th>count</th>\n",
       "      <td>891.000000</td>\n",
       "      <td>891.000000</td>\n",
       "      <td>891.000000</td>\n",
       "      <td>891</td>\n",
       "      <td>891</td>\n",
       "      <td>714.000000</td>\n",
       "      <td>891.000000</td>\n",
       "      <td>891.000000</td>\n",
       "      <td>891</td>\n",
       "      <td>891.000000</td>\n",
       "      <td>204</td>\n",
       "      <td>889</td>\n",
       "    </tr>\n",
       "    <tr>\n",
       "      <th>unique</th>\n",
       "      <td>NaN</td>\n",
       "      <td>NaN</td>\n",
       "      <td>NaN</td>\n",
       "      <td>891</td>\n",
       "      <td>2</td>\n",
       "      <td>NaN</td>\n",
       "      <td>NaN</td>\n",
       "      <td>NaN</td>\n",
       "      <td>681</td>\n",
       "      <td>NaN</td>\n",
       "      <td>147</td>\n",
       "      <td>3</td>\n",
       "    </tr>\n",
       "    <tr>\n",
       "      <th>top</th>\n",
       "      <td>NaN</td>\n",
       "      <td>NaN</td>\n",
       "      <td>NaN</td>\n",
       "      <td>Jerwan, Mrs. Amin S (Marie Marthe Thuillard)</td>\n",
       "      <td>male</td>\n",
       "      <td>NaN</td>\n",
       "      <td>NaN</td>\n",
       "      <td>NaN</td>\n",
       "      <td>CA. 2343</td>\n",
       "      <td>NaN</td>\n",
       "      <td>G6</td>\n",
       "      <td>S</td>\n",
       "    </tr>\n",
       "    <tr>\n",
       "      <th>freq</th>\n",
       "      <td>NaN</td>\n",
       "      <td>NaN</td>\n",
       "      <td>NaN</td>\n",
       "      <td>1</td>\n",
       "      <td>577</td>\n",
       "      <td>NaN</td>\n",
       "      <td>NaN</td>\n",
       "      <td>NaN</td>\n",
       "      <td>7</td>\n",
       "      <td>NaN</td>\n",
       "      <td>4</td>\n",
       "      <td>644</td>\n",
       "    </tr>\n",
       "    <tr>\n",
       "      <th>mean</th>\n",
       "      <td>446.000000</td>\n",
       "      <td>0.383838</td>\n",
       "      <td>2.308642</td>\n",
       "      <td>NaN</td>\n",
       "      <td>NaN</td>\n",
       "      <td>29.699118</td>\n",
       "      <td>0.523008</td>\n",
       "      <td>0.381594</td>\n",
       "      <td>NaN</td>\n",
       "      <td>32.204208</td>\n",
       "      <td>NaN</td>\n",
       "      <td>NaN</td>\n",
       "    </tr>\n",
       "    <tr>\n",
       "      <th>std</th>\n",
       "      <td>257.353842</td>\n",
       "      <td>0.486592</td>\n",
       "      <td>0.836071</td>\n",
       "      <td>NaN</td>\n",
       "      <td>NaN</td>\n",
       "      <td>14.526497</td>\n",
       "      <td>1.102743</td>\n",
       "      <td>0.806057</td>\n",
       "      <td>NaN</td>\n",
       "      <td>49.693429</td>\n",
       "      <td>NaN</td>\n",
       "      <td>NaN</td>\n",
       "    </tr>\n",
       "    <tr>\n",
       "      <th>min</th>\n",
       "      <td>1.000000</td>\n",
       "      <td>0.000000</td>\n",
       "      <td>1.000000</td>\n",
       "      <td>NaN</td>\n",
       "      <td>NaN</td>\n",
       "      <td>0.420000</td>\n",
       "      <td>0.000000</td>\n",
       "      <td>0.000000</td>\n",
       "      <td>NaN</td>\n",
       "      <td>0.000000</td>\n",
       "      <td>NaN</td>\n",
       "      <td>NaN</td>\n",
       "    </tr>\n",
       "    <tr>\n",
       "      <th>25%</th>\n",
       "      <td>223.500000</td>\n",
       "      <td>0.000000</td>\n",
       "      <td>2.000000</td>\n",
       "      <td>NaN</td>\n",
       "      <td>NaN</td>\n",
       "      <td>20.125000</td>\n",
       "      <td>0.000000</td>\n",
       "      <td>0.000000</td>\n",
       "      <td>NaN</td>\n",
       "      <td>7.910400</td>\n",
       "      <td>NaN</td>\n",
       "      <td>NaN</td>\n",
       "    </tr>\n",
       "    <tr>\n",
       "      <th>50%</th>\n",
       "      <td>446.000000</td>\n",
       "      <td>0.000000</td>\n",
       "      <td>3.000000</td>\n",
       "      <td>NaN</td>\n",
       "      <td>NaN</td>\n",
       "      <td>28.000000</td>\n",
       "      <td>0.000000</td>\n",
       "      <td>0.000000</td>\n",
       "      <td>NaN</td>\n",
       "      <td>14.454200</td>\n",
       "      <td>NaN</td>\n",
       "      <td>NaN</td>\n",
       "    </tr>\n",
       "    <tr>\n",
       "      <th>75%</th>\n",
       "      <td>668.500000</td>\n",
       "      <td>1.000000</td>\n",
       "      <td>3.000000</td>\n",
       "      <td>NaN</td>\n",
       "      <td>NaN</td>\n",
       "      <td>38.000000</td>\n",
       "      <td>1.000000</td>\n",
       "      <td>0.000000</td>\n",
       "      <td>NaN</td>\n",
       "      <td>31.000000</td>\n",
       "      <td>NaN</td>\n",
       "      <td>NaN</td>\n",
       "    </tr>\n",
       "    <tr>\n",
       "      <th>max</th>\n",
       "      <td>891.000000</td>\n",
       "      <td>1.000000</td>\n",
       "      <td>3.000000</td>\n",
       "      <td>NaN</td>\n",
       "      <td>NaN</td>\n",
       "      <td>80.000000</td>\n",
       "      <td>8.000000</td>\n",
       "      <td>6.000000</td>\n",
       "      <td>NaN</td>\n",
       "      <td>512.329200</td>\n",
       "      <td>NaN</td>\n",
       "      <td>NaN</td>\n",
       "    </tr>\n",
       "  </tbody>\n",
       "</table>\n",
       "</div>"
      ],
      "text/plain": [
       "        PassengerId    Survived      Pclass  \\\n",
       "count    891.000000  891.000000  891.000000   \n",
       "unique          NaN         NaN         NaN   \n",
       "top             NaN         NaN         NaN   \n",
       "freq            NaN         NaN         NaN   \n",
       "mean     446.000000    0.383838    2.308642   \n",
       "std      257.353842    0.486592    0.836071   \n",
       "min        1.000000    0.000000    1.000000   \n",
       "25%      223.500000    0.000000    2.000000   \n",
       "50%      446.000000    0.000000    3.000000   \n",
       "75%      668.500000    1.000000    3.000000   \n",
       "max      891.000000    1.000000    3.000000   \n",
       "\n",
       "                                                Name   Sex         Age  \\\n",
       "count                                            891   891  714.000000   \n",
       "unique                                           891     2         NaN   \n",
       "top     Jerwan, Mrs. Amin S (Marie Marthe Thuillard)  male         NaN   \n",
       "freq                                               1   577         NaN   \n",
       "mean                                             NaN   NaN   29.699118   \n",
       "std                                              NaN   NaN   14.526497   \n",
       "min                                              NaN   NaN    0.420000   \n",
       "25%                                              NaN   NaN   20.125000   \n",
       "50%                                              NaN   NaN   28.000000   \n",
       "75%                                              NaN   NaN   38.000000   \n",
       "max                                              NaN   NaN   80.000000   \n",
       "\n",
       "             SibSp       Parch    Ticket        Fare Cabin Embarked  \n",
       "count   891.000000  891.000000       891  891.000000   204      889  \n",
       "unique         NaN         NaN       681         NaN   147        3  \n",
       "top            NaN         NaN  CA. 2343         NaN    G6        S  \n",
       "freq           NaN         NaN         7         NaN     4      644  \n",
       "mean      0.523008    0.381594       NaN   32.204208   NaN      NaN  \n",
       "std       1.102743    0.806057       NaN   49.693429   NaN      NaN  \n",
       "min       0.000000    0.000000       NaN    0.000000   NaN      NaN  \n",
       "25%       0.000000    0.000000       NaN    7.910400   NaN      NaN  \n",
       "50%       0.000000    0.000000       NaN   14.454200   NaN      NaN  \n",
       "75%       1.000000    0.000000       NaN   31.000000   NaN      NaN  \n",
       "max       8.000000    6.000000       NaN  512.329200   NaN      NaN  "
      ]
     },
     "execution_count": 5,
     "metadata": {},
     "output_type": "execute_result"
    }
   ],
   "source": [
    "titanic.describe(include='all')"
   ]
  },
  {
   "cell_type": "markdown",
   "metadata": {},
   "source": [
    "1. PassengerId: unique identifier of the passenger\n",
    "2. Survived: 1 if yes, 0 if no\n",
    "3. Pclass: passenger class, 1 through 3\n",
    "4. Name: passenger name\n",
    "5. Sex: passenger sex, male or female\n",
    "6. SibSp: number of siblings/spouses on board\n",
    "7. Parch: number of parents/children on board\n",
    "8. Ticket: ticket number\n",
    "9. Fare: cost of the ticket\n",
    "10. Cabin: cabin number\n",
    "11. Embarked: port of embarkment (C = Cherbourg, Q = Queenstown, S = Southampton)"
   ]
  },
  {
   "cell_type": "markdown",
   "metadata": {},
   "source": [
    "**What’s the average age of:**\n",
    "\n",
    "- Any Titanic passenger\n",
    "- A survivor\n",
    "- A non-surviving first-class passenger\n",
    "- Male survivors older than 30 from anywhere but Queenstown"
   ]
  },
  {
   "cell_type": "code",
   "execution_count": 6,
   "metadata": {
    "collapsed": false
   },
   "outputs": [
    {
     "name": "stdout",
     "output_type": "stream",
     "text": [
      "Age average: 29.69911764705882\n",
      "Survivor age average: 28.343689655172415\n",
      "Non-surviving first-class age average: 43.6953125\n",
      "Male survivors older than 30 not from Queenstown age average: 41.48780487804878\n"
     ]
    }
   ],
   "source": [
    "print('Age average:', titanic['Age'].mean())\n",
    "print('Survivor age average:', titanic.where(titanic['Survived'] == 1)['Age'].mean())\n",
    "print('Non-surviving first-class age average:', titanic.where((titanic['Survived'] == 0) & (titanic['Pclass'] == 1))['Age'].mean())\n",
    "print('Male survivors older than 30 not from Queenstown age average:', titanic.where((titanic['Sex'] == 'male') & (titanic['Survived'] == 1) & (titanic['Age'] > 30) & (titanic['Embarked'] != 'Q'))['Age'].mean())"
   ]
  },
  {
   "cell_type": "markdown",
   "metadata": {},
   "source": [
    "**For the groups from the previous task, how far (in years) are the average ages from the median ages?**"
   ]
  },
  {
   "cell_type": "code",
   "execution_count": 7,
   "metadata": {
    "collapsed": false
   },
   "outputs": [
    {
     "name": "stdout",
     "output_type": "stream",
     "text": [
      "1.69911764705882\n",
      "0.34368965517241534\n",
      "-1.5546875\n",
      "3.4878048780487774\n"
     ]
    }
   ],
   "source": [
    "print(titanic['Age'].mean() - titanic['Age'].median())\n",
    "print(titanic.where(titanic['Survived'] == 1)['Age'].mean() - titanic.where(titanic['Survived'] == 1)['Age'].median())\n",
    "print(titanic.where((titanic['Survived'] == 0) & (titanic['Pclass'] == 1))['Age'].mean() - titanic.where((titanic['Survived'] == 0) & (titanic['Pclass'] == 1))['Age'].median())\n",
    "print(titanic.where((titanic['Sex'] == 'male') & (titanic['Survived'] == 1) & (titanic['Age'] > 30) & (titanic['Embarked'] != 'Q'))['Age'].mean() - titanic.where((titanic['Sex'] == 'male') & (titanic['Survived'] == 1) & (titanic['Age'] > 30) & (titanic['Embarked'] != 'Q'))['Age'].median())"
   ]
  },
  {
   "cell_type": "markdown",
   "metadata": {},
   "source": [
    "**What’s the most common:**\n",
    "- Passenger class\n",
    "- Port of Embarkation\n",
    "- Number of siblings or spouses aboard for survivors"
   ]
  },
  {
   "cell_type": "code",
   "execution_count": 8,
   "metadata": {
    "collapsed": false
   },
   "outputs": [
    {
     "name": "stdout",
     "output_type": "stream",
     "text": [
      "Most common passenger class: 3\n",
      "Most common port of embarkation: S\n",
      "Most common number of siblings/spouses for survivors: 0\n"
     ]
    }
   ],
   "source": [
    "print('Most common passenger class:', titanic['Pclass'].mode()[0])\n",
    "print('Most common port of embarkation:', titanic['Embarked'].mode()[0])\n",
    "print('Most common number of siblings/spouses for survivors:', titanic[titanic['Survived'] == 1]['SibSp'].mode()[0])"
   ]
  },
  {
   "cell_type": "markdown",
   "metadata": {},
   "source": [
    "**Within what range of standard deviations from the mean (0-1, 1-2, 2-3) is the median ticket price? Is it above or below the mean?**"
   ]
  },
  {
   "cell_type": "markdown",
   "metadata": {},
   "source": [
    "It's between 0 and 1 standard deviations and below the mean:"
   ]
  },
  {
   "cell_type": "code",
   "execution_count": 9,
   "metadata": {
    "collapsed": false
   },
   "outputs": [
    {
     "name": "stdout",
     "output_type": "stream",
     "text": [
      "0.3571902456652297\n",
      "True\n"
     ]
    }
   ],
   "source": [
    "print((titanic['Fare'].mean() - titanic['Fare'].median()) / titanic['Fare'].std())\n",
    "print(titanic['Fare'].mean() > titanic['Fare'].median())"
   ]
  },
  {
   "cell_type": "markdown",
   "metadata": {},
   "source": [
    "**How much more expensive was the 90th percentile ticket than the 5th percentile ticket? Are they the same class?**"
   ]
  },
  {
   "cell_type": "code",
   "execution_count": 10,
   "metadata": {
    "collapsed": false
   },
   "outputs": [
    {
     "name": "stdout",
     "output_type": "stream",
     "text": [
      "5th percentile: 7.225\n",
      "Class of the 5th percentile: 3\n",
      "90th percentile: 77.9583\n",
      "Class of the 90th percentile: 1\n"
     ]
    }
   ],
   "source": [
    "perc5 = titanic['Fare'].quantile(0.05)\n",
    "perc90 = titanic['Fare'].quantile(0.9)\n",
    "\n",
    "print('5th percentile:', perc5)\n",
    "print('Class of the 5th percentile:', titanic[titanic['Fare'] == perc5]['Pclass'].unique()[0])\n",
    "print('90th percentile:', perc90)\n",
    "print('Class of the 90th percentile:', titanic[titanic['Fare'] == perc90]['Pclass'].unique()[0])"
   ]
  },
  {
   "cell_type": "markdown",
   "metadata": {},
   "source": [
    "**The highest average ticket price was paid by passengers from which port? Null ports don’t count.**"
   ]
  },
  {
   "cell_type": "code",
   "execution_count": 11,
   "metadata": {
    "collapsed": false
   },
   "outputs": [
    {
     "data": {
      "text/plain": [
       "'C'"
      ]
     },
     "execution_count": 11,
     "metadata": {},
     "output_type": "execute_result"
    }
   ],
   "source": [
    "titanic.groupby('Embarked')['Fare'].mean().argmax()"
   ]
  },
  {
   "cell_type": "markdown",
   "metadata": {},
   "source": [
    "**What is the most common passenger class for each port?**"
   ]
  },
  {
   "cell_type": "code",
   "execution_count": 12,
   "metadata": {
    "collapsed": false
   },
   "outputs": [
    {
     "name": "stdout",
     "output_type": "stream",
     "text": [
      "Most common class for S: 3.0\n",
      "Most common class for C: 1.0\n",
      "Most common class for Q: 3.0\n"
     ]
    }
   ],
   "source": [
    "for port in titanic['Embarked'].dropna().unique():\n",
    "    print('Most common class for {}: {}'.format(port, titanic.where(titanic['Embarked'] == port)['Pclass'].mode()[0]))"
   ]
  },
  {
   "cell_type": "markdown",
   "metadata": {},
   "source": [
    "**What fraction of surviving 1st-class males paid lower than double the overall median ticket price?**"
   ]
  },
  {
   "cell_type": "code",
   "execution_count": 13,
   "metadata": {
    "collapsed": false
   },
   "outputs": [
    {
     "data": {
      "text/plain": [
       "0.24444444444444444"
      ]
     },
     "execution_count": 13,
     "metadata": {},
     "output_type": "execute_result"
    }
   ],
   "source": [
    "titanic.where((titanic['Survived'] == 1) &\n",
    "              (titanic['Sex'] == 'male') &\n",
    "              (titanic['Pclass'] == 1) &\n",
    "              (titanic['Fare'] < 2 * titanic['Fare'].median())\n",
    "             )['PassengerId'].count() / titanic.where((titanic['Survived'] == 1) &\n",
    "                                                      (titanic['Sex'] == 'male') &\n",
    "                                                      (titanic['Pclass'] == 1))['PassengerId'].count()"
   ]
  },
  {
   "cell_type": "markdown",
   "metadata": {},
   "source": [
    "**How much older/younger was the average surviving passenger with family members than the average non-surviving passenger without them?**"
   ]
  },
  {
   "cell_type": "code",
   "execution_count": 14,
   "metadata": {
    "collapsed": false
   },
   "outputs": [
    {
     "name": "stdout",
     "output_type": "stream",
     "text": [
      "Survivor with family members average age: 25.526062500000002\n",
      "Non-survivor without family members average age: 32.41423357664234\n"
     ]
    }
   ],
   "source": [
    "print('Survivor with family members average age:' ,titanic.where((titanic['Survived'] == 1) & (titanic['SibSp'] + titanic['Parch'] > 0))['Age'].mean())\n",
    "print('Non-survivor without family members average age:' ,titanic.where((titanic['Survived'] == 0) & (titanic['SibSp'] + titanic['Parch'] == 0))['Age'].mean())"
   ]
  },
  {
   "cell_type": "markdown",
   "metadata": {},
   "source": [
    "**Display the relationship (i.e. make a plot) between survival rate and the quantile of the ticket price for 20 integer quantiles.**\n",
    "- To be clearer, what I want is for you to specify 20 quantiles, and for each of those quantiles divide the number of survivors in that quantile by the total number of people in that quantile. That’ll give you the survival rate in that quantile.\n",
    "- Then plot a line of the survival rate against the ticket fare quantiles.\n",
    "- Make sure you label your axes."
   ]
  },
  {
   "cell_type": "code",
   "execution_count": 36,
   "metadata": {
    "collapsed": false
   },
   "outputs": [],
   "source": [
    "import math\n",
    "\n",
    "# Sort df by fare and reset index from 0\n",
    "titanic_sortbyfare = titanic.sort_values('Fare').reset_index()\n",
    "# Add column containing the quantile\n",
    "titanic_sortbyfare['FareQuantile'] = titanic.index.values\n",
    "titanic_sortbyfare['FareQuantile'] = titanic_sortbyfare['FareQuantile'].apply(lambda x: math.floor(x / math.ceil(len(titanic_sortbyfare) / 20)))\n",
    "# Calculate survival rate\n",
    "titanic_fareq = titanic_sortbyfare.groupby('FareQuantile')['Survived'].apply(lambda x : x.sum() / x.count())"
   ]
  },
  {
   "cell_type": "code",
   "execution_count": 37,
   "metadata": {
    "collapsed": false
   },
   "outputs": [
    {
     "data": {
      "image/png": "[encoded data removed]",
      "text/plain": [
       "<matplotlib.figure.Figure at 0x1be8d716c18>"
      ]
     },
     "metadata": {},
     "output_type": "display_data"
    }
   ],
   "source": [
    "with plt.style.context('seaborn'):\n",
    "    fig = plt.figure(figsize=(16, 6))\n",
    "    ax = plt.axes()\n",
    "    ax.plot(titanic_fareq)\n",
    "    # Set a locator and formatter for each quantile\n",
    "    ax.xaxis.set_major_locator(plt.FixedLocator(titanic_fareq.index.values))\n",
    "    ax.xaxis.set_major_formatter(plt.FuncFormatter(lambda val, pos: (val+1) / 20))\n",
    "    # Set x axis limits\n",
    "    ax.set_xlim(min(titanic_fareq.index.values), max(titanic_fareq.index.values))\n",
    "    # Add labels\n",
    "    ax.set_xlabel('Fare Quantile')\n",
    "    ax.set_ylabel('Survival Rate');"
   ]
  },
  {
   "cell_type": "markdown",
   "metadata": {},
   "source": [
    "**For each of the following characteristics, find the median in the data:**\n",
    "- Age\n",
    "- Ticket price\n",
    "- Siblings/spouses\n",
    "- Parents/children"
   ]
  },
  {
   "cell_type": "code",
   "execution_count": 17,
   "metadata": {
    "collapsed": false
   },
   "outputs": [
    {
     "data": {
      "text/plain": [
       "Age      28.0000\n",
       "Fare     14.4542\n",
       "SibSp     0.0000\n",
       "Parch     0.0000\n",
       "dtype: float64"
      ]
     },
     "execution_count": 17,
     "metadata": {},
     "output_type": "execute_result"
    }
   ],
   "source": [
    "titanic[['Age', 'Fare', 'SibSp', 'Parch']].median()"
   ]
  },
  {
   "cell_type": "markdown",
   "metadata": {},
   "source": [
    "**If you were to use these medians to draw numerical boundaries separating survivors from non-survivors, which of these characteristics would be the best choice and why?**"
   ]
  },
  {
   "cell_type": "code",
   "execution_count": 83,
   "metadata": {
    "collapsed": false
   },
   "outputs": [
    {
     "name": "stdout",
     "output_type": "stream",
     "text": [
      "AgeBelowMedian\n",
      "0.0    0.403409\n",
      "1.0    0.408840\n",
      "Name: Survived, dtype: float64\n",
      "FareBelowMedian\n",
      "0    0.518018\n",
      "1    0.250559\n",
      "Name: Survived, dtype: float64\n",
      "SibSpBelowMedian\n",
      "0    0.466431\n",
      "1    0.345395\n",
      "Name: Survived, dtype: float64\n",
      "ParchBelowMedian\n",
      "0    0.511737\n",
      "1    0.343658\n",
      "Name: Survived, dtype: float64\n"
     ]
    }
   ],
   "source": [
    "# Function that calculates if a value is below the median of an attribute\n",
    "def below_median(x, attr):\n",
    "    if x <= titanic_survrate[attr].median():\n",
    "        return 1\n",
    "    elif x > titanic_survrate[attr].median():\n",
    "        return 0\n",
    "    else:\n",
    "        return None\n",
    "\n",
    "titanic_survrate = titanic[['Survived', 'Age', 'Fare', 'SibSp', 'Parch']].copy()\n",
    "# Apply function to the attributes\n",
    "titanic_survrate['AgeBelowMedian'] = titanic_survrate['Age'].apply(lambda x: below_median(x, 'Age'))\n",
    "titanic_survrate['FareBelowMedian'] = titanic_survrate['Fare'].apply(lambda x: below_median(x, 'Fare'))\n",
    "titanic_survrate['SibSpBelowMedian'] = titanic_survrate['SibSp'].apply(lambda x: below_median(x, 'SibSp'))\n",
    "titanic_survrate['ParchBelowMedian'] = titanic_survrate['Parch'].apply(lambda x: below_median(x, 'Parch'))\n",
    "# Calculate the survival rate above and below the median\n",
    "print(titanic_survrate.groupby('AgeBelowMedian')['Survived'].sum() / titanic_survrate.groupby('AgeBelowMedian')['Survived'].count())\n",
    "print(titanic_survrate.groupby('FareBelowMedian')['Survived'].sum() / titanic_survrate.groupby('FareBelowMedian')['Survived'].count())\n",
    "print(titanic_survrate.groupby('SibSpBelowMedian')['Survived'].sum() / titanic_survrate.groupby('SibSpBelowMedian')['Survived'].count())\n",
    "print(titanic_survrate.groupby('ParchBelowMedian')['Survived'].sum() / titanic_survrate.groupby('ParchBelowMedian')['Survived'].count())"
   ]
  },
  {
   "cell_type": "code",
   "execution_count": 64,
   "metadata": {
    "collapsed": false
   },
   "outputs": [
    {
     "data": {
      "text/html": [
       "<div>\n",
       "<table border=\"1\" class=\"dataframe\">\n",
       "  <thead>\n",
       "    <tr style=\"text-align: right;\">\n",
       "      <th></th>\n",
       "      <th>Surv. below/at the median</th>\n",
       "      <th>Surv. above the median</th>\n",
       "      <th>above - below</th>\n",
       "    </tr>\n",
       "  </thead>\n",
       "  <tbody>\n",
       "    <tr>\n",
       "      <th>Age</th>\n",
       "      <td>0.408840</td>\n",
       "      <td>0.403409</td>\n",
       "      <td>-0.005431</td>\n",
       "    </tr>\n",
       "    <tr>\n",
       "      <th>Fare</th>\n",
       "      <td>0.250559</td>\n",
       "      <td>0.518018</td>\n",
       "      <td>0.267459</td>\n",
       "    </tr>\n",
       "    <tr>\n",
       "      <th>SibSp</th>\n",
       "      <td>0.345395</td>\n",
       "      <td>0.466431</td>\n",
       "      <td>0.121036</td>\n",
       "    </tr>\n",
       "    <tr>\n",
       "      <th>Parch</th>\n",
       "      <td>0.343658</td>\n",
       "      <td>0.511737</td>\n",
       "      <td>0.168079</td>\n",
       "    </tr>\n",
       "  </tbody>\n",
       "</table>\n",
       "</div>"
      ],
      "text/plain": [
       "       Surv. below/at the median  Surv. above the median  above - below\n",
       "Age                     0.408840                0.403409      -0.005431\n",
       "Fare                    0.250559                0.518018       0.267459\n",
       "SibSp                   0.345395                0.466431       0.121036\n",
       "Parch                   0.343658                0.511737       0.168079"
      ]
     },
     "execution_count": 64,
     "metadata": {},
     "output_type": "execute_result"
    }
   ],
   "source": [
    "# This is from the solution\n",
    "def survival_ratio(predicate):\n",
    "    series = titanic[predicate]\n",
    "    return len(series[series['Survived'] == True]) / len(series)\n",
    "\n",
    "below_at_median = pd.Series(name='Surv. below/at the median')\n",
    "above_median = pd.Series(name='Surv. above the median')\n",
    "\n",
    "below_at_median['Age'] = survival_ratio(titanic['Age'] <= titanic['Age'].median())\n",
    "below_at_median['Fare'] = survival_ratio(titanic['Fare'] <= titanic['Fare'].median())\n",
    "below_at_median['SibSp'] = survival_ratio(titanic['SibSp'] == titanic['SibSp'].median())\n",
    "below_at_median['Parch'] = survival_ratio(titanic['Parch'] == titanic['Parch'].median())\n",
    "\n",
    "above_median['Age'] = survival_ratio(titanic['Age'] > titanic['Age'].median())\n",
    "above_median['Fare'] = survival_ratio(titanic['Fare'] > titanic['Fare'].median())\n",
    "above_median['SibSp'] = survival_ratio(titanic['SibSp'] > titanic['SibSp'].median())\n",
    "above_median['Parch'] = survival_ratio(titanic['Parch'] > titanic['Parch'].median())\n",
    "\n",
    "survival_median = pd.DataFrame([below_at_median, above_median],\n",
    "                              columns=['Age', 'Fare', 'SibSp', 'Parch']).transpose()\n",
    "\n",
    "survival_median['above - below'] = above_median - below_at_median\n",
    "survival_median"
   ]
  },
  {
   "cell_type": "markdown",
   "metadata": {},
   "source": [
    "**Plot the distribution of passenger ages. Choose visually-meaningful bin sizes and label your axes.**"
   ]
  },
  {
   "cell_type": "code",
   "execution_count": 84,
   "metadata": {
    "collapsed": false
   },
   "outputs": [
    {
     "data": {
      "image/png": "[encoded data removed]",
      "text/plain": [
       "<matplotlib.figure.Figure at 0x1be8d46b6a0>"
      ]
     },
     "metadata": {},
     "output_type": "display_data"
    }
   ],
   "source": [
    "fig = plt.figure(figsize=(16, 8))\n",
    "ax = plt.axes()\n",
    "# Plot ages using 20 bins\n",
    "ax.hist(titanic['Age'].dropna(), bins=20)\n",
    "# Set labels\n",
    "ax.set_xlabel('Age')\n",
    "ax.set_ylabel('Number of Passengers')\n",
    "# Set locators\n",
    "ax.xaxis.set_major_locator(plt.MaxNLocator(20))"
   ]
  },
  {
   "cell_type": "markdown",
   "metadata": {},
   "source": [
    "**Find the probability that:**\n",
    "- A passenger survived\n",
    "- A passenger was male\n",
    "- A passenger was female and had at least one sibling or spouse on board\n",
    "- A survivor was from Cherbourg\n",
    "- A passenger was less than 10 years old\n",
    "- A passenger was between 25 and 40 years old\n",
    "- A passenger was either younger than 20 years old or older than 50"
   ]
  },
  {
   "cell_type": "code",
   "execution_count": 85,
   "metadata": {
    "collapsed": false
   },
   "outputs": [
    {
     "name": "stdout",
     "output_type": "stream",
     "text": [
      "Survival probability: 0.3838383838383838\n",
      "Male probability: 0.64758698092\n",
      "Female and at least one sibling/spouse probability: 0.157126823793\n",
      "Survivor from Cherbourg probability: 0.188552188552\n",
      "Less than 10 years old probability: 0.0695847362514\n",
      "Between 25 and 40 years old probability: 0.280583613917\n",
      "Less than 20 or more than 50 years old probability: 0.255892255892\n"
     ]
    }
   ],
   "source": [
    "print('Survival probability:', titanic['Survived'].sum() / len(titanic))\n",
    "print('Male probability:', titanic[titanic['Sex'] == 'male']['PassengerId'].count() / len(titanic))\n",
    "print('Female and at least one sibling/spouse probability:', titanic[(titanic['Sex'] == 'female') & (titanic['SibSp'] > 0)]['PassengerId'].count() / len(titanic))\n",
    "print('Survivor from Cherbourg probability:', titanic[titanic['Embarked'] == 'C']['PassengerId'].count() / len(titanic))\n",
    "print('Less than 10 years old probability:', titanic[titanic['Age'] < 10]['PassengerId'].count() / len(titanic))\n",
    "print('Between 25 and 40 years old probability:', titanic[(titanic['Age'] > 25) & (titanic['Age'] < 40)]['PassengerId'].count() / len(titanic))\n",
    "print('Less than 20 or more than 50 years old probability:', titanic[(titanic['Age'] < 20) | (titanic['Age'] > 50)]['PassengerId'].count() / len(titanic))"
   ]
  },
  {
   "cell_type": "markdown",
   "metadata": {},
   "source": [
    "**Knowing nothing else about the passengers aside from the survival rate of the population (see question above), if I choose 100 passengers at random from the passenger list, what’s the probability that exactly 42 passengers survive?**"
   ]
  },
  {
   "cell_type": "code",
   "execution_count": 87,
   "metadata": {
    "collapsed": false
   },
   "outputs": [
    {
     "data": {
      "text/plain": [
       "0.061330411815167886"
      ]
     },
     "execution_count": 87,
     "metadata": {},
     "output_type": "execute_result"
    }
   ],
   "source": [
    "survival_rate = titanic['Survived'].sum() / len(titanic)\n",
    "stats.binom.pmf(42, 100, survival_rate)"
   ]
  },
  {
   "cell_type": "markdown",
   "metadata": {},
   "source": [
    "**What’s the probability that at least 42 of those 100 passengers survive?**"
   ]
  },
  {
   "cell_type": "code",
   "execution_count": 88,
   "metadata": {
    "collapsed": false
   },
   "outputs": [
    {
     "data": {
      "text/plain": [
       "0.25940724207261701"
      ]
     },
     "execution_count": 88,
     "metadata": {},
     "output_type": "execute_result"
    }
   ],
   "source": [
    "1 - stats.binom.cdf(41, 100, survival_rate)"
   ]
  },
  {
   "cell_type": "markdown",
   "metadata": {},
   "source": [
    "**Take random samples of 100 passengers and find out how many you need before the fraction of those samples where at least 42 passengers survive matches the probability you calculated previously (within Δp≈0.05).**\n",
    "\n",
    "Answers will vary based on chosen seeds. What would happen if you drew every sample with the same seed?\n",
    "\n",
    "Plot the survival fraction vs the number of random samples."
   ]
  },
  {
   "cell_type": "code",
   "execution_count": 95,
   "metadata": {
    "collapsed": false
   },
   "outputs": [],
   "source": [
    "# Set the seed (if I used the same seed for every sample I would always get the same result,\n",
    "# so the fraction of samples would always be the same, namely 0 or 1 depending on the sample)\n",
    "random.seed(42)\n",
    "\n",
    "# Set the target probability from above and Δp\n",
    "target_prob = 0.2594\n",
    "delta = 0.05\n",
    "\n",
    "# Initialize list of fraction of samples with at least 42 survivors\n",
    "# and counters for number of samples drawn and number of samples with at least 42 passengers\n",
    "survival_frac = []\n",
    "n_samples = 0\n",
    "n_over = 0\n",
    "\n",
    "# Iterate until the fraction of samples is within delta\n",
    "while True:\n",
    "    # Take a new sample\n",
    "    n_samples += 1\n",
    "    samp = random.sample(set(np.arange(len(titanic))), 100)\n",
    "    # Check if survivors >= 42 and add to n_over\n",
    "    if titanic.iloc[samp, 1].sum() >= 42:\n",
    "        n_over += 1\n",
    "    # Calculate the fraction of samples\n",
    "    survival_frac.append(n_over / n_samples)\n",
    "    if abs(n_over / n_samples - target_prob) < delta:\n",
    "        break"
   ]
  },
  {
   "cell_type": "code",
   "execution_count": 96,
   "metadata": {
    "collapsed": false
   },
   "outputs": [
    {
     "data": {
      "text/plain": [
       "[0.0, 0.0, 0.0, 0.0, 0.2, 0.16666666666666666, 0.14285714285714285, 0.25]"
      ]
     },
     "execution_count": 96,
     "metadata": {},
     "output_type": "execute_result"
    }
   ],
   "source": [
    "survival_frac"
   ]
  },
  {
   "cell_type": "code",
   "execution_count": 93,
   "metadata": {
    "collapsed": false
   },
   "outputs": [
    {
     "name": "stdout",
     "output_type": "stream",
     "text": [
      "Number of samples needed: 8\n"
     ]
    }
   ],
   "source": [
    "print('Number of samples needed:', len(survival_frac))"
   ]
  },
  {
   "cell_type": "code",
   "execution_count": 98,
   "metadata": {
    "collapsed": false
   },
   "outputs": [
    {
     "data": {
      "image/png": "[encoded data removed]",
      "text/plain": [
       "<matplotlib.figure.Figure at 0x1be8da29748>"
      ]
     },
     "metadata": {},
     "output_type": "display_data"
    }
   ],
   "source": [
    "fig = plt.figure(figsize=(16, 6))\n",
    "ax = plt.axes()\n",
    "ax.plot(survival_frac)\n",
    "# Set labels\n",
    "ax.set_xlabel('Number of samples')\n",
    "ax.set_ylabel('Samples with at least 42 survivors')\n",
    "# Set x axis limits, locators and formatters\n",
    "ax.set_xlim(0, len(survival_frac) - 1)\n",
    "ax.xaxis.set_major_locator(plt.MaxNLocator(8))\n",
    "ax.xaxis.set_major_formatter(plt.FuncFormatter(lambda value, pos: int(value + 1)))\n",
    "# Add a reference line for the target probability\n",
    "ax.hlines(0.2594, 0, len(survival_frac) - 1, colors='red', linewidth=.5);"
   ]
  },
  {
   "cell_type": "markdown",
   "metadata": {},
   "source": [
    "**Is there a statistically significant difference between:**\n",
    "- The ages of male and female survivors?\n",
    "- The fares paid by passengers from Queenstown and the passengers from Cherbourg?\n",
    "\n",
    "**Use a 95% confidence level.**"
   ]
  },
  {
   "cell_type": "markdown",
   "metadata": {},
   "source": [
    "The difference between the ages of male and female survivors is not statitically relevant (the p-value is above 0.4):"
   ]
  },
  {
   "cell_type": "code",
   "execution_count": 100,
   "metadata": {
    "collapsed": false
   },
   "outputs": [
    {
     "name": "stdout",
     "output_type": "stream",
     "text": [
      "Male survivors age average: 27.276021505376345\n",
      "Female survivors age average: 28.84771573604061\n",
      "16.50480299921846\n",
      "14.175072701120337\n"
     ]
    },
    {
     "data": {
      "text/plain": [
       "Ttest_indResult(statistic=-0.79089662277024664, pvalue=0.43018823932007377)"
      ]
     },
     "execution_count": 100,
     "metadata": {},
     "output_type": "execute_result"
    }
   ],
   "source": [
    "print('Male survivors age average:', titanic[(titanic['Sex'] == 'male') & (titanic['Survived'] == 1)]['Age'].mean())\n",
    "print('Female survivors age average:', titanic[(titanic['Sex'] == 'female') & (titanic['Survived'] == 1)]['Age'].mean())\n",
    "\n",
    "print(titanic[(titanic['Sex'] == 'male') & (titanic['Survived'] == 1)]['Age'].std())\n",
    "print(titanic[(titanic['Sex'] == 'female') & (titanic['Survived'] == 1)]['Age'].std())\n",
    "\n",
    "stats.ttest_ind(titanic[(titanic['Sex'] == 'male') & (titanic['Survived'] == 1)]['Age'].dropna(),\n",
    "                titanic[(titanic['Sex'] == 'female') & (titanic['Survived'] == 1)]['Age'].dropna(),\n",
    "                equal_var=False)"
   ]
  },
  {
   "cell_type": "markdown",
   "metadata": {},
   "source": [
    "The difference between the fares paid by passengers from Queenstown and Cherbourg is statistically significant (the p-value is less than 0.001):"
   ]
  },
  {
   "cell_type": "code",
   "execution_count": 102,
   "metadata": {
    "collapsed": false
   },
   "outputs": [
    {
     "name": "stdout",
     "output_type": "stream",
     "text": [
      "Fares paid by passengers embarked in Queenstown average: 13.276029870129872\n",
      "Fares paid by passengers embarked in Cherbourg average: 59.95414404761905\n",
      "14.188046974998139\n",
      "83.91299426548599\n"
     ]
    },
    {
     "data": {
      "text/plain": [
       "Ttest_indResult(statistic=-6.9951971047186809, pvalue=4.5792033919567422e-11)"
      ]
     },
     "execution_count": 102,
     "metadata": {},
     "output_type": "execute_result"
    }
   ],
   "source": [
    "print('Fares paid by passengers embarked in Queenstown average:', titanic[titanic['Embarked'] == 'Q']['Fare'].mean())\n",
    "print('Fares paid by passengers embarked in Cherbourg average:', titanic[titanic['Embarked'] == 'C']['Fare'].mean())\n",
    "\n",
    "print(titanic[titanic['Embarked'] == 'Q']['Fare'].std())\n",
    "print(titanic[titanic['Embarked'] == 'C']['Fare'].std())\n",
    "\n",
    "stats.ttest_ind(titanic[titanic['Embarked'] == 'Q']['Fare'].dropna(),\n",
    "                titanic[titanic['Embarked'] == 'C']['Fare'].dropna(),\n",
    "                equal_var=False)"
   ]
  },
  {
   "cell_type": "markdown",
   "metadata": {},
   "source": [
    "**Accompany your p-values with histograms showing the distributions of both compared populations.**"
   ]
  },
  {
   "cell_type": "code",
   "execution_count": 109,
   "metadata": {
    "collapsed": false
   },
   "outputs": [
    {
     "data": {
      "image/png": "[encoded data removed]",
      "text/plain": [
       "<matplotlib.figure.Figure at 0x1be8db33e48>"
      ]
     },
     "metadata": {},
     "output_type": "display_data"
    }
   ],
   "source": [
    "bins0_100 = range(0, 100, 10)\n",
    "\n",
    "fig = plt.figure(figsize=(16, 6))\n",
    "ax = plt.axes()\n",
    "# Plot the distribution of ages for the two groups with 20 bins\n",
    "ax.hist(titanic[(titanic['Sex'] == 'male') & (titanic['Survived'] == 1)]['Age'].dropna(), bins=bins0_100, color='green', alpha=.5, label='male')\n",
    "ax.hist(titanic[(titanic['Sex'] == 'female') & (titanic['Survived'] == 1)]['Age'].dropna(), bins=bins0_100, color='yellow', alpha=.5, label='female')\n",
    "# Add labels and title\n",
    "ax.set_xlabel('Age')\n",
    "ax.set_ylabel('Number of Survivors')\n",
    "ax.set_title('Male and female survivors ages')\n",
    "# Add legend\n",
    "ax.legend();"
   ]
  },
  {
   "cell_type": "code",
   "execution_count": 110,
   "metadata": {
    "collapsed": false
   },
   "outputs": [
    {
     "data": {
      "image/png": "[encoded data removed]",
      "text/plain": [
       "<matplotlib.figure.Figure at 0x1be8da293c8>"
      ]
     },
     "metadata": {},
     "output_type": "display_data"
    }
   ],
   "source": [
    "bins0_600 = range(0, 600, 50)\n",
    "\n",
    "fig = plt.figure(figsize=(16, 6))\n",
    "ax = plt.axes()\n",
    "# Plot the distribution of fares for the two groups with 20 bins\n",
    "ax.hist(titanic[titanic['Embarked'] == 'Q']['Fare'].dropna(), bins=bins0_600, color='green', alpha=.5, label='Queenstown')\n",
    "ax.hist(titanic[titanic['Embarked'] == 'C']['Fare'].dropna(), bins=bins0_600, color='yellow', alpha=.5, label='Cherbourg')\n",
    "# Add labels and title\n",
    "ax.set_xlabel('Fare')\n",
    "ax.set_ylabel('Number of Survivors')\n",
    "ax.set_title('Fares of passengers from Queenstown and Cherbourg')\n",
    "# Add legend\n",
    "ax.legend();"
   ]
  },
  {
   "cell_type": "markdown",
   "metadata": {},
   "source": [
    "**Did survivors pay more for their tickets than those that did not? Use a 95% confidence level.**"
   ]
  },
  {
   "cell_type": "markdown",
   "metadata": {},
   "source": [
    "The difference between the fares paid by survivors and non-survivors is statistically significant (the p-value is less than 0.001):"
   ]
  },
  {
   "cell_type": "code",
   "execution_count": 112,
   "metadata": {
    "collapsed": false
   },
   "outputs": [
    {
     "name": "stdout",
     "output_type": "stream",
     "text": [
      "Survivors average fare: 48.39540760233917\n",
      "Non-survivors average fare: 22.117886885245877\n",
      "66.59699811829472\n",
      "31.388206530563984\n"
     ]
    },
    {
     "data": {
      "text/plain": [
       "Ttest_indResult(statistic=6.8390992590852537, pvalue=2.6993323503141236e-11)"
      ]
     },
     "execution_count": 112,
     "metadata": {},
     "output_type": "execute_result"
    }
   ],
   "source": [
    "print('Survivors average fare:', titanic[titanic['Survived'] == 1]['Fare'].mean())\n",
    "print('Non-survivors average fare:', titanic[titanic['Survived'] == 0]['Fare'].mean())\n",
    "\n",
    "print(titanic[titanic['Survived'] == 1]['Fare'].std())\n",
    "print(titanic[titanic['Survived'] == 0]['Fare'].std())\n",
    "\n",
    "# One-sided, so divide p-vale by two\n",
    "stats.ttest_ind(titanic[titanic['Survived'] == 1]['Fare'].dropna(),\n",
    "                titanic[titanic['Survived'] == 0]['Fare'].dropna(),\n",
    "                equal_var=False)"
   ]
  },
  {
   "cell_type": "markdown",
   "metadata": {},
   "source": [
    "**Did a given first-class passenger have fewer family members on board than a given third-class passenger? Use a 95% confidence level.**"
   ]
  },
  {
   "cell_type": "markdown",
   "metadata": {},
   "source": [
    "The difference between the number of family member on board for first class passengers and third class passengers is not statitically relevant (the p-value is 0.02):"
   ]
  },
  {
   "cell_type": "code",
   "execution_count": 114,
   "metadata": {
    "collapsed": false
   },
   "outputs": [
    {
     "name": "stdout",
     "output_type": "stream",
     "text": [
      "First class average number of family members: 0.7731481481481481\n",
      "Third class average number of family members: 1.0081466395112015\n",
      "1.0385236821638482\n",
      "1.9535250260574035\n"
     ]
    },
    {
     "data": {
      "text/plain": [
       "Ttest_indResult(statistic=-2.0799075748873195, pvalue=0.037907385748521927)"
      ]
     },
     "execution_count": 114,
     "metadata": {},
     "output_type": "execute_result"
    }
   ],
   "source": [
    "print('First class average number of family members:', (titanic[titanic['Pclass'] == 1]['Parch'] + titanic[titanic['Pclass'] == 1]['SibSp']).mean())\n",
    "print('Third class average number of family members:', (titanic[titanic['Pclass'] == 3]['Parch'] + titanic[titanic['Pclass'] == 3]['SibSp']).mean())\n",
    "\n",
    "print((titanic[titanic['Pclass'] == 1]['Parch'] + titanic[titanic['Pclass'] == 1]['SibSp']).std())\n",
    "print((titanic[titanic['Pclass'] == 3]['Parch'] + titanic[titanic['Pclass'] == 3]['SibSp']).std())\n",
    "\n",
    "# One-sided, so divide p-vale by two\n",
    "stats.ttest_ind((titanic[titanic['Pclass'] == 1]['Parch'] + titanic[titanic['Pclass'] == 1]['SibSp']).dropna(),\n",
    "                (titanic[titanic['Pclass'] == 3]['Parch'] + titanic[titanic['Pclass'] == 3]['SibSp']).dropna(),\n",
    "                equal_var=False)"
   ]
  }
 ],
 "metadata": {
  "anaconda-cloud": {},
  "kernelspec": {
   "display_name": "Python 3",
   "language": "python",
   "name": "python3"
  },
  "language_info": {
   "codemirror_mode": {
    "name": "ipython",
    "version": 3
   },
   "file_extension": ".py",
   "mimetype": "text/x-python",
   "name": "python",
   "nbconvert_exporter": "python",
   "pygments_lexer": "ipython3",
   "version": "3.6.0"
  }
 },
 "nbformat": 4,
 "nbformat_minor": 1
}
