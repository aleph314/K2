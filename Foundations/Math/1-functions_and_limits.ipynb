{
 "cells": [
  {
   "cell_type": "markdown",
   "metadata": {},
   "source": [
    "#  SOLVING CALCULUS PROBLEMS\n",
    "## Functions and Limits"
   ]
  },
  {
   "cell_type": "markdown",
   "metadata": {},
   "source": [
    "# Programming Challenges"
   ]
  },
  {
   "cell_type": "markdown",
   "metadata": {},
   "source": [
    "The following challenges build on what you’ve learned in this notebook. You cand find sample solutions in the solutions notebook."
   ]
  },
  {
   "cell_type": "markdown",
   "metadata": {},
   "source": [
    "## #1: Verify the Continuity of a Function at a Point"
   ]
  },
  {
   "cell_type": "markdown",
   "metadata": {},
   "source": [
    "A necessary, but not sufficient, condition for a function to be differentiable at a point is that it must be continuous at that point. That is, the function must be defined at that point and its left-hand limit and right-hand limit must exist and be equal to the value of the function at that point. If $f(x)$ is the function and $x = a$ is the point we are interested in evaluating, this is mathematically stated as\n",
    "\n",
    "$$\\lim_{x\\to a^+}f(x) = \\lim_{x\\to a^-}f(x) = f(a)$$\n",
    "\n",
    "Your challenge here is to write a program that will (1) accept a single-variable function and a value of that variable as inputs and (2) check whether the input function is continuous at the point where the variable assumes the value input.\n",
    "\n",
    "Here is a sample working of the completed solution:"
   ]
  },
  {
   "cell_type": "markdown",
   "metadata": {},
   "source": [
    "`Enter a function in one variable: 1/x\n",
    "Enter the variable: x\n",
    "Enter the point to check the continuity at: 1 \n",
    "1/x is continuous at 1.0`"
   ]
  },
  {
   "cell_type": "markdown",
   "metadata": {},
   "source": [
    "The function $1/x$ is discontinuous at 0, so let’s check that:"
   ]
  },
  {
   "cell_type": "markdown",
   "metadata": {},
   "source": [
    "`Enter a function in one variable: 1/x\n",
    "Enter the variable: x\n",
    "Enter the point to check the continuity at: 0 \n",
    "1/x is not continuous at 0.0`"
   ]
  },
  {
   "cell_type": "code",
   "execution_count": 1,
   "metadata": {
    "collapsed": true
   },
   "outputs": [],
   "source": [
    "import sympy"
   ]
  },
  {
   "cell_type": "code",
   "execution_count": 26,
   "metadata": {
    "collapsed": true
   },
   "outputs": [],
   "source": [
    "def check_continuity(f, var, value):\n",
    "    x = sympy.Symbol(var)\n",
    "    left = sympy.Limit(f, x, value, dir='-').doit()\n",
    "    right = sympy.Limit(f, x, value, dir='+').doit()\n",
    "    calc = sympy.sympify(f).subs({x: value})\n",
    "    if left == right == calc:\n",
    "        return True\n",
    "    else:\n",
    "        return False"
   ]
  },
  {
   "cell_type": "code",
   "execution_count": 29,
   "metadata": {
    "collapsed": false
   },
   "outputs": [
    {
     "data": {
      "text/plain": [
       "True"
      ]
     },
     "execution_count": 29,
     "metadata": {},
     "output_type": "execute_result"
    }
   ],
   "source": [
    "check_continuity('1/x', 'x', 0)"
   ]
  },
  {
   "cell_type": "code",
   "execution_count": 33,
   "metadata": {
    "collapsed": false
   },
   "outputs": [
    {
     "name": "stdout",
     "output_type": "stream",
     "text": [
      "Enter a function in one variable:1/x\n",
      "Enter the variable:x\n",
      "Enter the point to check the continuity at:1\n",
      "1/x is continuous at 1\n"
     ]
    }
   ],
   "source": [
    "f = input('Enter a function in one variable:')\n",
    "var = input('Enter the variable:')\n",
    "value = input('Enter the point to check the continuity at:')\n",
    "\n",
    "is_continuous = check_continuity(f, var, value)\n",
    "\n",
    "if is_continuous:\n",
    "    print('{} is continuous at {}'.format(f, value))\n",
    "else:\n",
    "    print('{} is not continuous at {}'.format(f, value))"
   ]
  }
 ],
 "metadata": {
  "anaconda-cloud": {},
  "kernelspec": {
   "display_name": "Python 3",
   "language": "python",
   "name": "python3"
  },
  "language_info": {
   "codemirror_mode": {
    "name": "ipython",
    "version": 3
   },
   "file_extension": ".py",
   "mimetype": "text/x-python",
   "name": "python",
   "nbconvert_exporter": "python",
   "pygments_lexer": "ipython3",
   "version": "3.6.0"
  }
 },
 "nbformat": 4,
 "nbformat_minor": 2
}
