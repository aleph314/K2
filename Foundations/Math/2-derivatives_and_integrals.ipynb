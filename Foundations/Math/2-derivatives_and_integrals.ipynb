{
 "cells": [
  {
   "cell_type": "markdown",
   "metadata": {},
   "source": [
    "#  SOLVING CALCULUS PROBLEMS\n",
    "## Derivatives and Integrals"
   ]
  },
  {
   "cell_type": "markdown",
   "metadata": {},
   "source": [
    "#  Programming Challenges"
   ]
  },
  {
   "cell_type": "markdown",
   "metadata": {},
   "source": [
    "The following challenges build on what you’ve learned in this notebook. You can find solutions in the Solutions notebook."
   ]
  },
  {
   "cell_type": "markdown",
   "metadata": {},
   "source": [
    "## #2: Implement the Gradient Descent"
   ]
  },
  {
   "cell_type": "markdown",
   "metadata": {},
   "source": [
    "The gradient descent method is used to find the minimum value of a function. Similar to the gradient ascent method, the gradient descent method is an iterative method: we start with an initial value of the variable and gradually get closer to the variable value that corresponds to the minimum value of the function. The step that gets us closer is the equation\n",
    "\n",
    "$$x_{new} = x_{old} - \\lambda \\frac{df}{dx}$$\n",
    "\n",
    "where $\\lambda$ is the step size and\n",
    "\n",
    "$$\\frac{df}{dx}$$\n",
    "\n",
    "is the result of differentiating the function. Thus, the only difference from the gradient ascent method is how we obtain the value of `x_new` from `x_old`. \n",
    "\n",
    "Your challenge is to implement a generic program using the gradient descent algorithm to find the minimum value of a single-variable function specified as input by the user. The program should also create a graph of the function and show all the intermediate values it found before finding the minimum."
   ]
  },
  {
   "cell_type": "code",
   "execution_count": 1,
   "metadata": {
    "collapsed": true
   },
   "outputs": [],
   "source": [
    "import numpy as np\n",
    "import sympy\n",
    "import matplotlib.pyplot as plt\n",
    "%matplotlib inline"
   ]
  },
  {
   "cell_type": "code",
   "execution_count": 2,
   "metadata": {
    "collapsed": false
   },
   "outputs": [],
   "source": [
    "def gradient_descent(func, var, initial_value, lamb = 10e-3, eps = 10e-6):\n",
    "\n",
    "    x = sympy.Symbol('x')\n",
    "    df = sympy.Derivative(f, x).doit()\n",
    "\n",
    "    xold = initial_value\n",
    "    xnew = xold - lamb*df.subs({x:xold})\n",
    "    steps = [xold]\n",
    "\n",
    "    while abs(xold - xnew) > eps:\n",
    "        steps.append(xnew)\n",
    "        xold = xnew\n",
    "        xnew = xold - lamb*df.subs({x:xold})\n",
    "\n",
    "    return xnew, steps"
   ]
  },
  {
   "cell_type": "code",
   "execution_count": 5,
   "metadata": {
    "collapsed": false
   },
   "outputs": [],
   "source": [
    "f = 'x**2'\n",
    "sol, steps = gradient_descent(f, 'x', 2)"
   ]
  },
  {
   "cell_type": "code",
   "execution_count": 6,
   "metadata": {
    "collapsed": false
   },
   "outputs": [
    {
     "name": "stdout",
     "output_type": "stream",
     "text": [
      "0.000485482054297453\n",
      "[2, 1.96000000000000, 1.92080000000000]\n",
      "0.000495389851323931\n"
     ]
    }
   ],
   "source": [
    "print(sol)\n",
    "print(steps[0:3])\n",
    "print(steps[-1])"
   ]
  },
  {
   "cell_type": "code",
   "execution_count": 68,
   "metadata": {
    "collapsed": false
   },
   "outputs": [],
   "source": [
    "def find_min():\n",
    "    func = input('Function: ')\n",
    "    var = input('Variable: ')\n",
    "    initial_value = float(input('Initial value: '))\n",
    "    sol, steps = gradient_descent(func, var, initial_value)\n",
    "    print('The minimum is {}'.format(sol))\n",
    "    \n",
    "    fig = plt.figure(figsize=(8, 8))\n",
    "    ax = plt.axes()\n",
    "    ax.plot(t, [sympy.sympify(func).subs({x:p}).evalf() for p in t])\n",
    "    ax.plot(steps, [sympy.sympify(func).subs({x:p}).evalf() for p in steps], 'ro', alpha=.5, markerfacecolor='None')\n",
    "    ax.axes.set_xlim(float(np.min(steps))-0.2, float(np.max(steps))+0.2)"
   ]
  },
  {
   "cell_type": "code",
   "execution_count": 69,
   "metadata": {
    "collapsed": false
   },
   "outputs": [
    {
     "name": "stdout",
     "output_type": "stream",
     "text": [
      "Function: x**2\n",
      "Variable: x\n",
      "Initial value: 2\n",
      "The minimum is 0.000485482054297453\n"
     ]
    },
    {
     "data": {
      "image/png": "[encoded data removed]",
      "text/plain": [
       "<matplotlib.figure.Figure at 0x1804c32bcf8>"
      ]
     },
     "metadata": {},
     "output_type": "display_data"
    }
   ],
   "source": [
    "find_min()"
   ]
  },
  {
   "cell_type": "markdown",
   "metadata": {
    "collapsed": true
   },
   "source": [
    "## #3: Area Between Two Curves"
   ]
  },
  {
   "cell_type": "markdown",
   "metadata": {},
   "source": [
    "We learned that the integral\n",
    "\n",
    "$$\\int_{a}^{b} f(x) dx$$\n",
    "\n",
    "expresses the area enclosed by the function $f(x)$, with the x-axis between $x = a$ and $x = b$. The area between two curves is thus expressed as the integral\n",
    "\n",
    "$$\\int_{a}^{b} (f(x)-g(x)) dx$$\n",
    "\n",
    "where $a$ and $b$ are the points of intersection of the two curves with $a < b$. The function $f(x)$ is referred to as the *upper function* and $g(x)$ as the *lower function*. Figure 1-9 illustrates this, assuming $f(x) = x$ and $g(x) = x^2$, with a = 0 and b = 1.\n",
    "\n",
    "Your challenge here is to write a program that will allow the user to input any two single-variable functions of $x$ and print the enclosed area between the two. The program should make it clear that the first function entered should be the upper function, and it should also ask for the values of $x$ between which to find the area."
   ]
  },
  {
   "cell_type": "markdown",
   "metadata": {},
   "source": [
    "<img src='fig7-9.png' style='width:450px' />\n",
    "\n",
    "*Figure 1-9: The functions f(x) = x and g(x) = x2 enclose an area between x = 0 and x = 1.0.*"
   ]
  },
  {
   "cell_type": "code",
   "execution_count": 79,
   "metadata": {
    "collapsed": false
   },
   "outputs": [
    {
     "data": {
      "text/plain": [
       "0.166666666666667"
      ]
     },
     "execution_count": 79,
     "metadata": {},
     "output_type": "execute_result"
    }
   ],
   "source": [
    "upperf = 'x'\n",
    "lowerf = 'x**2'\n",
    "a = 0\n",
    "b = 1\n",
    "\n",
    "x = sympy.Symbol('x')\n",
    "\n",
    "sympy.Integral(sympy.sympify(upperf)-sympy.sympify(lowerf), (x, a, b)).doit().evalf()"
   ]
  },
  {
   "cell_type": "code",
   "execution_count": 80,
   "metadata": {
    "collapsed": true
   },
   "outputs": [],
   "source": [
    "def area_between():\n",
    "    upperf = input('Enter the upper function: ')\n",
    "    lowerf = input('Enter the lower function: ')\n",
    "    var = input('Enter the variable: ')\n",
    "    a = input('Enter the lower bound: ')\n",
    "    b = input('Enter the upper bound: ')\n",
    "\n",
    "    x = sympy.Symbol(var)\n",
    "\n",
    "    print('The area between the two curves is', sympy.Integral(sympy.sympify(upperf)-sympy.sympify(lowerf), (x, a, b)).doit().evalf())"
   ]
  },
  {
   "cell_type": "code",
   "execution_count": 85,
   "metadata": {
    "collapsed": false
   },
   "outputs": [
    {
     "name": "stdout",
     "output_type": "stream",
     "text": [
      "Enter the upper function: x\n",
      "Enter the lower function: log(x)\n",
      "Enter the variable: x\n",
      "Enter the lower bound: 1\n",
      "Enter the upper bound: 2\n",
      "The area between the two curves is 1.11370563888011\n"
     ]
    }
   ],
   "source": [
    "area_between()"
   ]
  },
  {
   "cell_type": "markdown",
   "metadata": {},
   "source": [
    "## #4: Finding the Length of a Curve"
   ]
  },
  {
   "cell_type": "markdown",
   "metadata": {},
   "source": [
    "Let’s say you just completed cycling along a road that looks roughly like Figure 1-10. Because you didn’t have an odometer, you want to know whether there’s a mathematical way to determine the distance you cycled. First, we’ll need to find an equation—even an approximation will do—that describes this path."
   ]
  },
  {
   "cell_type": "markdown",
   "metadata": {},
   "source": [
    "<img src='fig7-10.png' style='width:450px' />\n",
    "\n",
    "*Figure 1-10: An approximation of the cycling path*"
   ]
  },
  {
   "cell_type": "markdown",
   "metadata": {},
   "source": [
    "Notice how it looks very similar to the quadratic functions you learned about in algebra? In fact, for this challenge, let’s assume that the equation is $y=f(x)=2x^2 +3x + 1$ and that you cycled from point $A (−5, 36)$ to point $B (10, 231)$. To find the length of this arc—that is, the distance you cycled—we’ll need to calculate the integral\n",
    "\n",
    "$$\\int_{a}^{b}\\sqrt{1+\\left(\\frac{dy}{dx}\\right)^2} dx,$$\n",
    "\n",
    "where $y$ describes the preceding function. Your challenge here is to write a program that will calculate the length of the arc, $AB$. You may also want to generalize your solution so that it allows you to find the length of the arc between any two points for any arbitrary function, $f(x)$."
   ]
  },
  {
   "cell_type": "code",
   "execution_count": 98,
   "metadata": {
    "collapsed": false
   },
   "outputs": [
    {
     "data": {
      "text/plain": [
       "284.804385696140"
      ]
     },
     "execution_count": 98,
     "metadata": {},
     "output_type": "execute_result"
    }
   ],
   "source": [
    "x = sympy.Symbol('x')\n",
    "f = 2*x**2 + 3*x + 1\n",
    "a = -5.36\n",
    "b = 10.231\n",
    "g = sympy.sqrt(1 + (sympy.Derivative(f, x).doit())**2)\n",
    "sympy.Integral(g, (x, a, b)).doit().evalf()"
   ]
  },
  {
   "cell_type": "code",
   "execution_count": 99,
   "metadata": {
    "collapsed": true
   },
   "outputs": [],
   "source": [
    "def arc_length():\n",
    "    f = input('Enter a function: ')\n",
    "    var = input('Enter the variable: ')\n",
    "    a = input('Enter the starting point: ')\n",
    "    b = input('Enter the end point: ')\n",
    "    \n",
    "    x = sympy.Symbol(var)\n",
    "    g = sympy.sqrt(1 + (sympy.Derivative(sympy.sympify(f), x).doit())**2)\n",
    "    print('The length is', sympy.Integral(g, (x, a, b)).doit().evalf())"
   ]
  },
  {
   "cell_type": "code",
   "execution_count": 100,
   "metadata": {
    "collapsed": false
   },
   "outputs": [
    {
     "name": "stdout",
     "output_type": "stream",
     "text": [
      "Enter a function: 2*x**2 + 3*x + 1\n",
      "Enter the variable: x\n",
      "Enter the starting point: -5.36\n",
      "Enter the end point: 10.231\n",
      "The length is 284.804385696140\n"
     ]
    }
   ],
   "source": [
    "arc_length()"
   ]
  }
 ],
 "metadata": {
  "anaconda-cloud": {},
  "kernelspec": {
   "display_name": "Python 3",
   "language": "python",
   "name": "python3"
  },
  "language_info": {
   "codemirror_mode": {
    "name": "ipython",
    "version": 3
   },
   "file_extension": ".py",
   "mimetype": "text/x-python",
   "name": "python",
   "nbconvert_exporter": "python",
   "pygments_lexer": "ipython3",
   "version": "3.6.0"
  }
 },
 "nbformat": 4,
 "nbformat_minor": 2
}
