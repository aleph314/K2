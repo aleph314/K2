{
 "cells": [
  {
   "cell_type": "markdown",
   "metadata": {
    "collapsed": true
   },
   "source": [
    "# Model Evaluation"
   ]
  },
  {
   "cell_type": "markdown",
   "metadata": {},
   "source": [
    "## Pipeline and Feature Unions\n",
    "It is always a good decision to make your code as readable as possible.  Not only so that others can pick it up and use it easily, but so that you don't end up hating your past self when you take a look at something you wrote several months prior.  Pipelines are a great tool for integrating and reusing a series of data transformations and fits into a workflow. In this exercise you'll build some pipelines and feature unions using the Concrete Compressive Data Set."
   ]
  },
  {
   "cell_type": "markdown",
   "metadata": {},
   "source": [
    "1 - Head over to the [Machine Learning Repository](http://archive.ics.uci.edu/ml/index.php), download the [Concrete Compressive Data Set](http://archive.ics.uci.edu/ml/machine-learning-databases/concrete/compressive/), put it into a dataframe, and split into training and test sets.  Be sure to familiarize yourself with the data before proceeding."
   ]
  },
  {
   "cell_type": "code",
   "execution_count": 1,
   "metadata": {
    "collapsed": true
   },
   "outputs": [],
   "source": [
    "import numpy as np\n",
    "import pandas as pd\n",
    "import matplotlib.pyplot as plt\n",
    "import seaborn as sns\n",
    "%matplotlib inline"
   ]
  },
  {
   "cell_type": "code",
   "execution_count": 2,
   "metadata": {
    "collapsed": true
   },
   "outputs": [],
   "source": [
    "from sklearn.base import BaseEstimator, TransformerMixin\n",
    "from sklearn.utils import resample\n",
    "from sklearn.preprocessing import PolynomialFeatures, StandardScaler, LabelEncoder, OneHotEncoder\n",
    "from sklearn.feature_selection import f_regression, SelectKBest, SelectFromModel\n",
    "from sklearn.decomposition import PCA\n",
    "from sklearn.model_selection import train_test_split, cross_val_score, validation_curve, GridSearchCV,\\\n",
    "                                    learning_curve, StratifiedKFold, LeaveOneOut, KFold\n",
    "from sklearn.metrics import mean_squared_error, confusion_matrix, precision_score, accuracy_score, recall_score,\\\n",
    "                            f1_score, precision_recall_curve, roc_curve, roc_auc_score\n",
    "from sklearn.pipeline import Pipeline, FeatureUnion\n",
    "from sklearn.linear_model import LinearRegression, LassoCV, LogisticRegression, Ridge\n",
    "from sklearn.neighbors import KNeighborsClassifier\n",
    "from sklearn.svm import SVC\n",
    "from sklearn.ensemble import RandomForestClassifier, RandomForestRegressor"
   ]
  },
  {
   "cell_type": "code",
   "execution_count": 2,
   "metadata": {
    "collapsed": true
   },
   "outputs": [],
   "source": [
    "concrete = pd.read_excel('http://archive.ics.uci.edu/ml/machine-learning-databases/concrete/compressive/Concrete_Data.xls')\n",
    "concrete.columns = ['cement', 'blast_furnace_slag', 'fly_ash', 'water', 'superplasticizer',\n",
    "                    'coarse_aggregate', 'fine_aggregate', 'age', 'concrete_compressive_strength']"
   ]
  },
  {
   "cell_type": "code",
   "execution_count": 3,
   "metadata": {},
   "outputs": [
    {
     "data": {
      "text/html": [
       "<div>\n",
       "<style>\n",
       "    .dataframe thead tr:only-child th {\n",
       "        text-align: right;\n",
       "    }\n",
       "\n",
       "    .dataframe thead th {\n",
       "        text-align: left;\n",
       "    }\n",
       "\n",
       "    .dataframe tbody tr th {\n",
       "        vertical-align: top;\n",
       "    }\n",
       "</style>\n",
       "<table border=\"1\" class=\"dataframe\">\n",
       "  <thead>\n",
       "    <tr style=\"text-align: right;\">\n",
       "      <th></th>\n",
       "      <th>cement</th>\n",
       "      <th>blast_furnace_slag</th>\n",
       "      <th>fly_ash</th>\n",
       "      <th>water</th>\n",
       "      <th>superplasticizer</th>\n",
       "      <th>coarse_aggregate</th>\n",
       "      <th>fine_aggregate</th>\n",
       "      <th>age</th>\n",
       "      <th>concrete_compressive_strength</th>\n",
       "    </tr>\n",
       "  </thead>\n",
       "  <tbody>\n",
       "    <tr>\n",
       "      <th>0</th>\n",
       "      <td>540.0</td>\n",
       "      <td>0.0</td>\n",
       "      <td>0.0</td>\n",
       "      <td>162.0</td>\n",
       "      <td>2.5</td>\n",
       "      <td>1040.0</td>\n",
       "      <td>676.0</td>\n",
       "      <td>28</td>\n",
       "      <td>79.986111</td>\n",
       "    </tr>\n",
       "    <tr>\n",
       "      <th>1</th>\n",
       "      <td>540.0</td>\n",
       "      <td>0.0</td>\n",
       "      <td>0.0</td>\n",
       "      <td>162.0</td>\n",
       "      <td>2.5</td>\n",
       "      <td>1055.0</td>\n",
       "      <td>676.0</td>\n",
       "      <td>28</td>\n",
       "      <td>61.887366</td>\n",
       "    </tr>\n",
       "    <tr>\n",
       "      <th>2</th>\n",
       "      <td>332.5</td>\n",
       "      <td>142.5</td>\n",
       "      <td>0.0</td>\n",
       "      <td>228.0</td>\n",
       "      <td>0.0</td>\n",
       "      <td>932.0</td>\n",
       "      <td>594.0</td>\n",
       "      <td>270</td>\n",
       "      <td>40.269535</td>\n",
       "    </tr>\n",
       "    <tr>\n",
       "      <th>3</th>\n",
       "      <td>332.5</td>\n",
       "      <td>142.5</td>\n",
       "      <td>0.0</td>\n",
       "      <td>228.0</td>\n",
       "      <td>0.0</td>\n",
       "      <td>932.0</td>\n",
       "      <td>594.0</td>\n",
       "      <td>365</td>\n",
       "      <td>41.052780</td>\n",
       "    </tr>\n",
       "    <tr>\n",
       "      <th>4</th>\n",
       "      <td>198.6</td>\n",
       "      <td>132.4</td>\n",
       "      <td>0.0</td>\n",
       "      <td>192.0</td>\n",
       "      <td>0.0</td>\n",
       "      <td>978.4</td>\n",
       "      <td>825.5</td>\n",
       "      <td>360</td>\n",
       "      <td>44.296075</td>\n",
       "    </tr>\n",
       "  </tbody>\n",
       "</table>\n",
       "</div>"
      ],
      "text/plain": [
       "   cement  blast_furnace_slag  fly_ash  water  superplasticizer  \\\n",
       "0   540.0                 0.0      0.0  162.0               2.5   \n",
       "1   540.0                 0.0      0.0  162.0               2.5   \n",
       "2   332.5               142.5      0.0  228.0               0.0   \n",
       "3   332.5               142.5      0.0  228.0               0.0   \n",
       "4   198.6               132.4      0.0  192.0               0.0   \n",
       "\n",
       "   coarse_aggregate  fine_aggregate  age  concrete_compressive_strength  \n",
       "0            1040.0           676.0   28                      79.986111  \n",
       "1            1055.0           676.0   28                      61.887366  \n",
       "2             932.0           594.0  270                      40.269535  \n",
       "3             932.0           594.0  365                      41.052780  \n",
       "4             978.4           825.5  360                      44.296075  "
      ]
     },
     "execution_count": 3,
     "metadata": {},
     "output_type": "execute_result"
    }
   ],
   "source": [
    "concrete.head()"
   ]
  },
  {
   "cell_type": "code",
   "execution_count": 4,
   "metadata": {},
   "outputs": [
    {
     "name": "stdout",
     "output_type": "stream",
     "text": [
      "<class 'pandas.core.frame.DataFrame'>\n",
      "RangeIndex: 1030 entries, 0 to 1029\n",
      "Data columns (total 9 columns):\n",
      "cement                           1030 non-null float64\n",
      "blast_furnace_slag               1030 non-null float64\n",
      "fly_ash                          1030 non-null float64\n",
      "water                            1030 non-null float64\n",
      "superplasticizer                 1030 non-null float64\n",
      "coarse_aggregate                 1030 non-null float64\n",
      "fine_aggregate                   1030 non-null float64\n",
      "age                              1030 non-null int64\n",
      "concrete_compressive_strength    1030 non-null float64\n",
      "dtypes: float64(8), int64(1)\n",
      "memory usage: 72.5 KB\n"
     ]
    }
   ],
   "source": [
    "concrete.info()"
   ]
  },
  {
   "cell_type": "code",
   "execution_count": 5,
   "metadata": {},
   "outputs": [
    {
     "data": {
      "text/html": [
       "<div>\n",
       "<style>\n",
       "    .dataframe thead tr:only-child th {\n",
       "        text-align: right;\n",
       "    }\n",
       "\n",
       "    .dataframe thead th {\n",
       "        text-align: left;\n",
       "    }\n",
       "\n",
       "    .dataframe tbody tr th {\n",
       "        vertical-align: top;\n",
       "    }\n",
       "</style>\n",
       "<table border=\"1\" class=\"dataframe\">\n",
       "  <thead>\n",
       "    <tr style=\"text-align: right;\">\n",
       "      <th></th>\n",
       "      <th>count</th>\n",
       "      <th>mean</th>\n",
       "      <th>std</th>\n",
       "      <th>min</th>\n",
       "      <th>25%</th>\n",
       "      <th>50%</th>\n",
       "      <th>75%</th>\n",
       "      <th>max</th>\n",
       "    </tr>\n",
       "  </thead>\n",
       "  <tbody>\n",
       "    <tr>\n",
       "      <th>cement</th>\n",
       "      <td>1030.0</td>\n",
       "      <td>281.165631</td>\n",
       "      <td>104.507142</td>\n",
       "      <td>102.000000</td>\n",
       "      <td>192.375000</td>\n",
       "      <td>272.900000</td>\n",
       "      <td>350.000000</td>\n",
       "      <td>540.000000</td>\n",
       "    </tr>\n",
       "    <tr>\n",
       "      <th>blast_furnace_slag</th>\n",
       "      <td>1030.0</td>\n",
       "      <td>73.895485</td>\n",
       "      <td>86.279104</td>\n",
       "      <td>0.000000</td>\n",
       "      <td>0.000000</td>\n",
       "      <td>22.000000</td>\n",
       "      <td>142.950000</td>\n",
       "      <td>359.400000</td>\n",
       "    </tr>\n",
       "    <tr>\n",
       "      <th>fly_ash</th>\n",
       "      <td>1030.0</td>\n",
       "      <td>54.187136</td>\n",
       "      <td>63.996469</td>\n",
       "      <td>0.000000</td>\n",
       "      <td>0.000000</td>\n",
       "      <td>0.000000</td>\n",
       "      <td>118.270000</td>\n",
       "      <td>200.100000</td>\n",
       "    </tr>\n",
       "    <tr>\n",
       "      <th>water</th>\n",
       "      <td>1030.0</td>\n",
       "      <td>181.566359</td>\n",
       "      <td>21.355567</td>\n",
       "      <td>121.750000</td>\n",
       "      <td>164.900000</td>\n",
       "      <td>185.000000</td>\n",
       "      <td>192.000000</td>\n",
       "      <td>247.000000</td>\n",
       "    </tr>\n",
       "    <tr>\n",
       "      <th>superplasticizer</th>\n",
       "      <td>1030.0</td>\n",
       "      <td>6.203112</td>\n",
       "      <td>5.973492</td>\n",
       "      <td>0.000000</td>\n",
       "      <td>0.000000</td>\n",
       "      <td>6.350000</td>\n",
       "      <td>10.160000</td>\n",
       "      <td>32.200000</td>\n",
       "    </tr>\n",
       "    <tr>\n",
       "      <th>coarse_aggregate</th>\n",
       "      <td>1030.0</td>\n",
       "      <td>972.918592</td>\n",
       "      <td>77.753818</td>\n",
       "      <td>801.000000</td>\n",
       "      <td>932.000000</td>\n",
       "      <td>968.000000</td>\n",
       "      <td>1029.400000</td>\n",
       "      <td>1145.000000</td>\n",
       "    </tr>\n",
       "    <tr>\n",
       "      <th>fine_aggregate</th>\n",
       "      <td>1030.0</td>\n",
       "      <td>773.578883</td>\n",
       "      <td>80.175427</td>\n",
       "      <td>594.000000</td>\n",
       "      <td>730.950000</td>\n",
       "      <td>779.510000</td>\n",
       "      <td>824.000000</td>\n",
       "      <td>992.600000</td>\n",
       "    </tr>\n",
       "    <tr>\n",
       "      <th>age</th>\n",
       "      <td>1030.0</td>\n",
       "      <td>45.662136</td>\n",
       "      <td>63.169912</td>\n",
       "      <td>1.000000</td>\n",
       "      <td>7.000000</td>\n",
       "      <td>28.000000</td>\n",
       "      <td>56.000000</td>\n",
       "      <td>365.000000</td>\n",
       "    </tr>\n",
       "    <tr>\n",
       "      <th>concrete_compressive_strength</th>\n",
       "      <td>1030.0</td>\n",
       "      <td>35.817836</td>\n",
       "      <td>16.705679</td>\n",
       "      <td>2.331808</td>\n",
       "      <td>23.707115</td>\n",
       "      <td>34.442774</td>\n",
       "      <td>46.136287</td>\n",
       "      <td>82.599225</td>\n",
       "    </tr>\n",
       "  </tbody>\n",
       "</table>\n",
       "</div>"
      ],
      "text/plain": [
       "                                count        mean         std         min  \\\n",
       "cement                         1030.0  281.165631  104.507142  102.000000   \n",
       "blast_furnace_slag             1030.0   73.895485   86.279104    0.000000   \n",
       "fly_ash                        1030.0   54.187136   63.996469    0.000000   \n",
       "water                          1030.0  181.566359   21.355567  121.750000   \n",
       "superplasticizer               1030.0    6.203112    5.973492    0.000000   \n",
       "coarse_aggregate               1030.0  972.918592   77.753818  801.000000   \n",
       "fine_aggregate                 1030.0  773.578883   80.175427  594.000000   \n",
       "age                            1030.0   45.662136   63.169912    1.000000   \n",
       "concrete_compressive_strength  1030.0   35.817836   16.705679    2.331808   \n",
       "\n",
       "                                      25%         50%          75%  \\\n",
       "cement                         192.375000  272.900000   350.000000   \n",
       "blast_furnace_slag               0.000000   22.000000   142.950000   \n",
       "fly_ash                          0.000000    0.000000   118.270000   \n",
       "water                          164.900000  185.000000   192.000000   \n",
       "superplasticizer                 0.000000    6.350000    10.160000   \n",
       "coarse_aggregate               932.000000  968.000000  1029.400000   \n",
       "fine_aggregate                 730.950000  779.510000   824.000000   \n",
       "age                              7.000000   28.000000    56.000000   \n",
       "concrete_compressive_strength   23.707115   34.442774    46.136287   \n",
       "\n",
       "                                       max  \n",
       "cement                          540.000000  \n",
       "blast_furnace_slag              359.400000  \n",
       "fly_ash                         200.100000  \n",
       "water                           247.000000  \n",
       "superplasticizer                 32.200000  \n",
       "coarse_aggregate               1145.000000  \n",
       "fine_aggregate                  992.600000  \n",
       "age                             365.000000  \n",
       "concrete_compressive_strength    82.599225  "
      ]
     },
     "execution_count": 5,
     "metadata": {},
     "output_type": "execute_result"
    }
   ],
   "source": [
    "concrete.describe().T"
   ]
  },
  {
   "cell_type": "code",
   "execution_count": 6,
   "metadata": {
    "collapsed": true
   },
   "outputs": [],
   "source": [
    "Xtrain, Xtest, ytrain, ytest = train_test_split(concrete.drop('concrete_compressive_strength', axis=1),\n",
    "                                                concrete.concrete_compressive_strength, \n",
    "                                                test_size=0.2, random_state=42)"
   ]
  },
  {
   "cell_type": "markdown",
   "metadata": {},
   "source": [
    "2 - Build a pipeline for polynomial fitting, fit polynomials of degree 1 to the number of features, and plot your training and testing errors for each.  Comment on your results"
   ]
  },
  {
   "cell_type": "code",
   "execution_count": 16,
   "metadata": {
    "collapsed": true
   },
   "outputs": [],
   "source": [
    "# scaling+pol+linear regression\n",
    "pipe = Pipeline([\n",
    "    ('scl', StandardScaler()),\n",
    "    ('poly', PolynomialFeatures()),\n",
    "    ('lr', LinearRegression())\n",
    "])"
   ]
  },
  {
   "cell_type": "code",
   "execution_count": 17,
   "metadata": {
    "collapsed": true
   },
   "outputs": [],
   "source": [
    "scores = []\n",
    "# looping through degrees\n",
    "for n in range(1, Xtrain.shape[1]+1):\n",
    "    # set pipeline params\n",
    "    pipe.set_params(poly__degree=n)\n",
    "    # fit and score\n",
    "    pipe.fit(Xtrain, ytrain)\n",
    "    scores.append([n, pipe.score(Xtrain, ytrain), pipe.score(Xtest, ytest)])\n",
    "\n",
    "scores = pd.DataFrame(scores)\n",
    "scores.columns = ['degree', 'train score', 'test score']"
   ]
  },
  {
   "cell_type": "code",
   "execution_count": 18,
   "metadata": {},
   "outputs": [
    {
     "data": {
      "text/html": [
       "<div>\n",
       "<style>\n",
       "    .dataframe thead tr:only-child th {\n",
       "        text-align: right;\n",
       "    }\n",
       "\n",
       "    .dataframe thead th {\n",
       "        text-align: left;\n",
       "    }\n",
       "\n",
       "    .dataframe tbody tr th {\n",
       "        vertical-align: top;\n",
       "    }\n",
       "</style>\n",
       "<table border=\"1\" class=\"dataframe\">\n",
       "  <thead>\n",
       "    <tr style=\"text-align: right;\">\n",
       "      <th></th>\n",
       "      <th>degree</th>\n",
       "      <th>train score</th>\n",
       "      <th>test score</th>\n",
       "    </tr>\n",
       "  </thead>\n",
       "  <tbody>\n",
       "    <tr>\n",
       "      <th>0</th>\n",
       "      <td>1</td>\n",
       "      <td>0.610459</td>\n",
       "      <td>6.275416e-01</td>\n",
       "    </tr>\n",
       "    <tr>\n",
       "      <th>1</th>\n",
       "      <td>2</td>\n",
       "      <td>0.813116</td>\n",
       "      <td>7.842685e-01</td>\n",
       "    </tr>\n",
       "    <tr>\n",
       "      <th>2</th>\n",
       "      <td>3</td>\n",
       "      <td>0.931086</td>\n",
       "      <td>8.437174e-01</td>\n",
       "    </tr>\n",
       "    <tr>\n",
       "      <th>3</th>\n",
       "      <td>4</td>\n",
       "      <td>0.983277</td>\n",
       "      <td>-2.352121e+01</td>\n",
       "    </tr>\n",
       "    <tr>\n",
       "      <th>4</th>\n",
       "      <td>5</td>\n",
       "      <td>0.993065</td>\n",
       "      <td>-8.443128e+16</td>\n",
       "    </tr>\n",
       "    <tr>\n",
       "      <th>5</th>\n",
       "      <td>6</td>\n",
       "      <td>0.997491</td>\n",
       "      <td>-4.868762e+10</td>\n",
       "    </tr>\n",
       "    <tr>\n",
       "      <th>6</th>\n",
       "      <td>7</td>\n",
       "      <td>0.997542</td>\n",
       "      <td>-2.671983e+10</td>\n",
       "    </tr>\n",
       "    <tr>\n",
       "      <th>7</th>\n",
       "      <td>8</td>\n",
       "      <td>0.997542</td>\n",
       "      <td>-2.194118e+10</td>\n",
       "    </tr>\n",
       "  </tbody>\n",
       "</table>\n",
       "</div>"
      ],
      "text/plain": [
       "   degree  train score    test score\n",
       "0       1     0.610459  6.275416e-01\n",
       "1       2     0.813116  7.842685e-01\n",
       "2       3     0.931086  8.437174e-01\n",
       "3       4     0.983277 -2.352121e+01\n",
       "4       5     0.993065 -8.443128e+16\n",
       "5       6     0.997491 -4.868762e+10\n",
       "6       7     0.997542 -2.671983e+10\n",
       "7       8     0.997542 -2.194118e+10"
      ]
     },
     "execution_count": 18,
     "metadata": {},
     "output_type": "execute_result"
    }
   ],
   "source": [
    "scores"
   ]
  },
  {
   "cell_type": "code",
   "execution_count": 19,
   "metadata": {},
   "outputs": [
    {
     "data": {
      "image/png": "[encoded data removed]",
      "text/plain": [
       "<matplotlib.figure.Figure at 0x14d9b98dda0>"
      ]
     },
     "metadata": {},
     "output_type": "display_data"
    }
   ],
   "source": [
    "# plot on two separate axes cause the scales are very different\n",
    "fig, ax = plt.subplots(2, figsize=(10, 8))\n",
    "ax[0].plot(scores.degree, scores['train score'], label='train score')\n",
    "ax[1].plot(scores.degree, scores['test score'], label='test score');"
   ]
  },
  {
   "cell_type": "markdown",
   "metadata": {},
   "source": [
    "Increasing the number of features increases the training score but we get very bad generalization (with a really strange peak for the fifth degree polynomial). The best score is for the third degree (84%)."
   ]
  },
  {
   "cell_type": "markdown",
   "metadata": {},
   "source": [
    "3 - Build a pipeline that will perform feature selection on the dataset using the F-Statistic, producing the same plots as in part (2).  Comment on your results."
   ]
  },
  {
   "cell_type": "code",
   "execution_count": 20,
   "metadata": {
    "collapsed": true
   },
   "outputs": [],
   "source": [
    "# scaling, select k best and linear regression\n",
    "pipe = Pipeline([\n",
    "    ('scl', StandardScaler()),\n",
    "    ('best', SelectKBest()),\n",
    "    ('lr', LinearRegression())\n",
    "])"
   ]
  },
  {
   "cell_type": "code",
   "execution_count": 21,
   "metadata": {
    "collapsed": true
   },
   "outputs": [],
   "source": [
    "scores = []\n",
    "# looping over number of features\n",
    "for n in range(1, Xtrain.shape[1]+1):\n",
    "    # set pipe params\n",
    "    pipe.set_params(best__k=n)\n",
    "    # fit and score\n",
    "    pipe.fit(Xtrain, ytrain)\n",
    "    scores.append([n, pipe.score(Xtrain, ytrain), pipe.score(Xtest, ytest)])\n",
    "\n",
    "scores = pd.DataFrame(scores)\n",
    "scores.columns = ['n_features', 'train score', 'test score']"
   ]
  },
  {
   "cell_type": "code",
   "execution_count": 22,
   "metadata": {},
   "outputs": [
    {
     "data": {
      "text/html": [
       "<div>\n",
       "<style>\n",
       "    .dataframe thead tr:only-child th {\n",
       "        text-align: right;\n",
       "    }\n",
       "\n",
       "    .dataframe thead th {\n",
       "        text-align: left;\n",
       "    }\n",
       "\n",
       "    .dataframe tbody tr th {\n",
       "        vertical-align: top;\n",
       "    }\n",
       "</style>\n",
       "<table border=\"1\" class=\"dataframe\">\n",
       "  <thead>\n",
       "    <tr style=\"text-align: right;\">\n",
       "      <th></th>\n",
       "      <th>n_features</th>\n",
       "      <th>train score</th>\n",
       "      <th>test score</th>\n",
       "    </tr>\n",
       "  </thead>\n",
       "  <tbody>\n",
       "    <tr>\n",
       "      <th>0</th>\n",
       "      <td>1</td>\n",
       "      <td>0.022424</td>\n",
       "      <td>-0.049665</td>\n",
       "    </tr>\n",
       "    <tr>\n",
       "      <th>1</th>\n",
       "      <td>2</td>\n",
       "      <td>0.250075</td>\n",
       "      <td>0.282219</td>\n",
       "    </tr>\n",
       "    <tr>\n",
       "      <th>2</th>\n",
       "      <td>3</td>\n",
       "      <td>0.406718</td>\n",
       "      <td>0.377323</td>\n",
       "    </tr>\n",
       "    <tr>\n",
       "      <th>3</th>\n",
       "      <td>4</td>\n",
       "      <td>0.447335</td>\n",
       "      <td>0.415596</td>\n",
       "    </tr>\n",
       "    <tr>\n",
       "      <th>4</th>\n",
       "      <td>5</td>\n",
       "      <td>0.453252</td>\n",
       "      <td>0.415120</td>\n",
       "    </tr>\n",
       "    <tr>\n",
       "      <th>5</th>\n",
       "      <td>6</td>\n",
       "      <td>0.608487</td>\n",
       "      <td>0.628831</td>\n",
       "    </tr>\n",
       "    <tr>\n",
       "      <th>6</th>\n",
       "      <td>7</td>\n",
       "      <td>0.609058</td>\n",
       "      <td>0.626123</td>\n",
       "    </tr>\n",
       "    <tr>\n",
       "      <th>7</th>\n",
       "      <td>8</td>\n",
       "      <td>0.610459</td>\n",
       "      <td>0.627542</td>\n",
       "    </tr>\n",
       "  </tbody>\n",
       "</table>\n",
       "</div>"
      ],
      "text/plain": [
       "   n_features  train score  test score\n",
       "0           1     0.022424   -0.049665\n",
       "1           2     0.250075    0.282219\n",
       "2           3     0.406718    0.377323\n",
       "3           4     0.447335    0.415596\n",
       "4           5     0.453252    0.415120\n",
       "5           6     0.608487    0.628831\n",
       "6           7     0.609058    0.626123\n",
       "7           8     0.610459    0.627542"
      ]
     },
     "execution_count": 22,
     "metadata": {},
     "output_type": "execute_result"
    }
   ],
   "source": [
    "scores"
   ]
  },
  {
   "cell_type": "code",
   "execution_count": 25,
   "metadata": {},
   "outputs": [
    {
     "data": {
      "image/png": "[encoded data removed]",
      "text/plain": [
       "<matplotlib.figure.Figure at 0x14d9cb152e8>"
      ]
     },
     "metadata": {},
     "output_type": "display_data"
    }
   ],
   "source": [
    "# train and test on a single plot\n",
    "fig, ax = plt.subplots(figsize=(10, 8))\n",
    "ax.plot(scores.n_features, scores['train score'], label='train score')\n",
    "ax.plot(scores.n_features, scores['test score'], label='test score')\n",
    "ax.legend();"
   ]
  },
  {
   "cell_type": "markdown",
   "metadata": {},
   "source": [
    "After adding the sixth variable we have little improvement in the results."
   ]
  },
  {
   "cell_type": "markdown",
   "metadata": {},
   "source": [
    "4 - Build a pipeline that standardizes your data, performs feature selection via regularization, and then fits a model of your choice.  Produce the same plots as above and comment on your results."
   ]
  },
  {
   "cell_type": "code",
   "execution_count": 26,
   "metadata": {
    "collapsed": true
   },
   "outputs": [],
   "source": [
    "# scaling, select from model using lassoCV and lassoCV\n",
    "pipe = Pipeline([\n",
    "    ('scl', StandardScaler()),\n",
    "    ('sfmod', SelectFromModel(LassoCV())),\n",
    "    ('lasso', LassoCV())\n",
    "])"
   ]
  },
  {
   "cell_type": "code",
   "execution_count": 38,
   "metadata": {
    "collapsed": true
   },
   "outputs": [],
   "source": [
    "scores = []\n",
    "# looping through threshold values\n",
    "for c in np.arange(0, 0.5, 0.01):\n",
    "    pipe.set_params(sfmod__threshold=str(c) + '*mean')\n",
    "    pipe.fit(Xtrain, ytrain)\n",
    "    scores.append([c, pipe.score(Xtrain, ytrain), pipe.score(Xtest, ytest)])\n",
    "#     sel = pipe.named_steps['sfmod']\n",
    "#     print(Xtrain.columns[sel.transform(np.arange(len(Xtrain.columns)).reshape(1, -1))])\n",
    "\n",
    "scores = pd.DataFrame(scores)\n",
    "scores.columns = ['threshold', 'train score', 'test score']"
   ]
  },
  {
   "cell_type": "code",
   "execution_count": 39,
   "metadata": {
    "scrolled": true
   },
   "outputs": [
    {
     "data": {
      "text/html": [
       "<div>\n",
       "<style>\n",
       "    .dataframe thead tr:only-child th {\n",
       "        text-align: right;\n",
       "    }\n",
       "\n",
       "    .dataframe thead th {\n",
       "        text-align: left;\n",
       "    }\n",
       "\n",
       "    .dataframe tbody tr th {\n",
       "        vertical-align: top;\n",
       "    }\n",
       "</style>\n",
       "<table border=\"1\" class=\"dataframe\">\n",
       "  <thead>\n",
       "    <tr style=\"text-align: right;\">\n",
       "      <th></th>\n",
       "      <th>threshold</th>\n",
       "      <th>train score</th>\n",
       "      <th>test score</th>\n",
       "    </tr>\n",
       "  </thead>\n",
       "  <tbody>\n",
       "    <tr>\n",
       "      <th>0</th>\n",
       "      <td>0.00</td>\n",
       "      <td>0.610433</td>\n",
       "      <td>0.627549</td>\n",
       "    </tr>\n",
       "    <tr>\n",
       "      <th>1</th>\n",
       "      <td>0.01</td>\n",
       "      <td>0.610433</td>\n",
       "      <td>0.627549</td>\n",
       "    </tr>\n",
       "    <tr>\n",
       "      <th>2</th>\n",
       "      <td>0.02</td>\n",
       "      <td>0.610433</td>\n",
       "      <td>0.627549</td>\n",
       "    </tr>\n",
       "    <tr>\n",
       "      <th>3</th>\n",
       "      <td>0.03</td>\n",
       "      <td>0.610433</td>\n",
       "      <td>0.627549</td>\n",
       "    </tr>\n",
       "    <tr>\n",
       "      <th>4</th>\n",
       "      <td>0.04</td>\n",
       "      <td>0.610433</td>\n",
       "      <td>0.627549</td>\n",
       "    </tr>\n",
       "    <tr>\n",
       "      <th>5</th>\n",
       "      <td>0.05</td>\n",
       "      <td>0.610433</td>\n",
       "      <td>0.627549</td>\n",
       "    </tr>\n",
       "    <tr>\n",
       "      <th>6</th>\n",
       "      <td>0.06</td>\n",
       "      <td>0.610433</td>\n",
       "      <td>0.627549</td>\n",
       "    </tr>\n",
       "    <tr>\n",
       "      <th>7</th>\n",
       "      <td>0.07</td>\n",
       "      <td>0.610433</td>\n",
       "      <td>0.627549</td>\n",
       "    </tr>\n",
       "    <tr>\n",
       "      <th>8</th>\n",
       "      <td>0.08</td>\n",
       "      <td>0.610433</td>\n",
       "      <td>0.627549</td>\n",
       "    </tr>\n",
       "    <tr>\n",
       "      <th>9</th>\n",
       "      <td>0.09</td>\n",
       "      <td>0.610433</td>\n",
       "      <td>0.627549</td>\n",
       "    </tr>\n",
       "    <tr>\n",
       "      <th>10</th>\n",
       "      <td>0.10</td>\n",
       "      <td>0.610433</td>\n",
       "      <td>0.627549</td>\n",
       "    </tr>\n",
       "    <tr>\n",
       "      <th>11</th>\n",
       "      <td>0.11</td>\n",
       "      <td>0.610433</td>\n",
       "      <td>0.627549</td>\n",
       "    </tr>\n",
       "    <tr>\n",
       "      <th>12</th>\n",
       "      <td>0.12</td>\n",
       "      <td>0.610433</td>\n",
       "      <td>0.627549</td>\n",
       "    </tr>\n",
       "    <tr>\n",
       "      <th>13</th>\n",
       "      <td>0.13</td>\n",
       "      <td>0.610433</td>\n",
       "      <td>0.627549</td>\n",
       "    </tr>\n",
       "    <tr>\n",
       "      <th>14</th>\n",
       "      <td>0.14</td>\n",
       "      <td>0.610433</td>\n",
       "      <td>0.627549</td>\n",
       "    </tr>\n",
       "    <tr>\n",
       "      <th>15</th>\n",
       "      <td>0.15</td>\n",
       "      <td>0.610433</td>\n",
       "      <td>0.627549</td>\n",
       "    </tr>\n",
       "    <tr>\n",
       "      <th>16</th>\n",
       "      <td>0.16</td>\n",
       "      <td>0.610433</td>\n",
       "      <td>0.627549</td>\n",
       "    </tr>\n",
       "    <tr>\n",
       "      <th>17</th>\n",
       "      <td>0.17</td>\n",
       "      <td>0.610433</td>\n",
       "      <td>0.627549</td>\n",
       "    </tr>\n",
       "    <tr>\n",
       "      <th>18</th>\n",
       "      <td>0.18</td>\n",
       "      <td>0.610433</td>\n",
       "      <td>0.627549</td>\n",
       "    </tr>\n",
       "    <tr>\n",
       "      <th>19</th>\n",
       "      <td>0.19</td>\n",
       "      <td>0.610433</td>\n",
       "      <td>0.627549</td>\n",
       "    </tr>\n",
       "    <tr>\n",
       "      <th>20</th>\n",
       "      <td>0.20</td>\n",
       "      <td>0.610433</td>\n",
       "      <td>0.627549</td>\n",
       "    </tr>\n",
       "    <tr>\n",
       "      <th>21</th>\n",
       "      <td>0.21</td>\n",
       "      <td>0.610433</td>\n",
       "      <td>0.627549</td>\n",
       "    </tr>\n",
       "    <tr>\n",
       "      <th>22</th>\n",
       "      <td>0.22</td>\n",
       "      <td>0.610433</td>\n",
       "      <td>0.627549</td>\n",
       "    </tr>\n",
       "    <tr>\n",
       "      <th>23</th>\n",
       "      <td>0.23</td>\n",
       "      <td>0.610433</td>\n",
       "      <td>0.627549</td>\n",
       "    </tr>\n",
       "    <tr>\n",
       "      <th>24</th>\n",
       "      <td>0.24</td>\n",
       "      <td>0.609051</td>\n",
       "      <td>0.626168</td>\n",
       "    </tr>\n",
       "    <tr>\n",
       "      <th>25</th>\n",
       "      <td>0.25</td>\n",
       "      <td>0.609051</td>\n",
       "      <td>0.626168</td>\n",
       "    </tr>\n",
       "    <tr>\n",
       "      <th>26</th>\n",
       "      <td>0.26</td>\n",
       "      <td>0.609051</td>\n",
       "      <td>0.626168</td>\n",
       "    </tr>\n",
       "    <tr>\n",
       "      <th>27</th>\n",
       "      <td>0.27</td>\n",
       "      <td>0.609051</td>\n",
       "      <td>0.626168</td>\n",
       "    </tr>\n",
       "    <tr>\n",
       "      <th>28</th>\n",
       "      <td>0.28</td>\n",
       "      <td>0.609051</td>\n",
       "      <td>0.626168</td>\n",
       "    </tr>\n",
       "    <tr>\n",
       "      <th>29</th>\n",
       "      <td>0.29</td>\n",
       "      <td>0.609051</td>\n",
       "      <td>0.626168</td>\n",
       "    </tr>\n",
       "    <tr>\n",
       "      <th>30</th>\n",
       "      <td>0.30</td>\n",
       "      <td>0.609051</td>\n",
       "      <td>0.626168</td>\n",
       "    </tr>\n",
       "    <tr>\n",
       "      <th>31</th>\n",
       "      <td>0.31</td>\n",
       "      <td>0.609051</td>\n",
       "      <td>0.626168</td>\n",
       "    </tr>\n",
       "    <tr>\n",
       "      <th>32</th>\n",
       "      <td>0.32</td>\n",
       "      <td>0.609051</td>\n",
       "      <td>0.626168</td>\n",
       "    </tr>\n",
       "    <tr>\n",
       "      <th>33</th>\n",
       "      <td>0.33</td>\n",
       "      <td>0.609051</td>\n",
       "      <td>0.626168</td>\n",
       "    </tr>\n",
       "    <tr>\n",
       "      <th>34</th>\n",
       "      <td>0.34</td>\n",
       "      <td>0.608472</td>\n",
       "      <td>0.628418</td>\n",
       "    </tr>\n",
       "    <tr>\n",
       "      <th>35</th>\n",
       "      <td>0.35</td>\n",
       "      <td>0.604464</td>\n",
       "      <td>0.629566</td>\n",
       "    </tr>\n",
       "    <tr>\n",
       "      <th>36</th>\n",
       "      <td>0.36</td>\n",
       "      <td>0.604464</td>\n",
       "      <td>0.629566</td>\n",
       "    </tr>\n",
       "    <tr>\n",
       "      <th>37</th>\n",
       "      <td>0.37</td>\n",
       "      <td>0.604464</td>\n",
       "      <td>0.629566</td>\n",
       "    </tr>\n",
       "    <tr>\n",
       "      <th>38</th>\n",
       "      <td>0.38</td>\n",
       "      <td>0.604464</td>\n",
       "      <td>0.629566</td>\n",
       "    </tr>\n",
       "    <tr>\n",
       "      <th>39</th>\n",
       "      <td>0.39</td>\n",
       "      <td>0.604464</td>\n",
       "      <td>0.629566</td>\n",
       "    </tr>\n",
       "    <tr>\n",
       "      <th>40</th>\n",
       "      <td>0.40</td>\n",
       "      <td>0.604464</td>\n",
       "      <td>0.629566</td>\n",
       "    </tr>\n",
       "    <tr>\n",
       "      <th>41</th>\n",
       "      <td>0.41</td>\n",
       "      <td>0.604464</td>\n",
       "      <td>0.629566</td>\n",
       "    </tr>\n",
       "    <tr>\n",
       "      <th>42</th>\n",
       "      <td>0.42</td>\n",
       "      <td>0.604464</td>\n",
       "      <td>0.629566</td>\n",
       "    </tr>\n",
       "    <tr>\n",
       "      <th>43</th>\n",
       "      <td>0.43</td>\n",
       "      <td>0.604464</td>\n",
       "      <td>0.629566</td>\n",
       "    </tr>\n",
       "    <tr>\n",
       "      <th>44</th>\n",
       "      <td>0.44</td>\n",
       "      <td>0.604464</td>\n",
       "      <td>0.629566</td>\n",
       "    </tr>\n",
       "    <tr>\n",
       "      <th>45</th>\n",
       "      <td>0.45</td>\n",
       "      <td>0.604464</td>\n",
       "      <td>0.629566</td>\n",
       "    </tr>\n",
       "    <tr>\n",
       "      <th>46</th>\n",
       "      <td>0.46</td>\n",
       "      <td>0.604464</td>\n",
       "      <td>0.629566</td>\n",
       "    </tr>\n",
       "    <tr>\n",
       "      <th>47</th>\n",
       "      <td>0.47</td>\n",
       "      <td>0.604464</td>\n",
       "      <td>0.629566</td>\n",
       "    </tr>\n",
       "    <tr>\n",
       "      <th>48</th>\n",
       "      <td>0.48</td>\n",
       "      <td>0.604464</td>\n",
       "      <td>0.629566</td>\n",
       "    </tr>\n",
       "    <tr>\n",
       "      <th>49</th>\n",
       "      <td>0.49</td>\n",
       "      <td>0.604464</td>\n",
       "      <td>0.629566</td>\n",
       "    </tr>\n",
       "  </tbody>\n",
       "</table>\n",
       "</div>"
      ],
      "text/plain": [
       "    threshold  train score  test score\n",
       "0        0.00     0.610433    0.627549\n",
       "1        0.01     0.610433    0.627549\n",
       "2        0.02     0.610433    0.627549\n",
       "3        0.03     0.610433    0.627549\n",
       "4        0.04     0.610433    0.627549\n",
       "5        0.05     0.610433    0.627549\n",
       "6        0.06     0.610433    0.627549\n",
       "7        0.07     0.610433    0.627549\n",
       "8        0.08     0.610433    0.627549\n",
       "9        0.09     0.610433    0.627549\n",
       "10       0.10     0.610433    0.627549\n",
       "11       0.11     0.610433    0.627549\n",
       "12       0.12     0.610433    0.627549\n",
       "13       0.13     0.610433    0.627549\n",
       "14       0.14     0.610433    0.627549\n",
       "15       0.15     0.610433    0.627549\n",
       "16       0.16     0.610433    0.627549\n",
       "17       0.17     0.610433    0.627549\n",
       "18       0.18     0.610433    0.627549\n",
       "19       0.19     0.610433    0.627549\n",
       "20       0.20     0.610433    0.627549\n",
       "21       0.21     0.610433    0.627549\n",
       "22       0.22     0.610433    0.627549\n",
       "23       0.23     0.610433    0.627549\n",
       "24       0.24     0.609051    0.626168\n",
       "25       0.25     0.609051    0.626168\n",
       "26       0.26     0.609051    0.626168\n",
       "27       0.27     0.609051    0.626168\n",
       "28       0.28     0.609051    0.626168\n",
       "29       0.29     0.609051    0.626168\n",
       "30       0.30     0.609051    0.626168\n",
       "31       0.31     0.609051    0.626168\n",
       "32       0.32     0.609051    0.626168\n",
       "33       0.33     0.609051    0.626168\n",
       "34       0.34     0.608472    0.628418\n",
       "35       0.35     0.604464    0.629566\n",
       "36       0.36     0.604464    0.629566\n",
       "37       0.37     0.604464    0.629566\n",
       "38       0.38     0.604464    0.629566\n",
       "39       0.39     0.604464    0.629566\n",
       "40       0.40     0.604464    0.629566\n",
       "41       0.41     0.604464    0.629566\n",
       "42       0.42     0.604464    0.629566\n",
       "43       0.43     0.604464    0.629566\n",
       "44       0.44     0.604464    0.629566\n",
       "45       0.45     0.604464    0.629566\n",
       "46       0.46     0.604464    0.629566\n",
       "47       0.47     0.604464    0.629566\n",
       "48       0.48     0.604464    0.629566\n",
       "49       0.49     0.604464    0.629566"
      ]
     },
     "execution_count": 39,
     "metadata": {},
     "output_type": "execute_result"
    }
   ],
   "source": [
    "scores"
   ]
  },
  {
   "cell_type": "code",
   "execution_count": 40,
   "metadata": {},
   "outputs": [
    {
     "data": {
      "image/png": "[encoded data removed]",
      "text/plain": [
       "<matplotlib.figure.Figure at 0x14d9cd095c0>"
      ]
     },
     "metadata": {},
     "output_type": "display_data"
    }
   ],
   "source": [
    "fig, ax = plt.subplots(figsize=(10, 8))\n",
    "ax.plot(scores.threshold, scores['train score'], label='train score')\n",
    "ax.plot(scores.threshold, scores['test score'], label='test score')\n",
    "ax.legend();"
   ]
  },
  {
   "cell_type": "markdown",
   "metadata": {},
   "source": [
    "Test score is better than training, but we don't have a great difference between the various choices for the threshold."
   ]
  },
  {
   "cell_type": "markdown",
   "metadata": {},
   "source": [
    "5 - Create two pipelines for feature selection of a technique of your choice, scaling the data before hand.  Then, join these two pipelines with a `FeatureUnion`, and fit a polynomial model, also in a pipeline.  Comment on your results."
   ]
  },
  {
   "cell_type": "code",
   "execution_count": 44,
   "metadata": {
    "collapsed": true
   },
   "outputs": [],
   "source": [
    "# joining select from model using lasso and select k best using the best parameters from before\n",
    "pipe = Pipeline([\n",
    "    ('scl', StandardScaler()),\n",
    "    ('featsel', FeatureUnion([\n",
    "        ('sfmod', SelectFromModel(LassoCV(), threshold='0.35*mean')),\n",
    "        ('best', SelectKBest(k=6))\n",
    "    ])),\n",
    "    ('poly', PolynomialFeatures(degree=3)),\n",
    "    ('lr', LinearRegression())\n",
    "])"
   ]
  },
  {
   "cell_type": "code",
   "execution_count": 45,
   "metadata": {},
   "outputs": [
    {
     "name": "stdout",
     "output_type": "stream",
     "text": [
      "0.894859371926\n",
      "0.817670756555\n"
     ]
    }
   ],
   "source": [
    "pipe.fit(Xtrain, ytrain)\n",
    "print(pipe.score(Xtrain, ytrain))\n",
    "print(pipe.score(Xtest, ytest))"
   ]
  },
  {
   "cell_type": "code",
   "execution_count": 48,
   "metadata": {},
   "outputs": [
    {
     "data": {
      "text/plain": [
       "11"
      ]
     },
     "execution_count": 48,
     "metadata": {},
     "output_type": "execute_result"
    }
   ],
   "source": [
    "pipe.named_steps['poly'].n_input_features_"
   ]
  },
  {
   "cell_type": "markdown",
   "metadata": {},
   "source": [
    "By joining the pipelines I get the features from both the feature selections (which is quite strange as a model) but I get a very good test score of 81% (which is still worse than the 84% obtained only with poly features)."
   ]
  },
  {
   "cell_type": "markdown",
   "metadata": {},
   "source": [
    "## Evaluation Metrics\n",
    "It is very important that you have more than one tool in your toolbox for evaluating the usefulness of your model, as in different context, different metrics are preferred.  For example, suppose a new medical test is developed for detecting cancer that has a 0.25 probability of incorrectly labeling a patient of having cancer when they in fact do not, but a 0.001 probability of labeling a cancer patient as cancer free.  With this sort of test, you can be sure that those who do have cancer will almost certainly be classified correctly, but a positive does not necessarily mean that the patient has cancer, meaning additional tests are in order.  These metrics have different names and depending on the situation, you may be interested in minimizing different quantities, which is the topic we will explore in this exercise."
   ]
  },
  {
   "cell_type": "markdown",
   "metadata": {},
   "source": [
    "1 - Head over the [Machine Learning Repository](http://archive.ics.uci.edu/ml/) and download the [Breast Cancer Diagnostic Dataset](http://archive.ics.uci.edu/ml/datasets/Breast+Cancer+Wisconsin+%28Diagnostic%29), put it in a dataframe, and split into testing and training sets."
   ]
  },
  {
   "cell_type": "code",
   "execution_count": 3,
   "metadata": {
    "collapsed": true
   },
   "outputs": [],
   "source": [
    "breast = pd.read_csv('http://archive.ics.uci.edu/ml/machine-learning-databases/breast-cancer-wisconsin/breast-cancer-wisconsin.data',\n",
    "                     header=None)\n",
    "\n",
    "breast.columns = ['id','clump_thickness','uniformity_cell_size','uniformity_cell_shape','marginal_adhesion',\n",
    "                'single_epithelial_cell_size','bare_nuclei','bland_chromatin','normal_nucleoli','mitoses','class']"
   ]
  },
  {
   "cell_type": "code",
   "execution_count": 4,
   "metadata": {},
   "outputs": [
    {
     "name": "stdout",
     "output_type": "stream",
     "text": [
      "<class 'pandas.core.frame.DataFrame'>\n",
      "RangeIndex: 699 entries, 0 to 698\n",
      "Data columns (total 11 columns):\n",
      "id                             699 non-null int64\n",
      "clump_thickness                699 non-null int64\n",
      "uniformity_cell_size           699 non-null int64\n",
      "uniformity_cell_shape          699 non-null int64\n",
      "marginal_adhesion              699 non-null int64\n",
      "single_epithelial_cell_size    699 non-null int64\n",
      "bare_nuclei                    699 non-null object\n",
      "bland_chromatin                699 non-null int64\n",
      "normal_nucleoli                699 non-null int64\n",
      "mitoses                        699 non-null int64\n",
      "class                          699 non-null int64\n",
      "dtypes: int64(10), object(1)\n",
      "memory usage: 60.1+ KB\n"
     ]
    }
   ],
   "source": [
    "breast.info()"
   ]
  },
  {
   "cell_type": "markdown",
   "metadata": {},
   "source": [
    "Bare nuclei is an object: this is due to the presence of ? for missing values, which I'm going to replace with 1s."
   ]
  },
  {
   "cell_type": "code",
   "execution_count": 5,
   "metadata": {},
   "outputs": [
    {
     "data": {
      "text/plain": [
       "1     402\n",
       "10    132\n",
       "5      30\n",
       "2      30\n",
       "3      28\n",
       "8      21\n",
       "4      19\n",
       "?      16\n",
       "9       9\n",
       "7       8\n",
       "6       4\n",
       "Name: bare_nuclei, dtype: int64"
      ]
     },
     "execution_count": 5,
     "metadata": {},
     "output_type": "execute_result"
    }
   ],
   "source": [
    "breast.bare_nuclei.value_counts()"
   ]
  },
  {
   "cell_type": "code",
   "execution_count": 6,
   "metadata": {
    "collapsed": true
   },
   "outputs": [],
   "source": [
    "breast.bare_nuclei = breast.bare_nuclei.apply(lambda x: x.replace('?', '1'))\n",
    "breast.bare_nuclei = pd.to_numeric(breast.bare_nuclei)"
   ]
  },
  {
   "cell_type": "markdown",
   "metadata": {},
   "source": [
    "Also, I'm encoding the class column with 0s and 1s:"
   ]
  },
  {
   "cell_type": "code",
   "execution_count": 20,
   "metadata": {
    "collapsed": true
   },
   "outputs": [],
   "source": [
    "# 2 for benign, 4 for malignant\n",
    "le = LabelEncoder()\n",
    "le.fit([2, 4])\n",
    "breast['class'] = le.transform(breast['class'])"
   ]
  },
  {
   "cell_type": "code",
   "execution_count": 21,
   "metadata": {},
   "outputs": [
    {
     "data": {
      "text/html": [
       "<div>\n",
       "<style>\n",
       "    .dataframe thead tr:only-child th {\n",
       "        text-align: right;\n",
       "    }\n",
       "\n",
       "    .dataframe thead th {\n",
       "        text-align: left;\n",
       "    }\n",
       "\n",
       "    .dataframe tbody tr th {\n",
       "        vertical-align: top;\n",
       "    }\n",
       "</style>\n",
       "<table border=\"1\" class=\"dataframe\">\n",
       "  <thead>\n",
       "    <tr style=\"text-align: right;\">\n",
       "      <th></th>\n",
       "      <th>count</th>\n",
       "      <th>mean</th>\n",
       "      <th>std</th>\n",
       "      <th>min</th>\n",
       "      <th>25%</th>\n",
       "      <th>50%</th>\n",
       "      <th>75%</th>\n",
       "      <th>max</th>\n",
       "    </tr>\n",
       "  </thead>\n",
       "  <tbody>\n",
       "    <tr>\n",
       "      <th>id</th>\n",
       "      <td>699.0</td>\n",
       "      <td>1.071704e+06</td>\n",
       "      <td>617095.729819</td>\n",
       "      <td>61634.0</td>\n",
       "      <td>870688.5</td>\n",
       "      <td>1171710.0</td>\n",
       "      <td>1238298.0</td>\n",
       "      <td>13454352.0</td>\n",
       "    </tr>\n",
       "    <tr>\n",
       "      <th>clump_thickness</th>\n",
       "      <td>699.0</td>\n",
       "      <td>4.417740e+00</td>\n",
       "      <td>2.815741</td>\n",
       "      <td>1.0</td>\n",
       "      <td>2.0</td>\n",
       "      <td>4.0</td>\n",
       "      <td>6.0</td>\n",
       "      <td>10.0</td>\n",
       "    </tr>\n",
       "    <tr>\n",
       "      <th>uniformity_cell_size</th>\n",
       "      <td>699.0</td>\n",
       "      <td>3.134478e+00</td>\n",
       "      <td>3.051459</td>\n",
       "      <td>1.0</td>\n",
       "      <td>1.0</td>\n",
       "      <td>1.0</td>\n",
       "      <td>5.0</td>\n",
       "      <td>10.0</td>\n",
       "    </tr>\n",
       "    <tr>\n",
       "      <th>uniformity_cell_shape</th>\n",
       "      <td>699.0</td>\n",
       "      <td>3.207439e+00</td>\n",
       "      <td>2.971913</td>\n",
       "      <td>1.0</td>\n",
       "      <td>1.0</td>\n",
       "      <td>1.0</td>\n",
       "      <td>5.0</td>\n",
       "      <td>10.0</td>\n",
       "    </tr>\n",
       "    <tr>\n",
       "      <th>marginal_adhesion</th>\n",
       "      <td>699.0</td>\n",
       "      <td>2.806867e+00</td>\n",
       "      <td>2.855379</td>\n",
       "      <td>1.0</td>\n",
       "      <td>1.0</td>\n",
       "      <td>1.0</td>\n",
       "      <td>4.0</td>\n",
       "      <td>10.0</td>\n",
       "    </tr>\n",
       "    <tr>\n",
       "      <th>single_epithelial_cell_size</th>\n",
       "      <td>699.0</td>\n",
       "      <td>3.216023e+00</td>\n",
       "      <td>2.214300</td>\n",
       "      <td>1.0</td>\n",
       "      <td>2.0</td>\n",
       "      <td>2.0</td>\n",
       "      <td>4.0</td>\n",
       "      <td>10.0</td>\n",
       "    </tr>\n",
       "    <tr>\n",
       "      <th>bare_nuclei</th>\n",
       "      <td>699.0</td>\n",
       "      <td>3.486409e+00</td>\n",
       "      <td>3.621929</td>\n",
       "      <td>1.0</td>\n",
       "      <td>1.0</td>\n",
       "      <td>1.0</td>\n",
       "      <td>5.0</td>\n",
       "      <td>10.0</td>\n",
       "    </tr>\n",
       "    <tr>\n",
       "      <th>bland_chromatin</th>\n",
       "      <td>699.0</td>\n",
       "      <td>3.437768e+00</td>\n",
       "      <td>2.438364</td>\n",
       "      <td>1.0</td>\n",
       "      <td>2.0</td>\n",
       "      <td>3.0</td>\n",
       "      <td>5.0</td>\n",
       "      <td>10.0</td>\n",
       "    </tr>\n",
       "    <tr>\n",
       "      <th>normal_nucleoli</th>\n",
       "      <td>699.0</td>\n",
       "      <td>2.866953e+00</td>\n",
       "      <td>3.053634</td>\n",
       "      <td>1.0</td>\n",
       "      <td>1.0</td>\n",
       "      <td>1.0</td>\n",
       "      <td>4.0</td>\n",
       "      <td>10.0</td>\n",
       "    </tr>\n",
       "    <tr>\n",
       "      <th>mitoses</th>\n",
       "      <td>699.0</td>\n",
       "      <td>1.589413e+00</td>\n",
       "      <td>1.715078</td>\n",
       "      <td>1.0</td>\n",
       "      <td>1.0</td>\n",
       "      <td>1.0</td>\n",
       "      <td>1.0</td>\n",
       "      <td>10.0</td>\n",
       "    </tr>\n",
       "    <tr>\n",
       "      <th>class</th>\n",
       "      <td>699.0</td>\n",
       "      <td>3.447783e-01</td>\n",
       "      <td>0.475636</td>\n",
       "      <td>0.0</td>\n",
       "      <td>0.0</td>\n",
       "      <td>0.0</td>\n",
       "      <td>1.0</td>\n",
       "      <td>1.0</td>\n",
       "    </tr>\n",
       "  </tbody>\n",
       "</table>\n",
       "</div>"
      ],
      "text/plain": [
       "                             count          mean            std      min  \\\n",
       "id                           699.0  1.071704e+06  617095.729819  61634.0   \n",
       "clump_thickness              699.0  4.417740e+00       2.815741      1.0   \n",
       "uniformity_cell_size         699.0  3.134478e+00       3.051459      1.0   \n",
       "uniformity_cell_shape        699.0  3.207439e+00       2.971913      1.0   \n",
       "marginal_adhesion            699.0  2.806867e+00       2.855379      1.0   \n",
       "single_epithelial_cell_size  699.0  3.216023e+00       2.214300      1.0   \n",
       "bare_nuclei                  699.0  3.486409e+00       3.621929      1.0   \n",
       "bland_chromatin              699.0  3.437768e+00       2.438364      1.0   \n",
       "normal_nucleoli              699.0  2.866953e+00       3.053634      1.0   \n",
       "mitoses                      699.0  1.589413e+00       1.715078      1.0   \n",
       "class                        699.0  3.447783e-01       0.475636      0.0   \n",
       "\n",
       "                                  25%        50%        75%         max  \n",
       "id                           870688.5  1171710.0  1238298.0  13454352.0  \n",
       "clump_thickness                   2.0        4.0        6.0        10.0  \n",
       "uniformity_cell_size              1.0        1.0        5.0        10.0  \n",
       "uniformity_cell_shape             1.0        1.0        5.0        10.0  \n",
       "marginal_adhesion                 1.0        1.0        4.0        10.0  \n",
       "single_epithelial_cell_size       2.0        2.0        4.0        10.0  \n",
       "bare_nuclei                       1.0        1.0        5.0        10.0  \n",
       "bland_chromatin                   2.0        3.0        5.0        10.0  \n",
       "normal_nucleoli                   1.0        1.0        4.0        10.0  \n",
       "mitoses                           1.0        1.0        1.0        10.0  \n",
       "class                             0.0        0.0        1.0         1.0  "
      ]
     },
     "execution_count": 21,
     "metadata": {},
     "output_type": "execute_result"
    }
   ],
   "source": [
    "breast.describe().T"
   ]
  },
  {
   "cell_type": "code",
   "execution_count": 23,
   "metadata": {
    "collapsed": true
   },
   "outputs": [],
   "source": [
    "Xtrain, Xtest, ytrain, ytest = train_test_split(breast.drop('class', axis=1), breast['class'], test_size=0.2, random_state=0)"
   ]
  },
  {
   "cell_type": "markdown",
   "metadata": {},
   "source": [
    "2 - Using a classification algorithm of your choice, fit a model to the data and predict the results, making your results as accurate as possible."
   ]
  },
  {
   "cell_type": "code",
   "execution_count": null,
   "metadata": {
    "collapsed": true
   },
   "outputs": [],
   "source": [
    "# scale and KNN\n",
    "pipe = Pipeline([\n",
    "    ('scl', StandardScaler()),\n",
    "    ('knn', KNeighborsClassifier())\n",
    "])"
   ]
  },
  {
   "cell_type": "code",
   "execution_count": null,
   "metadata": {
    "collapsed": true
   },
   "outputs": [],
   "source": [
    "scores = []\n",
    "# looping through number of neighbors\n",
    "for k in range(1, 20):\n",
    "    pipe.set_params(knn__n_neighbors=k)\n",
    "    temp = cross_val_score(estimator=pipe, X=Xtrain, y=ytrain, cv=10)\n",
    "    scores.append([k, np.mean(temp), np.std(temp)])\n",
    "\n",
    "scores = pd.DataFrame(scores)\n",
    "scores.columns = ['k', 'kfold mean', 'kfold std']"
   ]
  },
  {
   "cell_type": "code",
   "execution_count": 25,
   "metadata": {},
   "outputs": [
    {
     "data": {
      "text/html": [
       "<div>\n",
       "<style>\n",
       "    .dataframe thead tr:only-child th {\n",
       "        text-align: right;\n",
       "    }\n",
       "\n",
       "    .dataframe thead th {\n",
       "        text-align: left;\n",
       "    }\n",
       "\n",
       "    .dataframe tbody tr th {\n",
       "        vertical-align: top;\n",
       "    }\n",
       "</style>\n",
       "<table border=\"1\" class=\"dataframe\">\n",
       "  <thead>\n",
       "    <tr style=\"text-align: right;\">\n",
       "      <th></th>\n",
       "      <th>k</th>\n",
       "      <th>kfold mean</th>\n",
       "      <th>kfold std</th>\n",
       "    </tr>\n",
       "  </thead>\n",
       "  <tbody>\n",
       "    <tr>\n",
       "      <th>6</th>\n",
       "      <td>7</td>\n",
       "      <td>0.964564</td>\n",
       "      <td>0.032230</td>\n",
       "    </tr>\n",
       "    <tr>\n",
       "      <th>16</th>\n",
       "      <td>17</td>\n",
       "      <td>0.962746</td>\n",
       "      <td>0.037112</td>\n",
       "    </tr>\n",
       "    <tr>\n",
       "      <th>14</th>\n",
       "      <td>15</td>\n",
       "      <td>0.962746</td>\n",
       "      <td>0.037112</td>\n",
       "    </tr>\n",
       "    <tr>\n",
       "      <th>7</th>\n",
       "      <td>8</td>\n",
       "      <td>0.962715</td>\n",
       "      <td>0.031764</td>\n",
       "    </tr>\n",
       "    <tr>\n",
       "      <th>18</th>\n",
       "      <td>19</td>\n",
       "      <td>0.960960</td>\n",
       "      <td>0.036562</td>\n",
       "    </tr>\n",
       "    <tr>\n",
       "      <th>12</th>\n",
       "      <td>13</td>\n",
       "      <td>0.960960</td>\n",
       "      <td>0.036562</td>\n",
       "    </tr>\n",
       "    <tr>\n",
       "      <th>15</th>\n",
       "      <td>16</td>\n",
       "      <td>0.960928</td>\n",
       "      <td>0.037468</td>\n",
       "    </tr>\n",
       "    <tr>\n",
       "      <th>4</th>\n",
       "      <td>5</td>\n",
       "      <td>0.960928</td>\n",
       "      <td>0.030001</td>\n",
       "    </tr>\n",
       "    <tr>\n",
       "      <th>5</th>\n",
       "      <td>6</td>\n",
       "      <td>0.960928</td>\n",
       "      <td>0.031083</td>\n",
       "    </tr>\n",
       "    <tr>\n",
       "      <th>11</th>\n",
       "      <td>12</td>\n",
       "      <td>0.960897</td>\n",
       "      <td>0.031133</td>\n",
       "    </tr>\n",
       "    <tr>\n",
       "      <th>9</th>\n",
       "      <td>10</td>\n",
       "      <td>0.960897</td>\n",
       "      <td>0.031133</td>\n",
       "    </tr>\n",
       "    <tr>\n",
       "      <th>10</th>\n",
       "      <td>11</td>\n",
       "      <td>0.960897</td>\n",
       "      <td>0.030052</td>\n",
       "    </tr>\n",
       "    <tr>\n",
       "      <th>13</th>\n",
       "      <td>14</td>\n",
       "      <td>0.959142</td>\n",
       "      <td>0.036834</td>\n",
       "    </tr>\n",
       "    <tr>\n",
       "      <th>17</th>\n",
       "      <td>18</td>\n",
       "      <td>0.959142</td>\n",
       "      <td>0.036834</td>\n",
       "    </tr>\n",
       "    <tr>\n",
       "      <th>8</th>\n",
       "      <td>9</td>\n",
       "      <td>0.955570</td>\n",
       "      <td>0.034248</td>\n",
       "    </tr>\n",
       "    <tr>\n",
       "      <th>3</th>\n",
       "      <td>4</td>\n",
       "      <td>0.955506</td>\n",
       "      <td>0.029510</td>\n",
       "    </tr>\n",
       "    <tr>\n",
       "      <th>2</th>\n",
       "      <td>3</td>\n",
       "      <td>0.955474</td>\n",
       "      <td>0.023740</td>\n",
       "    </tr>\n",
       "    <tr>\n",
       "      <th>0</th>\n",
       "      <td>1</td>\n",
       "      <td>0.946449</td>\n",
       "      <td>0.022355</td>\n",
       "    </tr>\n",
       "    <tr>\n",
       "      <th>1</th>\n",
       "      <td>2</td>\n",
       "      <td>0.932159</td>\n",
       "      <td>0.030242</td>\n",
       "    </tr>\n",
       "  </tbody>\n",
       "</table>\n",
       "</div>"
      ],
      "text/plain": [
       "     k  kfold mean  kfold std\n",
       "6    7    0.964564   0.032230\n",
       "16  17    0.962746   0.037112\n",
       "14  15    0.962746   0.037112\n",
       "7    8    0.962715   0.031764\n",
       "18  19    0.960960   0.036562\n",
       "12  13    0.960960   0.036562\n",
       "15  16    0.960928   0.037468\n",
       "4    5    0.960928   0.030001\n",
       "5    6    0.960928   0.031083\n",
       "11  12    0.960897   0.031133\n",
       "9   10    0.960897   0.031133\n",
       "10  11    0.960897   0.030052\n",
       "13  14    0.959142   0.036834\n",
       "17  18    0.959142   0.036834\n",
       "8    9    0.955570   0.034248\n",
       "3    4    0.955506   0.029510\n",
       "2    3    0.955474   0.023740\n",
       "0    1    0.946449   0.022355\n",
       "1    2    0.932159   0.030242"
      ]
     },
     "execution_count": 25,
     "metadata": {},
     "output_type": "execute_result"
    }
   ],
   "source": [
    "scores.sort_values(by='kfold mean', ascending=False)"
   ]
  },
  {
   "cell_type": "markdown",
   "metadata": {},
   "source": [
    "Seven is the number of neighbors with the best CV score:"
   ]
  },
  {
   "cell_type": "code",
   "execution_count": 26,
   "metadata": {},
   "outputs": [
    {
     "data": {
      "text/plain": [
       "0.97857142857142854"
      ]
     },
     "execution_count": 26,
     "metadata": {},
     "output_type": "execute_result"
    }
   ],
   "source": [
    "pipe.set_params(knn__n_neighbors=7)\n",
    "pipe.fit(Xtrain, ytrain)\n",
    "pipe.score(Xtest, ytest)"
   ]
  },
  {
   "cell_type": "markdown",
   "metadata": {},
   "source": [
    "The accuracy is almost 98%, which is quite good!"
   ]
  },
  {
   "cell_type": "markdown",
   "metadata": {},
   "source": [
    "3 - Using your model in part (2), compute the following quantities, without using `skelarn.metrics`.\n",
    "    - True Positives\n",
    "    - True Negatives\n",
    "    - False Positives\n",
    "    - False Negatives"
   ]
  },
  {
   "cell_type": "code",
   "execution_count": 27,
   "metadata": {
    "collapsed": true
   },
   "outputs": [],
   "source": [
    "ypred = pipe.predict(Xtest)"
   ]
  },
  {
   "cell_type": "code",
   "execution_count": 28,
   "metadata": {
    "collapsed": true
   },
   "outputs": [],
   "source": [
    "TP = sum((ypred[ytest==1]==ytest.values[ytest.values==1]))\n",
    "TN = sum((ypred[ytest==0]==ytest.values[ytest.values==0]))\n",
    "FP = sum((ypred[ytest==0]!=ytest.values[ytest.values==0]))\n",
    "FN = sum((ypred[ytest==1]!=ytest.values[ytest.values==1]))"
   ]
  },
  {
   "cell_type": "code",
   "execution_count": 29,
   "metadata": {},
   "outputs": [
    {
     "name": "stdout",
     "output_type": "stream",
     "text": [
      "True Positives: 54\n",
      "True Negatives: 83\n",
      "False Positives: 2\n",
      "False Negatives: 1\n"
     ]
    }
   ],
   "source": [
    "print('True Positives: {}\\nTrue Negatives: {}\\nFalse Positives: {}\\nFalse Negatives: {}'.format(TP, TN, FP, FN))"
   ]
  },
  {
   "cell_type": "markdown",
   "metadata": {},
   "source": [
    "4 -  Using your results in part (3), compute the following quantities.\n",
    "    - Sensitivity, recall, hit rate, or true positive rate (TPR)\n",
    "    - Specificity or true negative rate (TNR)\n",
    "    - Miss rate or false negative rate (FNR)\n",
    "    - Fall-out or false positive rate (FPR)\n",
    "    - Precision\n",
    "    - F1\n",
    "    - Accuracy"
   ]
  },
  {
   "cell_type": "code",
   "execution_count": 30,
   "metadata": {
    "collapsed": true
   },
   "outputs": [],
   "source": [
    "TPR = TP / (FN+TP)\n",
    "FPR = FP / (FP+TN)\n",
    "TNR = 1 - FPR\n",
    "FNR = 1 - TPR\n",
    "PRE = TP / (TP+FP)\n",
    "F1 = 2*PRE*TPR / (PRE+TPR)\n",
    "ACC = (TP+TN) / len(ypred)"
   ]
  },
  {
   "cell_type": "code",
   "execution_count": 31,
   "metadata": {},
   "outputs": [
    {
     "name": "stdout",
     "output_type": "stream",
     "text": [
      "TPR: 0.9818181818181818\n",
      "TNR: 0.9764705882352941\n",
      "FNR: 0.018181818181818188\n",
      "FPR: 0.023529411764705882\n",
      "PRE: 0.9642857142857143\n",
      "F1: 0.972972972972973\n",
      "ACC: 0.9785714285714285\n"
     ]
    }
   ],
   "source": [
    "print('TPR: {}\\nTNR: {}\\nFNR: {}\\nFPR: {}\\nPRE: {}\\nF1: {}\\nACC: {}'.format(TPR, TNR, FNR, FPR, PRE, F1, ACC))"
   ]
  },
  {
   "cell_type": "markdown",
   "metadata": {},
   "source": [
    "5 - Check your results in part (4) using `sklearn`."
   ]
  },
  {
   "cell_type": "code",
   "execution_count": 32,
   "metadata": {},
   "outputs": [
    {
     "name": "stdout",
     "output_type": "stream",
     "text": [
      "[[83  2]\n",
      " [ 1 54]]\n",
      "TPR 0.981818181818\n",
      "PRE 0.964285714286\n",
      "F1 0.972972972973\n",
      "ACC 0.978571428571\n"
     ]
    }
   ],
   "source": [
    "print(confusion_matrix(y_true=ytest, y_pred=ypred))\n",
    "print('TPR', recall_score(ytest, ypred))\n",
    "print('PRE', precision_score(y_true=ytest, y_pred=ypred))\n",
    "print('F1', f1_score(y_true=ytest, y_pred=ypred))\n",
    "print('ACC', accuracy_score(y_true=ytest, y_pred=ypred))"
   ]
  },
  {
   "cell_type": "markdown",
   "metadata": {},
   "source": [
    "6 - Plot the precision and recall curve for your fit."
   ]
  },
  {
   "cell_type": "code",
   "execution_count": 34,
   "metadata": {
    "collapsed": true
   },
   "outputs": [],
   "source": [
    "ypredprob = pipe.predict_proba(Xtest)"
   ]
  },
  {
   "cell_type": "code",
   "execution_count": 44,
   "metadata": {},
   "outputs": [
    {
     "data": {
      "image/png": "[encoded data removed]",
      "text/plain": [
       "<matplotlib.figure.Figure at 0x1fb05d510b8>"
      ]
     },
     "metadata": {},
     "output_type": "display_data"
    }
   ],
   "source": [
    "# get precision and recall values\n",
    "precision, recall, _ = precision_recall_curve(ytest, ypredprob[:, 1])\n",
    "# plot them and fill the curve\n",
    "plt.figure(figsize=(16, 8))\n",
    "plt.step(recall, precision, color='b', alpha=0.2, where='post')\n",
    "plt.fill_between(recall, precision, step='post', alpha=0.2, color='b')\n",
    "\n",
    "plt.xlabel('Recall')\n",
    "plt.ylabel('Precision')\n",
    "plt.ylim([0.0, 1.05])\n",
    "plt.xlim([0.0, 1.0])\n",
    "plt.title('Precision-Recall curve');"
   ]
  },
  {
   "cell_type": "markdown",
   "metadata": {},
   "source": [
    "7 - Plot the ROC curve for your fit."
   ]
  },
  {
   "cell_type": "code",
   "execution_count": 49,
   "metadata": {},
   "outputs": [
    {
     "data": {
      "image/png": "[encoded data removed]",
      "text/plain": [
       "<matplotlib.figure.Figure at 0x1fb05eeecf8>"
      ]
     },
     "metadata": {},
     "output_type": "display_data"
    }
   ],
   "source": [
    "# getting FPR and TPR for the ROC curve and the area under it\n",
    "fpr, tpr, _ = roc_curve(ytest, ypredprob[:, 1])\n",
    "roc_auc = roc_auc_score(ytest, ypredprob[:, 1])\n",
    "# plot and fill the curve\n",
    "plt.figure(figsize=(16, 8))\n",
    "plt.step(fpr, tpr, color='b', alpha=0.2, where='post')\n",
    "plt.fill_between(fpr, tpr, step='post', alpha=0.2, color='b')\n",
    "\n",
    "plt.xlabel('False Positive Rate')\n",
    "plt.ylabel('True Positive Rate')\n",
    "plt.ylim([0.0, 1.05])\n",
    "plt.xlim([0.0, 1.0])\n",
    "plt.title('ROC curve, area = {:.5f}'.format(roc_auc));"
   ]
  },
  {
   "cell_type": "markdown",
   "metadata": {},
   "source": [
    "## Learning and Evaluation Curves, Hyperparameter Tuning, and Bootstrapping\n",
    "A problem that you will see crop up time and time again in Data Science is overfitting.  Much like how people can sometimes see structure where there is none, machine learning algorithms suffer from the same.  If you have overfit your model to your data, it has learned a \"pattern\" in the noise rather than the signal you were looking for, and thus will not generalize well to data it has not seen.\n",
    "\n",
    "Consider the LASSO Regression model which we have used previously.  Like all parametric models, fitting a LASSO Regression model can be reduced to the problem of finding a set of $\\hat{\\theta_i}$ which minimize the cost function given the data.  But notice that unlike a standard linear regression model, LASSO Regression has an additional regularization parameter.  The result of this is that the $\\hat{\\theta_i}$ are dependent not only on our data, but also on this additional hyperparameter.\n",
    "\n",
    "So now we have three different problems to juggle while we are fitting our models: overfitting, underfitting, and hyperparameter tuning.  A common technique to deal with all three is cross-validation which we will explore in this exercise.\n",
    "\n",
    "Also, you may find yourself in a situation where you do not have enough data to build a good model.  Again, with some simple assumptions, we can \"pull ourselves up by our bootstraps\", and get by reasonably well with the data we have using a method called bootstrapping.\n",
    "\n",
    "In this exercise, you'll explore these topics using the `wine` dataset."
   ]
  },
  {
   "cell_type": "markdown",
   "metadata": {},
   "source": [
    "1 - Head over to the [Machine Learning Repository](http://archive.ics.uci.edu/ml/index.php), download the [Wine Dataset](http://archive.ics.uci.edu/ml/datasets/Wine), and put it in a dataframe, being sure to label the columns properly."
   ]
  },
  {
   "cell_type": "code",
   "execution_count": 5,
   "metadata": {
    "collapsed": true
   },
   "outputs": [],
   "source": [
    "wine = pd.read_csv('http://archive.ics.uci.edu/ml/machine-learning-databases/wine/wine.data', header=None)\n",
    "# wine = pd.read_csv('wine.data', header=None)\n",
    "wine.columns = ['class', 'alcohol', 'malic_acid', 'ash', 'alcalinity_ash', 'magnesium',\n",
    "                'total_phenols', 'flavanoids', 'nonflavanoid_phenols', 'proanthocyanins', 'color_intensity',\n",
    "                'hue', 'OD280_OD315', 'proline']"
   ]
  },
  {
   "cell_type": "code",
   "execution_count": 4,
   "metadata": {},
   "outputs": [
    {
     "data": {
      "text/html": [
       "<div>\n",
       "<style>\n",
       "    .dataframe thead tr:only-child th {\n",
       "        text-align: right;\n",
       "    }\n",
       "\n",
       "    .dataframe thead th {\n",
       "        text-align: left;\n",
       "    }\n",
       "\n",
       "    .dataframe tbody tr th {\n",
       "        vertical-align: top;\n",
       "    }\n",
       "</style>\n",
       "<table border=\"1\" class=\"dataframe\">\n",
       "  <thead>\n",
       "    <tr style=\"text-align: right;\">\n",
       "      <th></th>\n",
       "      <th>class</th>\n",
       "      <th>alcohol</th>\n",
       "      <th>malic_acid</th>\n",
       "      <th>ash</th>\n",
       "      <th>alcalinity_ash</th>\n",
       "      <th>magnesium</th>\n",
       "      <th>total_phenols</th>\n",
       "      <th>flavanoids</th>\n",
       "      <th>nonflavanoid_phenols</th>\n",
       "      <th>proanthocyanins</th>\n",
       "      <th>color_intensity</th>\n",
       "      <th>hue</th>\n",
       "      <th>OD280_OD315</th>\n",
       "      <th>proline</th>\n",
       "    </tr>\n",
       "  </thead>\n",
       "  <tbody>\n",
       "    <tr>\n",
       "      <th>0</th>\n",
       "      <td>1</td>\n",
       "      <td>14.23</td>\n",
       "      <td>1.71</td>\n",
       "      <td>2.43</td>\n",
       "      <td>15.6</td>\n",
       "      <td>127</td>\n",
       "      <td>2.80</td>\n",
       "      <td>3.06</td>\n",
       "      <td>0.28</td>\n",
       "      <td>2.29</td>\n",
       "      <td>5.64</td>\n",
       "      <td>1.04</td>\n",
       "      <td>3.92</td>\n",
       "      <td>1065</td>\n",
       "    </tr>\n",
       "    <tr>\n",
       "      <th>1</th>\n",
       "      <td>1</td>\n",
       "      <td>13.20</td>\n",
       "      <td>1.78</td>\n",
       "      <td>2.14</td>\n",
       "      <td>11.2</td>\n",
       "      <td>100</td>\n",
       "      <td>2.65</td>\n",
       "      <td>2.76</td>\n",
       "      <td>0.26</td>\n",
       "      <td>1.28</td>\n",
       "      <td>4.38</td>\n",
       "      <td>1.05</td>\n",
       "      <td>3.40</td>\n",
       "      <td>1050</td>\n",
       "    </tr>\n",
       "    <tr>\n",
       "      <th>2</th>\n",
       "      <td>1</td>\n",
       "      <td>13.16</td>\n",
       "      <td>2.36</td>\n",
       "      <td>2.67</td>\n",
       "      <td>18.6</td>\n",
       "      <td>101</td>\n",
       "      <td>2.80</td>\n",
       "      <td>3.24</td>\n",
       "      <td>0.30</td>\n",
       "      <td>2.81</td>\n",
       "      <td>5.68</td>\n",
       "      <td>1.03</td>\n",
       "      <td>3.17</td>\n",
       "      <td>1185</td>\n",
       "    </tr>\n",
       "    <tr>\n",
       "      <th>3</th>\n",
       "      <td>1</td>\n",
       "      <td>14.37</td>\n",
       "      <td>1.95</td>\n",
       "      <td>2.50</td>\n",
       "      <td>16.8</td>\n",
       "      <td>113</td>\n",
       "      <td>3.85</td>\n",
       "      <td>3.49</td>\n",
       "      <td>0.24</td>\n",
       "      <td>2.18</td>\n",
       "      <td>7.80</td>\n",
       "      <td>0.86</td>\n",
       "      <td>3.45</td>\n",
       "      <td>1480</td>\n",
       "    </tr>\n",
       "    <tr>\n",
       "      <th>4</th>\n",
       "      <td>1</td>\n",
       "      <td>13.24</td>\n",
       "      <td>2.59</td>\n",
       "      <td>2.87</td>\n",
       "      <td>21.0</td>\n",
       "      <td>118</td>\n",
       "      <td>2.80</td>\n",
       "      <td>2.69</td>\n",
       "      <td>0.39</td>\n",
       "      <td>1.82</td>\n",
       "      <td>4.32</td>\n",
       "      <td>1.04</td>\n",
       "      <td>2.93</td>\n",
       "      <td>735</td>\n",
       "    </tr>\n",
       "  </tbody>\n",
       "</table>\n",
       "</div>"
      ],
      "text/plain": [
       "   class  alcohol  malic_acid   ash  alcalinity_ash  magnesium  total_phenols  \\\n",
       "0      1    14.23        1.71  2.43            15.6        127           2.80   \n",
       "1      1    13.20        1.78  2.14            11.2        100           2.65   \n",
       "2      1    13.16        2.36  2.67            18.6        101           2.80   \n",
       "3      1    14.37        1.95  2.50            16.8        113           3.85   \n",
       "4      1    13.24        2.59  2.87            21.0        118           2.80   \n",
       "\n",
       "   flavanoids  nonflavanoid_phenols  proanthocyanins  color_intensity   hue  \\\n",
       "0        3.06                  0.28             2.29             5.64  1.04   \n",
       "1        2.76                  0.26             1.28             4.38  1.05   \n",
       "2        3.24                  0.30             2.81             5.68  1.03   \n",
       "3        3.49                  0.24             2.18             7.80  0.86   \n",
       "4        2.69                  0.39             1.82             4.32  1.04   \n",
       "\n",
       "   OD280_OD315  proline  \n",
       "0         3.92     1065  \n",
       "1         3.40     1050  \n",
       "2         3.17     1185  \n",
       "3         3.45     1480  \n",
       "4         2.93      735  "
      ]
     },
     "execution_count": 4,
     "metadata": {},
     "output_type": "execute_result"
    }
   ],
   "source": [
    "wine.head()"
   ]
  },
  {
   "cell_type": "code",
   "execution_count": 5,
   "metadata": {},
   "outputs": [
    {
     "name": "stdout",
     "output_type": "stream",
     "text": [
      "<class 'pandas.core.frame.DataFrame'>\n",
      "RangeIndex: 178 entries, 0 to 177\n",
      "Data columns (total 14 columns):\n",
      "class                   178 non-null int64\n",
      "alcohol                 178 non-null float64\n",
      "malic_acid              178 non-null float64\n",
      "ash                     178 non-null float64\n",
      "alcalinity_ash          178 non-null float64\n",
      "magnesium               178 non-null int64\n",
      "total_phenols           178 non-null float64\n",
      "flavanoids              178 non-null float64\n",
      "nonflavanoid_phenols    178 non-null float64\n",
      "proanthocyanins         178 non-null float64\n",
      "color_intensity         178 non-null float64\n",
      "hue                     178 non-null float64\n",
      "OD280_OD315             178 non-null float64\n",
      "proline                 178 non-null int64\n",
      "dtypes: float64(11), int64(3)\n",
      "memory usage: 19.5 KB\n"
     ]
    }
   ],
   "source": [
    "wine.info()"
   ]
  },
  {
   "cell_type": "code",
   "execution_count": 6,
   "metadata": {},
   "outputs": [
    {
     "data": {
      "text/html": [
       "<div>\n",
       "<style>\n",
       "    .dataframe thead tr:only-child th {\n",
       "        text-align: right;\n",
       "    }\n",
       "\n",
       "    .dataframe thead th {\n",
       "        text-align: left;\n",
       "    }\n",
       "\n",
       "    .dataframe tbody tr th {\n",
       "        vertical-align: top;\n",
       "    }\n",
       "</style>\n",
       "<table border=\"1\" class=\"dataframe\">\n",
       "  <thead>\n",
       "    <tr style=\"text-align: right;\">\n",
       "      <th></th>\n",
       "      <th>count</th>\n",
       "      <th>mean</th>\n",
       "      <th>std</th>\n",
       "      <th>min</th>\n",
       "      <th>25%</th>\n",
       "      <th>50%</th>\n",
       "      <th>75%</th>\n",
       "      <th>max</th>\n",
       "    </tr>\n",
       "  </thead>\n",
       "  <tbody>\n",
       "    <tr>\n",
       "      <th>class</th>\n",
       "      <td>178.0</td>\n",
       "      <td>1.938202</td>\n",
       "      <td>0.775035</td>\n",
       "      <td>1.00</td>\n",
       "      <td>1.0000</td>\n",
       "      <td>2.000</td>\n",
       "      <td>3.0000</td>\n",
       "      <td>3.00</td>\n",
       "    </tr>\n",
       "    <tr>\n",
       "      <th>alcohol</th>\n",
       "      <td>178.0</td>\n",
       "      <td>13.000618</td>\n",
       "      <td>0.811827</td>\n",
       "      <td>11.03</td>\n",
       "      <td>12.3625</td>\n",
       "      <td>13.050</td>\n",
       "      <td>13.6775</td>\n",
       "      <td>14.83</td>\n",
       "    </tr>\n",
       "    <tr>\n",
       "      <th>malic_acid</th>\n",
       "      <td>178.0</td>\n",
       "      <td>2.336348</td>\n",
       "      <td>1.117146</td>\n",
       "      <td>0.74</td>\n",
       "      <td>1.6025</td>\n",
       "      <td>1.865</td>\n",
       "      <td>3.0825</td>\n",
       "      <td>5.80</td>\n",
       "    </tr>\n",
       "    <tr>\n",
       "      <th>ash</th>\n",
       "      <td>178.0</td>\n",
       "      <td>2.366517</td>\n",
       "      <td>0.274344</td>\n",
       "      <td>1.36</td>\n",
       "      <td>2.2100</td>\n",
       "      <td>2.360</td>\n",
       "      <td>2.5575</td>\n",
       "      <td>3.23</td>\n",
       "    </tr>\n",
       "    <tr>\n",
       "      <th>alcalinity_ash</th>\n",
       "      <td>178.0</td>\n",
       "      <td>19.494944</td>\n",
       "      <td>3.339564</td>\n",
       "      <td>10.60</td>\n",
       "      <td>17.2000</td>\n",
       "      <td>19.500</td>\n",
       "      <td>21.5000</td>\n",
       "      <td>30.00</td>\n",
       "    </tr>\n",
       "    <tr>\n",
       "      <th>magnesium</th>\n",
       "      <td>178.0</td>\n",
       "      <td>99.741573</td>\n",
       "      <td>14.282484</td>\n",
       "      <td>70.00</td>\n",
       "      <td>88.0000</td>\n",
       "      <td>98.000</td>\n",
       "      <td>107.0000</td>\n",
       "      <td>162.00</td>\n",
       "    </tr>\n",
       "    <tr>\n",
       "      <th>total_phenols</th>\n",
       "      <td>178.0</td>\n",
       "      <td>2.295112</td>\n",
       "      <td>0.625851</td>\n",
       "      <td>0.98</td>\n",
       "      <td>1.7425</td>\n",
       "      <td>2.355</td>\n",
       "      <td>2.8000</td>\n",
       "      <td>3.88</td>\n",
       "    </tr>\n",
       "    <tr>\n",
       "      <th>flavanoids</th>\n",
       "      <td>178.0</td>\n",
       "      <td>2.029270</td>\n",
       "      <td>0.998859</td>\n",
       "      <td>0.34</td>\n",
       "      <td>1.2050</td>\n",
       "      <td>2.135</td>\n",
       "      <td>2.8750</td>\n",
       "      <td>5.08</td>\n",
       "    </tr>\n",
       "    <tr>\n",
       "      <th>nonflavanoid_phenols</th>\n",
       "      <td>178.0</td>\n",
       "      <td>0.361854</td>\n",
       "      <td>0.124453</td>\n",
       "      <td>0.13</td>\n",
       "      <td>0.2700</td>\n",
       "      <td>0.340</td>\n",
       "      <td>0.4375</td>\n",
       "      <td>0.66</td>\n",
       "    </tr>\n",
       "    <tr>\n",
       "      <th>proanthocyanins</th>\n",
       "      <td>178.0</td>\n",
       "      <td>1.590899</td>\n",
       "      <td>0.572359</td>\n",
       "      <td>0.41</td>\n",
       "      <td>1.2500</td>\n",
       "      <td>1.555</td>\n",
       "      <td>1.9500</td>\n",
       "      <td>3.58</td>\n",
       "    </tr>\n",
       "    <tr>\n",
       "      <th>color_intensity</th>\n",
       "      <td>178.0</td>\n",
       "      <td>5.058090</td>\n",
       "      <td>2.318286</td>\n",
       "      <td>1.28</td>\n",
       "      <td>3.2200</td>\n",
       "      <td>4.690</td>\n",
       "      <td>6.2000</td>\n",
       "      <td>13.00</td>\n",
       "    </tr>\n",
       "    <tr>\n",
       "      <th>hue</th>\n",
       "      <td>178.0</td>\n",
       "      <td>0.957449</td>\n",
       "      <td>0.228572</td>\n",
       "      <td>0.48</td>\n",
       "      <td>0.7825</td>\n",
       "      <td>0.965</td>\n",
       "      <td>1.1200</td>\n",
       "      <td>1.71</td>\n",
       "    </tr>\n",
       "    <tr>\n",
       "      <th>OD280_OD315</th>\n",
       "      <td>178.0</td>\n",
       "      <td>2.611685</td>\n",
       "      <td>0.709990</td>\n",
       "      <td>1.27</td>\n",
       "      <td>1.9375</td>\n",
       "      <td>2.780</td>\n",
       "      <td>3.1700</td>\n",
       "      <td>4.00</td>\n",
       "    </tr>\n",
       "    <tr>\n",
       "      <th>proline</th>\n",
       "      <td>178.0</td>\n",
       "      <td>746.893258</td>\n",
       "      <td>314.907474</td>\n",
       "      <td>278.00</td>\n",
       "      <td>500.5000</td>\n",
       "      <td>673.500</td>\n",
       "      <td>985.0000</td>\n",
       "      <td>1680.00</td>\n",
       "    </tr>\n",
       "  </tbody>\n",
       "</table>\n",
       "</div>"
      ],
      "text/plain": [
       "                      count        mean         std     min       25%  \\\n",
       "class                 178.0    1.938202    0.775035    1.00    1.0000   \n",
       "alcohol               178.0   13.000618    0.811827   11.03   12.3625   \n",
       "malic_acid            178.0    2.336348    1.117146    0.74    1.6025   \n",
       "ash                   178.0    2.366517    0.274344    1.36    2.2100   \n",
       "alcalinity_ash        178.0   19.494944    3.339564   10.60   17.2000   \n",
       "magnesium             178.0   99.741573   14.282484   70.00   88.0000   \n",
       "total_phenols         178.0    2.295112    0.625851    0.98    1.7425   \n",
       "flavanoids            178.0    2.029270    0.998859    0.34    1.2050   \n",
       "nonflavanoid_phenols  178.0    0.361854    0.124453    0.13    0.2700   \n",
       "proanthocyanins       178.0    1.590899    0.572359    0.41    1.2500   \n",
       "color_intensity       178.0    5.058090    2.318286    1.28    3.2200   \n",
       "hue                   178.0    0.957449    0.228572    0.48    0.7825   \n",
       "OD280_OD315           178.0    2.611685    0.709990    1.27    1.9375   \n",
       "proline               178.0  746.893258  314.907474  278.00  500.5000   \n",
       "\n",
       "                          50%       75%      max  \n",
       "class                   2.000    3.0000     3.00  \n",
       "alcohol                13.050   13.6775    14.83  \n",
       "malic_acid              1.865    3.0825     5.80  \n",
       "ash                     2.360    2.5575     3.23  \n",
       "alcalinity_ash         19.500   21.5000    30.00  \n",
       "magnesium              98.000  107.0000   162.00  \n",
       "total_phenols           2.355    2.8000     3.88  \n",
       "flavanoids              2.135    2.8750     5.08  \n",
       "nonflavanoid_phenols    0.340    0.4375     0.66  \n",
       "proanthocyanins         1.555    1.9500     3.58  \n",
       "color_intensity         4.690    6.2000    13.00  \n",
       "hue                     0.965    1.1200     1.71  \n",
       "OD280_OD315             2.780    3.1700     4.00  \n",
       "proline               673.500  985.0000  1680.00  "
      ]
     },
     "execution_count": 6,
     "metadata": {},
     "output_type": "execute_result"
    }
   ],
   "source": [
    "wine.describe().T"
   ]
  },
  {
   "cell_type": "code",
   "execution_count": 47,
   "metadata": {
    "collapsed": true
   },
   "outputs": [],
   "source": [
    "# Xtrain, Xtest, ytrain, ytest = train_test_split(wine.drop('class', axis=1),\n",
    "#                                                 wine['class'],\n",
    "#                                                 test_size=0.2,\n",
    "#                                                 random_state=5,\n",
    "#                                                 stratify=wine['class'])"
   ]
  },
  {
   "cell_type": "markdown",
   "metadata": {},
   "source": [
    "2 - Separate your data into train and test sets, of portions ranging from `test_size = 0.99` to `test_size = 0.01`, fitting a logistic regression model to each and computing the training and test errors.  Plot the errors of the training and test sets on the same plot.  Do this without using `sklearn.model_select.learning_curve`.  Comment on your results."
   ]
  },
  {
   "cell_type": "code",
   "execution_count": 125,
   "metadata": {
    "collapsed": true
   },
   "outputs": [],
   "source": [
    "# scaling and logistic regression\n",
    "pipe = Pipeline([\n",
    "        ('scl', StandardScaler()),\n",
    "        ('lr', LogisticRegression())\n",
    "    ])\n",
    "\n",
    "scores = []\n",
    "# looping through test sizes from 0.98 to 0.02 (0.99 gave error because I didn't have all the classes in the split)\n",
    "for tsize in np.arange(0.98, 0.01, -0.01):\n",
    "    # splitting\n",
    "    Xtr, Xts, ytr, yts = train_test_split(wine.drop('class', axis=1),\n",
    "                                            wine['class'],\n",
    "                                            test_size=tsize,\n",
    "                                            random_state=5,\n",
    "                                            stratify=wine['class'])\n",
    "    # fit and score\n",
    "    pipe.fit(Xtr, ytr)\n",
    "    scores.append([tsize, pipe.score(Xtr, ytr), pipe.score(Xts, yts)])\n",
    "\n",
    "scores = np.array(scores)"
   ]
  },
  {
   "cell_type": "code",
   "execution_count": 59,
   "metadata": {},
   "outputs": [
    {
     "data": {
      "image/png": "[encoded data removed]",
      "text/plain": [
       "<matplotlib.figure.Figure at 0x1eaea805f28>"
      ]
     },
     "metadata": {},
     "output_type": "display_data"
    }
   ],
   "source": [
    "# plot train and test scores by increasing train size (1-test size)\n",
    "fig, ax = plt.subplots(figsize=(16, 8))\n",
    "ax.plot(1 - scores[:, 0], scores[:, 1], label='Train')\n",
    "ax.plot(1 - scores[:, 0], scores[:, 2], label='Test')\n",
    "ax.set_xlim([0, 1])\n",
    "ax.set_ylim([0, 1.05])\n",
    "ax.set_xlabel('Train size (%)')\n",
    "ax.set_ylabel('Accuracy')\n",
    "ax.set_title('Learning Curves')\n",
    "ax.legend();"
   ]
  },
  {
   "cell_type": "markdown",
   "metadata": {},
   "source": [
    "As expected the test accuracy goes up when the train size is increased; strangely we always get 100% accuracy on the training set."
   ]
  },
  {
   "cell_type": "markdown",
   "metadata": {},
   "source": [
    "3 - Repeat part (2) but this time using `sklearn.model_select.learning_curve`.  Comment on your results."
   ]
  },
  {
   "cell_type": "code",
   "execution_count": 77,
   "metadata": {
    "collapsed": true
   },
   "outputs": [],
   "source": [
    "train_sizes, train_scores, test_scores = learning_curve(pipe,\n",
    "                                                        wine.drop('class', axis=1),\n",
    "                                                        wine['class'],\n",
    "                                                        train_sizes=np.arange(0.35, 0.99, 0.01),\n",
    "                                                        cv=10,\n",
    "                                                        random_state=5)"
   ]
  },
  {
   "cell_type": "code",
   "execution_count": 130,
   "metadata": {},
   "outputs": [
    {
     "data": {
      "image/png": "[encoded data removed]",
      "text/plain": [
       "<matplotlib.figure.Figure at 0x1eaeba3cc50>"
      ]
     },
     "metadata": {},
     "output_type": "display_data"
    }
   ],
   "source": [
    "fig, ax = plt.subplots(figsize=(16, 8))\n",
    "ax.plot(train_sizes, train_scores.mean(axis=1), label='Train')\n",
    "ax.plot(train_sizes, test_scores.mean(axis=1), label='Test')\n",
    "ax.set_ylim([0.4, 1.05])\n",
    "ax.set_xlabel('Train size')\n",
    "ax.set_ylabel('Accuracy')\n",
    "ax.set_title('Learning Curves')\n",
    "ax.legend();"
   ]
  },
  {
   "cell_type": "markdown",
   "metadata": {},
   "source": [
    "Using learning curves the accuracy on the training set is always perfect, while the test accuracy increases without getting to 100%: this may be because learning curve uses cross validation and so we are less dependent on the splits."
   ]
  },
  {
   "cell_type": "markdown",
   "metadata": {},
   "source": [
    "4 - Use K-Fold cross validation to tune the regularization strength parameter of the logistic regression.  Do this for values of `k` ranging from `2` to `5`, make relevant  plots, and comment on your results.  Do this without using `sklearn.model_select.evaluation_curve`."
   ]
  },
  {
   "cell_type": "code",
   "execution_count": 146,
   "metadata": {
    "collapsed": true
   },
   "outputs": [],
   "source": [
    "# using grid search which uses k-fold cv by default\n",
    "param_range = [0.0001, 0.0003, 0.001, 0.003, 0.01, 0.03, 0.1, 0.3, 1, 3, 10, 30, 100, 300, 1000, 3000]\n",
    "param_grid = [{'lr__C': param_range}]\n",
    "gs = GridSearchCV(estimator=pipe, \n",
    "                  param_grid=param_grid)\n",
    "\n",
    "scores = {}\n",
    "best_scores = {}\n",
    "# looping through number of folds\n",
    "for k in [2, 3, 4, 5]:\n",
    "    # set params\n",
    "    gs.set_params(cv=k)\n",
    "    # fit\n",
    "    gs.fit(wine.drop('class', axis=1), wine['class'])\n",
    "    # saving best scores and mean scores for all params\n",
    "    best_scores[k] = [gs.best_params_['lr__C'], gs.best_score_]\n",
    "    scores[k] = np.array([param_range, gs.cv_results_['mean_train_score'], gs.cv_results_['mean_test_score']]).T"
   ]
  },
  {
   "cell_type": "code",
   "execution_count": 155,
   "metadata": {},
   "outputs": [
    {
     "data": {
      "text/plain": [
       "{2: [1000, 0.9831460674157303],\n",
       " 3: [30, 0.97752808988764039],\n",
       " 4: [0.1, 0.9719101123595506],\n",
       " 5: [1, 0.9831460674157303]}"
      ]
     },
     "execution_count": 155,
     "metadata": {},
     "output_type": "execute_result"
    }
   ],
   "source": [
    "best_scores"
   ]
  },
  {
   "cell_type": "code",
   "execution_count": 148,
   "metadata": {},
   "outputs": [
    {
     "data": {
      "image/png": "[encoded data removed]",
      "text/plain": [
       "<matplotlib.figure.Figure at 0x1eaeab792b0>"
      ]
     },
     "metadata": {},
     "output_type": "display_data"
    }
   ],
   "source": [
    "# creating 4 plots, one for each number of fold\n",
    "fig, ax = plt.subplots(2, 2, figsize=(16, 8), sharex='col', sharey='row', subplot_kw=dict(xscale='log'))\n",
    "i, j = 0, 0\n",
    "\n",
    "for k in scores:\n",
    "    # plotting train and test scores and the best score\n",
    "    ax[i, j].plot(scores[k][:, 0], scores[k][:, 1], label='Train')\n",
    "    ax[i, j].plot(scores[k][:, 0], scores[k][:, 2], label='Test')\n",
    "    ax[i, j].plot(best_scores[k][0], best_scores[k][1], 'ro', label='Best Score')\n",
    "    ax[i, j].set_title('{}-fold CV'.format(k))\n",
    "    if j == 0:\n",
    "        ax[i, j].set_ylabel('Accuracy')\n",
    "    if i == 1:\n",
    "        ax[i, j].set_xlabel('C value')\n",
    "    ax[i, j].legend()\n",
    "    j += 1\n",
    "    if j == 2:\n",
    "        j = 0\n",
    "        i += 1"
   ]
  },
  {
   "cell_type": "markdown",
   "metadata": {},
   "source": [
    "Training scores are very similar in each of the plots, there are some differences between the test accuracy curves where the best value for C seems to go towards 1."
   ]
  },
  {
   "cell_type": "markdown",
   "metadata": {},
   "source": [
    "5 - Tune the regularization strength parameter as in part (4), but this time using `sklearn.model_select.evaluation_curve`.  Comment on your results."
   ]
  },
  {
   "cell_type": "code",
   "execution_count": 142,
   "metadata": {
    "collapsed": true
   },
   "outputs": [],
   "source": [
    "scores = {}\n",
    "best_scores = {}\n",
    "\n",
    "for k in [2, 3, 4, 5]:\n",
    "    # validation cruve uses cv and wants params similar to grid search\n",
    "    train_scores, test_scores = validation_curve(estimator=pipe,\n",
    "                                                X=wine.drop('class', axis=1),\n",
    "                                                y=wine['class'],\n",
    "                                                param_name='lr__C',\n",
    "                                                param_range=param_range,\n",
    "                                                cv=k)\n",
    "    # saving mean scores\n",
    "    mean_train_scores = train_scores.mean(axis=1)\n",
    "    mean_test_scores = test_scores.mean(axis=1)\n",
    "    # and best scores\n",
    "    best_scores[k] = [param_range[mean_test_scores.argmax()], mean_test_scores[mean_test_scores.argmax()]]\n",
    "    scores[k] = np.array([param_range, mean_train_scores, mean_test_scores]).T"
   ]
  },
  {
   "cell_type": "code",
   "execution_count": 154,
   "metadata": {},
   "outputs": [
    {
     "data": {
      "text/plain": [
       "{2: [1000, 0.9831460674157303],\n",
       " 3: [30, 0.97752808988764039],\n",
       " 4: [0.1, 0.9719101123595506],\n",
       " 5: [1, 0.9831460674157303]}"
      ]
     },
     "execution_count": 154,
     "metadata": {},
     "output_type": "execute_result"
    }
   ],
   "source": [
    "best_scores"
   ]
  },
  {
   "cell_type": "code",
   "execution_count": 143,
   "metadata": {},
   "outputs": [
    {
     "data": {
      "image/png": "[encoded data removed]",
      "text/plain": [
       "<matplotlib.figure.Figure at 0x1eaeb8a54a8>"
      ]
     },
     "metadata": {},
     "output_type": "display_data"
    }
   ],
   "source": [
    "fig, ax = plt.subplots(2, 2, figsize=(16, 8), sharex='col', sharey='row', subplot_kw=dict(xscale='log'))\n",
    "i, j = 0, 0\n",
    "\n",
    "for k in scores:\n",
    "    ax[i, j].plot(scores[k][:, 0], scores[k][:, 1], label='Train')\n",
    "    ax[i, j].plot(scores[k][:, 0], scores[k][:, 2], label='Test')\n",
    "    ax[i, j].plot(best_scores[k][0], best_scores[k][1], 'ro', label='Best Score')\n",
    "    ax[i, j].set_title('{}-fold CV'.format(k))\n",
    "    if j == 0:\n",
    "        ax[i, j].set_ylabel('Accuracy')\n",
    "    if i == 1:\n",
    "        ax[i, j].set_xlabel('C value')\n",
    "    ax[i, j].legend()\n",
    "    j += 1\n",
    "    if j == 2:\n",
    "        j = 0\n",
    "        i += 1"
   ]
  },
  {
   "cell_type": "markdown",
   "metadata": {},
   "source": [
    "The plots are the same as above."
   ]
  },
  {
   "cell_type": "markdown",
   "metadata": {},
   "source": [
    "6 - Fit another classification algorithm to the data, tuning the parameter using LOOCV.  Comment on your results."
   ]
  },
  {
   "cell_type": "code",
   "execution_count": 153,
   "metadata": {},
   "outputs": [
    {
     "data": {
      "text/plain": [
       "(0.3, 0.9887640449438202)"
      ]
     },
     "execution_count": 153,
     "metadata": {},
     "output_type": "execute_result"
    }
   ],
   "source": [
    "pipe = Pipeline([\n",
    "    ('scl', StandardScaler()),\n",
    "    ('svm', SVC())\n",
    "])\n",
    "# using grid search with LeaveOneOut as cv\n",
    "param_range = [0.0001, 0.0003, 0.001, 0.003, 0.01, 0.03, 0.1, 0.3, 1, 3, 10, 30, 100, 300, 1000, 3000]\n",
    "param_grid = [{'svm__C': param_range}]\n",
    "gs = GridSearchCV(estimator=pipe, \n",
    "                  param_grid=param_grid,\n",
    "                  cv=LeaveOneOut())\n",
    "\n",
    "gs.fit(wine.drop('class', axis=1), wine['class'])\n",
    "gs.best_params_['svm__C'], gs.best_score_"
   ]
  },
  {
   "cell_type": "markdown",
   "metadata": {},
   "source": [
    "Using LOOCV I get 0.3 as the best choice for C and an accuracy of almost 99%, which is slightly higher than before."
   ]
  },
  {
   "cell_type": "markdown",
   "metadata": {},
   "source": [
    "7 - Suppose that the wine data the we received was incomplete, containing, say, only 20% of the full set, but due to a fast approaching deadline, we need to still compute some statistics and fit a model.  Use bootstrapping to compute the mean and variance of the features, and fit the classification model you used in part (4), comparing and commenting on your results with those from the full dataset."
   ]
  },
  {
   "cell_type": "code",
   "execution_count": 6,
   "metadata": {
    "collapsed": true
   },
   "outputs": [],
   "source": [
    "# resampling 5 times the data\n",
    "wine_strapped = resample(wine, n_samples=len(wine)*5, random_state=10)"
   ]
  },
  {
   "cell_type": "code",
   "execution_count": 7,
   "metadata": {},
   "outputs": [
    {
     "data": {
      "text/html": [
       "<div>\n",
       "<style>\n",
       "    .dataframe thead tr:only-child th {\n",
       "        text-align: right;\n",
       "    }\n",
       "\n",
       "    .dataframe thead th {\n",
       "        text-align: left;\n",
       "    }\n",
       "\n",
       "    .dataframe tbody tr th {\n",
       "        vertical-align: top;\n",
       "    }\n",
       "</style>\n",
       "<table border=\"1\" class=\"dataframe\">\n",
       "  <thead>\n",
       "    <tr style=\"text-align: right;\">\n",
       "      <th></th>\n",
       "      <th>count</th>\n",
       "      <th>mean</th>\n",
       "      <th>std</th>\n",
       "      <th>min</th>\n",
       "      <th>25%</th>\n",
       "      <th>50%</th>\n",
       "      <th>75%</th>\n",
       "      <th>max</th>\n",
       "    </tr>\n",
       "  </thead>\n",
       "  <tbody>\n",
       "    <tr>\n",
       "      <th>class</th>\n",
       "      <td>178.0</td>\n",
       "      <td>1.938202</td>\n",
       "      <td>0.775035</td>\n",
       "      <td>1.00</td>\n",
       "      <td>1.0000</td>\n",
       "      <td>2.000</td>\n",
       "      <td>3.0000</td>\n",
       "      <td>3.00</td>\n",
       "    </tr>\n",
       "    <tr>\n",
       "      <th>alcohol</th>\n",
       "      <td>178.0</td>\n",
       "      <td>13.000618</td>\n",
       "      <td>0.811827</td>\n",
       "      <td>11.03</td>\n",
       "      <td>12.3625</td>\n",
       "      <td>13.050</td>\n",
       "      <td>13.6775</td>\n",
       "      <td>14.83</td>\n",
       "    </tr>\n",
       "    <tr>\n",
       "      <th>malic_acid</th>\n",
       "      <td>178.0</td>\n",
       "      <td>2.336348</td>\n",
       "      <td>1.117146</td>\n",
       "      <td>0.74</td>\n",
       "      <td>1.6025</td>\n",
       "      <td>1.865</td>\n",
       "      <td>3.0825</td>\n",
       "      <td>5.80</td>\n",
       "    </tr>\n",
       "    <tr>\n",
       "      <th>ash</th>\n",
       "      <td>178.0</td>\n",
       "      <td>2.366517</td>\n",
       "      <td>0.274344</td>\n",
       "      <td>1.36</td>\n",
       "      <td>2.2100</td>\n",
       "      <td>2.360</td>\n",
       "      <td>2.5575</td>\n",
       "      <td>3.23</td>\n",
       "    </tr>\n",
       "    <tr>\n",
       "      <th>alcalinity_ash</th>\n",
       "      <td>178.0</td>\n",
       "      <td>19.494944</td>\n",
       "      <td>3.339564</td>\n",
       "      <td>10.60</td>\n",
       "      <td>17.2000</td>\n",
       "      <td>19.500</td>\n",
       "      <td>21.5000</td>\n",
       "      <td>30.00</td>\n",
       "    </tr>\n",
       "    <tr>\n",
       "      <th>magnesium</th>\n",
       "      <td>178.0</td>\n",
       "      <td>99.741573</td>\n",
       "      <td>14.282484</td>\n",
       "      <td>70.00</td>\n",
       "      <td>88.0000</td>\n",
       "      <td>98.000</td>\n",
       "      <td>107.0000</td>\n",
       "      <td>162.00</td>\n",
       "    </tr>\n",
       "    <tr>\n",
       "      <th>total_phenols</th>\n",
       "      <td>178.0</td>\n",
       "      <td>2.295112</td>\n",
       "      <td>0.625851</td>\n",
       "      <td>0.98</td>\n",
       "      <td>1.7425</td>\n",
       "      <td>2.355</td>\n",
       "      <td>2.8000</td>\n",
       "      <td>3.88</td>\n",
       "    </tr>\n",
       "    <tr>\n",
       "      <th>flavanoids</th>\n",
       "      <td>178.0</td>\n",
       "      <td>2.029270</td>\n",
       "      <td>0.998859</td>\n",
       "      <td>0.34</td>\n",
       "      <td>1.2050</td>\n",
       "      <td>2.135</td>\n",
       "      <td>2.8750</td>\n",
       "      <td>5.08</td>\n",
       "    </tr>\n",
       "    <tr>\n",
       "      <th>nonflavanoid_phenols</th>\n",
       "      <td>178.0</td>\n",
       "      <td>0.361854</td>\n",
       "      <td>0.124453</td>\n",
       "      <td>0.13</td>\n",
       "      <td>0.2700</td>\n",
       "      <td>0.340</td>\n",
       "      <td>0.4375</td>\n",
       "      <td>0.66</td>\n",
       "    </tr>\n",
       "    <tr>\n",
       "      <th>proanthocyanins</th>\n",
       "      <td>178.0</td>\n",
       "      <td>1.590899</td>\n",
       "      <td>0.572359</td>\n",
       "      <td>0.41</td>\n",
       "      <td>1.2500</td>\n",
       "      <td>1.555</td>\n",
       "      <td>1.9500</td>\n",
       "      <td>3.58</td>\n",
       "    </tr>\n",
       "    <tr>\n",
       "      <th>color_intensity</th>\n",
       "      <td>178.0</td>\n",
       "      <td>5.058090</td>\n",
       "      <td>2.318286</td>\n",
       "      <td>1.28</td>\n",
       "      <td>3.2200</td>\n",
       "      <td>4.690</td>\n",
       "      <td>6.2000</td>\n",
       "      <td>13.00</td>\n",
       "    </tr>\n",
       "    <tr>\n",
       "      <th>hue</th>\n",
       "      <td>178.0</td>\n",
       "      <td>0.957449</td>\n",
       "      <td>0.228572</td>\n",
       "      <td>0.48</td>\n",
       "      <td>0.7825</td>\n",
       "      <td>0.965</td>\n",
       "      <td>1.1200</td>\n",
       "      <td>1.71</td>\n",
       "    </tr>\n",
       "    <tr>\n",
       "      <th>OD280_OD315</th>\n",
       "      <td>178.0</td>\n",
       "      <td>2.611685</td>\n",
       "      <td>0.709990</td>\n",
       "      <td>1.27</td>\n",
       "      <td>1.9375</td>\n",
       "      <td>2.780</td>\n",
       "      <td>3.1700</td>\n",
       "      <td>4.00</td>\n",
       "    </tr>\n",
       "    <tr>\n",
       "      <th>proline</th>\n",
       "      <td>178.0</td>\n",
       "      <td>746.893258</td>\n",
       "      <td>314.907474</td>\n",
       "      <td>278.00</td>\n",
       "      <td>500.5000</td>\n",
       "      <td>673.500</td>\n",
       "      <td>985.0000</td>\n",
       "      <td>1680.00</td>\n",
       "    </tr>\n",
       "  </tbody>\n",
       "</table>\n",
       "</div>"
      ],
      "text/plain": [
       "                      count        mean         std     min       25%  \\\n",
       "class                 178.0    1.938202    0.775035    1.00    1.0000   \n",
       "alcohol               178.0   13.000618    0.811827   11.03   12.3625   \n",
       "malic_acid            178.0    2.336348    1.117146    0.74    1.6025   \n",
       "ash                   178.0    2.366517    0.274344    1.36    2.2100   \n",
       "alcalinity_ash        178.0   19.494944    3.339564   10.60   17.2000   \n",
       "magnesium             178.0   99.741573   14.282484   70.00   88.0000   \n",
       "total_phenols         178.0    2.295112    0.625851    0.98    1.7425   \n",
       "flavanoids            178.0    2.029270    0.998859    0.34    1.2050   \n",
       "nonflavanoid_phenols  178.0    0.361854    0.124453    0.13    0.2700   \n",
       "proanthocyanins       178.0    1.590899    0.572359    0.41    1.2500   \n",
       "color_intensity       178.0    5.058090    2.318286    1.28    3.2200   \n",
       "hue                   178.0    0.957449    0.228572    0.48    0.7825   \n",
       "OD280_OD315           178.0    2.611685    0.709990    1.27    1.9375   \n",
       "proline               178.0  746.893258  314.907474  278.00  500.5000   \n",
       "\n",
       "                          50%       75%      max  \n",
       "class                   2.000    3.0000     3.00  \n",
       "alcohol                13.050   13.6775    14.83  \n",
       "malic_acid              1.865    3.0825     5.80  \n",
       "ash                     2.360    2.5575     3.23  \n",
       "alcalinity_ash         19.500   21.5000    30.00  \n",
       "magnesium              98.000  107.0000   162.00  \n",
       "total_phenols           2.355    2.8000     3.88  \n",
       "flavanoids              2.135    2.8750     5.08  \n",
       "nonflavanoid_phenols    0.340    0.4375     0.66  \n",
       "proanthocyanins         1.555    1.9500     3.58  \n",
       "color_intensity         4.690    6.2000    13.00  \n",
       "hue                     0.965    1.1200     1.71  \n",
       "OD280_OD315             2.780    3.1700     4.00  \n",
       "proline               673.500  985.0000  1680.00  "
      ]
     },
     "execution_count": 7,
     "metadata": {},
     "output_type": "execute_result"
    }
   ],
   "source": [
    "wine.describe().T"
   ]
  },
  {
   "cell_type": "code",
   "execution_count": 8,
   "metadata": {},
   "outputs": [
    {
     "data": {
      "text/html": [
       "<div>\n",
       "<style>\n",
       "    .dataframe thead tr:only-child th {\n",
       "        text-align: right;\n",
       "    }\n",
       "\n",
       "    .dataframe thead th {\n",
       "        text-align: left;\n",
       "    }\n",
       "\n",
       "    .dataframe tbody tr th {\n",
       "        vertical-align: top;\n",
       "    }\n",
       "</style>\n",
       "<table border=\"1\" class=\"dataframe\">\n",
       "  <thead>\n",
       "    <tr style=\"text-align: right;\">\n",
       "      <th></th>\n",
       "      <th>count</th>\n",
       "      <th>mean</th>\n",
       "      <th>std</th>\n",
       "      <th>min</th>\n",
       "      <th>25%</th>\n",
       "      <th>50%</th>\n",
       "      <th>75%</th>\n",
       "      <th>max</th>\n",
       "    </tr>\n",
       "  </thead>\n",
       "  <tbody>\n",
       "    <tr>\n",
       "      <th>class</th>\n",
       "      <td>890.0</td>\n",
       "      <td>1.926966</td>\n",
       "      <td>0.779557</td>\n",
       "      <td>1.00</td>\n",
       "      <td>1.0000</td>\n",
       "      <td>2.00</td>\n",
       "      <td>3.00</td>\n",
       "      <td>3.00</td>\n",
       "    </tr>\n",
       "    <tr>\n",
       "      <th>alcohol</th>\n",
       "      <td>890.0</td>\n",
       "      <td>13.012371</td>\n",
       "      <td>0.817597</td>\n",
       "      <td>11.03</td>\n",
       "      <td>12.3700</td>\n",
       "      <td>13.05</td>\n",
       "      <td>13.71</td>\n",
       "      <td>14.83</td>\n",
       "    </tr>\n",
       "    <tr>\n",
       "      <th>malic_acid</th>\n",
       "      <td>890.0</td>\n",
       "      <td>2.305820</td>\n",
       "      <td>1.080373</td>\n",
       "      <td>0.74</td>\n",
       "      <td>1.5900</td>\n",
       "      <td>1.83</td>\n",
       "      <td>3.10</td>\n",
       "      <td>5.80</td>\n",
       "    </tr>\n",
       "    <tr>\n",
       "      <th>ash</th>\n",
       "      <td>890.0</td>\n",
       "      <td>2.363079</td>\n",
       "      <td>0.275447</td>\n",
       "      <td>1.36</td>\n",
       "      <td>2.2100</td>\n",
       "      <td>2.36</td>\n",
       "      <td>2.56</td>\n",
       "      <td>3.23</td>\n",
       "    </tr>\n",
       "    <tr>\n",
       "      <th>alcalinity_ash</th>\n",
       "      <td>890.0</td>\n",
       "      <td>19.367978</td>\n",
       "      <td>3.310979</td>\n",
       "      <td>10.60</td>\n",
       "      <td>17.0000</td>\n",
       "      <td>19.00</td>\n",
       "      <td>21.50</td>\n",
       "      <td>30.00</td>\n",
       "    </tr>\n",
       "    <tr>\n",
       "      <th>magnesium</th>\n",
       "      <td>890.0</td>\n",
       "      <td>99.713483</td>\n",
       "      <td>14.150085</td>\n",
       "      <td>70.00</td>\n",
       "      <td>88.0000</td>\n",
       "      <td>98.00</td>\n",
       "      <td>108.00</td>\n",
       "      <td>162.00</td>\n",
       "    </tr>\n",
       "    <tr>\n",
       "      <th>total_phenols</th>\n",
       "      <td>890.0</td>\n",
       "      <td>2.331596</td>\n",
       "      <td>0.634766</td>\n",
       "      <td>0.98</td>\n",
       "      <td>1.7825</td>\n",
       "      <td>2.42</td>\n",
       "      <td>2.85</td>\n",
       "      <td>3.88</td>\n",
       "    </tr>\n",
       "    <tr>\n",
       "      <th>flavanoids</th>\n",
       "      <td>890.0</td>\n",
       "      <td>2.064978</td>\n",
       "      <td>1.014961</td>\n",
       "      <td>0.34</td>\n",
       "      <td>1.1000</td>\n",
       "      <td>2.17</td>\n",
       "      <td>2.92</td>\n",
       "      <td>5.08</td>\n",
       "    </tr>\n",
       "    <tr>\n",
       "      <th>nonflavanoid_phenols</th>\n",
       "      <td>890.0</td>\n",
       "      <td>0.356202</td>\n",
       "      <td>0.126038</td>\n",
       "      <td>0.13</td>\n",
       "      <td>0.2600</td>\n",
       "      <td>0.32</td>\n",
       "      <td>0.43</td>\n",
       "      <td>0.66</td>\n",
       "    </tr>\n",
       "    <tr>\n",
       "      <th>proanthocyanins</th>\n",
       "      <td>890.0</td>\n",
       "      <td>1.616697</td>\n",
       "      <td>0.577095</td>\n",
       "      <td>0.41</td>\n",
       "      <td>1.2500</td>\n",
       "      <td>1.56</td>\n",
       "      <td>1.97</td>\n",
       "      <td>3.58</td>\n",
       "    </tr>\n",
       "    <tr>\n",
       "      <th>color_intensity</th>\n",
       "      <td>890.0</td>\n",
       "      <td>5.180742</td>\n",
       "      <td>2.372478</td>\n",
       "      <td>1.28</td>\n",
       "      <td>3.2550</td>\n",
       "      <td>4.92</td>\n",
       "      <td>6.38</td>\n",
       "      <td>13.00</td>\n",
       "    </tr>\n",
       "    <tr>\n",
       "      <th>hue</th>\n",
       "      <td>890.0</td>\n",
       "      <td>0.961290</td>\n",
       "      <td>0.230392</td>\n",
       "      <td>0.48</td>\n",
       "      <td>0.7800</td>\n",
       "      <td>0.96</td>\n",
       "      <td>1.12</td>\n",
       "      <td>1.71</td>\n",
       "    </tr>\n",
       "    <tr>\n",
       "      <th>OD280_OD315</th>\n",
       "      <td>890.0</td>\n",
       "      <td>2.612213</td>\n",
       "      <td>0.697673</td>\n",
       "      <td>1.27</td>\n",
       "      <td>1.9600</td>\n",
       "      <td>2.78</td>\n",
       "      <td>3.17</td>\n",
       "      <td>4.00</td>\n",
       "    </tr>\n",
       "    <tr>\n",
       "      <th>proline</th>\n",
       "      <td>890.0</td>\n",
       "      <td>760.420225</td>\n",
       "      <td>319.671029</td>\n",
       "      <td>278.00</td>\n",
       "      <td>510.0000</td>\n",
       "      <td>675.00</td>\n",
       "      <td>1020.00</td>\n",
       "      <td>1680.00</td>\n",
       "    </tr>\n",
       "  </tbody>\n",
       "</table>\n",
       "</div>"
      ],
      "text/plain": [
       "                      count        mean         std     min       25%     50%  \\\n",
       "class                 890.0    1.926966    0.779557    1.00    1.0000    2.00   \n",
       "alcohol               890.0   13.012371    0.817597   11.03   12.3700   13.05   \n",
       "malic_acid            890.0    2.305820    1.080373    0.74    1.5900    1.83   \n",
       "ash                   890.0    2.363079    0.275447    1.36    2.2100    2.36   \n",
       "alcalinity_ash        890.0   19.367978    3.310979   10.60   17.0000   19.00   \n",
       "magnesium             890.0   99.713483   14.150085   70.00   88.0000   98.00   \n",
       "total_phenols         890.0    2.331596    0.634766    0.98    1.7825    2.42   \n",
       "flavanoids            890.0    2.064978    1.014961    0.34    1.1000    2.17   \n",
       "nonflavanoid_phenols  890.0    0.356202    0.126038    0.13    0.2600    0.32   \n",
       "proanthocyanins       890.0    1.616697    0.577095    0.41    1.2500    1.56   \n",
       "color_intensity       890.0    5.180742    2.372478    1.28    3.2550    4.92   \n",
       "hue                   890.0    0.961290    0.230392    0.48    0.7800    0.96   \n",
       "OD280_OD315           890.0    2.612213    0.697673    1.27    1.9600    2.78   \n",
       "proline               890.0  760.420225  319.671029  278.00  510.0000  675.00   \n",
       "\n",
       "                          75%      max  \n",
       "class                    3.00     3.00  \n",
       "alcohol                 13.71    14.83  \n",
       "malic_acid               3.10     5.80  \n",
       "ash                      2.56     3.23  \n",
       "alcalinity_ash          21.50    30.00  \n",
       "magnesium              108.00   162.00  \n",
       "total_phenols            2.85     3.88  \n",
       "flavanoids               2.92     5.08  \n",
       "nonflavanoid_phenols     0.43     0.66  \n",
       "proanthocyanins          1.97     3.58  \n",
       "color_intensity          6.38    13.00  \n",
       "hue                      1.12     1.71  \n",
       "OD280_OD315              3.17     4.00  \n",
       "proline               1020.00  1680.00  "
      ]
     },
     "execution_count": 8,
     "metadata": {},
     "output_type": "execute_result"
    }
   ],
   "source": [
    "wine_strapped.describe().T"
   ]
  },
  {
   "cell_type": "code",
   "execution_count": 9,
   "metadata": {
    "collapsed": true
   },
   "outputs": [],
   "source": [
    "pipe = Pipeline([\n",
    "        ('scl', StandardScaler()),\n",
    "        ('lr', LogisticRegression())\n",
    "    ])\n",
    "# using grid search to fit the best logistic regression\n",
    "param_range = [0.0001, 0.0003, 0.001, 0.003, 0.01, 0.03, 0.1, 0.3, 1, 3, 10, 30, 100, 300, 1000, 3000]\n",
    "param_grid = [{'lr__C': param_range}]\n",
    "gs = GridSearchCV(estimator=pipe, \n",
    "                  param_grid=param_grid)\n",
    "\n",
    "scores = {}\n",
    "best_scores = {}\n",
    "# looping through number of folds\n",
    "for k in [2, 3, 4, 5]:\n",
    "    gs.set_params(cv=k)\n",
    "    gs.fit(wine_strapped.drop('class', axis=1), wine_strapped['class'])\n",
    "    best_scores[k] = [gs.best_params_['lr__C'], gs.best_score_]\n",
    "    scores[k] = np.array([param_range, gs.cv_results_['mean_train_score'], gs.cv_results_['mean_test_score']]).T"
   ]
  },
  {
   "cell_type": "code",
   "execution_count": 10,
   "metadata": {},
   "outputs": [
    {
     "data": {
      "text/plain": [
       "{2: [1, 1.0], 3: [1, 1.0], 4: [1, 1.0], 5: [1, 1.0]}"
      ]
     },
     "execution_count": 10,
     "metadata": {},
     "output_type": "execute_result"
    }
   ],
   "source": [
    "best_scores"
   ]
  },
  {
   "cell_type": "markdown",
   "metadata": {},
   "source": [
    "In all the cases I get 100% accuracy!"
   ]
  },
  {
   "cell_type": "markdown",
   "metadata": {},
   "source": [
    "## Model Selection\n",
    "All that has been within the previous sections is part of the much broader topic known as model selection.  Model selection is not only about choosing the right machine learning algorithm to use, but also about tuning parameters while keeping overfitting and scalability issues in mind.  In this exercise, we'll build models for a couple different datasets, using all of the concepts you've worked with previously."
   ]
  },
  {
   "cell_type": "markdown",
   "metadata": {
    "collapsed": true
   },
   "source": [
    "### Classification\n",
    "1 - Head over to the [Machine Learning Repository](http://archive.ics.uci.edu/ml/index.php), download the [Mushroom Data Set](http://archive.ics.uci.edu/ml/datasets/Mushroom), and put it into a dataframe.  Be sure to familiarize yourself with the data before proceeding.  Break the data into training and testing sets.  Be sure to keep this testing set the same for the duration of this exercise as we will be using to test various algorithms!"
   ]
  },
  {
   "cell_type": "code",
   "execution_count": 3,
   "metadata": {
    "collapsed": true
   },
   "outputs": [],
   "source": [
    "shrooms = pd.read_csv('http://archive.ics.uci.edu/ml/machine-learning-databases/mushroom/agaricus-lepiota.data', header=None)\n",
    "shrooms.columns = ['poisonous', 'cap_shape', 'cap_surface', 'cap_color', 'bruises', 'odor', 'gill_attachment', 'gill_spacing',\n",
    "                   'gill_size', 'gill_color', 'stalk_shape', 'stalk_root', 'stalk_surface_above_ring',\n",
    "                   'stalk_surface_below_ring', 'stalk_color_above_ring', 'stalk_color_below_ring', 'veil_type',\n",
    "                   'veil_color', 'ring_number', 'ring_type', 'spore_print_color', 'population', 'habitat']"
   ]
  },
  {
   "cell_type": "code",
   "execution_count": 49,
   "metadata": {},
   "outputs": [
    {
     "data": {
      "text/html": [
       "<div>\n",
       "<style>\n",
       "    .dataframe thead tr:only-child th {\n",
       "        text-align: right;\n",
       "    }\n",
       "\n",
       "    .dataframe thead th {\n",
       "        text-align: left;\n",
       "    }\n",
       "\n",
       "    .dataframe tbody tr th {\n",
       "        vertical-align: top;\n",
       "    }\n",
       "</style>\n",
       "<table border=\"1\" class=\"dataframe\">\n",
       "  <thead>\n",
       "    <tr style=\"text-align: right;\">\n",
       "      <th></th>\n",
       "      <th>poisonous</th>\n",
       "      <th>cap_shape</th>\n",
       "      <th>cap_surface</th>\n",
       "      <th>cap_color</th>\n",
       "      <th>bruises</th>\n",
       "      <th>odor</th>\n",
       "      <th>gill_attachment</th>\n",
       "      <th>gill_spacing</th>\n",
       "      <th>gill_size</th>\n",
       "      <th>gill_color</th>\n",
       "      <th>...</th>\n",
       "      <th>stalk_surface_below_ring</th>\n",
       "      <th>stalk_color_above_ring</th>\n",
       "      <th>stalk_color_below_ring</th>\n",
       "      <th>veil_type</th>\n",
       "      <th>veil_color</th>\n",
       "      <th>ring_number</th>\n",
       "      <th>ring_type</th>\n",
       "      <th>spore_print_color</th>\n",
       "      <th>population</th>\n",
       "      <th>habitat</th>\n",
       "    </tr>\n",
       "  </thead>\n",
       "  <tbody>\n",
       "    <tr>\n",
       "      <th>0</th>\n",
       "      <td>p</td>\n",
       "      <td>x</td>\n",
       "      <td>s</td>\n",
       "      <td>n</td>\n",
       "      <td>t</td>\n",
       "      <td>p</td>\n",
       "      <td>f</td>\n",
       "      <td>c</td>\n",
       "      <td>n</td>\n",
       "      <td>k</td>\n",
       "      <td>...</td>\n",
       "      <td>s</td>\n",
       "      <td>w</td>\n",
       "      <td>w</td>\n",
       "      <td>p</td>\n",
       "      <td>w</td>\n",
       "      <td>o</td>\n",
       "      <td>p</td>\n",
       "      <td>k</td>\n",
       "      <td>s</td>\n",
       "      <td>u</td>\n",
       "    </tr>\n",
       "    <tr>\n",
       "      <th>1</th>\n",
       "      <td>e</td>\n",
       "      <td>x</td>\n",
       "      <td>s</td>\n",
       "      <td>y</td>\n",
       "      <td>t</td>\n",
       "      <td>a</td>\n",
       "      <td>f</td>\n",
       "      <td>c</td>\n",
       "      <td>b</td>\n",
       "      <td>k</td>\n",
       "      <td>...</td>\n",
       "      <td>s</td>\n",
       "      <td>w</td>\n",
       "      <td>w</td>\n",
       "      <td>p</td>\n",
       "      <td>w</td>\n",
       "      <td>o</td>\n",
       "      <td>p</td>\n",
       "      <td>n</td>\n",
       "      <td>n</td>\n",
       "      <td>g</td>\n",
       "    </tr>\n",
       "    <tr>\n",
       "      <th>2</th>\n",
       "      <td>e</td>\n",
       "      <td>b</td>\n",
       "      <td>s</td>\n",
       "      <td>w</td>\n",
       "      <td>t</td>\n",
       "      <td>l</td>\n",
       "      <td>f</td>\n",
       "      <td>c</td>\n",
       "      <td>b</td>\n",
       "      <td>n</td>\n",
       "      <td>...</td>\n",
       "      <td>s</td>\n",
       "      <td>w</td>\n",
       "      <td>w</td>\n",
       "      <td>p</td>\n",
       "      <td>w</td>\n",
       "      <td>o</td>\n",
       "      <td>p</td>\n",
       "      <td>n</td>\n",
       "      <td>n</td>\n",
       "      <td>m</td>\n",
       "    </tr>\n",
       "    <tr>\n",
       "      <th>3</th>\n",
       "      <td>p</td>\n",
       "      <td>x</td>\n",
       "      <td>y</td>\n",
       "      <td>w</td>\n",
       "      <td>t</td>\n",
       "      <td>p</td>\n",
       "      <td>f</td>\n",
       "      <td>c</td>\n",
       "      <td>n</td>\n",
       "      <td>n</td>\n",
       "      <td>...</td>\n",
       "      <td>s</td>\n",
       "      <td>w</td>\n",
       "      <td>w</td>\n",
       "      <td>p</td>\n",
       "      <td>w</td>\n",
       "      <td>o</td>\n",
       "      <td>p</td>\n",
       "      <td>k</td>\n",
       "      <td>s</td>\n",
       "      <td>u</td>\n",
       "    </tr>\n",
       "    <tr>\n",
       "      <th>4</th>\n",
       "      <td>e</td>\n",
       "      <td>x</td>\n",
       "      <td>s</td>\n",
       "      <td>g</td>\n",
       "      <td>f</td>\n",
       "      <td>n</td>\n",
       "      <td>f</td>\n",
       "      <td>w</td>\n",
       "      <td>b</td>\n",
       "      <td>k</td>\n",
       "      <td>...</td>\n",
       "      <td>s</td>\n",
       "      <td>w</td>\n",
       "      <td>w</td>\n",
       "      <td>p</td>\n",
       "      <td>w</td>\n",
       "      <td>o</td>\n",
       "      <td>e</td>\n",
       "      <td>n</td>\n",
       "      <td>a</td>\n",
       "      <td>g</td>\n",
       "    </tr>\n",
       "  </tbody>\n",
       "</table>\n",
       "<p>5 rows × 23 columns</p>\n",
       "</div>"
      ],
      "text/plain": [
       "  poisonous cap_shape cap_surface cap_color bruises odor gill_attachment  \\\n",
       "0         p         x           s         n       t    p               f   \n",
       "1         e         x           s         y       t    a               f   \n",
       "2         e         b           s         w       t    l               f   \n",
       "3         p         x           y         w       t    p               f   \n",
       "4         e         x           s         g       f    n               f   \n",
       "\n",
       "  gill_spacing gill_size gill_color   ...   stalk_surface_below_ring  \\\n",
       "0            c         n          k   ...                          s   \n",
       "1            c         b          k   ...                          s   \n",
       "2            c         b          n   ...                          s   \n",
       "3            c         n          n   ...                          s   \n",
       "4            w         b          k   ...                          s   \n",
       "\n",
       "  stalk_color_above_ring stalk_color_below_ring veil_type veil_color  \\\n",
       "0                      w                      w         p          w   \n",
       "1                      w                      w         p          w   \n",
       "2                      w                      w         p          w   \n",
       "3                      w                      w         p          w   \n",
       "4                      w                      w         p          w   \n",
       "\n",
       "  ring_number ring_type spore_print_color population habitat  \n",
       "0           o         p                 k          s       u  \n",
       "1           o         p                 n          n       g  \n",
       "2           o         p                 n          n       m  \n",
       "3           o         p                 k          s       u  \n",
       "4           o         e                 n          a       g  \n",
       "\n",
       "[5 rows x 23 columns]"
      ]
     },
     "execution_count": 49,
     "metadata": {},
     "output_type": "execute_result"
    }
   ],
   "source": [
    "shrooms.head()"
   ]
  },
  {
   "cell_type": "code",
   "execution_count": 50,
   "metadata": {},
   "outputs": [
    {
     "name": "stdout",
     "output_type": "stream",
     "text": [
      "<class 'pandas.core.frame.DataFrame'>\n",
      "RangeIndex: 8124 entries, 0 to 8123\n",
      "Data columns (total 23 columns):\n",
      "poisonous                   8124 non-null object\n",
      "cap_shape                   8124 non-null object\n",
      "cap_surface                 8124 non-null object\n",
      "cap_color                   8124 non-null object\n",
      "bruises                     8124 non-null object\n",
      "odor                        8124 non-null object\n",
      "gill_attachment             8124 non-null object\n",
      "gill_spacing                8124 non-null object\n",
      "gill_size                   8124 non-null object\n",
      "gill_color                  8124 non-null object\n",
      "stalk_shape                 8124 non-null object\n",
      "stalk_root                  8124 non-null object\n",
      "stalk_surface_above_ring    8124 non-null object\n",
      "stalk_surface_below_ring    8124 non-null object\n",
      "stalk_color_above_ring      8124 non-null object\n",
      "stalk_color_below_ring      8124 non-null object\n",
      "veil_type                   8124 non-null object\n",
      "veil_color                  8124 non-null object\n",
      "ring_number                 8124 non-null object\n",
      "ring_type                   8124 non-null object\n",
      "spore_print_color           8124 non-null object\n",
      "population                  8124 non-null object\n",
      "habitat                     8124 non-null object\n",
      "dtypes: object(23)\n",
      "memory usage: 1.4+ MB\n"
     ]
    }
   ],
   "source": [
    "shrooms.info()"
   ]
  },
  {
   "cell_type": "code",
   "execution_count": 51,
   "metadata": {},
   "outputs": [
    {
     "data": {
      "text/html": [
       "<div>\n",
       "<style>\n",
       "    .dataframe thead tr:only-child th {\n",
       "        text-align: right;\n",
       "    }\n",
       "\n",
       "    .dataframe thead th {\n",
       "        text-align: left;\n",
       "    }\n",
       "\n",
       "    .dataframe tbody tr th {\n",
       "        vertical-align: top;\n",
       "    }\n",
       "</style>\n",
       "<table border=\"1\" class=\"dataframe\">\n",
       "  <thead>\n",
       "    <tr style=\"text-align: right;\">\n",
       "      <th></th>\n",
       "      <th>count</th>\n",
       "      <th>unique</th>\n",
       "      <th>top</th>\n",
       "      <th>freq</th>\n",
       "    </tr>\n",
       "  </thead>\n",
       "  <tbody>\n",
       "    <tr>\n",
       "      <th>poisonous</th>\n",
       "      <td>8124</td>\n",
       "      <td>2</td>\n",
       "      <td>e</td>\n",
       "      <td>4208</td>\n",
       "    </tr>\n",
       "    <tr>\n",
       "      <th>cap_shape</th>\n",
       "      <td>8124</td>\n",
       "      <td>6</td>\n",
       "      <td>x</td>\n",
       "      <td>3656</td>\n",
       "    </tr>\n",
       "    <tr>\n",
       "      <th>cap_surface</th>\n",
       "      <td>8124</td>\n",
       "      <td>4</td>\n",
       "      <td>y</td>\n",
       "      <td>3244</td>\n",
       "    </tr>\n",
       "    <tr>\n",
       "      <th>cap_color</th>\n",
       "      <td>8124</td>\n",
       "      <td>10</td>\n",
       "      <td>n</td>\n",
       "      <td>2284</td>\n",
       "    </tr>\n",
       "    <tr>\n",
       "      <th>bruises</th>\n",
       "      <td>8124</td>\n",
       "      <td>2</td>\n",
       "      <td>f</td>\n",
       "      <td>4748</td>\n",
       "    </tr>\n",
       "    <tr>\n",
       "      <th>odor</th>\n",
       "      <td>8124</td>\n",
       "      <td>9</td>\n",
       "      <td>n</td>\n",
       "      <td>3528</td>\n",
       "    </tr>\n",
       "    <tr>\n",
       "      <th>gill_attachment</th>\n",
       "      <td>8124</td>\n",
       "      <td>2</td>\n",
       "      <td>f</td>\n",
       "      <td>7914</td>\n",
       "    </tr>\n",
       "    <tr>\n",
       "      <th>gill_spacing</th>\n",
       "      <td>8124</td>\n",
       "      <td>2</td>\n",
       "      <td>c</td>\n",
       "      <td>6812</td>\n",
       "    </tr>\n",
       "    <tr>\n",
       "      <th>gill_size</th>\n",
       "      <td>8124</td>\n",
       "      <td>2</td>\n",
       "      <td>b</td>\n",
       "      <td>5612</td>\n",
       "    </tr>\n",
       "    <tr>\n",
       "      <th>gill_color</th>\n",
       "      <td>8124</td>\n",
       "      <td>12</td>\n",
       "      <td>b</td>\n",
       "      <td>1728</td>\n",
       "    </tr>\n",
       "    <tr>\n",
       "      <th>stalk_shape</th>\n",
       "      <td>8124</td>\n",
       "      <td>2</td>\n",
       "      <td>t</td>\n",
       "      <td>4608</td>\n",
       "    </tr>\n",
       "    <tr>\n",
       "      <th>stalk_root</th>\n",
       "      <td>8124</td>\n",
       "      <td>5</td>\n",
       "      <td>b</td>\n",
       "      <td>3776</td>\n",
       "    </tr>\n",
       "    <tr>\n",
       "      <th>stalk_surface_above_ring</th>\n",
       "      <td>8124</td>\n",
       "      <td>4</td>\n",
       "      <td>s</td>\n",
       "      <td>5176</td>\n",
       "    </tr>\n",
       "    <tr>\n",
       "      <th>stalk_surface_below_ring</th>\n",
       "      <td>8124</td>\n",
       "      <td>4</td>\n",
       "      <td>s</td>\n",
       "      <td>4936</td>\n",
       "    </tr>\n",
       "    <tr>\n",
       "      <th>stalk_color_above_ring</th>\n",
       "      <td>8124</td>\n",
       "      <td>9</td>\n",
       "      <td>w</td>\n",
       "      <td>4464</td>\n",
       "    </tr>\n",
       "    <tr>\n",
       "      <th>stalk_color_below_ring</th>\n",
       "      <td>8124</td>\n",
       "      <td>9</td>\n",
       "      <td>w</td>\n",
       "      <td>4384</td>\n",
       "    </tr>\n",
       "    <tr>\n",
       "      <th>veil_type</th>\n",
       "      <td>8124</td>\n",
       "      <td>1</td>\n",
       "      <td>p</td>\n",
       "      <td>8124</td>\n",
       "    </tr>\n",
       "    <tr>\n",
       "      <th>veil_color</th>\n",
       "      <td>8124</td>\n",
       "      <td>4</td>\n",
       "      <td>w</td>\n",
       "      <td>7924</td>\n",
       "    </tr>\n",
       "    <tr>\n",
       "      <th>ring_number</th>\n",
       "      <td>8124</td>\n",
       "      <td>3</td>\n",
       "      <td>o</td>\n",
       "      <td>7488</td>\n",
       "    </tr>\n",
       "    <tr>\n",
       "      <th>ring_type</th>\n",
       "      <td>8124</td>\n",
       "      <td>5</td>\n",
       "      <td>p</td>\n",
       "      <td>3968</td>\n",
       "    </tr>\n",
       "    <tr>\n",
       "      <th>spore_print_color</th>\n",
       "      <td>8124</td>\n",
       "      <td>9</td>\n",
       "      <td>w</td>\n",
       "      <td>2388</td>\n",
       "    </tr>\n",
       "    <tr>\n",
       "      <th>population</th>\n",
       "      <td>8124</td>\n",
       "      <td>6</td>\n",
       "      <td>v</td>\n",
       "      <td>4040</td>\n",
       "    </tr>\n",
       "    <tr>\n",
       "      <th>habitat</th>\n",
       "      <td>8124</td>\n",
       "      <td>7</td>\n",
       "      <td>d</td>\n",
       "      <td>3148</td>\n",
       "    </tr>\n",
       "  </tbody>\n",
       "</table>\n",
       "</div>"
      ],
      "text/plain": [
       "                         count unique top  freq\n",
       "poisonous                 8124      2   e  4208\n",
       "cap_shape                 8124      6   x  3656\n",
       "cap_surface               8124      4   y  3244\n",
       "cap_color                 8124     10   n  2284\n",
       "bruises                   8124      2   f  4748\n",
       "odor                      8124      9   n  3528\n",
       "gill_attachment           8124      2   f  7914\n",
       "gill_spacing              8124      2   c  6812\n",
       "gill_size                 8124      2   b  5612\n",
       "gill_color                8124     12   b  1728\n",
       "stalk_shape               8124      2   t  4608\n",
       "stalk_root                8124      5   b  3776\n",
       "stalk_surface_above_ring  8124      4   s  5176\n",
       "stalk_surface_below_ring  8124      4   s  4936\n",
       "stalk_color_above_ring    8124      9   w  4464\n",
       "stalk_color_below_ring    8124      9   w  4384\n",
       "veil_type                 8124      1   p  8124\n",
       "veil_color                8124      4   w  7924\n",
       "ring_number               8124      3   o  7488\n",
       "ring_type                 8124      5   p  3968\n",
       "spore_print_color         8124      9   w  2388\n",
       "population                8124      6   v  4040\n",
       "habitat                   8124      7   d  3148"
      ]
     },
     "execution_count": 51,
     "metadata": {},
     "output_type": "execute_result"
    }
   ],
   "source": [
    "shrooms.describe().T"
   ]
  },
  {
   "cell_type": "markdown",
   "metadata": {
    "collapsed": true
   },
   "source": [
    "We have 2480 missing values for stalk_root (denoted by ?), which I'm going to keep as they are since this is a category.\n",
    "\n",
    "I'm dropping veil_type instead because it has only 1 class."
   ]
  },
  {
   "cell_type": "code",
   "execution_count": 4,
   "metadata": {
    "collapsed": true
   },
   "outputs": [],
   "source": [
    "shrooms.drop('veil_type', axis=1, inplace=True)"
   ]
  },
  {
   "cell_type": "code",
   "execution_count": 5,
   "metadata": {
    "collapsed": true
   },
   "outputs": [],
   "source": [
    "Xtrain, Xtest, ytrain, ytest = train_test_split(shrooms.drop('poisonous', axis=1),\n",
    "                                                shrooms.poisonous,\n",
    "                                                test_size=0.2,\n",
    "                                                random_state=42)"
   ]
  },
  {
   "cell_type": "markdown",
   "metadata": {},
   "source": [
    "Also, I'm relabeling the poisonous mushrooms as 1 and not poisonous ones as 0."
   ]
  },
  {
   "cell_type": "code",
   "execution_count": 6,
   "metadata": {
    "collapsed": true
   },
   "outputs": [],
   "source": [
    "ytrain = ytrain.apply(lambda x: 1 if x == 'p' else 0)\n",
    "ytest = ytest.apply(lambda x: 1 if x == 'p' else 0)"
   ]
  },
  {
   "cell_type": "markdown",
   "metadata": {},
   "source": [
    "2 - Fit a machine learning algorithm of your choice to the data, tuning hyperparameters using the Better Holdout Method.  Generate training and validation plots and comment on your results."
   ]
  },
  {
   "cell_type": "markdown",
   "metadata": {},
   "source": [
    "This is a class to perform label encoding on multiple columns:"
   ]
  },
  {
   "cell_type": "code",
   "execution_count": 7,
   "metadata": {
    "collapsed": true
   },
   "outputs": [],
   "source": [
    "class MultiLabelEncoder(BaseEstimator, TransformerMixin):\n",
    "    def __init__(self, columns=None):\n",
    "        self.columns = columns\n",
    "    \n",
    "    def fit(self, X, y=None):\n",
    "        return self\n",
    "\n",
    "    def transform(self, X):\n",
    "        '''\n",
    "        Transforms columns of X specified in self.columns using\n",
    "        LabelEncoder(). If no columns specified, transforms all\n",
    "        columns in X.\n",
    "        '''\n",
    "        output = X.copy()\n",
    "        if self.columns is not None:\n",
    "            for col in self.columns:\n",
    "                output[col] = LabelEncoder().fit_transform(output[col])\n",
    "        else:\n",
    "            for colname, col in output.iteritems():\n",
    "                output[colname] = LabelEncoder().fit_transform(col)\n",
    "        return output\n",
    "\n",
    "#     def fit_transform(self, X, y=None):\n",
    "#         return self.fit(X, y).transform(X)\n",
    "    \n",
    "#     def get_params(self):\n",
    "#         return 'columns'\n",
    "    \n",
    "#     def set_params(self, param, value):\n",
    "#         self.param = value"
   ]
  },
  {
   "cell_type": "code",
   "execution_count": 56,
   "metadata": {
    "collapsed": true
   },
   "outputs": [],
   "source": [
    "# encode, one hot encode and then KNN\n",
    "pipe = Pipeline([\n",
    "    ('mle', MultiLabelEncoder()),\n",
    "    ('ohe', OneHotEncoder()),\n",
    "    ('knn', KNeighborsClassifier())\n",
    "])"
   ]
  },
  {
   "cell_type": "code",
   "execution_count": 57,
   "metadata": {
    "collapsed": true
   },
   "outputs": [],
   "source": [
    "# better holdout\n",
    "Xtr, Xcv, ytr, ycv = train_test_split(Xtrain, ytrain, test_size=0.2, random_state=42)\n",
    "scores = []\n",
    "# looping through various neighbors number\n",
    "for k in range(1, 21):\n",
    "    pipe.set_params(knn__n_neighbors=k)\n",
    "    pipe.fit(Xtr, ytr)\n",
    "    tr_score = pipe.score(Xtr, ytr)\n",
    "    cv_score = pipe.score(Xcv, ycv)\n",
    "    scores.append([k, tr_score, cv_score])\n",
    "\n",
    "scores = np.array(scores)"
   ]
  },
  {
   "cell_type": "code",
   "execution_count": 58,
   "metadata": {},
   "outputs": [
    {
     "data": {
      "text/plain": [
       "array([[  1.        ,   1.        ,   1.        ],\n",
       "       [  2.        ,   1.        ,   1.        ],\n",
       "       [  3.        ,   1.        ,   1.        ],\n",
       "       [  4.        ,   1.        ,   1.        ],\n",
       "       [  5.        ,   1.        ,   1.        ],\n",
       "       [  6.        ,   1.        ,   1.        ],\n",
       "       [  7.        ,   1.        ,   1.        ],\n",
       "       [  8.        ,   0.99980766,   0.99846154],\n",
       "       [  9.        ,   1.        ,   0.99846154],\n",
       "       [ 10.        ,   0.99884593,   0.99692308],\n",
       "       [ 11.        ,   0.99903828,   0.99692308],\n",
       "       [ 12.        ,   0.99884593,   0.99615385],\n",
       "       [ 13.        ,   0.99903828,   0.99615385],\n",
       "       [ 14.        ,   0.99846124,   0.99615385],\n",
       "       [ 15.        ,   0.99884593,   0.99692308],\n",
       "       [ 16.        ,   0.99846124,   0.99615385],\n",
       "       [ 17.        ,   0.99865359,   0.99615385],\n",
       "       [ 18.        ,   0.99846124,   0.99538462],\n",
       "       [ 19.        ,   0.99846124,   0.99538462],\n",
       "       [ 20.        ,   0.99846124,   0.99538462]])"
      ]
     },
     "execution_count": 58,
     "metadata": {},
     "output_type": "execute_result"
    }
   ],
   "source": [
    "scores"
   ]
  },
  {
   "cell_type": "code",
   "execution_count": 59,
   "metadata": {},
   "outputs": [
    {
     "data": {
      "image/png": "[encoded data removed]",
      "text/plain": [
       "<matplotlib.figure.Figure at 0x21342728d30>"
      ]
     },
     "metadata": {},
     "output_type": "display_data"
    }
   ],
   "source": [
    "fig, ax = plt.subplots(figsize=(16, 8))\n",
    "# plotting train and holdout scores\n",
    "ax.plot(scores[:, 0], scores[:, 1], label='Train')\n",
    "ax.plot(scores[:, 0], scores[:, 2], label='Hold Out')\n",
    "ax.set_title('KNN with Different # of Neighbors'.format(k))\n",
    "ax.set_ylabel('Accuracy')\n",
    "ax.set_xlabel('# of Neighbors')\n",
    "ax.legend();"
   ]
  },
  {
   "cell_type": "code",
   "execution_count": 60,
   "metadata": {},
   "outputs": [
    {
     "data": {
      "text/plain": [
       "1.0"
      ]
     },
     "execution_count": 60,
     "metadata": {},
     "output_type": "execute_result"
    }
   ],
   "source": [
    "pipe.set_params(knn__n_neighbors=5)\n",
    "pipe.fit(Xtrain, ytrain)\n",
    "pipe.score(Xtest, ytest)"
   ]
  },
  {
   "cell_type": "markdown",
   "metadata": {},
   "source": [
    "The best results are for a number of neighbors between 2 and 7 (100% accuracy on both train and test set), so I'm going with the default of 5."
   ]
  },
  {
   "cell_type": "markdown",
   "metadata": {},
   "source": [
    "3 - Repeat part (2), this time using cross validation.  Comment on your results."
   ]
  },
  {
   "cell_type": "code",
   "execution_count": 61,
   "metadata": {
    "scrolled": true
   },
   "outputs": [
    {
     "name": "stdout",
     "output_type": "stream",
     "text": [
      "1 Neighbors\n",
      "Fold 1 done\n",
      "Fold 2 done\n",
      "Fold 3 done\n",
      "Fold 4 done\n",
      "Fold 5 done\n",
      "Fold 6 done\n",
      "Fold 7 done\n",
      "Fold 8 done\n",
      "Fold 9 done\n",
      "Fold 10 done\n",
      "2 Neighbors\n",
      "Fold 1 done\n",
      "Fold 2 done\n",
      "Fold 3 done\n",
      "Fold 4 done\n",
      "Fold 5 done\n",
      "Fold 6 done\n",
      "Fold 7 done\n",
      "Fold 8 done\n",
      "Fold 9 done\n",
      "Fold 10 done\n",
      "3 Neighbors\n",
      "Fold 1 done\n",
      "Fold 2 done\n",
      "Fold 3 done\n",
      "Fold 4 done\n",
      "Fold 5 done\n",
      "Fold 6 done\n",
      "Fold 7 done\n",
      "Fold 8 done\n",
      "Fold 9 done\n",
      "Fold 10 done\n",
      "4 Neighbors\n",
      "Fold 1 done\n",
      "Fold 2 done\n",
      "Fold 3 done\n",
      "Fold 4 done\n",
      "Fold 5 done\n",
      "Fold 6 done\n",
      "Fold 7 done\n",
      "Fold 8 done\n",
      "Fold 9 done\n",
      "Fold 10 done\n",
      "5 Neighbors\n",
      "Fold 1 done\n",
      "Fold 2 done\n",
      "Fold 3 done\n",
      "Fold 4 done\n",
      "Fold 5 done\n",
      "Fold 6 done\n",
      "Fold 7 done\n",
      "Fold 8 done\n",
      "Fold 9 done\n",
      "Fold 10 done\n",
      "6 Neighbors\n",
      "Fold 1 done\n",
      "Fold 2 done\n",
      "Fold 3 done\n",
      "Fold 4 done\n",
      "Fold 5 done\n",
      "Fold 6 done\n",
      "Fold 7 done\n",
      "Fold 8 done\n",
      "Fold 9 done\n",
      "Fold 10 done\n",
      "7 Neighbors\n",
      "Fold 1 done\n",
      "Fold 2 done\n",
      "Fold 3 done\n",
      "Fold 4 done\n",
      "Fold 5 done\n",
      "Fold 6 done\n",
      "Fold 7 done\n",
      "Fold 8 done\n",
      "Fold 9 done\n",
      "Fold 10 done\n",
      "8 Neighbors\n",
      "Fold 1 done\n",
      "Fold 2 done\n",
      "Fold 3 done\n",
      "Fold 4 done\n",
      "Fold 5 done\n",
      "Fold 6 done\n",
      "Fold 7 done\n",
      "Fold 8 done\n",
      "Fold 9 done\n",
      "Fold 10 done\n",
      "9 Neighbors\n",
      "Fold 1 done\n",
      "Fold 2 done\n",
      "Fold 3 done\n",
      "Fold 4 done\n",
      "Fold 5 done\n",
      "Fold 6 done\n",
      "Fold 7 done\n",
      "Fold 8 done\n",
      "Fold 9 done\n",
      "Fold 10 done\n",
      "10 Neighbors\n",
      "Fold 1 done\n",
      "Fold 2 done\n",
      "Fold 3 done\n",
      "Fold 4 done\n",
      "Fold 5 done\n",
      "Fold 6 done\n",
      "Fold 7 done\n",
      "Fold 8 done\n",
      "Fold 9 done\n",
      "Fold 10 done\n"
     ]
    }
   ],
   "source": [
    "scores = []\n",
    "# same as above, only using kfold\n",
    "for k in range(1, 11):\n",
    "    kfold = KFold(n_splits=10, random_state=1).split(Xtrain, ytrain) # you have to do this every time because the folds\n",
    "                                                                    # are eliminated after use\n",
    "    fold_scores = []\n",
    "    pipe.set_params(knn__n_neighbors=k)\n",
    "    print('{} Neighbors'.format(k))\n",
    "    # looping through the folds\n",
    "    for i, (train, test) in enumerate(kfold):\n",
    "        # creating train and cv sets\n",
    "        Xtr, ytr = Xtrain.iloc[train, :], ytrain.iloc[train]\n",
    "        Xcv, ycv = Xtrain.iloc[test, :], ytrain.iloc[test]\n",
    "        # fit and score\n",
    "        pipe.fit(Xtr, ytr)\n",
    "        tr_score = pipe.score(Xtr, ytr)\n",
    "        cv_score = pipe.score(Xcv, ycv)\n",
    "        # append fold scores\n",
    "        fold_scores.append([i, tr_score, cv_score])\n",
    "        print('Fold {} done'.format(i+1))\n",
    "    fold_scores = np.array(fold_scores)\n",
    "    # append mean and std score of the folds\n",
    "    scores.append([k, fold_scores.mean(axis=0)[1], fold_scores.mean(axis=0)[2],\n",
    "                   fold_scores.std(axis=0)[1], fold_scores.std(axis=0)[2]])\n",
    "\n",
    "scores = np.array(scores)"
   ]
  },
  {
   "cell_type": "code",
   "execution_count": 62,
   "metadata": {
    "scrolled": true
   },
   "outputs": [
    {
     "data": {
      "text/plain": [
       "array([[  1.00000000e+00,   1.00000000e+00,   1.00000000e+00,\n",
       "          0.00000000e+00,   0.00000000e+00],\n",
       "       [  2.00000000e+00,   1.00000000e+00,   1.00000000e+00,\n",
       "          0.00000000e+00,   0.00000000e+00],\n",
       "       [  3.00000000e+00,   1.00000000e+00,   1.00000000e+00,\n",
       "          0.00000000e+00,   0.00000000e+00],\n",
       "       [  4.00000000e+00,   1.00000000e+00,   1.00000000e+00,\n",
       "          0.00000000e+00,   0.00000000e+00],\n",
       "       [  5.00000000e+00,   1.00000000e+00,   1.00000000e+00,\n",
       "          0.00000000e+00,   0.00000000e+00],\n",
       "       [  6.00000000e+00,   1.00000000e+00,   1.00000000e+00,\n",
       "          0.00000000e+00,   0.00000000e+00],\n",
       "       [  7.00000000e+00,   1.00000000e+00,   1.00000000e+00,\n",
       "          0.00000000e+00,   0.00000000e+00],\n",
       "       [  8.00000000e+00,   1.00000000e+00,   1.00000000e+00,\n",
       "          0.00000000e+00,   0.00000000e+00],\n",
       "       [  9.00000000e+00,   1.00000000e+00,   1.00000000e+00,\n",
       "          0.00000000e+00,   0.00000000e+00],\n",
       "       [  1.00000000e+01,   9.99897427e-01,   9.99384378e-01,\n",
       "          2.05145741e-04,   1.41017865e-03]])"
      ]
     },
     "execution_count": 62,
     "metadata": {},
     "output_type": "execute_result"
    }
   ],
   "source": [
    "scores"
   ]
  },
  {
   "cell_type": "code",
   "execution_count": 63,
   "metadata": {},
   "outputs": [
    {
     "data": {
      "image/png": "[encoded data removed]",
      "text/plain": [
       "<matplotlib.figure.Figure at 0x21343e1dd30>"
      ]
     },
     "metadata": {},
     "output_type": "display_data"
    }
   ],
   "source": [
    "fig, ax = plt.subplots(figsize=(16, 8))\n",
    "# plotting train and cv mean scores and filling with std\n",
    "ax.plot(scores[:, 0], scores[:, 1], label='Train')\n",
    "ax.plot(scores[:, 0], scores[:, 2], label='CV')\n",
    "ax.fill_between(scores[:, 0],\n",
    "                 scores[:, 1] + scores[:, 3],\n",
    "                 scores[:, 1] - scores[:, 3],\n",
    "                 alpha=0.15, color='blue')\n",
    "ax.fill_between(scores[:, 0],\n",
    "                 scores[:, 2] + scores[:, 4],\n",
    "                 scores[:, 2] - scores[:, 4],\n",
    "                 alpha=0.15, color='orange')\n",
    "ax.set_title('KNN with Different # of Neighbors'.format(k))\n",
    "ax.set_ylabel('Accuracy')\n",
    "ax.set_xlabel('# of Neighbors')\n",
    "ax.legend();"
   ]
  },
  {
   "cell_type": "markdown",
   "metadata": {},
   "source": [
    "We get perfect accuracy for a number of neighbors between 2 and 8 this time; we can also see that we have no variance for this range of values."
   ]
  },
  {
   "cell_type": "markdown",
   "metadata": {},
   "source": [
    "4 - Repeat part (3) using a different machine learning algorithm.  Comment on your results."
   ]
  },
  {
   "cell_type": "code",
   "execution_count": 64,
   "metadata": {
    "collapsed": true
   },
   "outputs": [],
   "source": [
    "# encoder and random forest\n",
    "pipe = Pipeline([\n",
    "    ('mle', MultiLabelEncoder()),\n",
    "    #('ohe', OneHotEncoder()),\n",
    "    ('forest', RandomForestClassifier())\n",
    "])"
   ]
  },
  {
   "cell_type": "code",
   "execution_count": 65,
   "metadata": {
    "scrolled": true
   },
   "outputs": [
    {
     "name": "stdout",
     "output_type": "stream",
     "text": [
      "2 Trees\n",
      "Fold 1 done\n",
      "Fold 2 done\n",
      "Fold 3 done\n",
      "Fold 4 done\n",
      "Fold 5 done\n",
      "Fold 6 done\n",
      "Fold 7 done\n",
      "Fold 8 done\n",
      "Fold 9 done\n",
      "Fold 10 done\n",
      "4 Trees\n",
      "Fold 1 done\n",
      "Fold 2 done\n",
      "Fold 3 done\n",
      "Fold 4 done\n",
      "Fold 5 done\n",
      "Fold 6 done\n",
      "Fold 7 done\n",
      "Fold 8 done\n",
      "Fold 9 done\n",
      "Fold 10 done\n",
      "6 Trees\n",
      "Fold 1 done\n",
      "Fold 2 done\n",
      "Fold 3 done\n",
      "Fold 4 done\n",
      "Fold 5 done\n",
      "Fold 6 done\n",
      "Fold 7 done\n",
      "Fold 8 done\n",
      "Fold 9 done\n",
      "Fold 10 done\n",
      "8 Trees\n",
      "Fold 1 done\n",
      "Fold 2 done\n",
      "Fold 3 done\n",
      "Fold 4 done\n",
      "Fold 5 done\n",
      "Fold 6 done\n",
      "Fold 7 done\n",
      "Fold 8 done\n",
      "Fold 9 done\n",
      "Fold 10 done\n",
      "10 Trees\n",
      "Fold 1 done\n",
      "Fold 2 done\n",
      "Fold 3 done\n",
      "Fold 4 done\n",
      "Fold 5 done\n",
      "Fold 6 done\n",
      "Fold 7 done\n",
      "Fold 8 done\n",
      "Fold 9 done\n",
      "Fold 10 done\n",
      "12 Trees\n",
      "Fold 1 done\n",
      "Fold 2 done\n",
      "Fold 3 done\n",
      "Fold 4 done\n",
      "Fold 5 done\n",
      "Fold 6 done\n",
      "Fold 7 done\n",
      "Fold 8 done\n",
      "Fold 9 done\n",
      "Fold 10 done\n",
      "14 Trees\n",
      "Fold 1 done\n",
      "Fold 2 done\n",
      "Fold 3 done\n",
      "Fold 4 done\n",
      "Fold 5 done\n",
      "Fold 6 done\n",
      "Fold 7 done\n",
      "Fold 8 done\n",
      "Fold 9 done\n",
      "Fold 10 done\n",
      "16 Trees\n",
      "Fold 1 done\n",
      "Fold 2 done\n",
      "Fold 3 done\n",
      "Fold 4 done\n",
      "Fold 5 done\n",
      "Fold 6 done\n",
      "Fold 7 done\n",
      "Fold 8 done\n",
      "Fold 9 done\n",
      "Fold 10 done\n",
      "18 Trees\n",
      "Fold 1 done\n",
      "Fold 2 done\n",
      "Fold 3 done\n",
      "Fold 4 done\n",
      "Fold 5 done\n",
      "Fold 6 done\n",
      "Fold 7 done\n",
      "Fold 8 done\n",
      "Fold 9 done\n",
      "Fold 10 done\n",
      "20 Trees\n",
      "Fold 1 done\n",
      "Fold 2 done\n",
      "Fold 3 done\n",
      "Fold 4 done\n",
      "Fold 5 done\n",
      "Fold 6 done\n",
      "Fold 7 done\n",
      "Fold 8 done\n",
      "Fold 9 done\n",
      "Fold 10 done\n",
      "22 Trees\n",
      "Fold 1 done\n",
      "Fold 2 done\n",
      "Fold 3 done\n",
      "Fold 4 done\n",
      "Fold 5 done\n",
      "Fold 6 done\n",
      "Fold 7 done\n",
      "Fold 8 done\n",
      "Fold 9 done\n",
      "Fold 10 done\n",
      "24 Trees\n",
      "Fold 1 done\n",
      "Fold 2 done\n",
      "Fold 3 done\n",
      "Fold 4 done\n",
      "Fold 5 done\n",
      "Fold 6 done\n",
      "Fold 7 done\n",
      "Fold 8 done\n",
      "Fold 9 done\n",
      "Fold 10 done\n",
      "26 Trees\n",
      "Fold 1 done\n",
      "Fold 2 done\n",
      "Fold 3 done\n",
      "Fold 4 done\n",
      "Fold 5 done\n",
      "Fold 6 done\n",
      "Fold 7 done\n",
      "Fold 8 done\n",
      "Fold 9 done\n",
      "Fold 10 done\n",
      "28 Trees\n",
      "Fold 1 done\n",
      "Fold 2 done\n",
      "Fold 3 done\n",
      "Fold 4 done\n",
      "Fold 5 done\n",
      "Fold 6 done\n",
      "Fold 7 done\n",
      "Fold 8 done\n",
      "Fold 9 done\n",
      "Fold 10 done\n",
      "30 Trees\n",
      "Fold 1 done\n",
      "Fold 2 done\n",
      "Fold 3 done\n",
      "Fold 4 done\n",
      "Fold 5 done\n",
      "Fold 6 done\n",
      "Fold 7 done\n",
      "Fold 8 done\n",
      "Fold 9 done\n",
      "Fold 10 done\n",
      "32 Trees\n",
      "Fold 1 done\n",
      "Fold 2 done\n",
      "Fold 3 done\n",
      "Fold 4 done\n",
      "Fold 5 done\n",
      "Fold 6 done\n",
      "Fold 7 done\n",
      "Fold 8 done\n",
      "Fold 9 done\n",
      "Fold 10 done\n",
      "34 Trees\n",
      "Fold 1 done\n",
      "Fold 2 done\n",
      "Fold 3 done\n",
      "Fold 4 done\n",
      "Fold 5 done\n",
      "Fold 6 done\n",
      "Fold 7 done\n",
      "Fold 8 done\n",
      "Fold 9 done\n",
      "Fold 10 done\n",
      "36 Trees\n",
      "Fold 1 done\n",
      "Fold 2 done\n",
      "Fold 3 done\n",
      "Fold 4 done\n",
      "Fold 5 done\n",
      "Fold 6 done\n",
      "Fold 7 done\n",
      "Fold 8 done\n",
      "Fold 9 done\n",
      "Fold 10 done\n",
      "38 Trees\n",
      "Fold 1 done\n",
      "Fold 2 done\n",
      "Fold 3 done\n",
      "Fold 4 done\n",
      "Fold 5 done\n",
      "Fold 6 done\n",
      "Fold 7 done\n",
      "Fold 8 done\n",
      "Fold 9 done\n",
      "Fold 10 done\n",
      "40 Trees\n",
      "Fold 1 done\n",
      "Fold 2 done\n",
      "Fold 3 done\n",
      "Fold 4 done\n",
      "Fold 5 done\n",
      "Fold 6 done\n",
      "Fold 7 done\n",
      "Fold 8 done\n",
      "Fold 9 done\n",
      "Fold 10 done\n",
      "42 Trees\n",
      "Fold 1 done\n",
      "Fold 2 done\n",
      "Fold 3 done\n",
      "Fold 4 done\n",
      "Fold 5 done\n",
      "Fold 6 done\n",
      "Fold 7 done\n",
      "Fold 8 done\n",
      "Fold 9 done\n",
      "Fold 10 done\n",
      "44 Trees\n",
      "Fold 1 done\n",
      "Fold 2 done\n",
      "Fold 3 done\n",
      "Fold 4 done\n",
      "Fold 5 done\n",
      "Fold 6 done\n",
      "Fold 7 done\n",
      "Fold 8 done\n",
      "Fold 9 done\n",
      "Fold 10 done\n",
      "46 Trees\n",
      "Fold 1 done\n",
      "Fold 2 done\n",
      "Fold 3 done\n",
      "Fold 4 done\n",
      "Fold 5 done\n",
      "Fold 6 done\n",
      "Fold 7 done\n",
      "Fold 8 done\n",
      "Fold 9 done\n",
      "Fold 10 done\n",
      "48 Trees\n",
      "Fold 1 done\n",
      "Fold 2 done\n",
      "Fold 3 done\n",
      "Fold 4 done\n",
      "Fold 5 done\n",
      "Fold 6 done\n",
      "Fold 7 done\n",
      "Fold 8 done\n",
      "Fold 9 done\n",
      "Fold 10 done\n"
     ]
    }
   ],
   "source": [
    "scores = []\n",
    "\n",
    "for k in np.arange(2, 50, 2):\n",
    "    kfold = KFold(n_splits=10, random_state=1).split(Xtrain, ytrain)\n",
    "    fold_scores = []\n",
    "    pipe.set_params(forest__n_estimators=k)\n",
    "    print('{} Trees'.format(k))\n",
    "    for i, (train, test) in enumerate(kfold):\n",
    "        Xtr, ytr = Xtrain.iloc[train, :], ytrain.iloc[train]\n",
    "        Xcv, ycv = Xtrain.iloc[test, :], ytrain.iloc[test]\n",
    "        pipe.fit(Xtr, ytr)\n",
    "        tr_score = pipe.score(Xtr, ytr)\n",
    "        cv_score = pipe.score(Xcv, ycv)\n",
    "        fold_scores.append([i, tr_score, cv_score])\n",
    "        print('Fold {} done'.format(i+1))\n",
    "\n",
    "    fold_scores = np.array(fold_scores)\n",
    "    scores.append([k, fold_scores.mean(axis=0)[1], fold_scores.mean(axis=0)[2],\n",
    "                   fold_scores.std(axis=0)[1], fold_scores.std(axis=0)[2]])\n",
    "\n",
    "scores = np.array(scores)"
   ]
  },
  {
   "cell_type": "code",
   "execution_count": 66,
   "metadata": {
    "scrolled": true
   },
   "outputs": [
    {
     "data": {
      "text/plain": [
       "array([[  2.00000000e+00,   9.99948709e-01,   9.98000000e-01,\n",
       "          1.53872457e-04,   3.51160376e-03],\n",
       "       [  4.00000000e+00,   1.00000000e+00,   9.87384615e-01,\n",
       "          0.00000000e+00,   3.37957667e-02],\n",
       "       [  6.00000000e+00,   1.00000000e+00,   9.98923077e-01,\n",
       "          0.00000000e+00,   2.75638044e-03],\n",
       "       [  8.00000000e+00,   1.00000000e+00,   1.00000000e+00,\n",
       "          0.00000000e+00,   0.00000000e+00],\n",
       "       [  1.00000000e+01,   1.00000000e+00,   9.99538462e-01,\n",
       "          0.00000000e+00,   1.38461538e-03],\n",
       "       [  1.20000000e+01,   1.00000000e+00,   1.00000000e+00,\n",
       "          0.00000000e+00,   0.00000000e+00],\n",
       "       [  1.40000000e+01,   1.00000000e+00,   1.00000000e+00,\n",
       "          0.00000000e+00,   0.00000000e+00],\n",
       "       [  1.60000000e+01,   1.00000000e+00,   1.00000000e+00,\n",
       "          0.00000000e+00,   0.00000000e+00],\n",
       "       [  1.80000000e+01,   1.00000000e+00,   1.00000000e+00,\n",
       "          0.00000000e+00,   0.00000000e+00],\n",
       "       [  2.00000000e+01,   1.00000000e+00,   1.00000000e+00,\n",
       "          0.00000000e+00,   0.00000000e+00],\n",
       "       [  2.20000000e+01,   1.00000000e+00,   1.00000000e+00,\n",
       "          0.00000000e+00,   0.00000000e+00],\n",
       "       [  2.40000000e+01,   1.00000000e+00,   1.00000000e+00,\n",
       "          0.00000000e+00,   0.00000000e+00],\n",
       "       [  2.60000000e+01,   1.00000000e+00,   1.00000000e+00,\n",
       "          0.00000000e+00,   0.00000000e+00],\n",
       "       [  2.80000000e+01,   1.00000000e+00,   1.00000000e+00,\n",
       "          0.00000000e+00,   0.00000000e+00],\n",
       "       [  3.00000000e+01,   1.00000000e+00,   1.00000000e+00,\n",
       "          0.00000000e+00,   0.00000000e+00],\n",
       "       [  3.20000000e+01,   1.00000000e+00,   1.00000000e+00,\n",
       "          0.00000000e+00,   0.00000000e+00],\n",
       "       [  3.40000000e+01,   1.00000000e+00,   1.00000000e+00,\n",
       "          0.00000000e+00,   0.00000000e+00],\n",
       "       [  3.60000000e+01,   1.00000000e+00,   1.00000000e+00,\n",
       "          0.00000000e+00,   0.00000000e+00],\n",
       "       [  3.80000000e+01,   1.00000000e+00,   1.00000000e+00,\n",
       "          0.00000000e+00,   0.00000000e+00],\n",
       "       [  4.00000000e+01,   1.00000000e+00,   1.00000000e+00,\n",
       "          0.00000000e+00,   0.00000000e+00],\n",
       "       [  4.20000000e+01,   1.00000000e+00,   1.00000000e+00,\n",
       "          0.00000000e+00,   0.00000000e+00],\n",
       "       [  4.40000000e+01,   1.00000000e+00,   1.00000000e+00,\n",
       "          0.00000000e+00,   0.00000000e+00],\n",
       "       [  4.60000000e+01,   1.00000000e+00,   1.00000000e+00,\n",
       "          0.00000000e+00,   0.00000000e+00],\n",
       "       [  4.80000000e+01,   1.00000000e+00,   1.00000000e+00,\n",
       "          0.00000000e+00,   0.00000000e+00]])"
      ]
     },
     "execution_count": 66,
     "metadata": {},
     "output_type": "execute_result"
    }
   ],
   "source": [
    "scores"
   ]
  },
  {
   "cell_type": "code",
   "execution_count": 67,
   "metadata": {},
   "outputs": [
    {
     "data": {
      "image/png": "[encoded data removed]",
      "text/plain": [
       "<matplotlib.figure.Figure at 0x213426cd198>"
      ]
     },
     "metadata": {},
     "output_type": "display_data"
    }
   ],
   "source": [
    "fig, ax = plt.subplots(figsize=(16, 8))\n",
    "\n",
    "ax.plot(scores[:, 0], scores[:, 1], label='Train')\n",
    "ax.plot(scores[:, 0], scores[:, 2], label='CV')\n",
    "ax.fill_between(scores[:, 0],\n",
    "                 scores[:, 1] + scores[:, 3],\n",
    "                 scores[:, 1] - scores[:, 3],\n",
    "                 alpha=0.15, color='blue')\n",
    "ax.fill_between(scores[:, 0],\n",
    "                 scores[:, 2] + scores[:, 4],\n",
    "                 scores[:, 2] - scores[:, 4],\n",
    "                 alpha=0.15, color='orange')\n",
    "ax.set_title('Random Forest with different # of Trees'.format(k))\n",
    "ax.set_ylabel('Accuracy')\n",
    "ax.set_xlabel('# of Trees')\n",
    "ax.legend();"
   ]
  },
  {
   "cell_type": "code",
   "execution_count": 68,
   "metadata": {},
   "outputs": [
    {
     "data": {
      "text/plain": [
       "1.0"
      ]
     },
     "execution_count": 68,
     "metadata": {},
     "output_type": "execute_result"
    }
   ],
   "source": [
    "pipe.set_params(forest__n_estimators=10)\n",
    "pipe.fit(Xtrain, ytrain)\n",
    "pipe.score(Xtest, ytest)"
   ]
  },
  {
   "cell_type": "markdown",
   "metadata": {},
   "source": [
    "We get perfect accuracy for about 8 trees or more, so I'm going with the default value of 10."
   ]
  },
  {
   "cell_type": "markdown",
   "metadata": {},
   "source": [
    "5 - Which ever of your two algorithms in parts (3) and (4) performed more poorly, perform a variable selection to see if you can improve your results."
   ]
  },
  {
   "cell_type": "code",
   "execution_count": 70,
   "metadata": {},
   "outputs": [
    {
     "data": {
      "text/plain": [
       "PCA(copy=True, iterated_power='auto', n_components=None, random_state=None,\n",
       "  svd_solver='auto', tol=0.0, whiten=False)"
      ]
     },
     "execution_count": 70,
     "metadata": {},
     "output_type": "execute_result"
    }
   ],
   "source": [
    "mle = MultiLabelEncoder()\n",
    "pca = PCA()\n",
    "pca.fit(mle.fit_transform(Xtrain), ytrain)"
   ]
  },
  {
   "cell_type": "code",
   "execution_count": 71,
   "metadata": {},
   "outputs": [
    {
     "data": {
      "text/plain": [
       "array([  3.39467519e-01,   1.64901173e-01,   1.22427133e-01,\n",
       "         6.88847905e-02,   5.85212974e-02,   5.08395611e-02,\n",
       "         4.59054537e-02,   3.89389040e-02,   3.56630776e-02,\n",
       "         2.54799438e-02,   2.01696746e-02,   1.01237071e-02,\n",
       "         5.57913274e-03,   4.14982185e-03,   3.39576708e-03,\n",
       "         2.04664212e-03,   1.50135444e-03,   1.23698691e-03,\n",
       "         4.89268153e-04,   2.23930935e-04,   5.48609943e-05])"
      ]
     },
     "execution_count": 71,
     "metadata": {},
     "output_type": "execute_result"
    }
   ],
   "source": [
    "pca.explained_variance_ratio_"
   ]
  },
  {
   "cell_type": "markdown",
   "metadata": {},
   "source": [
    "Let's try 7 components:"
   ]
  },
  {
   "cell_type": "code",
   "execution_count": 72,
   "metadata": {},
   "outputs": [],
   "source": [
    "pipe = Pipeline([\n",
    "    ('mle', MultiLabelEncoder()),\n",
    "    ('sel', PCA(n_components=7)),\n",
    "    ('forest', RandomForestClassifier())\n",
    "])"
   ]
  },
  {
   "cell_type": "code",
   "execution_count": 74,
   "metadata": {
    "scrolled": true
   },
   "outputs": [
    {
     "name": "stdout",
     "output_type": "stream",
     "text": [
      "2 Trees\n",
      "Fold 1 done\n",
      "Fold 2 done\n",
      "Fold 3 done\n",
      "Fold 4 done\n",
      "Fold 5 done\n",
      "Fold 6 done\n",
      "Fold 7 done\n",
      "Fold 8 done\n",
      "Fold 9 done\n",
      "Fold 10 done\n",
      "4 Trees\n",
      "Fold 1 done\n",
      "Fold 2 done\n",
      "Fold 3 done\n",
      "Fold 4 done\n",
      "Fold 5 done\n",
      "Fold 6 done\n",
      "Fold 7 done\n",
      "Fold 8 done\n",
      "Fold 9 done\n",
      "Fold 10 done\n",
      "6 Trees\n",
      "Fold 1 done\n",
      "Fold 2 done\n",
      "Fold 3 done\n",
      "Fold 4 done\n",
      "Fold 5 done\n",
      "Fold 6 done\n",
      "Fold 7 done\n",
      "Fold 8 done\n",
      "Fold 9 done\n",
      "Fold 10 done\n",
      "8 Trees\n",
      "Fold 1 done\n",
      "Fold 2 done\n",
      "Fold 3 done\n",
      "Fold 4 done\n",
      "Fold 5 done\n",
      "Fold 6 done\n",
      "Fold 7 done\n",
      "Fold 8 done\n",
      "Fold 9 done\n",
      "Fold 10 done\n",
      "10 Trees\n",
      "Fold 1 done\n",
      "Fold 2 done\n",
      "Fold 3 done\n",
      "Fold 4 done\n",
      "Fold 5 done\n",
      "Fold 6 done\n",
      "Fold 7 done\n",
      "Fold 8 done\n",
      "Fold 9 done\n",
      "Fold 10 done\n",
      "12 Trees\n",
      "Fold 1 done\n",
      "Fold 2 done\n",
      "Fold 3 done\n",
      "Fold 4 done\n",
      "Fold 5 done\n",
      "Fold 6 done\n",
      "Fold 7 done\n",
      "Fold 8 done\n",
      "Fold 9 done\n",
      "Fold 10 done\n",
      "14 Trees\n",
      "Fold 1 done\n",
      "Fold 2 done\n",
      "Fold 3 done\n",
      "Fold 4 done\n",
      "Fold 5 done\n",
      "Fold 6 done\n",
      "Fold 7 done\n",
      "Fold 8 done\n",
      "Fold 9 done\n",
      "Fold 10 done\n",
      "16 Trees\n",
      "Fold 1 done\n",
      "Fold 2 done\n",
      "Fold 3 done\n",
      "Fold 4 done\n",
      "Fold 5 done\n",
      "Fold 6 done\n",
      "Fold 7 done\n",
      "Fold 8 done\n",
      "Fold 9 done\n",
      "Fold 10 done\n",
      "18 Trees\n",
      "Fold 1 done\n",
      "Fold 2 done\n",
      "Fold 3 done\n",
      "Fold 4 done\n",
      "Fold 5 done\n",
      "Fold 6 done\n",
      "Fold 7 done\n",
      "Fold 8 done\n",
      "Fold 9 done\n",
      "Fold 10 done\n",
      "20 Trees\n",
      "Fold 1 done\n",
      "Fold 2 done\n",
      "Fold 3 done\n",
      "Fold 4 done\n",
      "Fold 5 done\n",
      "Fold 6 done\n",
      "Fold 7 done\n",
      "Fold 8 done\n",
      "Fold 9 done\n",
      "Fold 10 done\n"
     ]
    }
   ],
   "source": [
    "scores = []\n",
    "\n",
    "for k in np.arange(2, 22, 2):\n",
    "    kfold = KFold(n_splits=10, random_state=1).split(Xtrain, ytrain)\n",
    "    fold_scores = []\n",
    "    pipe.set_params(forest__n_estimators=k)\n",
    "    print('{} Trees'.format(k))\n",
    "    for i, (train, test) in enumerate(kfold):\n",
    "        Xtr, ytr = Xtrain.iloc[train, :], ytrain.iloc[train]\n",
    "        Xcv, ycv = Xtrain.iloc[test, :], ytrain.iloc[test]\n",
    "        pipe.fit(Xtr, ytr)\n",
    "        tr_score = pipe.score(Xtr, ytr)\n",
    "        cv_score = pipe.score(Xcv, ycv)\n",
    "        fold_scores.append([i, tr_score, cv_score])\n",
    "        print('Fold {} done'.format(i+1))\n",
    "\n",
    "    fold_scores = np.array(fold_scores)\n",
    "    scores.append([k, fold_scores.mean(axis=0)[1], fold_scores.mean(axis=0)[2],\n",
    "                   fold_scores.std(axis=0)[1], fold_scores.std(axis=0)[2]])\n",
    "\n",
    "scores = np.array(scores)"
   ]
  },
  {
   "cell_type": "code",
   "execution_count": 75,
   "metadata": {},
   "outputs": [
    {
     "data": {
      "image/png": "[encoded data removed]",
      "text/plain": [
       "<matplotlib.figure.Figure at 0x21343b6d6d8>"
      ]
     },
     "metadata": {},
     "output_type": "display_data"
    }
   ],
   "source": [
    "fig, ax = plt.subplots(figsize=(16, 8))\n",
    "\n",
    "ax.plot(scores[:, 0], scores[:, 1], label='Train')\n",
    "ax.plot(scores[:, 0], scores[:, 2], label='CV')\n",
    "ax.fill_between(scores[:, 0],\n",
    "                 scores[:, 1] + scores[:, 3],\n",
    "                 scores[:, 1] - scores[:, 3],\n",
    "                 alpha=0.15, color='blue')\n",
    "ax.fill_between(scores[:, 0],\n",
    "                 scores[:, 2] + scores[:, 4],\n",
    "                 scores[:, 2] - scores[:, 4],\n",
    "                 alpha=0.15, color='orange')\n",
    "ax.set_title('Random Forest with different # of Trees'.format(k))\n",
    "ax.set_ylabel('Accuracy')\n",
    "ax.set_xlabel('# of Trees')\n",
    "ax.legend();"
   ]
  },
  {
   "cell_type": "markdown",
   "metadata": {},
   "source": [
    "Well it's actually worse!"
   ]
  },
  {
   "cell_type": "markdown",
   "metadata": {
    "collapsed": true
   },
   "source": [
    "6 - Pick a classification algorithm that has at least two hyperparameters and tune them using `GridSeachCV`.  Comment on your results."
   ]
  },
  {
   "cell_type": "markdown",
   "metadata": {
    "collapsed": true
   },
   "source": [
    "I'm trying logistic regression + PCA tuning number of components and regularization:"
   ]
  },
  {
   "cell_type": "code",
   "execution_count": 8,
   "metadata": {
    "collapsed": true
   },
   "outputs": [],
   "source": [
    "from sklearn.feature_selection import RFE"
   ]
  },
  {
   "cell_type": "markdown",
   "metadata": {},
   "source": [
    "So, apparently GridSearchCV gets stuck if I use custom scorers or if I'm multithreading or something like that, so I'm going to try to encode my labels outside the pipeline..."
   ]
  },
  {
   "cell_type": "code",
   "execution_count": 9,
   "metadata": {
    "collapsed": true
   },
   "outputs": [],
   "source": [
    "mle = MultiLabelEncoder()\n",
    "Xtrain_enc = mle.fit_transform(Xtrain)\n",
    "Xtest_enc = mle.transform(Xtest)"
   ]
  },
  {
   "cell_type": "code",
   "execution_count": 13,
   "metadata": {},
   "outputs": [
    {
     "data": {
      "text/plain": [
       "GridSearchCV(cv=10, error_score='raise',\n",
       "       estimator=Pipeline(memory=None,\n",
       "     steps=[('sel', RFE(estimator=LogisticRegression(C=1.0, class_weight=None, dual=False, fit_intercept=True,\n",
       "          intercept_scaling=1, max_iter=100, multi_class='ovr', n_jobs=1,\n",
       "          penalty='l2', random_state=None, solver='liblinear', tol=0.0001,\n",
       "          verbose=0, warm_start=False),\n",
       "  n_f...ty='l2', random_state=None, solver='liblinear', tol=0.0001,\n",
       "          verbose=0, warm_start=False))]),\n",
       "       fit_params=None, iid=True, n_jobs=1,\n",
       "       param_grid=[{'sel__n_features_to_select': array([ 1,  2,  3,  4,  5,  6,  7,  8,  9, 10, 11, 12, 13, 14, 15]), 'lr__C': [0.01, 0.03, 0.1, 0.3, 1, 3]}],\n",
       "       pre_dispatch='2*n_jobs', refit=True, return_train_score=True,\n",
       "       scoring=None, verbose=0)"
      ]
     },
     "execution_count": 13,
     "metadata": {},
     "output_type": "execute_result"
    }
   ],
   "source": [
    "pipe = Pipeline([\n",
    "    ('sel', RFE(estimator=LogisticRegression())),\n",
    "    ('lr', LogisticRegression())\n",
    "])\n",
    "\n",
    "# C_range = [0.001, 0.003, 0.01, 0.03, 0.1, 0.3, 1, 3, 10, 30, 100, 300]\n",
    "C_range = [0.01, 0.03, 0.1, 0.3, 1, 3]\n",
    "comp_range = np.arange(1, 16)\n",
    "# using grid search to tune regularization and number of PCs\n",
    "param_grid = [{'sel__n_features_to_select':comp_range, 'lr__C': C_range}]\n",
    "gs = GridSearchCV(estimator=pipe,\n",
    "                  param_grid=param_grid,\n",
    "                  cv=10)\n",
    "# this could take a very long time...\n",
    "gs.fit(Xtrain_enc, ytrain)"
   ]
  },
  {
   "cell_type": "code",
   "execution_count": 14,
   "metadata": {
    "scrolled": true
   },
   "outputs": [
    {
     "name": "stdout",
     "output_type": "stream",
     "text": [
      "0.954146791814\n",
      "{'lr__C': 0.3, 'sel__n_features_to_select': 13}\n"
     ]
    }
   ],
   "source": [
    "print(gs.best_score_)\n",
    "print(gs.best_params_)"
   ]
  },
  {
   "cell_type": "code",
   "execution_count": 16,
   "metadata": {},
   "outputs": [
    {
     "data": {
      "text/plain": [
       "0.95323076923076921"
      ]
     },
     "execution_count": 16,
     "metadata": {},
     "output_type": "execute_result"
    }
   ],
   "source": [
    "pipe.set_params(sel__n_features_to_select=13, lr__C=0.3)\n",
    "pipe.fit(Xtrain_enc, ytrain)\n",
    "pipe.score(Xtest_enc, ytest)"
   ]
  },
  {
   "cell_type": "markdown",
   "metadata": {},
   "source": [
    "We get 95% accuracy with simple logistic regression, not bad!"
   ]
  },
  {
   "cell_type": "markdown",
   "metadata": {},
   "source": [
    "### Regression\n",
    "1 - Head over to the [Machine Learning Repository](http://archive.ics.uci.edu/ml/index.php), download the [Parkinson's Telemonitoring Data Set](http://archive.ics.uci.edu/ml/datasets/Parkinsons+Telemonitoring), and put it into a dataframe.  Be sure to familiarize yourself with the data before proceeding, removing the columns related to time, age, and sex.  We're going to be predicting `motor_UPDRS`, so drop the `total_UPDRS` variable as well.  Break the data into training and testing sets.  Be sure to keep this testing set the same for the duration of this exercise as we will be using to test various algorithms!"
   ]
  },
  {
   "cell_type": "code",
   "execution_count": 3,
   "metadata": {
    "collapsed": true
   },
   "outputs": [],
   "source": [
    "parkinson = pd.read_csv('http://archive.ics.uci.edu/ml/machine-learning-databases/parkinsons/telemonitoring/parkinsons_updrs.data')\n",
    "parkinson.drop(['age', 'sex', 'test_time', 'total_UPDRS'], axis=1, inplace=True)"
   ]
  },
  {
   "cell_type": "code",
   "execution_count": 4,
   "metadata": {},
   "outputs": [
    {
     "data": {
      "text/html": [
       "<div>\n",
       "<style>\n",
       "    .dataframe thead tr:only-child th {\n",
       "        text-align: right;\n",
       "    }\n",
       "\n",
       "    .dataframe thead th {\n",
       "        text-align: left;\n",
       "    }\n",
       "\n",
       "    .dataframe tbody tr th {\n",
       "        vertical-align: top;\n",
       "    }\n",
       "</style>\n",
       "<table border=\"1\" class=\"dataframe\">\n",
       "  <thead>\n",
       "    <tr style=\"text-align: right;\">\n",
       "      <th></th>\n",
       "      <th>subject#</th>\n",
       "      <th>motor_UPDRS</th>\n",
       "      <th>Jitter(%)</th>\n",
       "      <th>Jitter(Abs)</th>\n",
       "      <th>Jitter:RAP</th>\n",
       "      <th>Jitter:PPQ5</th>\n",
       "      <th>Jitter:DDP</th>\n",
       "      <th>Shimmer</th>\n",
       "      <th>Shimmer(dB)</th>\n",
       "      <th>Shimmer:APQ3</th>\n",
       "      <th>Shimmer:APQ5</th>\n",
       "      <th>Shimmer:APQ11</th>\n",
       "      <th>Shimmer:DDA</th>\n",
       "      <th>NHR</th>\n",
       "      <th>HNR</th>\n",
       "      <th>RPDE</th>\n",
       "      <th>DFA</th>\n",
       "      <th>PPE</th>\n",
       "    </tr>\n",
       "  </thead>\n",
       "  <tbody>\n",
       "    <tr>\n",
       "      <th>0</th>\n",
       "      <td>1</td>\n",
       "      <td>28.199</td>\n",
       "      <td>0.00662</td>\n",
       "      <td>0.000034</td>\n",
       "      <td>0.00401</td>\n",
       "      <td>0.00317</td>\n",
       "      <td>0.01204</td>\n",
       "      <td>0.02565</td>\n",
       "      <td>0.230</td>\n",
       "      <td>0.01438</td>\n",
       "      <td>0.01309</td>\n",
       "      <td>0.01662</td>\n",
       "      <td>0.04314</td>\n",
       "      <td>0.014290</td>\n",
       "      <td>21.640</td>\n",
       "      <td>0.41888</td>\n",
       "      <td>0.54842</td>\n",
       "      <td>0.16006</td>\n",
       "    </tr>\n",
       "    <tr>\n",
       "      <th>1</th>\n",
       "      <td>1</td>\n",
       "      <td>28.447</td>\n",
       "      <td>0.00300</td>\n",
       "      <td>0.000017</td>\n",
       "      <td>0.00132</td>\n",
       "      <td>0.00150</td>\n",
       "      <td>0.00395</td>\n",
       "      <td>0.02024</td>\n",
       "      <td>0.179</td>\n",
       "      <td>0.00994</td>\n",
       "      <td>0.01072</td>\n",
       "      <td>0.01689</td>\n",
       "      <td>0.02982</td>\n",
       "      <td>0.011112</td>\n",
       "      <td>27.183</td>\n",
       "      <td>0.43493</td>\n",
       "      <td>0.56477</td>\n",
       "      <td>0.10810</td>\n",
       "    </tr>\n",
       "    <tr>\n",
       "      <th>2</th>\n",
       "      <td>1</td>\n",
       "      <td>28.695</td>\n",
       "      <td>0.00481</td>\n",
       "      <td>0.000025</td>\n",
       "      <td>0.00205</td>\n",
       "      <td>0.00208</td>\n",
       "      <td>0.00616</td>\n",
       "      <td>0.01675</td>\n",
       "      <td>0.181</td>\n",
       "      <td>0.00734</td>\n",
       "      <td>0.00844</td>\n",
       "      <td>0.01458</td>\n",
       "      <td>0.02202</td>\n",
       "      <td>0.020220</td>\n",
       "      <td>23.047</td>\n",
       "      <td>0.46222</td>\n",
       "      <td>0.54405</td>\n",
       "      <td>0.21014</td>\n",
       "    </tr>\n",
       "    <tr>\n",
       "      <th>3</th>\n",
       "      <td>1</td>\n",
       "      <td>28.905</td>\n",
       "      <td>0.00528</td>\n",
       "      <td>0.000027</td>\n",
       "      <td>0.00191</td>\n",
       "      <td>0.00264</td>\n",
       "      <td>0.00573</td>\n",
       "      <td>0.02309</td>\n",
       "      <td>0.327</td>\n",
       "      <td>0.01106</td>\n",
       "      <td>0.01265</td>\n",
       "      <td>0.01963</td>\n",
       "      <td>0.03317</td>\n",
       "      <td>0.027837</td>\n",
       "      <td>24.445</td>\n",
       "      <td>0.48730</td>\n",
       "      <td>0.57794</td>\n",
       "      <td>0.33277</td>\n",
       "    </tr>\n",
       "    <tr>\n",
       "      <th>4</th>\n",
       "      <td>1</td>\n",
       "      <td>29.187</td>\n",
       "      <td>0.00335</td>\n",
       "      <td>0.000020</td>\n",
       "      <td>0.00093</td>\n",
       "      <td>0.00130</td>\n",
       "      <td>0.00278</td>\n",
       "      <td>0.01703</td>\n",
       "      <td>0.176</td>\n",
       "      <td>0.00679</td>\n",
       "      <td>0.00929</td>\n",
       "      <td>0.01819</td>\n",
       "      <td>0.02036</td>\n",
       "      <td>0.011625</td>\n",
       "      <td>26.126</td>\n",
       "      <td>0.47188</td>\n",
       "      <td>0.56122</td>\n",
       "      <td>0.19361</td>\n",
       "    </tr>\n",
       "  </tbody>\n",
       "</table>\n",
       "</div>"
      ],
      "text/plain": [
       "   subject#  motor_UPDRS  Jitter(%)  Jitter(Abs)  Jitter:RAP  Jitter:PPQ5  \\\n",
       "0         1       28.199    0.00662     0.000034     0.00401      0.00317   \n",
       "1         1       28.447    0.00300     0.000017     0.00132      0.00150   \n",
       "2         1       28.695    0.00481     0.000025     0.00205      0.00208   \n",
       "3         1       28.905    0.00528     0.000027     0.00191      0.00264   \n",
       "4         1       29.187    0.00335     0.000020     0.00093      0.00130   \n",
       "\n",
       "   Jitter:DDP  Shimmer  Shimmer(dB)  Shimmer:APQ3  Shimmer:APQ5  \\\n",
       "0     0.01204  0.02565        0.230       0.01438       0.01309   \n",
       "1     0.00395  0.02024        0.179       0.00994       0.01072   \n",
       "2     0.00616  0.01675        0.181       0.00734       0.00844   \n",
       "3     0.00573  0.02309        0.327       0.01106       0.01265   \n",
       "4     0.00278  0.01703        0.176       0.00679       0.00929   \n",
       "\n",
       "   Shimmer:APQ11  Shimmer:DDA       NHR     HNR     RPDE      DFA      PPE  \n",
       "0        0.01662      0.04314  0.014290  21.640  0.41888  0.54842  0.16006  \n",
       "1        0.01689      0.02982  0.011112  27.183  0.43493  0.56477  0.10810  \n",
       "2        0.01458      0.02202  0.020220  23.047  0.46222  0.54405  0.21014  \n",
       "3        0.01963      0.03317  0.027837  24.445  0.48730  0.57794  0.33277  \n",
       "4        0.01819      0.02036  0.011625  26.126  0.47188  0.56122  0.19361  "
      ]
     },
     "execution_count": 4,
     "metadata": {},
     "output_type": "execute_result"
    }
   ],
   "source": [
    "parkinson.head()"
   ]
  },
  {
   "cell_type": "code",
   "execution_count": 5,
   "metadata": {},
   "outputs": [
    {
     "name": "stdout",
     "output_type": "stream",
     "text": [
      "<class 'pandas.core.frame.DataFrame'>\n",
      "RangeIndex: 5875 entries, 0 to 5874\n",
      "Data columns (total 18 columns):\n",
      "subject#         5875 non-null int64\n",
      "motor_UPDRS      5875 non-null float64\n",
      "Jitter(%)        5875 non-null float64\n",
      "Jitter(Abs)      5875 non-null float64\n",
      "Jitter:RAP       5875 non-null float64\n",
      "Jitter:PPQ5      5875 non-null float64\n",
      "Jitter:DDP       5875 non-null float64\n",
      "Shimmer          5875 non-null float64\n",
      "Shimmer(dB)      5875 non-null float64\n",
      "Shimmer:APQ3     5875 non-null float64\n",
      "Shimmer:APQ5     5875 non-null float64\n",
      "Shimmer:APQ11    5875 non-null float64\n",
      "Shimmer:DDA      5875 non-null float64\n",
      "NHR              5875 non-null float64\n",
      "HNR              5875 non-null float64\n",
      "RPDE             5875 non-null float64\n",
      "DFA              5875 non-null float64\n",
      "PPE              5875 non-null float64\n",
      "dtypes: float64(17), int64(1)\n",
      "memory usage: 826.2 KB\n"
     ]
    }
   ],
   "source": [
    "parkinson.info()"
   ]
  },
  {
   "cell_type": "code",
   "execution_count": 6,
   "metadata": {},
   "outputs": [
    {
     "data": {
      "text/html": [
       "<div>\n",
       "<style>\n",
       "    .dataframe thead tr:only-child th {\n",
       "        text-align: right;\n",
       "    }\n",
       "\n",
       "    .dataframe thead th {\n",
       "        text-align: left;\n",
       "    }\n",
       "\n",
       "    .dataframe tbody tr th {\n",
       "        vertical-align: top;\n",
       "    }\n",
       "</style>\n",
       "<table border=\"1\" class=\"dataframe\">\n",
       "  <thead>\n",
       "    <tr style=\"text-align: right;\">\n",
       "      <th></th>\n",
       "      <th>count</th>\n",
       "      <th>mean</th>\n",
       "      <th>std</th>\n",
       "      <th>min</th>\n",
       "      <th>25%</th>\n",
       "      <th>50%</th>\n",
       "      <th>75%</th>\n",
       "      <th>max</th>\n",
       "    </tr>\n",
       "  </thead>\n",
       "  <tbody>\n",
       "    <tr>\n",
       "      <th>subject#</th>\n",
       "      <td>5875.0</td>\n",
       "      <td>21.494128</td>\n",
       "      <td>12.372279</td>\n",
       "      <td>1.000000</td>\n",
       "      <td>10.000000</td>\n",
       "      <td>22.000000</td>\n",
       "      <td>33.000000</td>\n",
       "      <td>42.000000</td>\n",
       "    </tr>\n",
       "    <tr>\n",
       "      <th>motor_UPDRS</th>\n",
       "      <td>5875.0</td>\n",
       "      <td>21.296229</td>\n",
       "      <td>8.129282</td>\n",
       "      <td>5.037700</td>\n",
       "      <td>15.000000</td>\n",
       "      <td>20.871000</td>\n",
       "      <td>27.596500</td>\n",
       "      <td>39.511000</td>\n",
       "    </tr>\n",
       "    <tr>\n",
       "      <th>Jitter(%)</th>\n",
       "      <td>5875.0</td>\n",
       "      <td>0.006154</td>\n",
       "      <td>0.005624</td>\n",
       "      <td>0.000830</td>\n",
       "      <td>0.003580</td>\n",
       "      <td>0.004900</td>\n",
       "      <td>0.006800</td>\n",
       "      <td>0.099990</td>\n",
       "    </tr>\n",
       "    <tr>\n",
       "      <th>Jitter(Abs)</th>\n",
       "      <td>5875.0</td>\n",
       "      <td>0.000044</td>\n",
       "      <td>0.000036</td>\n",
       "      <td>0.000002</td>\n",
       "      <td>0.000022</td>\n",
       "      <td>0.000035</td>\n",
       "      <td>0.000053</td>\n",
       "      <td>0.000446</td>\n",
       "    </tr>\n",
       "    <tr>\n",
       "      <th>Jitter:RAP</th>\n",
       "      <td>5875.0</td>\n",
       "      <td>0.002987</td>\n",
       "      <td>0.003124</td>\n",
       "      <td>0.000330</td>\n",
       "      <td>0.001580</td>\n",
       "      <td>0.002250</td>\n",
       "      <td>0.003290</td>\n",
       "      <td>0.057540</td>\n",
       "    </tr>\n",
       "    <tr>\n",
       "      <th>Jitter:PPQ5</th>\n",
       "      <td>5875.0</td>\n",
       "      <td>0.003277</td>\n",
       "      <td>0.003732</td>\n",
       "      <td>0.000430</td>\n",
       "      <td>0.001820</td>\n",
       "      <td>0.002490</td>\n",
       "      <td>0.003460</td>\n",
       "      <td>0.069560</td>\n",
       "    </tr>\n",
       "    <tr>\n",
       "      <th>Jitter:DDP</th>\n",
       "      <td>5875.0</td>\n",
       "      <td>0.008962</td>\n",
       "      <td>0.009371</td>\n",
       "      <td>0.000980</td>\n",
       "      <td>0.004730</td>\n",
       "      <td>0.006750</td>\n",
       "      <td>0.009870</td>\n",
       "      <td>0.172630</td>\n",
       "    </tr>\n",
       "    <tr>\n",
       "      <th>Shimmer</th>\n",
       "      <td>5875.0</td>\n",
       "      <td>0.034035</td>\n",
       "      <td>0.025835</td>\n",
       "      <td>0.003060</td>\n",
       "      <td>0.019120</td>\n",
       "      <td>0.027510</td>\n",
       "      <td>0.039750</td>\n",
       "      <td>0.268630</td>\n",
       "    </tr>\n",
       "    <tr>\n",
       "      <th>Shimmer(dB)</th>\n",
       "      <td>5875.0</td>\n",
       "      <td>0.310960</td>\n",
       "      <td>0.230254</td>\n",
       "      <td>0.026000</td>\n",
       "      <td>0.175000</td>\n",
       "      <td>0.253000</td>\n",
       "      <td>0.365000</td>\n",
       "      <td>2.107000</td>\n",
       "    </tr>\n",
       "    <tr>\n",
       "      <th>Shimmer:APQ3</th>\n",
       "      <td>5875.0</td>\n",
       "      <td>0.017156</td>\n",
       "      <td>0.013237</td>\n",
       "      <td>0.001610</td>\n",
       "      <td>0.009280</td>\n",
       "      <td>0.013700</td>\n",
       "      <td>0.020575</td>\n",
       "      <td>0.162670</td>\n",
       "    </tr>\n",
       "    <tr>\n",
       "      <th>Shimmer:APQ5</th>\n",
       "      <td>5875.0</td>\n",
       "      <td>0.020144</td>\n",
       "      <td>0.016664</td>\n",
       "      <td>0.001940</td>\n",
       "      <td>0.010790</td>\n",
       "      <td>0.015940</td>\n",
       "      <td>0.023755</td>\n",
       "      <td>0.167020</td>\n",
       "    </tr>\n",
       "    <tr>\n",
       "      <th>Shimmer:APQ11</th>\n",
       "      <td>5875.0</td>\n",
       "      <td>0.027481</td>\n",
       "      <td>0.019986</td>\n",
       "      <td>0.002490</td>\n",
       "      <td>0.015665</td>\n",
       "      <td>0.022710</td>\n",
       "      <td>0.032715</td>\n",
       "      <td>0.275460</td>\n",
       "    </tr>\n",
       "    <tr>\n",
       "      <th>Shimmer:DDA</th>\n",
       "      <td>5875.0</td>\n",
       "      <td>0.051467</td>\n",
       "      <td>0.039711</td>\n",
       "      <td>0.004840</td>\n",
       "      <td>0.027830</td>\n",
       "      <td>0.041110</td>\n",
       "      <td>0.061735</td>\n",
       "      <td>0.488020</td>\n",
       "    </tr>\n",
       "    <tr>\n",
       "      <th>NHR</th>\n",
       "      <td>5875.0</td>\n",
       "      <td>0.032120</td>\n",
       "      <td>0.059692</td>\n",
       "      <td>0.000286</td>\n",
       "      <td>0.010955</td>\n",
       "      <td>0.018448</td>\n",
       "      <td>0.031463</td>\n",
       "      <td>0.748260</td>\n",
       "    </tr>\n",
       "    <tr>\n",
       "      <th>HNR</th>\n",
       "      <td>5875.0</td>\n",
       "      <td>21.679495</td>\n",
       "      <td>4.291096</td>\n",
       "      <td>1.659000</td>\n",
       "      <td>19.406000</td>\n",
       "      <td>21.920000</td>\n",
       "      <td>24.444000</td>\n",
       "      <td>37.875000</td>\n",
       "    </tr>\n",
       "    <tr>\n",
       "      <th>RPDE</th>\n",
       "      <td>5875.0</td>\n",
       "      <td>0.541473</td>\n",
       "      <td>0.100986</td>\n",
       "      <td>0.151020</td>\n",
       "      <td>0.469785</td>\n",
       "      <td>0.542250</td>\n",
       "      <td>0.614045</td>\n",
       "      <td>0.966080</td>\n",
       "    </tr>\n",
       "    <tr>\n",
       "      <th>DFA</th>\n",
       "      <td>5875.0</td>\n",
       "      <td>0.653240</td>\n",
       "      <td>0.070902</td>\n",
       "      <td>0.514040</td>\n",
       "      <td>0.596180</td>\n",
       "      <td>0.643600</td>\n",
       "      <td>0.711335</td>\n",
       "      <td>0.865600</td>\n",
       "    </tr>\n",
       "    <tr>\n",
       "      <th>PPE</th>\n",
       "      <td>5875.0</td>\n",
       "      <td>0.219589</td>\n",
       "      <td>0.091498</td>\n",
       "      <td>0.021983</td>\n",
       "      <td>0.156340</td>\n",
       "      <td>0.205500</td>\n",
       "      <td>0.264490</td>\n",
       "      <td>0.731730</td>\n",
       "    </tr>\n",
       "  </tbody>\n",
       "</table>\n",
       "</div>"
      ],
      "text/plain": [
       "                count       mean        std       min        25%        50%  \\\n",
       "subject#       5875.0  21.494128  12.372279  1.000000  10.000000  22.000000   \n",
       "motor_UPDRS    5875.0  21.296229   8.129282  5.037700  15.000000  20.871000   \n",
       "Jitter(%)      5875.0   0.006154   0.005624  0.000830   0.003580   0.004900   \n",
       "Jitter(Abs)    5875.0   0.000044   0.000036  0.000002   0.000022   0.000035   \n",
       "Jitter:RAP     5875.0   0.002987   0.003124  0.000330   0.001580   0.002250   \n",
       "Jitter:PPQ5    5875.0   0.003277   0.003732  0.000430   0.001820   0.002490   \n",
       "Jitter:DDP     5875.0   0.008962   0.009371  0.000980   0.004730   0.006750   \n",
       "Shimmer        5875.0   0.034035   0.025835  0.003060   0.019120   0.027510   \n",
       "Shimmer(dB)    5875.0   0.310960   0.230254  0.026000   0.175000   0.253000   \n",
       "Shimmer:APQ3   5875.0   0.017156   0.013237  0.001610   0.009280   0.013700   \n",
       "Shimmer:APQ5   5875.0   0.020144   0.016664  0.001940   0.010790   0.015940   \n",
       "Shimmer:APQ11  5875.0   0.027481   0.019986  0.002490   0.015665   0.022710   \n",
       "Shimmer:DDA    5875.0   0.051467   0.039711  0.004840   0.027830   0.041110   \n",
       "NHR            5875.0   0.032120   0.059692  0.000286   0.010955   0.018448   \n",
       "HNR            5875.0  21.679495   4.291096  1.659000  19.406000  21.920000   \n",
       "RPDE           5875.0   0.541473   0.100986  0.151020   0.469785   0.542250   \n",
       "DFA            5875.0   0.653240   0.070902  0.514040   0.596180   0.643600   \n",
       "PPE            5875.0   0.219589   0.091498  0.021983   0.156340   0.205500   \n",
       "\n",
       "                     75%        max  \n",
       "subject#       33.000000  42.000000  \n",
       "motor_UPDRS    27.596500  39.511000  \n",
       "Jitter(%)       0.006800   0.099990  \n",
       "Jitter(Abs)     0.000053   0.000446  \n",
       "Jitter:RAP      0.003290   0.057540  \n",
       "Jitter:PPQ5     0.003460   0.069560  \n",
       "Jitter:DDP      0.009870   0.172630  \n",
       "Shimmer         0.039750   0.268630  \n",
       "Shimmer(dB)     0.365000   2.107000  \n",
       "Shimmer:APQ3    0.020575   0.162670  \n",
       "Shimmer:APQ5    0.023755   0.167020  \n",
       "Shimmer:APQ11   0.032715   0.275460  \n",
       "Shimmer:DDA     0.061735   0.488020  \n",
       "NHR             0.031463   0.748260  \n",
       "HNR            24.444000  37.875000  \n",
       "RPDE            0.614045   0.966080  \n",
       "DFA             0.711335   0.865600  \n",
       "PPE             0.264490   0.731730  "
      ]
     },
     "execution_count": 6,
     "metadata": {},
     "output_type": "execute_result"
    }
   ],
   "source": [
    "parkinson.describe().T"
   ]
  },
  {
   "cell_type": "code",
   "execution_count": 7,
   "metadata": {
    "collapsed": true
   },
   "outputs": [],
   "source": [
    "# I'm dropping subject# because it is the patient id\n",
    "Xtrain, Xtest, ytrain, ytest = train_test_split(parkinson.drop(['subject#', 'motor_UPDRS'], axis=1),\n",
    "                                                parkinson.motor_UPDRS,\n",
    "                                                test_size=0.2,\n",
    "                                                random_state=54)"
   ]
  },
  {
   "cell_type": "markdown",
   "metadata": {},
   "source": [
    "2 - Fit a machine learning algorithm of your choice to the data, tuning hyperparameters using the Better Holdout Method. Generate training and validation plots and comment on your results."
   ]
  },
  {
   "cell_type": "code",
   "execution_count": 9,
   "metadata": {
    "collapsed": true
   },
   "outputs": [],
   "source": [
    "# scaling and ridge regression\n",
    "pipe = Pipeline([\n",
    "    ('stsc', StandardScaler()),\n",
    "    ('ridge', Ridge())\n",
    "])"
   ]
  },
  {
   "cell_type": "code",
   "execution_count": 10,
   "metadata": {
    "collapsed": true
   },
   "outputs": [],
   "source": [
    "# better hold out\n",
    "Xtr, Xcv, ytr, ycv = train_test_split(Xtrain, ytrain, test_size=0.2, random_state=42)\n",
    "scores = []\n",
    "# looping through regularization values\n",
    "for a in [0.001, 0.003, 0.01, 0.03, 0.1, 0.3, 1, 3, 10, 30, 100, 300, 1000, 3000]:\n",
    "    pipe.set_params(ridge__alpha=a)\n",
    "    pipe.fit(Xtr, ytr)\n",
    "    tr_score = pipe.score(Xtr, ytr)\n",
    "    cv_score = pipe.score(Xcv, ycv)\n",
    "    scores.append([a, tr_score, cv_score])\n",
    "\n",
    "scores = np.array(scores)"
   ]
  },
  {
   "cell_type": "code",
   "execution_count": 11,
   "metadata": {},
   "outputs": [
    {
     "data": {
      "text/plain": [
       "array([[  1.00000000e-03,   1.16318220e-01,   7.79041095e-02],\n",
       "       [  3.00000000e-03,   1.16275461e-01,   7.78532625e-02],\n",
       "       [  1.00000000e-02,   1.16236154e-01,   7.78025200e-02],\n",
       "       [  3.00000000e-02,   1.16218763e-01,   7.77831332e-02],\n",
       "       [  1.00000000e-01,   1.16211646e-01,   7.77870354e-02],\n",
       "       [  3.00000000e-01,   1.16209196e-01,   7.78218305e-02],\n",
       "       [  1.00000000e+00,   1.16205051e-01,   7.79468802e-02],\n",
       "       [  3.00000000e+00,   1.16179855e-01,   7.82654107e-02],\n",
       "       [  1.00000000e+01,   1.16004991e-01,   7.90742483e-02],\n",
       "       [  3.00000000e+01,   1.15389966e-01,   8.03377924e-02],\n",
       "       [  1.00000000e+02,   1.13505951e-01,   8.20404736e-02],\n",
       "       [  3.00000000e+02,   1.08208849e-01,   8.20675091e-02],\n",
       "       [  1.00000000e+03,   9.12025646e-02,   7.33942476e-02],\n",
       "       [  3.00000000e+03,   6.45159818e-02,   5.52072122e-02]])"
      ]
     },
     "execution_count": 11,
     "metadata": {},
     "output_type": "execute_result"
    }
   ],
   "source": [
    "scores"
   ]
  },
  {
   "cell_type": "code",
   "execution_count": 12,
   "metadata": {},
   "outputs": [
    {
     "data": {
      "image/png": "[encoded data removed]",
      "text/plain": [
       "<matplotlib.figure.Figure at 0x21341f35e80>"
      ]
     },
     "metadata": {},
     "output_type": "display_data"
    }
   ],
   "source": [
    "fig, ax = plt.subplots(figsize=(16, 8), subplot_kw=dict(xscale='log'))\n",
    "\n",
    "ax.plot(scores[:, 0], scores[:, 1], label='Train')\n",
    "ax.plot(scores[:, 0], scores[:, 2], label='Hold Out')\n",
    "ax.set_title(r'Ridge Regression with different $\\alpha$')\n",
    "ax.set_ylabel('$R^2$')\n",
    "ax.set_xlabel(r'\\alpha')\n",
    "ax.legend();"
   ]
  },
  {
   "cell_type": "code",
   "execution_count": null,
   "metadata": {
    "collapsed": true
   },
   "outputs": [],
   "source": [
    "ypred = pipe.predict(Xtrain)\n",
    "residuals = ypred - ytrain\n",
    "plt.scatter(ypred, residuals)\n",
    "plt.hlines(y=0, xmin=ypred.min(), xmax=ypred.max(), lw=2, color='red')"
   ]
  },
  {
   "cell_type": "code",
   "execution_count": 13,
   "metadata": {},
   "outputs": [
    {
     "data": {
      "text/plain": [
       "0.091677187638304902"
      ]
     },
     "execution_count": 13,
     "metadata": {},
     "output_type": "execute_result"
    }
   ],
   "source": [
    "pipe.set_params(ridge__alpha=100)\n",
    "pipe.fit(Xtrain, ytrain)\n",
    "pipe.score(Xtest, ytest)"
   ]
  },
  {
   "cell_type": "markdown",
   "metadata": {},
   "source": [
    "The score is very bad, the best choice for the regularization parameter seems to be 100 but there seems to be a problem of serious bias in this dataset. We may need more features to get accurate predictions."
   ]
  },
  {
   "cell_type": "markdown",
   "metadata": {},
   "source": [
    "3 - Repeat part (2), this time using cross validation.  Comment on your results."
   ]
  },
  {
   "cell_type": "code",
   "execution_count": 14,
   "metadata": {},
   "outputs": [
    {
     "name": "stdout",
     "output_type": "stream",
     "text": [
      "alpha = 0.001\n",
      "Fold 1 done\n",
      "Fold 2 done\n",
      "Fold 3 done\n",
      "Fold 4 done\n",
      "Fold 5 done\n",
      "Fold 6 done\n",
      "Fold 7 done\n",
      "Fold 8 done\n",
      "Fold 9 done\n",
      "Fold 10 done\n",
      "alpha = 0.003\n",
      "Fold 1 done\n",
      "Fold 2 done\n",
      "Fold 3 done\n",
      "Fold 4 done\n",
      "Fold 5 done\n",
      "Fold 6 done\n",
      "Fold 7 done\n",
      "Fold 8 done\n",
      "Fold 9 done\n",
      "Fold 10 done\n",
      "alpha = 0.01\n",
      "Fold 1 done\n",
      "Fold 2 done\n",
      "Fold 3 done\n",
      "Fold 4 done\n",
      "Fold 5 done\n",
      "Fold 6 done\n",
      "Fold 7 done\n",
      "Fold 8 done\n",
      "Fold 9 done\n",
      "Fold 10 done\n",
      "alpha = 0.03\n",
      "Fold 1 done\n",
      "Fold 2 done\n",
      "Fold 3 done\n",
      "Fold 4 done\n",
      "Fold 5 done\n",
      "Fold 6 done\n",
      "Fold 7 done\n",
      "Fold 8 done\n",
      "Fold 9 done\n",
      "Fold 10 done\n",
      "alpha = 0.1\n",
      "Fold 1 done\n",
      "Fold 2 done\n",
      "Fold 3 done\n",
      "Fold 4 done\n",
      "Fold 5 done\n",
      "Fold 6 done\n",
      "Fold 7 done\n",
      "Fold 8 done\n",
      "Fold 9 done\n",
      "Fold 10 done\n",
      "alpha = 0.3\n",
      "Fold 1 done\n",
      "Fold 2 done\n",
      "Fold 3 done\n",
      "Fold 4 done\n",
      "Fold 5 done\n",
      "Fold 6 done\n",
      "Fold 7 done\n",
      "Fold 8 done\n",
      "Fold 9 done\n",
      "Fold 10 done\n",
      "alpha = 1\n",
      "Fold 1 done\n",
      "Fold 2 done\n",
      "Fold 3 done\n",
      "Fold 4 done\n",
      "Fold 5 done\n",
      "Fold 6 done\n",
      "Fold 7 done\n",
      "Fold 8 done\n",
      "Fold 9 done\n",
      "Fold 10 done\n",
      "alpha = 3\n",
      "Fold 1 done\n",
      "Fold 2 done\n",
      "Fold 3 done\n",
      "Fold 4 done\n",
      "Fold 5 done\n",
      "Fold 6 done\n",
      "Fold 7 done\n",
      "Fold 8 done\n",
      "Fold 9 done\n",
      "Fold 10 done\n",
      "alpha = 10\n",
      "Fold 1 done\n",
      "Fold 2 done\n",
      "Fold 3 done\n",
      "Fold 4 done\n",
      "Fold 5 done\n",
      "Fold 6 done\n",
      "Fold 7 done\n",
      "Fold 8 done\n",
      "Fold 9 done\n",
      "Fold 10 done\n",
      "alpha = 30\n",
      "Fold 1 done\n",
      "Fold 2 done\n",
      "Fold 3 done\n",
      "Fold 4 done\n",
      "Fold 5 done\n",
      "Fold 6 done\n",
      "Fold 7 done\n",
      "Fold 8 done\n",
      "Fold 9 done\n",
      "Fold 10 done\n",
      "alpha = 100\n",
      "Fold 1 done\n",
      "Fold 2 done\n",
      "Fold 3 done\n",
      "Fold 4 done\n",
      "Fold 5 done\n",
      "Fold 6 done\n",
      "Fold 7 done\n",
      "Fold 8 done\n",
      "Fold 9 done\n",
      "Fold 10 done\n",
      "alpha = 300\n",
      "Fold 1 done\n",
      "Fold 2 done\n",
      "Fold 3 done\n",
      "Fold 4 done\n",
      "Fold 5 done\n",
      "Fold 6 done\n",
      "Fold 7 done\n",
      "Fold 8 done\n",
      "Fold 9 done\n",
      "Fold 10 done\n",
      "alpha = 1000\n",
      "Fold 1 done\n",
      "Fold 2 done\n",
      "Fold 3 done\n",
      "Fold 4 done\n",
      "Fold 5 done\n",
      "Fold 6 done\n",
      "Fold 7 done\n",
      "Fold 8 done\n",
      "Fold 9 done\n",
      "Fold 10 done\n",
      "alpha = 3000\n",
      "Fold 1 done\n",
      "Fold 2 done\n",
      "Fold 3 done\n",
      "Fold 4 done\n",
      "Fold 5 done\n",
      "Fold 6 done\n",
      "Fold 7 done\n",
      "Fold 8 done\n",
      "Fold 9 done\n",
      "Fold 10 done\n"
     ]
    }
   ],
   "source": [
    "scores = []\n",
    "\n",
    "for a in [0.001, 0.003, 0.01, 0.03, 0.1, 0.3, 1, 3, 10, 30, 100, 300, 1000, 3000]:\n",
    "    kfold = KFold(n_splits=10, random_state=1).split(Xtrain, ytrain)\n",
    "    fold_scores = []\n",
    "    pipe.set_params(ridge__alpha=a)\n",
    "    print('alpha = {}'.format(a))\n",
    "    for i, (train, test) in enumerate(kfold):\n",
    "        Xtr, ytr = Xtrain.iloc[train, :], ytrain.iloc[train]\n",
    "        Xcv, ycv = Xtrain.iloc[test, :], ytrain.iloc[test]\n",
    "        pipe.fit(Xtr, ytr)\n",
    "        tr_score = pipe.score(Xtr, ytr)\n",
    "        cv_score = pipe.score(Xcv, ycv)\n",
    "        fold_scores.append([i, tr_score, cv_score])\n",
    "        print('Fold {} done'.format(i+1))\n",
    "\n",
    "    fold_scores = np.array(fold_scores)\n",
    "    scores.append([a, fold_scores.mean(axis=0)[1], fold_scores.mean(axis=0)[2],\n",
    "                   fold_scores.std(axis=0)[1], fold_scores.std(axis=0)[2]])\n",
    "\n",
    "scores = np.array(scores)"
   ]
  },
  {
   "cell_type": "code",
   "execution_count": 15,
   "metadata": {},
   "outputs": [
    {
     "data": {
      "text/plain": [
       "array([[  1.00000000e-03,   1.10647735e-01,   9.74801567e-02,\n",
       "          2.68480397e-03,   2.67480515e-02],\n",
       "       [  3.00000000e-03,   1.10596127e-01,   9.75220009e-02,\n",
       "          2.67857362e-03,   2.67084848e-02],\n",
       "       [  1.00000000e-02,   1.10541942e-01,   9.75317132e-02,\n",
       "          2.67243942e-03,   2.66857620e-02],\n",
       "       [  3.00000000e-02,   1.10516140e-01,   9.75337815e-02,\n",
       "          2.66940417e-03,   2.66721342e-02],\n",
       "       [  1.00000000e-01,   1.10505295e-01,   9.75440898e-02,\n",
       "          2.66809593e-03,   2.66462125e-02],\n",
       "       [  3.00000000e-01,   1.10501756e-01,   9.75760533e-02,\n",
       "          2.66761795e-03,   2.65795742e-02],\n",
       "       [  1.00000000e+00,   1.10497960e-01,   9.76838590e-02,\n",
       "          2.66663807e-03,   2.63583311e-02],\n",
       "       [  3.00000000e+00,   1.10478219e-01,   9.79528837e-02,\n",
       "          2.66059827e-03,   2.57977963e-02],\n",
       "       [  1.00000000e+01,   1.10340899e-01,   9.86046213e-02,\n",
       "          2.62209515e-03,   2.43741017e-02],\n",
       "       [  3.00000000e+01,   1.09847211e-01,   9.94907422e-02,\n",
       "          2.51210298e-03,   2.21951834e-02],\n",
       "       [  1.00000000e+02,   1.08279204e-01,   1.00093253e-01,\n",
       "          2.31436191e-03,   1.92621905e-02],\n",
       "       [  3.00000000e+02,   1.03752361e-01,   9.77665731e-02,\n",
       "          2.10799886e-03,   1.64362035e-02],\n",
       "       [  1.00000000e+03,   8.86741532e-02,   8.44991341e-02,\n",
       "          1.80978256e-03,   1.31636954e-02],\n",
       "       [  3.00000000e+03,   6.40438452e-02,   6.07589895e-02,\n",
       "          1.39119087e-03,   1.01174318e-02]])"
      ]
     },
     "execution_count": 15,
     "metadata": {},
     "output_type": "execute_result"
    }
   ],
   "source": [
    "scores"
   ]
  },
  {
   "cell_type": "code",
   "execution_count": 16,
   "metadata": {},
   "outputs": [
    {
     "data": {
      "image/png": "[encoded data removed]",
      "text/plain": [
       "<matplotlib.figure.Figure at 0x21341f35b38>"
      ]
     },
     "metadata": {},
     "output_type": "display_data"
    }
   ],
   "source": [
    "fig, ax = plt.subplots(figsize=(16, 8), subplot_kw=dict(xscale='log'))\n",
    "\n",
    "ax.plot(scores[:, 0], scores[:, 1], label='Train')\n",
    "ax.plot(scores[:, 0], scores[:, 2], label='CV')\n",
    "ax.fill_between(scores[:, 0],\n",
    "                 scores[:, 1] + scores[:, 3],\n",
    "                 scores[:, 1] - scores[:, 3],\n",
    "                 alpha=0.15, color='blue')\n",
    "ax.fill_between(scores[:, 0],\n",
    "                 scores[:, 2] + scores[:, 4],\n",
    "                 scores[:, 2] - scores[:, 4],\n",
    "                 alpha=0.15, color='orange')\n",
    "ax.set_title(r'Ridge Regression with different $\\alpha$')\n",
    "ax.set_ylabel('$R^2$')\n",
    "ax.set_xlabel(r'$\\alpha$')\n",
    "ax.legend();"
   ]
  },
  {
   "cell_type": "markdown",
   "metadata": {},
   "source": [
    "The two curves are even closer, but again performances are overall very poor. This plot confirms that we have a high bias for this dataset."
   ]
  },
  {
   "cell_type": "markdown",
   "metadata": {},
   "source": [
    "4 - Repeat part (3) using a different machine learning algorithm.  Comment on your results."
   ]
  },
  {
   "cell_type": "code",
   "execution_count": 17,
   "metadata": {
    "collapsed": true
   },
   "outputs": [],
   "source": [
    "# scaling and random forest\n",
    "pipe = Pipeline([\n",
    "    ('scl', StandardScaler()),\n",
    "    ('forest', RandomForestRegressor())\n",
    "])"
   ]
  },
  {
   "cell_type": "code",
   "execution_count": 18,
   "metadata": {
    "scrolled": true
   },
   "outputs": [
    {
     "name": "stdout",
     "output_type": "stream",
     "text": [
      "# trees = 3\n",
      "Fold 1 done\n",
      "Fold 2 done\n",
      "Fold 3 done\n",
      "Fold 4 done\n",
      "Fold 5 done\n",
      "Fold 6 done\n",
      "Fold 7 done\n",
      "Fold 8 done\n",
      "Fold 9 done\n",
      "Fold 10 done\n",
      "# trees = 10\n",
      "Fold 1 done\n",
      "Fold 2 done\n",
      "Fold 3 done\n",
      "Fold 4 done\n",
      "Fold 5 done\n",
      "Fold 6 done\n",
      "Fold 7 done\n",
      "Fold 8 done\n",
      "Fold 9 done\n",
      "Fold 10 done\n",
      "# trees = 30\n",
      "Fold 1 done\n",
      "Fold 2 done\n",
      "Fold 3 done\n",
      "Fold 4 done\n",
      "Fold 5 done\n",
      "Fold 6 done\n",
      "Fold 7 done\n",
      "Fold 8 done\n",
      "Fold 9 done\n",
      "Fold 10 done\n",
      "# trees = 100\n",
      "Fold 1 done\n",
      "Fold 2 done\n",
      "Fold 3 done\n",
      "Fold 4 done\n",
      "Fold 5 done\n",
      "Fold 6 done\n",
      "Fold 7 done\n",
      "Fold 8 done\n",
      "Fold 9 done\n",
      "Fold 10 done\n",
      "# trees = 300\n",
      "Fold 1 done\n",
      "Fold 2 done\n",
      "Fold 3 done\n",
      "Fold 4 done\n",
      "Fold 5 done\n",
      "Fold 6 done\n",
      "Fold 7 done\n",
      "Fold 8 done\n",
      "Fold 9 done\n",
      "Fold 10 done\n"
     ]
    }
   ],
   "source": [
    "scores = []\n",
    "# looping through different number of trees\n",
    "for n in [3, 10, 30, 100, 300]:\n",
    "    kfold = KFold(n_splits=10, random_state=1).split(Xtrain, ytrain)\n",
    "    fold_scores = []\n",
    "    pipe.set_params(forest__n_estimators=n)\n",
    "    print('# trees = {}'.format(n))\n",
    "    # looping through folds\n",
    "    for i, (train, test) in enumerate(kfold):\n",
    "        Xtr, ytr = Xtrain.iloc[train, :], ytrain.iloc[train]\n",
    "        Xcv, ycv = Xtrain.iloc[test, :], ytrain.iloc[test]\n",
    "        pipe.fit(Xtr, ytr)\n",
    "        tr_score = pipe.score(Xtr, ytr)\n",
    "        cv_score = pipe.score(Xcv, ycv)\n",
    "        fold_scores.append([i, tr_score, cv_score])\n",
    "        print('Fold {} done'.format(i+1))\n",
    "\n",
    "    fold_scores = np.array(fold_scores)\n",
    "    scores.append([n, fold_scores.mean(axis=0)[1], fold_scores.mean(axis=0)[2],\n",
    "                   fold_scores.std(axis=0)[1], fold_scores.std(axis=0)[2]])\n",
    "\n",
    "scores = np.array(scores)"
   ]
  },
  {
   "cell_type": "code",
   "execution_count": 19,
   "metadata": {},
   "outputs": [
    {
     "data": {
      "text/plain": [
       "array([[  3.00000000e+00,   7.78228613e-01,   1.20387521e-01,\n",
       "          5.60934756e-03,   6.44626005e-02],\n",
       "       [  1.00000000e+01,   8.73109095e-01,   2.90613430e-01,\n",
       "          2.84753906e-03,   4.21880670e-02],\n",
       "       [  3.00000000e+01,   9.02223643e-01,   3.43726138e-01,\n",
       "          1.34051480e-03,   4.22285777e-02],\n",
       "       [  1.00000000e+02,   9.12066429e-01,   3.64657780e-01,\n",
       "          9.34880044e-04,   3.41515988e-02],\n",
       "       [  3.00000000e+02,   9.14414853e-01,   3.68101935e-01,\n",
       "          1.02314581e-03,   3.29893836e-02]])"
      ]
     },
     "execution_count": 19,
     "metadata": {},
     "output_type": "execute_result"
    }
   ],
   "source": [
    "scores"
   ]
  },
  {
   "cell_type": "code",
   "execution_count": 20,
   "metadata": {},
   "outputs": [
    {
     "data": {
      "image/png": "[encoded data removed]",
      "text/plain": [
       "<matplotlib.figure.Figure at 0x213426e7b70>"
      ]
     },
     "metadata": {},
     "output_type": "display_data"
    }
   ],
   "source": [
    "fig, ax = plt.subplots(figsize=(16, 8))\n",
    "\n",
    "ax.plot(scores[:, 0], scores[:, 1], label='Train')\n",
    "ax.plot(scores[:, 0], scores[:, 2], label='CV')\n",
    "ax.fill_between(scores[:, 0],\n",
    "                 scores[:, 1] + scores[:, 3],\n",
    "                 scores[:, 1] - scores[:, 3],\n",
    "                 alpha=0.15, color='blue')\n",
    "ax.fill_between(scores[:, 0],\n",
    "                 scores[:, 2] + scores[:, 4],\n",
    "                 scores[:, 2] - scores[:, 4],\n",
    "                 alpha=0.15, color='orange')\n",
    "ax.set_title('Random Forest Regression with Different # of Trees')\n",
    "ax.set_ylabel('$R^2$')\n",
    "ax.set_xlabel('# of Trees')\n",
    "ax.legend();"
   ]
  },
  {
   "cell_type": "markdown",
   "metadata": {},
   "source": [
    "Using a random forest we get better performances but we have a serious problem of high variance in this case."
   ]
  },
  {
   "cell_type": "markdown",
   "metadata": {},
   "source": [
    "5 - Which ever of your two algorithms in parts (3) and (4) performed more poorly, perform a variable selection to see if you can improve your results."
   ]
  },
  {
   "cell_type": "markdown",
   "metadata": {},
   "source": [
    "I'm going to use PCA to try and improve the R regression, but I don't think there is much to do..."
   ]
  },
  {
   "cell_type": "code",
   "execution_count": 21,
   "metadata": {},
   "outputs": [
    {
     "data": {
      "text/plain": [
       "array([  9.98053787e-01,   1.13952768e-03,   3.14424702e-04,\n",
       "         2.75678723e-04,   1.45276689e-04,   6.06695114e-05,\n",
       "         5.65762585e-06,   2.43417414e-06,   1.91760025e-06,\n",
       "         3.76194769e-07,   1.95582169e-07,   3.85328969e-08,\n",
       "         1.59326323e-08,   1.08253999e-11,   3.56549469e-13,\n",
       "         3.45293868e-13])"
      ]
     },
     "execution_count": 21,
     "metadata": {},
     "output_type": "execute_result"
    }
   ],
   "source": [
    "pca = PCA()\n",
    "pca.fit(Xtrain)\n",
    "pca.explained_variance_ratio_"
   ]
  },
  {
   "cell_type": "markdown",
   "metadata": {},
   "source": [
    "I guess we can try with 12 components"
   ]
  },
  {
   "cell_type": "code",
   "execution_count": 22,
   "metadata": {
    "collapsed": true
   },
   "outputs": [],
   "source": [
    "pipe = Pipeline([\n",
    "    ('scl', StandardScaler()),\n",
    "    ('pca', PCA(n_components=12)),\n",
    "    ('ridge', Ridge())\n",
    "])"
   ]
  },
  {
   "cell_type": "code",
   "execution_count": 23,
   "metadata": {
    "scrolled": true
   },
   "outputs": [
    {
     "name": "stdout",
     "output_type": "stream",
     "text": [
      "alpha = 0.001\n",
      "Fold 1 done\n",
      "Fold 2 done\n",
      "Fold 3 done\n",
      "Fold 4 done\n",
      "Fold 5 done\n",
      "Fold 6 done\n",
      "Fold 7 done\n",
      "Fold 8 done\n",
      "Fold 9 done\n",
      "Fold 10 done\n",
      "alpha = 0.003\n",
      "Fold 1 done\n",
      "Fold 2 done\n",
      "Fold 3 done\n",
      "Fold 4 done\n",
      "Fold 5 done\n",
      "Fold 6 done\n",
      "Fold 7 done\n",
      "Fold 8 done\n",
      "Fold 9 done\n",
      "Fold 10 done\n",
      "alpha = 0.01\n",
      "Fold 1 done\n",
      "Fold 2 done\n",
      "Fold 3 done\n",
      "Fold 4 done\n",
      "Fold 5 done\n",
      "Fold 6 done\n",
      "Fold 7 done\n",
      "Fold 8 done\n",
      "Fold 9 done\n",
      "Fold 10 done\n",
      "alpha = 0.03\n",
      "Fold 1 done\n",
      "Fold 2 done\n",
      "Fold 3 done\n",
      "Fold 4 done\n",
      "Fold 5 done\n",
      "Fold 6 done\n",
      "Fold 7 done\n",
      "Fold 8 done\n",
      "Fold 9 done\n",
      "Fold 10 done\n",
      "alpha = 0.1\n",
      "Fold 1 done\n",
      "Fold 2 done\n",
      "Fold 3 done\n",
      "Fold 4 done\n",
      "Fold 5 done\n",
      "Fold 6 done\n",
      "Fold 7 done\n",
      "Fold 8 done\n",
      "Fold 9 done\n",
      "Fold 10 done\n",
      "alpha = 0.3\n",
      "Fold 1 done\n",
      "Fold 2 done\n",
      "Fold 3 done\n",
      "Fold 4 done\n",
      "Fold 5 done\n",
      "Fold 6 done\n",
      "Fold 7 done\n",
      "Fold 8 done\n",
      "Fold 9 done\n",
      "Fold 10 done\n",
      "alpha = 1\n",
      "Fold 1 done\n",
      "Fold 2 done\n",
      "Fold 3 done\n",
      "Fold 4 done\n",
      "Fold 5 done\n",
      "Fold 6 done\n",
      "Fold 7 done\n",
      "Fold 8 done\n",
      "Fold 9 done\n",
      "Fold 10 done\n",
      "alpha = 3\n",
      "Fold 1 done\n",
      "Fold 2 done\n",
      "Fold 3 done\n",
      "Fold 4 done\n",
      "Fold 5 done\n",
      "Fold 6 done\n",
      "Fold 7 done\n",
      "Fold 8 done\n",
      "Fold 9 done\n",
      "Fold 10 done\n",
      "alpha = 10\n",
      "Fold 1 done\n",
      "Fold 2 done\n",
      "Fold 3 done\n",
      "Fold 4 done\n",
      "Fold 5 done\n",
      "Fold 6 done\n",
      "Fold 7 done\n",
      "Fold 8 done\n",
      "Fold 9 done\n",
      "Fold 10 done\n",
      "alpha = 30\n",
      "Fold 1 done\n",
      "Fold 2 done\n",
      "Fold 3 done\n",
      "Fold 4 done\n",
      "Fold 5 done\n",
      "Fold 6 done\n",
      "Fold 7 done\n",
      "Fold 8 done\n",
      "Fold 9 done\n",
      "Fold 10 done\n",
      "alpha = 100\n",
      "Fold 1 done\n",
      "Fold 2 done\n",
      "Fold 3 done\n",
      "Fold 4 done\n",
      "Fold 5 done\n",
      "Fold 6 done\n",
      "Fold 7 done\n",
      "Fold 8 done\n",
      "Fold 9 done\n",
      "Fold 10 done\n",
      "alpha = 300\n",
      "Fold 1 done\n",
      "Fold 2 done\n",
      "Fold 3 done\n",
      "Fold 4 done\n",
      "Fold 5 done\n",
      "Fold 6 done\n",
      "Fold 7 done\n",
      "Fold 8 done\n",
      "Fold 9 done\n",
      "Fold 10 done\n",
      "alpha = 1000\n",
      "Fold 1 done\n",
      "Fold 2 done\n",
      "Fold 3 done\n",
      "Fold 4 done\n",
      "Fold 5 done\n",
      "Fold 6 done\n",
      "Fold 7 done\n",
      "Fold 8 done\n",
      "Fold 9 done\n",
      "Fold 10 done\n",
      "alpha = 3000\n",
      "Fold 1 done\n",
      "Fold 2 done\n",
      "Fold 3 done\n",
      "Fold 4 done\n",
      "Fold 5 done\n",
      "Fold 6 done\n",
      "Fold 7 done\n",
      "Fold 8 done\n",
      "Fold 9 done\n",
      "Fold 10 done\n"
     ]
    }
   ],
   "source": [
    "scores = []\n",
    "\n",
    "for a in [0.001, 0.003, 0.01, 0.03, 0.1, 0.3, 1, 3, 10, 30, 100, 300, 1000, 3000]:\n",
    "    kfold = KFold(n_splits=10, random_state=1).split(Xtrain, ytrain)\n",
    "    fold_scores = []\n",
    "    pipe.set_params(ridge__alpha=a)\n",
    "    print('alpha = {}'.format(a))\n",
    "    for i, (train, test) in enumerate(kfold):\n",
    "        Xtr, ytr = Xtrain.iloc[train, :], ytrain.iloc[train]\n",
    "        Xcv, ycv = Xtrain.iloc[test, :], ytrain.iloc[test]\n",
    "        pipe.fit(Xtr, ytr)\n",
    "        \n",
    "        tr_score = pipe.score(Xtr, ytr)\n",
    "        cv_score = pipe.score(Xcv, ycv)\n",
    "        fold_scores.append([i, tr_score, cv_score])\n",
    "        print('Fold {} done'.format(i+1))\n",
    "\n",
    "    fold_scores = np.array(fold_scores)\n",
    "    scores.append([a, fold_scores.mean(axis=0)[1], fold_scores.mean(axis=0)[2],\n",
    "                   fold_scores.std(axis=0)[1], fold_scores.std(axis=0)[2]])\n",
    "\n",
    "scores = np.array(scores)"
   ]
  },
  {
   "cell_type": "code",
   "execution_count": 24,
   "metadata": {},
   "outputs": [
    {
     "data": {
      "text/plain": [
       "array([[  1.00000000e-03,   1.09179570e-01,   9.88752483e-02,\n",
       "          2.21892150e-03,   2.12792494e-02],\n",
       "       [  3.00000000e-03,   1.09179570e-01,   9.88753444e-02,\n",
       "          2.21892150e-03,   2.12791443e-02],\n",
       "       [  1.00000000e-02,   1.09179570e-01,   9.88756809e-02,\n",
       "          2.21892150e-03,   2.12787766e-02],\n",
       "       [  3.00000000e-02,   1.09179569e-01,   9.88766415e-02,\n",
       "          2.21892148e-03,   2.12777263e-02],\n",
       "       [  1.00000000e-01,   1.09179565e-01,   9.88799978e-02,\n",
       "          2.21892126e-03,   2.12740539e-02],\n",
       "       [  3.00000000e-01,   1.09179528e-01,   9.88895342e-02,\n",
       "          2.21891930e-03,   2.12635927e-02],\n",
       "       [  1.00000000e+00,   1.09179116e-01,   9.89223077e-02,\n",
       "          2.21889739e-03,   2.12273368e-02],\n",
       "       [  3.00000000e+00,   1.09175672e-01,   9.90110431e-02,\n",
       "          2.21871233e-03,   2.11266791e-02],\n",
       "       [  1.00000000e+01,   1.09142253e-01,   9.92733225e-02,\n",
       "          2.21687510e-03,   2.08039042e-02],\n",
       "       [  3.00000000e+01,   1.08939442e-01,   9.97506103e-02,\n",
       "          2.20571012e-03,   2.00585354e-02],\n",
       "       [  1.00000000e+02,   1.07810164e-01,   1.00099091e-01,\n",
       "          2.15376794e-03,   1.84107502e-02],\n",
       "       [  3.00000000e+02,   1.03556978e-01,   9.77169932e-02,\n",
       "          2.03835879e-03,   1.61554595e-02],\n",
       "       [  1.00000000e+03,   8.86099895e-02,   8.44638102e-02,\n",
       "          1.78582427e-03,   1.30906810e-02],\n",
       "       [  3.00000000e+03,   6.40218648e-02,   6.07434671e-02,\n",
       "          1.38291098e-03,   1.00943465e-02]])"
      ]
     },
     "execution_count": 24,
     "metadata": {},
     "output_type": "execute_result"
    }
   ],
   "source": [
    "scores"
   ]
  },
  {
   "cell_type": "code",
   "execution_count": 25,
   "metadata": {},
   "outputs": [
    {
     "data": {
      "image/png": "[encoded data removed]",
      "text/plain": [
       "<matplotlib.figure.Figure at 0x2134287f8d0>"
      ]
     },
     "metadata": {},
     "output_type": "display_data"
    }
   ],
   "source": [
    "fig, ax = plt.subplots(figsize=(16, 8), subplot_kw=dict(xscale='log'))\n",
    "\n",
    "ax.plot(scores[:, 0], scores[:, 1], label='Train')\n",
    "ax.plot(scores[:, 0], scores[:, 2], label='CV')\n",
    "ax.fill_between(scores[:, 0],\n",
    "                 scores[:, 1] + scores[:, 3],\n",
    "                 scores[:, 1] - scores[:, 3],\n",
    "                 alpha=0.15, color='blue')\n",
    "ax.fill_between(scores[:, 0],\n",
    "                 scores[:, 2] + scores[:, 4],\n",
    "                 scores[:, 2] - scores[:, 4],\n",
    "                 alpha=0.15, color='orange')\n",
    "ax.set_title(r'Ridge Regression with different $\\alpha$')\n",
    "ax.set_ylabel('$R^2$')\n",
    "ax.set_xlabel(r'$\\alpha$')\n",
    "ax.legend();"
   ]
  },
  {
   "cell_type": "markdown",
   "metadata": {},
   "source": [
    "Not much of an improvement..."
   ]
  },
  {
   "cell_type": "markdown",
   "metadata": {},
   "source": [
    "6 - Pick a regression algorithm that has at least two hyperparameters and tune them using `GridSeachCV`.  Comment on your results."
   ]
  },
  {
   "cell_type": "markdown",
   "metadata": {},
   "source": [
    "I'm going to try and add some polynomial features to the Ridge regression to see if it can perform better:"
   ]
  },
  {
   "cell_type": "code",
   "execution_count": 44,
   "metadata": {},
   "outputs": [
    {
     "data": {
      "text/plain": [
       "GridSearchCV(cv=10, error_score='raise',\n",
       "       estimator=Pipeline(memory=None,\n",
       "     steps=[('scl', StandardScaler(copy=True, with_mean=True, with_std=True)), ('pca', PCA(copy=True, iterated_power='auto', n_components=9, random_state=None,\n",
       "  svd_solver='auto', tol=0.0, whiten=False)), ('poly', PolynomialFeatures(degree=2, include_bias=True, interaction_only=False)), ('ridge', Ridge(alpha=1.0, copy_X=True, fit_intercept=True, max_iter=None,\n",
       "   normalize=False, random_state=None, solver='auto', tol=0.001))]),\n",
       "       fit_params=None, iid=True, n_jobs=2,\n",
       "       param_grid=[{'poly__degree': array([1, 2, 3]), 'ridge__alpha': [0.001, 0.003, 0.01, 0.03, 0.1, 0.3, 1, 3, 10, 30]}],\n",
       "       pre_dispatch='2*n_jobs', refit=True, return_train_score=True,\n",
       "       scoring=None, verbose=0)"
      ]
     },
     "execution_count": 44,
     "metadata": {},
     "output_type": "execute_result"
    }
   ],
   "source": [
    "pipe = Pipeline([\n",
    "    ('scl', StandardScaler()),\n",
    "    ('pca', PCA(n_components=9)),\n",
    "    ('poly', PolynomialFeatures()),\n",
    "    ('ridge', Ridge())\n",
    "])\n",
    "\n",
    "alpha_range = [0.001, 0.003, 0.01, 0.03, 0.1, 0.3, 1, 3, 10, 30]\n",
    "degree_range = np.arange(1, 4)\n",
    "# using grid search to tune regularization and degree of polynomials\n",
    "param_grid = [{'poly__degree':degree_range, 'ridge__alpha': alpha_range}]\n",
    "gs = GridSearchCV(estimator=pipe,\n",
    "                  param_grid=param_grid,\n",
    "                  cv=10,\n",
    "                  n_jobs=2)\n",
    "\n",
    "gs.fit(Xtrain, ytrain)"
   ]
  },
  {
   "cell_type": "code",
   "execution_count": 46,
   "metadata": {},
   "outputs": [
    {
     "name": "stdout",
     "output_type": "stream",
     "text": [
      "0.184314178869\n",
      "{'poly__degree': 2, 'ridge__alpha': 30}\n"
     ]
    }
   ],
   "source": [
    "print(gs.best_score_)\n",
    "print(gs.best_params_)"
   ]
  },
  {
   "cell_type": "code",
   "execution_count": 47,
   "metadata": {},
   "outputs": [
    {
     "data": {
      "text/plain": [
       "0.18657109593637167"
      ]
     },
     "execution_count": 47,
     "metadata": {},
     "output_type": "execute_result"
    }
   ],
   "source": [
    "pipe.set_params(poly__degree=2, ridge__alpha=30)\n",
    "pipe.fit(Xtrain, ytrain)\n",
    "pipe.score(Xtest, ytest)"
   ]
  },
  {
   "cell_type": "markdown",
   "metadata": {},
   "source": [
    "We have a slight improvement introducing polynomial features, but the score is still very low..."
   ]
  }
 ],
 "metadata": {
  "anaconda-cloud": {},
  "kernelspec": {
   "display_name": "Python 3",
   "language": "python",
   "name": "python3"
  },
  "language_info": {
   "codemirror_mode": {
    "name": "ipython",
    "version": 3
   },
   "file_extension": ".py",
   "mimetype": "text/x-python",
   "name": "python",
   "nbconvert_exporter": "python",
   "pygments_lexer": "ipython3",
   "version": "3.6.2"
  }
 },
 "nbformat": 4,
 "nbformat_minor": 2
}
