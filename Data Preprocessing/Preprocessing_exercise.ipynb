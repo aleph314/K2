{
 "cells": [
  {
   "cell_type": "markdown",
   "metadata": {},
   "source": [
    "# Data Preprocessing"
   ]
  },
  {
   "cell_type": "markdown",
   "metadata": {},
   "source": [
    "## Imputation\n",
    "You will often find yourself in a situation where you will be dealing with an incomplete dataset.  There are many reasons why data may be missing: survey responses may have been optional, there may have been some sort of data recording error, or the information may simply just not be available.  There are a plethora of ways to handle such situations, several of which we will explore in this exercise."
   ]
  },
  {
   "cell_type": "markdown",
   "metadata": {},
   "source": [
    "1 - Go do the [Machine Learning Repository](http://archive.ics.uci.edu/ml/index.php) and download the [Beijing PM2.5 Data](http://archive.ics.uci.edu/ml/datasets/Beijing+PM2.5+Data), put it into a dataframe, giving the columns the proper names.  Also be sure to familarize yourself with the data set before proceeding."
   ]
  },
  {
   "cell_type": "code",
   "execution_count": 1,
   "metadata": {},
   "outputs": [],
   "source": [
    "import pandas as pd\n",
    "import numpy as np"
   ]
  },
  {
   "cell_type": "markdown",
   "metadata": {},
   "source": [
    "### Attribute Information:\n",
    "\n",
    "- No: row number \n",
    "- year: year of data in this row \n",
    "- month: month of data in this row \n",
    "- day: day of data in this row \n",
    "- hour: hour of data in this row \n",
    "- pm2.5: PM2.5 concentration (ug/m^3) \n",
    "- DEWP: Dew Point (ƒ) \n",
    "- TEMP: Temperature (ƒ) \n",
    "- PRES: Pressure (hPa) \n",
    "- cbwd: Combined wind direction \n",
    "- Iws: Cumulated wind speed (m/s) \n",
    "- Is: Cumulated hours of snow \n",
    "- Ir: Cumulated hours of rain "
   ]
  },
  {
   "cell_type": "code",
   "execution_count": 2,
   "metadata": {
    "collapsed": true
   },
   "outputs": [],
   "source": [
    "pm2 = pd.read_csv('http://archive.ics.uci.edu/ml/machine-learning-databases/00381/PRSA_data_2010.1.1-2014.12.31.csv',\n",
    "                  na_values='NA')\n",
    "pm2.columns = ['id', 'year', 'month', 'day', 'hour', 'pm2', 'dew_point', 'temperature',\n",
    "               'pressure', 'wind_dir', 'wind_speed', 'hours_snow', 'hours_rain']"
   ]
  },
  {
   "cell_type": "code",
   "execution_count": 3,
   "metadata": {},
   "outputs": [
    {
     "data": {
      "text/html": [
       "<div>\n",
       "<style>\n",
       "    .dataframe thead tr:only-child th {\n",
       "        text-align: right;\n",
       "    }\n",
       "\n",
       "    .dataframe thead th {\n",
       "        text-align: left;\n",
       "    }\n",
       "\n",
       "    .dataframe tbody tr th {\n",
       "        vertical-align: top;\n",
       "    }\n",
       "</style>\n",
       "<table border=\"1\" class=\"dataframe\">\n",
       "  <thead>\n",
       "    <tr style=\"text-align: right;\">\n",
       "      <th></th>\n",
       "      <th>id</th>\n",
       "      <th>year</th>\n",
       "      <th>month</th>\n",
       "      <th>day</th>\n",
       "      <th>hour</th>\n",
       "      <th>pm2</th>\n",
       "      <th>dew_point</th>\n",
       "      <th>temperature</th>\n",
       "      <th>pressure</th>\n",
       "      <th>wind_dir</th>\n",
       "      <th>wind_speed</th>\n",
       "      <th>hours_snow</th>\n",
       "      <th>hours_rain</th>\n",
       "    </tr>\n",
       "  </thead>\n",
       "  <tbody>\n",
       "    <tr>\n",
       "      <th>0</th>\n",
       "      <td>1</td>\n",
       "      <td>2010</td>\n",
       "      <td>1</td>\n",
       "      <td>1</td>\n",
       "      <td>0</td>\n",
       "      <td>NaN</td>\n",
       "      <td>-21</td>\n",
       "      <td>-11.0</td>\n",
       "      <td>1021.0</td>\n",
       "      <td>NW</td>\n",
       "      <td>1.79</td>\n",
       "      <td>0</td>\n",
       "      <td>0</td>\n",
       "    </tr>\n",
       "    <tr>\n",
       "      <th>1</th>\n",
       "      <td>2</td>\n",
       "      <td>2010</td>\n",
       "      <td>1</td>\n",
       "      <td>1</td>\n",
       "      <td>1</td>\n",
       "      <td>NaN</td>\n",
       "      <td>-21</td>\n",
       "      <td>-12.0</td>\n",
       "      <td>1020.0</td>\n",
       "      <td>NW</td>\n",
       "      <td>4.92</td>\n",
       "      <td>0</td>\n",
       "      <td>0</td>\n",
       "    </tr>\n",
       "    <tr>\n",
       "      <th>2</th>\n",
       "      <td>3</td>\n",
       "      <td>2010</td>\n",
       "      <td>1</td>\n",
       "      <td>1</td>\n",
       "      <td>2</td>\n",
       "      <td>NaN</td>\n",
       "      <td>-21</td>\n",
       "      <td>-11.0</td>\n",
       "      <td>1019.0</td>\n",
       "      <td>NW</td>\n",
       "      <td>6.71</td>\n",
       "      <td>0</td>\n",
       "      <td>0</td>\n",
       "    </tr>\n",
       "    <tr>\n",
       "      <th>3</th>\n",
       "      <td>4</td>\n",
       "      <td>2010</td>\n",
       "      <td>1</td>\n",
       "      <td>1</td>\n",
       "      <td>3</td>\n",
       "      <td>NaN</td>\n",
       "      <td>-21</td>\n",
       "      <td>-14.0</td>\n",
       "      <td>1019.0</td>\n",
       "      <td>NW</td>\n",
       "      <td>9.84</td>\n",
       "      <td>0</td>\n",
       "      <td>0</td>\n",
       "    </tr>\n",
       "    <tr>\n",
       "      <th>4</th>\n",
       "      <td>5</td>\n",
       "      <td>2010</td>\n",
       "      <td>1</td>\n",
       "      <td>1</td>\n",
       "      <td>4</td>\n",
       "      <td>NaN</td>\n",
       "      <td>-20</td>\n",
       "      <td>-12.0</td>\n",
       "      <td>1018.0</td>\n",
       "      <td>NW</td>\n",
       "      <td>12.97</td>\n",
       "      <td>0</td>\n",
       "      <td>0</td>\n",
       "    </tr>\n",
       "  </tbody>\n",
       "</table>\n",
       "</div>"
      ],
      "text/plain": [
       "   id  year  month  day  hour  pm2  dew_point  temperature  pressure wind_dir  \\\n",
       "0   1  2010      1    1     0  NaN        -21        -11.0    1021.0       NW   \n",
       "1   2  2010      1    1     1  NaN        -21        -12.0    1020.0       NW   \n",
       "2   3  2010      1    1     2  NaN        -21        -11.0    1019.0       NW   \n",
       "3   4  2010      1    1     3  NaN        -21        -14.0    1019.0       NW   \n",
       "4   5  2010      1    1     4  NaN        -20        -12.0    1018.0       NW   \n",
       "\n",
       "   wind_speed  hours_snow  hours_rain  \n",
       "0        1.79           0           0  \n",
       "1        4.92           0           0  \n",
       "2        6.71           0           0  \n",
       "3        9.84           0           0  \n",
       "4       12.97           0           0  "
      ]
     },
     "execution_count": 3,
     "metadata": {},
     "output_type": "execute_result"
    }
   ],
   "source": [
    "pm2.head()"
   ]
  },
  {
   "cell_type": "code",
   "execution_count": 4,
   "metadata": {},
   "outputs": [
    {
     "name": "stdout",
     "output_type": "stream",
     "text": [
      "<class 'pandas.core.frame.DataFrame'>\n",
      "RangeIndex: 43824 entries, 0 to 43823\n",
      "Data columns (total 13 columns):\n",
      "id             43824 non-null int64\n",
      "year           43824 non-null int64\n",
      "month          43824 non-null int64\n",
      "day            43824 non-null int64\n",
      "hour           43824 non-null int64\n",
      "pm2            41757 non-null float64\n",
      "dew_point      43824 non-null int64\n",
      "temperature    43824 non-null float64\n",
      "pressure       43824 non-null float64\n",
      "wind_dir       43824 non-null object\n",
      "wind_speed     43824 non-null float64\n",
      "hours_snow     43824 non-null int64\n",
      "hours_rain     43824 non-null int64\n",
      "dtypes: float64(4), int64(8), object(1)\n",
      "memory usage: 4.3+ MB\n"
     ]
    }
   ],
   "source": [
    "pm2.info()"
   ]
  },
  {
   "cell_type": "markdown",
   "metadata": {},
   "source": [
    "There ore over 2000 samples with the pm 2.5 value missing: since this is the value to predict I am going to drop them."
   ]
  },
  {
   "cell_type": "code",
   "execution_count": 5,
   "metadata": {
    "collapsed": true
   },
   "outputs": [],
   "source": [
    "pm2.dropna(inplace=True)"
   ]
  },
  {
   "cell_type": "code",
   "execution_count": 6,
   "metadata": {},
   "outputs": [
    {
     "data": {
      "text/html": [
       "<div>\n",
       "<style>\n",
       "    .dataframe thead tr:only-child th {\n",
       "        text-align: right;\n",
       "    }\n",
       "\n",
       "    .dataframe thead th {\n",
       "        text-align: left;\n",
       "    }\n",
       "\n",
       "    .dataframe tbody tr th {\n",
       "        vertical-align: top;\n",
       "    }\n",
       "</style>\n",
       "<table border=\"1\" class=\"dataframe\">\n",
       "  <thead>\n",
       "    <tr style=\"text-align: right;\">\n",
       "      <th></th>\n",
       "      <th>count</th>\n",
       "      <th>mean</th>\n",
       "      <th>std</th>\n",
       "      <th>min</th>\n",
       "      <th>25%</th>\n",
       "      <th>50%</th>\n",
       "      <th>75%</th>\n",
       "      <th>max</th>\n",
       "    </tr>\n",
       "  </thead>\n",
       "  <tbody>\n",
       "    <tr>\n",
       "      <th>id</th>\n",
       "      <td>41757.0</td>\n",
       "      <td>22279.380104</td>\n",
       "      <td>12658.168415</td>\n",
       "      <td>25.00</td>\n",
       "      <td>11464.00</td>\n",
       "      <td>22435.00</td>\n",
       "      <td>33262.00</td>\n",
       "      <td>43824.00</td>\n",
       "    </tr>\n",
       "    <tr>\n",
       "      <th>year</th>\n",
       "      <td>41757.0</td>\n",
       "      <td>2012.042771</td>\n",
       "      <td>1.415311</td>\n",
       "      <td>2010.00</td>\n",
       "      <td>2011.00</td>\n",
       "      <td>2012.00</td>\n",
       "      <td>2013.00</td>\n",
       "      <td>2014.00</td>\n",
       "    </tr>\n",
       "    <tr>\n",
       "      <th>month</th>\n",
       "      <td>41757.0</td>\n",
       "      <td>6.513758</td>\n",
       "      <td>3.454199</td>\n",
       "      <td>1.00</td>\n",
       "      <td>4.00</td>\n",
       "      <td>7.00</td>\n",
       "      <td>10.00</td>\n",
       "      <td>12.00</td>\n",
       "    </tr>\n",
       "    <tr>\n",
       "      <th>day</th>\n",
       "      <td>41757.0</td>\n",
       "      <td>15.685514</td>\n",
       "      <td>8.785539</td>\n",
       "      <td>1.00</td>\n",
       "      <td>8.00</td>\n",
       "      <td>16.00</td>\n",
       "      <td>23.00</td>\n",
       "      <td>31.00</td>\n",
       "    </tr>\n",
       "    <tr>\n",
       "      <th>hour</th>\n",
       "      <td>41757.0</td>\n",
       "      <td>11.502311</td>\n",
       "      <td>6.924848</td>\n",
       "      <td>0.00</td>\n",
       "      <td>5.00</td>\n",
       "      <td>12.00</td>\n",
       "      <td>18.00</td>\n",
       "      <td>23.00</td>\n",
       "    </tr>\n",
       "    <tr>\n",
       "      <th>pm2</th>\n",
       "      <td>41757.0</td>\n",
       "      <td>98.613215</td>\n",
       "      <td>92.050387</td>\n",
       "      <td>0.00</td>\n",
       "      <td>29.00</td>\n",
       "      <td>72.00</td>\n",
       "      <td>137.00</td>\n",
       "      <td>994.00</td>\n",
       "    </tr>\n",
       "    <tr>\n",
       "      <th>dew_point</th>\n",
       "      <td>41757.0</td>\n",
       "      <td>1.750174</td>\n",
       "      <td>14.433658</td>\n",
       "      <td>-40.00</td>\n",
       "      <td>-10.00</td>\n",
       "      <td>2.00</td>\n",
       "      <td>15.00</td>\n",
       "      <td>28.00</td>\n",
       "    </tr>\n",
       "    <tr>\n",
       "      <th>temperature</th>\n",
       "      <td>41757.0</td>\n",
       "      <td>12.401561</td>\n",
       "      <td>12.175215</td>\n",
       "      <td>-19.00</td>\n",
       "      <td>2.00</td>\n",
       "      <td>14.00</td>\n",
       "      <td>23.00</td>\n",
       "      <td>42.00</td>\n",
       "    </tr>\n",
       "    <tr>\n",
       "      <th>pressure</th>\n",
       "      <td>41757.0</td>\n",
       "      <td>1016.442896</td>\n",
       "      <td>10.300733</td>\n",
       "      <td>991.00</td>\n",
       "      <td>1008.00</td>\n",
       "      <td>1016.00</td>\n",
       "      <td>1025.00</td>\n",
       "      <td>1046.00</td>\n",
       "    </tr>\n",
       "    <tr>\n",
       "      <th>wind_speed</th>\n",
       "      <td>41757.0</td>\n",
       "      <td>23.866747</td>\n",
       "      <td>49.617495</td>\n",
       "      <td>0.45</td>\n",
       "      <td>1.79</td>\n",
       "      <td>5.37</td>\n",
       "      <td>21.91</td>\n",
       "      <td>565.49</td>\n",
       "    </tr>\n",
       "    <tr>\n",
       "      <th>hours_snow</th>\n",
       "      <td>41757.0</td>\n",
       "      <td>0.055344</td>\n",
       "      <td>0.778875</td>\n",
       "      <td>0.00</td>\n",
       "      <td>0.00</td>\n",
       "      <td>0.00</td>\n",
       "      <td>0.00</td>\n",
       "      <td>27.00</td>\n",
       "    </tr>\n",
       "    <tr>\n",
       "      <th>hours_rain</th>\n",
       "      <td>41757.0</td>\n",
       "      <td>0.194866</td>\n",
       "      <td>1.418165</td>\n",
       "      <td>0.00</td>\n",
       "      <td>0.00</td>\n",
       "      <td>0.00</td>\n",
       "      <td>0.00</td>\n",
       "      <td>36.00</td>\n",
       "    </tr>\n",
       "  </tbody>\n",
       "</table>\n",
       "</div>"
      ],
      "text/plain": [
       "               count          mean           std      min       25%       50%  \\\n",
       "id           41757.0  22279.380104  12658.168415    25.00  11464.00  22435.00   \n",
       "year         41757.0   2012.042771      1.415311  2010.00   2011.00   2012.00   \n",
       "month        41757.0      6.513758      3.454199     1.00      4.00      7.00   \n",
       "day          41757.0     15.685514      8.785539     1.00      8.00     16.00   \n",
       "hour         41757.0     11.502311      6.924848     0.00      5.00     12.00   \n",
       "pm2          41757.0     98.613215     92.050387     0.00     29.00     72.00   \n",
       "dew_point    41757.0      1.750174     14.433658   -40.00    -10.00      2.00   \n",
       "temperature  41757.0     12.401561     12.175215   -19.00      2.00     14.00   \n",
       "pressure     41757.0   1016.442896     10.300733   991.00   1008.00   1016.00   \n",
       "wind_speed   41757.0     23.866747     49.617495     0.45      1.79      5.37   \n",
       "hours_snow   41757.0      0.055344      0.778875     0.00      0.00      0.00   \n",
       "hours_rain   41757.0      0.194866      1.418165     0.00      0.00      0.00   \n",
       "\n",
       "                  75%       max  \n",
       "id           33262.00  43824.00  \n",
       "year          2013.00   2014.00  \n",
       "month           10.00     12.00  \n",
       "day             23.00     31.00  \n",
       "hour            18.00     23.00  \n",
       "pm2            137.00    994.00  \n",
       "dew_point       15.00     28.00  \n",
       "temperature     23.00     42.00  \n",
       "pressure      1025.00   1046.00  \n",
       "wind_speed      21.91    565.49  \n",
       "hours_snow       0.00     27.00  \n",
       "hours_rain       0.00     36.00  "
      ]
     },
     "execution_count": 6,
     "metadata": {},
     "output_type": "execute_result"
    }
   ],
   "source": [
    "pm2.describe().T"
   ]
  },
  {
   "cell_type": "code",
   "execution_count": 7,
   "metadata": {},
   "outputs": [
    {
     "data": {
      "text/html": [
       "<div>\n",
       "<style>\n",
       "    .dataframe thead tr:only-child th {\n",
       "        text-align: right;\n",
       "    }\n",
       "\n",
       "    .dataframe thead th {\n",
       "        text-align: left;\n",
       "    }\n",
       "\n",
       "    .dataframe tbody tr th {\n",
       "        vertical-align: top;\n",
       "    }\n",
       "</style>\n",
       "<table border=\"1\" class=\"dataframe\">\n",
       "  <thead>\n",
       "    <tr style=\"text-align: right;\">\n",
       "      <th></th>\n",
       "      <th>wind_dir</th>\n",
       "    </tr>\n",
       "  </thead>\n",
       "  <tbody>\n",
       "    <tr>\n",
       "      <th>count</th>\n",
       "      <td>41757</td>\n",
       "    </tr>\n",
       "    <tr>\n",
       "      <th>unique</th>\n",
       "      <td>4</td>\n",
       "    </tr>\n",
       "    <tr>\n",
       "      <th>top</th>\n",
       "      <td>SE</td>\n",
       "    </tr>\n",
       "    <tr>\n",
       "      <th>freq</th>\n",
       "      <td>14573</td>\n",
       "    </tr>\n",
       "  </tbody>\n",
       "</table>\n",
       "</div>"
      ],
      "text/plain": [
       "       wind_dir\n",
       "count     41757\n",
       "unique        4\n",
       "top          SE\n",
       "freq      14573"
      ]
     },
     "execution_count": 7,
     "metadata": {},
     "output_type": "execute_result"
    }
   ],
   "source": [
    "pm2.describe(include=['O'])"
   ]
  },
  {
   "cell_type": "code",
   "execution_count": 8,
   "metadata": {},
   "outputs": [
    {
     "data": {
      "text/plain": [
       "SE    14573\n",
       "NW    13484\n",
       "cv     8944\n",
       "NE     4756\n",
       "Name: wind_dir, dtype: int64"
      ]
     },
     "execution_count": 8,
     "metadata": {},
     "output_type": "execute_result"
    }
   ],
   "source": [
    "pm2.wind_dir.value_counts()"
   ]
  },
  {
   "cell_type": "markdown",
   "metadata": {},
   "source": [
    "2 - Suppose our data became corrupted after we downloaded it and values were missing.  Randomly insert 5000 `NaN` into the dataset accross all the columns."
   ]
  },
  {
   "cell_type": "code",
   "execution_count": 9,
   "metadata": {
    "collapsed": true
   },
   "outputs": [],
   "source": [
    "# setting the seed\n",
    "np.random.seed(0)\n",
    "# creating an array of dimension equal to the number of cells of the dataframe and with exactly 5000 ones\n",
    "dim = pm2.shape[0]*pm2.shape[1]\n",
    "arr = np.array([0]*(dim-5000) + [1]*5000)\n",
    "# shuffling and reshaping the array\n",
    "np.random.shuffle(arr)\n",
    "arr = arr.reshape(pm2.shape[0], pm2.shape[1])\n",
    "# looping through all the values and setting the corresponding position in the dataframe to nan\n",
    "it = np.nditer(arr, flags=['multi_index'])\n",
    "while not it.finished:\n",
    "    if it[0] == 1:\n",
    "        pm2.iloc[it.multi_index[0], it.multi_index[1]] = np.nan\n",
    "    it.iternext()"
   ]
  },
  {
   "cell_type": "code",
   "execution_count": null,
   "metadata": {
    "collapsed": true
   },
   "outputs": [],
   "source": [
    "# solution: inserted nans on all columns at random\n",
    "\n",
    "data_na = pm2.copy()\n",
    "nrow = data_na.shape[0]\n",
    "\n",
    "for col in data_na:\n",
    "    rows = np.random.randint(0, nrow, 5000)\n",
    "    data_na[col].iloc[rows] = np.nan"
   ]
  },
  {
   "cell_type": "code",
   "execution_count": 10,
   "metadata": {},
   "outputs": [
    {
     "name": "stdout",
     "output_type": "stream",
     "text": [
      "<class 'pandas.core.frame.DataFrame'>\n",
      "Int64Index: 41757 entries, 24 to 43823\n",
      "Data columns (total 13 columns):\n",
      "id             41355 non-null float64\n",
      "year           41375 non-null float64\n",
      "month          41379 non-null float64\n",
      "day            41380 non-null float64\n",
      "hour           41339 non-null float64\n",
      "pm2            41409 non-null float64\n",
      "dew_point      41376 non-null float64\n",
      "temperature    41364 non-null float64\n",
      "pressure       41357 non-null float64\n",
      "wind_dir       41379 non-null object\n",
      "wind_speed     41372 non-null float64\n",
      "hours_snow     41381 non-null float64\n",
      "hours_rain     41375 non-null float64\n",
      "dtypes: float64(12), object(1)\n",
      "memory usage: 4.5+ MB\n"
     ]
    }
   ],
   "source": [
    "pm2.info()"
   ]
  },
  {
   "cell_type": "markdown",
   "metadata": {},
   "source": [
    "3 - Which variables lend themselves to be in a regression model?  Select those variables, and then fit a regression model for each of the following imputation strategies, commenting on your results.\n",
    "    - Dropping all rows with at least 1 NA\n",
    "    - Dropping all rows with at least 3 NA\n",
    "    - Imputing 0\n",
    "    - Mean\n",
    "    - Median\n",
    "    - Mode"
   ]
  },
  {
   "cell_type": "code",
   "execution_count": 11,
   "metadata": {
    "collapsed": true
   },
   "outputs": [],
   "source": [
    "# I'm dropping wind_dir and id\n",
    "regr_cols = ['year', 'month', 'day', 'hour', 'dew_point', 'temperature',\n",
    "             'pressure', 'wind_speed', 'hours_snow', 'hours_rain', 'pm2']\n",
    "pm2_regr = pm2.loc[:, regr_cols]\n",
    "# in the solution there is no year, month, day and hour\n",
    "# also, he discards hours_snow and hours_rain (though they aren't binary or categorical)"
   ]
  },
  {
   "cell_type": "code",
   "execution_count": 12,
   "metadata": {
    "collapsed": true
   },
   "outputs": [],
   "source": [
    "# from sklearn.model_selection import train_test_split\n",
    "from sklearn.preprocessing import Imputer\n",
    "from sklearn.linear_model import LinearRegression"
   ]
  },
  {
   "cell_type": "code",
   "execution_count": 13,
   "metadata": {
    "collapsed": true
   },
   "outputs": [],
   "source": [
    "lr = LinearRegression()\n",
    "# X = pm2_regr.iloc[:, :-1]\n",
    "# y = pm2_regr.iloc[:, -1]\n",
    "# Xtrain, Xtest, ytrain, ytest = train_test_split(pm2_regr.iloc[:, :-1], pm2_regr.iloc[:, -1], test_size=0.2, random_state=0)"
   ]
  },
  {
   "cell_type": "code",
   "execution_count": 14,
   "metadata": {
    "scrolled": true
   },
   "outputs": [
    {
     "name": "stdout",
     "output_type": "stream",
     "text": [
      "<class 'pandas.core.frame.DataFrame'>\n",
      "Int64Index: 41757 entries, 24 to 43823\n",
      "Data columns (total 11 columns):\n",
      "year           41375 non-null float64\n",
      "month          41379 non-null float64\n",
      "day            41380 non-null float64\n",
      "hour           41339 non-null float64\n",
      "dew_point      41376 non-null float64\n",
      "temperature    41364 non-null float64\n",
      "pressure       41357 non-null float64\n",
      "wind_speed     41372 non-null float64\n",
      "hours_snow     41381 non-null float64\n",
      "hours_rain     41375 non-null float64\n",
      "pm2            41409 non-null float64\n",
      "dtypes: float64(11)\n",
      "memory usage: 3.8 MB\n"
     ]
    }
   ],
   "source": [
    "#just a note to self\n",
    "pm2_regr1 = pm2_regr.dropna(thresh=7) # same as dropna without thresh\n",
    "# thresh is the number of non nan columns required to mantain the rows\n",
    "pm2_regr1 = pm2_regr.dropna(thresh=5)\n",
    "pm2_regr1.info()"
   ]
  },
  {
   "cell_type": "markdown",
   "metadata": {},
   "source": [
    "Dropping all rows with at least 1 NA:"
   ]
  },
  {
   "cell_type": "code",
   "execution_count": 15,
   "metadata": {},
   "outputs": [
    {
     "data": {
      "text/plain": [
       "0.25931902790725536"
      ]
     },
     "execution_count": 15,
     "metadata": {},
     "output_type": "execute_result"
    }
   ],
   "source": [
    "lr.fit(pm2_regr.dropna().iloc[:, :-1], pm2_regr.dropna().iloc[:, -1])\n",
    "lr.score(pm2_regr.dropna().iloc[:, :-1], pm2_regr.dropna().iloc[:, -1])"
   ]
  },
  {
   "cell_type": "markdown",
   "metadata": {},
   "source": [
    "Dropping all row with at least 3 NA gets me an error because I have nans in some rows:"
   ]
  },
  {
   "cell_type": "code",
   "execution_count": 16,
   "metadata": {},
   "outputs": [
    {
     "ename": "ValueError",
     "evalue": "Input contains NaN, infinity or a value too large for dtype('float64').",
     "output_type": "error",
     "traceback": [
      "\u001b[1;31m---------------------------------------------------------------------------\u001b[0m",
      "\u001b[1;31mValueError\u001b[0m                                Traceback (most recent call last)",
      "\u001b[1;32m<ipython-input-16-9464fea15a73>\u001b[0m in \u001b[0;36m<module>\u001b[1;34m()\u001b[0m\n\u001b[1;32m----> 1\u001b[1;33m \u001b[0mlr\u001b[0m\u001b[1;33m.\u001b[0m\u001b[0mfit\u001b[0m\u001b[1;33m(\u001b[0m\u001b[0mpm2_regr\u001b[0m\u001b[1;33m.\u001b[0m\u001b[0mdropna\u001b[0m\u001b[1;33m(\u001b[0m\u001b[0mthresh\u001b[0m\u001b[1;33m=\u001b[0m\u001b[1;36m5\u001b[0m\u001b[1;33m)\u001b[0m\u001b[1;33m.\u001b[0m\u001b[0miloc\u001b[0m\u001b[1;33m[\u001b[0m\u001b[1;33m:\u001b[0m\u001b[1;33m,\u001b[0m \u001b[1;33m:\u001b[0m\u001b[1;33m-\u001b[0m\u001b[1;36m1\u001b[0m\u001b[1;33m]\u001b[0m\u001b[1;33m,\u001b[0m \u001b[0mpm2_regr\u001b[0m\u001b[1;33m.\u001b[0m\u001b[0mdropna\u001b[0m\u001b[1;33m(\u001b[0m\u001b[0mthresh\u001b[0m\u001b[1;33m=\u001b[0m\u001b[1;36m5\u001b[0m\u001b[1;33m)\u001b[0m\u001b[1;33m.\u001b[0m\u001b[0miloc\u001b[0m\u001b[1;33m[\u001b[0m\u001b[1;33m:\u001b[0m\u001b[1;33m,\u001b[0m \u001b[1;33m-\u001b[0m\u001b[1;36m1\u001b[0m\u001b[1;33m]\u001b[0m\u001b[1;33m)\u001b[0m\u001b[1;33m\u001b[0m\u001b[0m\n\u001b[0m\u001b[0;32m      2\u001b[0m \u001b[0mlr\u001b[0m\u001b[1;33m.\u001b[0m\u001b[0mscore\u001b[0m\u001b[1;33m(\u001b[0m\u001b[0mpm2_regr\u001b[0m\u001b[1;33m.\u001b[0m\u001b[0mdropna\u001b[0m\u001b[1;33m(\u001b[0m\u001b[0mthresh\u001b[0m\u001b[1;33m=\u001b[0m\u001b[1;36m5\u001b[0m\u001b[1;33m)\u001b[0m\u001b[1;33m.\u001b[0m\u001b[0miloc\u001b[0m\u001b[1;33m[\u001b[0m\u001b[1;33m:\u001b[0m\u001b[1;33m,\u001b[0m \u001b[1;33m:\u001b[0m\u001b[1;33m-\u001b[0m\u001b[1;36m1\u001b[0m\u001b[1;33m]\u001b[0m\u001b[1;33m,\u001b[0m \u001b[0mpm2_regr\u001b[0m\u001b[1;33m.\u001b[0m\u001b[0mdropna\u001b[0m\u001b[1;33m(\u001b[0m\u001b[0mthresh\u001b[0m\u001b[1;33m=\u001b[0m\u001b[1;36m5\u001b[0m\u001b[1;33m)\u001b[0m\u001b[1;33m.\u001b[0m\u001b[0miloc\u001b[0m\u001b[1;33m[\u001b[0m\u001b[1;33m:\u001b[0m\u001b[1;33m,\u001b[0m \u001b[1;33m-\u001b[0m\u001b[1;36m1\u001b[0m\u001b[1;33m]\u001b[0m\u001b[1;33m)\u001b[0m\u001b[1;33m\u001b[0m\u001b[0m\n",
      "\u001b[1;32m~\\AppData\\Local\\Continuum\\Anaconda3\\lib\\site-packages\\sklearn\\linear_model\\base.py\u001b[0m in \u001b[0;36mfit\u001b[1;34m(self, X, y, sample_weight)\u001b[0m\n\u001b[0;32m    480\u001b[0m         \u001b[0mn_jobs_\u001b[0m \u001b[1;33m=\u001b[0m \u001b[0mself\u001b[0m\u001b[1;33m.\u001b[0m\u001b[0mn_jobs\u001b[0m\u001b[1;33m\u001b[0m\u001b[0m\n\u001b[0;32m    481\u001b[0m         X, y = check_X_y(X, y, accept_sparse=['csr', 'csc', 'coo'],\n\u001b[1;32m--> 482\u001b[1;33m                          y_numeric=True, multi_output=True)\n\u001b[0m\u001b[0;32m    483\u001b[0m \u001b[1;33m\u001b[0m\u001b[0m\n\u001b[0;32m    484\u001b[0m         \u001b[1;32mif\u001b[0m \u001b[0msample_weight\u001b[0m \u001b[1;32mis\u001b[0m \u001b[1;32mnot\u001b[0m \u001b[1;32mNone\u001b[0m \u001b[1;32mand\u001b[0m \u001b[0mnp\u001b[0m\u001b[1;33m.\u001b[0m\u001b[0matleast_1d\u001b[0m\u001b[1;33m(\u001b[0m\u001b[0msample_weight\u001b[0m\u001b[1;33m)\u001b[0m\u001b[1;33m.\u001b[0m\u001b[0mndim\u001b[0m \u001b[1;33m>\u001b[0m \u001b[1;36m1\u001b[0m\u001b[1;33m:\u001b[0m\u001b[1;33m\u001b[0m\u001b[0m\n",
      "\u001b[1;32m~\\AppData\\Local\\Continuum\\Anaconda3\\lib\\site-packages\\sklearn\\utils\\validation.py\u001b[0m in \u001b[0;36mcheck_X_y\u001b[1;34m(X, y, accept_sparse, dtype, order, copy, force_all_finite, ensure_2d, allow_nd, multi_output, ensure_min_samples, ensure_min_features, y_numeric, warn_on_dtype, estimator)\u001b[0m\n\u001b[0;32m    540\u001b[0m     X = check_array(X, accept_sparse, dtype, order, copy, force_all_finite,\n\u001b[0;32m    541\u001b[0m                     \u001b[0mensure_2d\u001b[0m\u001b[1;33m,\u001b[0m \u001b[0mallow_nd\u001b[0m\u001b[1;33m,\u001b[0m \u001b[0mensure_min_samples\u001b[0m\u001b[1;33m,\u001b[0m\u001b[1;33m\u001b[0m\u001b[0m\n\u001b[1;32m--> 542\u001b[1;33m                     ensure_min_features, warn_on_dtype, estimator)\n\u001b[0m\u001b[0;32m    543\u001b[0m     \u001b[1;32mif\u001b[0m \u001b[0mmulti_output\u001b[0m\u001b[1;33m:\u001b[0m\u001b[1;33m\u001b[0m\u001b[0m\n\u001b[0;32m    544\u001b[0m         y = check_array(y, 'csr', force_all_finite=True, ensure_2d=False,\n",
      "\u001b[1;32m~\\AppData\\Local\\Continuum\\Anaconda3\\lib\\site-packages\\sklearn\\utils\\validation.py\u001b[0m in \u001b[0;36mcheck_array\u001b[1;34m(array, accept_sparse, dtype, order, copy, force_all_finite, ensure_2d, allow_nd, ensure_min_samples, ensure_min_features, warn_on_dtype, estimator)\u001b[0m\n\u001b[0;32m    420\u001b[0m                              % (array.ndim, estimator_name))\n\u001b[0;32m    421\u001b[0m         \u001b[1;32mif\u001b[0m \u001b[0mforce_all_finite\u001b[0m\u001b[1;33m:\u001b[0m\u001b[1;33m\u001b[0m\u001b[0m\n\u001b[1;32m--> 422\u001b[1;33m             \u001b[0m_assert_all_finite\u001b[0m\u001b[1;33m(\u001b[0m\u001b[0marray\u001b[0m\u001b[1;33m)\u001b[0m\u001b[1;33m\u001b[0m\u001b[0m\n\u001b[0m\u001b[0;32m    423\u001b[0m \u001b[1;33m\u001b[0m\u001b[0m\n\u001b[0;32m    424\u001b[0m     \u001b[0mshape_repr\u001b[0m \u001b[1;33m=\u001b[0m \u001b[0m_shape_repr\u001b[0m\u001b[1;33m(\u001b[0m\u001b[0marray\u001b[0m\u001b[1;33m.\u001b[0m\u001b[0mshape\u001b[0m\u001b[1;33m)\u001b[0m\u001b[1;33m\u001b[0m\u001b[0m\n",
      "\u001b[1;32m~\\AppData\\Local\\Continuum\\Anaconda3\\lib\\site-packages\\sklearn\\utils\\validation.py\u001b[0m in \u001b[0;36m_assert_all_finite\u001b[1;34m(X)\u001b[0m\n\u001b[0;32m     41\u001b[0m             and not np.isfinite(X).all()):\n\u001b[0;32m     42\u001b[0m         raise ValueError(\"Input contains NaN, infinity\"\n\u001b[1;32m---> 43\u001b[1;33m                          \" or a value too large for %r.\" % X.dtype)\n\u001b[0m\u001b[0;32m     44\u001b[0m \u001b[1;33m\u001b[0m\u001b[0m\n\u001b[0;32m     45\u001b[0m \u001b[1;33m\u001b[0m\u001b[0m\n",
      "\u001b[1;31mValueError\u001b[0m: Input contains NaN, infinity or a value too large for dtype('float64')."
     ]
    }
   ],
   "source": [
    "lr.fit(pm2_regr.dropna(thresh=5).iloc[:, :-1], pm2_regr.dropna(thresh=5).iloc[:, -1])\n",
    "lr.score(pm2_regr.dropna(thresh=5).iloc[:, :-1], pm2_regr.dropna(thresh=5).iloc[:, -1])"
   ]
  },
  {
   "cell_type": "markdown",
   "metadata": {},
   "source": [
    "Imputing 0:"
   ]
  },
  {
   "cell_type": "code",
   "execution_count": 17,
   "metadata": {},
   "outputs": [
    {
     "data": {
      "text/plain": [
       "0.23169738288430264"
      ]
     },
     "execution_count": 17,
     "metadata": {},
     "output_type": "execute_result"
    }
   ],
   "source": [
    "lr.fit(pm2_regr.fillna(0).iloc[:, :-1], pm2_regr.fillna(0).iloc[:, -1])\n",
    "lr.score(pm2_regr.fillna(0).iloc[:, :-1], pm2_regr.fillna(0).iloc[:, -1])"
   ]
  },
  {
   "cell_type": "markdown",
   "metadata": {},
   "source": [
    "Imputing the mean:"
   ]
  },
  {
   "cell_type": "code",
   "execution_count": 18,
   "metadata": {
    "collapsed": true
   },
   "outputs": [],
   "source": [
    "imp = Imputer(strategy='mean')\n",
    "pm2_regr_mean = imp.fit_transform(pm2_regr)"
   ]
  },
  {
   "cell_type": "code",
   "execution_count": 19,
   "metadata": {},
   "outputs": [
    {
     "data": {
      "text/plain": [
       "0.24398233090399435"
      ]
     },
     "execution_count": 19,
     "metadata": {},
     "output_type": "execute_result"
    }
   ],
   "source": [
    "lr.fit(pm2_regr_mean[:, :-1], pm2_regr_mean[:, -1])\n",
    "lr.score(pm2_regr_mean[:, :-1], pm2_regr_mean[:, -1])"
   ]
  },
  {
   "cell_type": "markdown",
   "metadata": {},
   "source": [
    "The median:"
   ]
  },
  {
   "cell_type": "code",
   "execution_count": 20,
   "metadata": {
    "collapsed": true
   },
   "outputs": [],
   "source": [
    "imp = Imputer(strategy='median')\n",
    "pm2_regr_median = imp.fit_transform(pm2_regr)"
   ]
  },
  {
   "cell_type": "code",
   "execution_count": 21,
   "metadata": {},
   "outputs": [
    {
     "data": {
      "text/plain": [
       "0.2432914069947677"
      ]
     },
     "execution_count": 21,
     "metadata": {},
     "output_type": "execute_result"
    }
   ],
   "source": [
    "lr.fit(pm2_regr_median[:, :-1], pm2_regr_median[:, -1])\n",
    "lr.score(pm2_regr_median[:, :-1], pm2_regr_median[:, -1])"
   ]
  },
  {
   "cell_type": "markdown",
   "metadata": {},
   "source": [
    "And the mode:"
   ]
  },
  {
   "cell_type": "code",
   "execution_count": 22,
   "metadata": {
    "collapsed": true
   },
   "outputs": [],
   "source": [
    "imp = Imputer(strategy='most_frequent')\n",
    "pm2_regr_mode = imp.fit_transform(pm2_regr)"
   ]
  },
  {
   "cell_type": "code",
   "execution_count": 23,
   "metadata": {},
   "outputs": [
    {
     "data": {
      "text/plain": [
       "0.22927544059073748"
      ]
     },
     "execution_count": 23,
     "metadata": {},
     "output_type": "execute_result"
    }
   ],
   "source": [
    "lr.fit(pm2_regr_mode[:, :-1], pm2_regr_mode[:, -1])\n",
    "lr.score(pm2_regr_mode[:, :-1], pm2_regr_mode[:, -1])"
   ]
  },
  {
   "cell_type": "markdown",
   "metadata": {},
   "source": [
    "The best result I get is from simply dropping all rows with NAs, mean and median gives similar performances while the mode is the worst imputation (surprisingly worst than imputing 0, which is quite random).\n",
    "\n",
    "Overall all strategies doesn't yield good results, I guess this fit is bad in general."
   ]
  },
  {
   "cell_type": "markdown",
   "metadata": {},
   "source": [
    "4 - Given the results in part (3), and your own ingenuity, come up with a new imputation strategy and try it out.  Comment on your results."
   ]
  },
  {
   "cell_type": "markdown",
   "metadata": {},
   "source": [
    "I'm going to drop rows with NAs for the columns year, month and hour, pm2; I'm imputing the median for all other columns:"
   ]
  },
  {
   "cell_type": "code",
   "execution_count": 24,
   "metadata": {
    "collapsed": true
   },
   "outputs": [],
   "source": [
    "pm2_regr_imp = pm2_regr.dropna(subset=['year', 'month', 'day', 'hour', 'pm2'])\n",
    "imp = Imputer(strategy = 'median')\n",
    "pm2_regr_imp = imp.fit_transform(pm2_regr_imp)"
   ]
  },
  {
   "cell_type": "code",
   "execution_count": 25,
   "metadata": {},
   "outputs": [
    {
     "data": {
      "text/plain": [
       "0.24626708848663914"
      ]
     },
     "execution_count": 25,
     "metadata": {},
     "output_type": "execute_result"
    }
   ],
   "source": [
    "lr.fit(pm2_regr_imp[:, :-1], pm2_regr_imp[:, -1])\n",
    "lr.score(pm2_regr_imp[:, :-1], pm2_regr_imp[:, -1])"
   ]
  },
  {
   "cell_type": "markdown",
   "metadata": {},
   "source": [
    "The result is slightly better than simply imputing mean or median, but still worse than dropping all NAs."
   ]
  },
  {
   "cell_type": "markdown",
   "metadata": {
    "collapsed": true
   },
   "source": [
    "## Categorical Data\n",
    "Sometimes your data will contain categorical variables which need to be handled carefully depending on the machine learning algorithm you choose to use.  Encoding categorical variables comes in two flavors: oridinal (ordered) and nominal (unordered) features.  In this exercise, you'll further explore the Beijing PM2.5 dataset, this time using categorical variables."
   ]
  },
  {
   "cell_type": "markdown",
   "metadata": {},
   "source": [
    "1 - Which variables are categorical?  Encode them properly, taking care to insure that they are properly classified as either ordinal or nominal."
   ]
  },
  {
   "cell_type": "markdown",
   "metadata": {},
   "source": [
    "There is one categorical variable:"
   ]
  },
  {
   "cell_type": "code",
   "execution_count": 26,
   "metadata": {
    "scrolled": true
   },
   "outputs": [
    {
     "data": {
      "text/html": [
       "<div>\n",
       "<style>\n",
       "    .dataframe thead tr:only-child th {\n",
       "        text-align: right;\n",
       "    }\n",
       "\n",
       "    .dataframe thead th {\n",
       "        text-align: left;\n",
       "    }\n",
       "\n",
       "    .dataframe tbody tr th {\n",
       "        vertical-align: top;\n",
       "    }\n",
       "</style>\n",
       "<table border=\"1\" class=\"dataframe\">\n",
       "  <thead>\n",
       "    <tr style=\"text-align: right;\">\n",
       "      <th></th>\n",
       "      <th>wind_dir</th>\n",
       "    </tr>\n",
       "  </thead>\n",
       "  <tbody>\n",
       "    <tr>\n",
       "      <th>count</th>\n",
       "      <td>41379</td>\n",
       "    </tr>\n",
       "    <tr>\n",
       "      <th>unique</th>\n",
       "      <td>4</td>\n",
       "    </tr>\n",
       "    <tr>\n",
       "      <th>top</th>\n",
       "      <td>SE</td>\n",
       "    </tr>\n",
       "    <tr>\n",
       "      <th>freq</th>\n",
       "      <td>14438</td>\n",
       "    </tr>\n",
       "  </tbody>\n",
       "</table>\n",
       "</div>"
      ],
      "text/plain": [
       "       wind_dir\n",
       "count     41379\n",
       "unique        4\n",
       "top          SE\n",
       "freq      14438"
      ]
     },
     "execution_count": 26,
     "metadata": {},
     "output_type": "execute_result"
    }
   ],
   "source": [
    "pm2.describe(include=['O'])"
   ]
  },
  {
   "cell_type": "markdown",
   "metadata": {},
   "source": [
    "The variable is nominal, so I'm going to use one-hot encoding:"
   ]
  },
  {
   "cell_type": "code",
   "execution_count": 27,
   "metadata": {
    "collapsed": true
   },
   "outputs": [],
   "source": [
    "# for simplicity I'm using pandas function\n",
    "pm2_enc = pd.get_dummies(pm2)"
   ]
  },
  {
   "cell_type": "code",
   "execution_count": 28,
   "metadata": {
    "collapsed": true
   },
   "outputs": [],
   "source": [
    "pm2_enc = pm2_enc.loc[:, regr_cols[:-1] + ['wind_dir_NE', 'wind_dir_NW', 'wind_dir_SE', 'wind_dir_cv'] + regr_cols[-1:]].dropna()"
   ]
  },
  {
   "cell_type": "code",
   "execution_count": null,
   "metadata": {
    "collapsed": true
   },
   "outputs": [],
   "source": [
    "# from solutions using sklearn:\n",
    "from sklearn.preprocessing import LabelEncoder, OneHotEncoder\n",
    "\n",
    "l_enc = LabelEncoder()\n",
    "oh_enc = OneHotEncoder(sparse=False)\n",
    "\n",
    "# change categorical data labels to integers\n",
    "data_sub = pm2.copy()\n",
    "data_sub.wind_dir = l_enc.fit_transform(data_sub.wind_dir)\n",
    "\n",
    "# one-hot encode\n",
    "dummies = pd.DataFrame(oh_enc.fit_transform(data_sub.wind_dir.values.reshape(-1, 1)), columns=l_enc.classes_)\n",
    "\n",
    "# join with original df\n",
    "data_sub = data_sub.drop('wind_dir', axis=1)\n",
    "data_sub = data_sub.join(dummies)\n",
    "data_sub.head()"
   ]
  },
  {
   "cell_type": "markdown",
   "metadata": {},
   "source": [
    "2 - Perform a multilinear regression, using the classified data, removing the `NA` values.  Comment on your results."
   ]
  },
  {
   "cell_type": "code",
   "execution_count": 29,
   "metadata": {},
   "outputs": [
    {
     "data": {
      "text/plain": [
       "0.27572117822430642"
      ]
     },
     "execution_count": 29,
     "metadata": {},
     "output_type": "execute_result"
    }
   ],
   "source": [
    "lr.fit(pm2_enc.iloc[:, :-1], pm2_enc.iloc[:, -1])\n",
    "lr.score(pm2_enc.iloc[:, :-1], pm2_enc.iloc[:, -1])"
   ]
  },
  {
   "cell_type": "markdown",
   "metadata": {},
   "source": [
    "The results are a bit better than before, but the performances are still very bad."
   ]
  },
  {
   "cell_type": "markdown",
   "metadata": {},
   "source": [
    "3 - Create a new encoding for days in which it rained, snowed, neither, and both, and then rerun the regression.  Are the results any better?"
   ]
  },
  {
   "cell_type": "code",
   "execution_count": 30,
   "metadata": {
    "collapsed": true
   },
   "outputs": [],
   "source": [
    "# hours_snow and hours_rain are cumulative across days, so I'm taking the max for each day to see if it snowed\n",
    "days = pm2_enc.groupby(['year', 'month', 'day'])['hours_snow', 'hours_rain'].max()\n",
    "# creating columns for the encodings\n",
    "days['snow'] = pd.Series(days['hours_snow'] > 0, dtype='int')\n",
    "days['rain'] = pd.Series(days['hours_rain'] > 0, dtype='int')\n",
    "days['rain_snow'] = pd.Series((days['hours_rain'] > 0) & (days['hours_snow'] > 0), dtype='int')\n",
    "days['no_rain_snow'] = pd.Series((days['hours_rain'] == 0) & (days['hours_snow'] == 0), dtype='int')\n",
    "# resetting index and dropping hours_snow and hours_rain\n",
    "days.reset_index(inplace=True)\n",
    "days.drop(['hours_snow', 'hours_rain'], inplace=True, axis=1)"
   ]
  },
  {
   "cell_type": "code",
   "execution_count": 31,
   "metadata": {
    "collapsed": true
   },
   "outputs": [],
   "source": [
    "# joining the dataframe with the new columns to the original one\n",
    "pm2_enc = pm2_enc.merge(days, left_on=['year', 'month', 'day'], right_on=['year', 'month', 'day'])"
   ]
  },
  {
   "cell_type": "code",
   "execution_count": 32,
   "metadata": {
    "scrolled": false
   },
   "outputs": [
    {
     "name": "stdout",
     "output_type": "stream",
     "text": [
      "<class 'pandas.core.frame.DataFrame'>\n",
      "Int64Index: 37718 entries, 0 to 37717\n",
      "Data columns (total 19 columns):\n",
      "year            37718 non-null float64\n",
      "month           37718 non-null float64\n",
      "day             37718 non-null float64\n",
      "hour            37718 non-null float64\n",
      "dew_point       37718 non-null float64\n",
      "temperature     37718 non-null float64\n",
      "pressure        37718 non-null float64\n",
      "wind_speed      37718 non-null float64\n",
      "hours_snow      37718 non-null float64\n",
      "hours_rain      37718 non-null float64\n",
      "wind_dir_NE     37718 non-null uint8\n",
      "wind_dir_NW     37718 non-null uint8\n",
      "wind_dir_SE     37718 non-null uint8\n",
      "wind_dir_cv     37718 non-null uint8\n",
      "pm2             37718 non-null float64\n",
      "snow            37718 non-null int32\n",
      "rain            37718 non-null int32\n",
      "rain_snow       37718 non-null int32\n",
      "no_rain_snow    37718 non-null int32\n",
      "dtypes: float64(11), int32(4), uint8(4)\n",
      "memory usage: 4.2 MB\n"
     ]
    }
   ],
   "source": [
    "pm2_enc.info()"
   ]
  },
  {
   "cell_type": "code",
   "execution_count": 33,
   "metadata": {},
   "outputs": [
    {
     "data": {
      "text/plain": [
       "1.0"
      ]
     },
     "execution_count": 33,
     "metadata": {},
     "output_type": "execute_result"
    }
   ],
   "source": [
    "lr.fit(pm2_enc.iloc[:, :-1], pm2_enc.iloc[:, -1])\n",
    "lr.score(pm2_enc.iloc[:, :-1], pm2_enc.iloc[:, -1])"
   ]
  },
  {
   "cell_type": "code",
   "execution_count": null,
   "metadata": {
    "collapsed": true
   },
   "outputs": [],
   "source": []
  },
  {
   "cell_type": "markdown",
   "metadata": {},
   "source": [
    "Wow, now the fit is perfect!"
   ]
  },
  {
   "cell_type": "markdown",
   "metadata": {},
   "source": [
    "4 - Create a new encoding for the quartile that a day falls under by wind speed and rerun the regression.  Comment on your results."
   ]
  },
  {
   "cell_type": "code",
   "execution_count": 34,
   "metadata": {
    "collapsed": true
   },
   "outputs": [],
   "source": [
    "# using pandas cut and subtracting 0.1 to include the min values\n",
    "pm2_enc['wind_speed_quartile'] = pd.cut(pm2_enc.wind_speed,\n",
    "                                        bins=list(pm2_enc.wind_speed.quantile([0])-0.1) + list(pm2_enc.wind_speed.quantile([0.25, 0.5, 0.75, 1])),\n",
    "                                        labels=[0.25, 0.5, 0.75, 1])"
   ]
  },
  {
   "cell_type": "code",
   "execution_count": null,
   "metadata": {
    "collapsed": true
   },
   "outputs": [],
   "source": [
    "# from solutions: using np.percentile:\n",
    "quartile = np.percentile(data_sub['wind_speed_quartile'], [25, 50, 75, 100])\n",
    "\n",
    "cat = []\n",
    "for row in range(len(data_sub)):\n",
    "    wind_speed = data_sub['wind_speed_quartile'].iloc[row]\n",
    "    if wind_speed <= quartile[0]:\n",
    "        cat.append('1st')\n",
    "    if wind_speed <= quartile[1]:\n",
    "        cat.append('2nd')\n",
    "    if wind_speed <= quartile[2]:\n",
    "        cat.append('3rd')\n",
    "    if wind_speed <= quartile[3]:\n",
    "        cat.append('4th')\n",
    "\n",
    "data_sub['wind_quart'] = cat\n",
    "# and then create dummies..."
   ]
  },
  {
   "cell_type": "code",
   "execution_count": null,
   "metadata": {
    "collapsed": true
   },
   "outputs": [],
   "source": [
    "# transforming the column in numeric\n",
    "pm2_enc.wind_speed_quartile = pd.to_numeric(pm2_enc.wind_speed_quartile)"
   ]
  },
  {
   "cell_type": "code",
   "execution_count": 30,
   "metadata": {},
   "outputs": [
    {
     "data": {
      "text/plain": [
       "0.52880432110447051"
      ]
     },
     "execution_count": 30,
     "metadata": {},
     "output_type": "execute_result"
    }
   ],
   "source": [
    "lr.fit(pm2_enc.iloc[:, :-1], pm2_enc.iloc[:, -1])\n",
    "lr.score(pm2_enc.iloc[:, :-1], pm2_enc.iloc[:, -1])"
   ]
  },
  {
   "cell_type": "markdown",
   "metadata": {},
   "source": [
    "The accuracy has gone down again after adding this new column, this may be due to the fact that this adds useless noise to the data or that this binning is too coarse maybe."
   ]
  },
  {
   "cell_type": "markdown",
   "metadata": {},
   "source": [
    "5 - Create a new encoding for deciles of the `DEWP` variable.  Then select the row containing the highest temperature, and using `Pandas` `category` data type, select all rows in a lesser `DEWP` decile than this row."
   ]
  },
  {
   "cell_type": "code",
   "execution_count": 31,
   "metadata": {
    "collapsed": true
   },
   "outputs": [],
   "source": [
    "# using pandas cut and subtracting 0.1 to include the min values\n",
    "pm2_enc['dew_point_decile'] = pd.cut(pm2_enc.dew_point,\n",
    "                                        bins=list(pm2_enc.dew_point.quantile([0])-0.1) + list(pm2_enc.dew_point.quantile([0.1, 0.2, 0.3, 0.4, 0.5, 0.6, 0.7, 0.8, 0.9, 1])))"
   ]
  },
  {
   "cell_type": "code",
   "execution_count": null,
   "metadata": {
    "collapsed": true
   },
   "outputs": [],
   "source": [
    "# from solutions: not using cut but creating new column and then:\n",
    "\n",
    "data_sub.dew_dec = pd.Categorical(data_sub.dew_dec, categories=data_sub.dew_dec.unique(), ordered=True)"
   ]
  },
  {
   "cell_type": "code",
   "execution_count": 32,
   "metadata": {
    "scrolled": true
   },
   "outputs": [
    {
     "name": "stdout",
     "output_type": "stream",
     "text": [
      "(2.0, 8.0]\n"
     ]
    },
    {
     "data": {
      "text/html": [
       "<div>\n",
       "<style>\n",
       "    .dataframe thead tr:only-child th {\n",
       "        text-align: right;\n",
       "    }\n",
       "\n",
       "    .dataframe thead th {\n",
       "        text-align: left;\n",
       "    }\n",
       "\n",
       "    .dataframe tbody tr th {\n",
       "        vertical-align: top;\n",
       "    }\n",
       "</style>\n",
       "<table border=\"1\" class=\"dataframe\">\n",
       "  <thead>\n",
       "    <tr style=\"text-align: right;\">\n",
       "      <th></th>\n",
       "      <th>year</th>\n",
       "      <th>month</th>\n",
       "      <th>day</th>\n",
       "      <th>hour</th>\n",
       "      <th>dew_point</th>\n",
       "      <th>temperature</th>\n",
       "      <th>pressure</th>\n",
       "      <th>wind_speed</th>\n",
       "      <th>hours_snow</th>\n",
       "      <th>hours_rain</th>\n",
       "      <th>...</th>\n",
       "      <th>wind_dir_NW</th>\n",
       "      <th>wind_dir_SE</th>\n",
       "      <th>wind_dir_cv</th>\n",
       "      <th>pm2</th>\n",
       "      <th>snow</th>\n",
       "      <th>rain</th>\n",
       "      <th>rain_snow</th>\n",
       "      <th>no_rain_snow</th>\n",
       "      <th>wind_speed_quartile</th>\n",
       "      <th>dew_point_decile</th>\n",
       "    </tr>\n",
       "  </thead>\n",
       "  <tbody>\n",
       "    <tr>\n",
       "      <th>0</th>\n",
       "      <td>2010.0</td>\n",
       "      <td>1.0</td>\n",
       "      <td>2.0</td>\n",
       "      <td>0.0</td>\n",
       "      <td>-16.0</td>\n",
       "      <td>-4.0</td>\n",
       "      <td>1020.0</td>\n",
       "      <td>1.79</td>\n",
       "      <td>0.0</td>\n",
       "      <td>0.0</td>\n",
       "      <td>...</td>\n",
       "      <td>0</td>\n",
       "      <td>1</td>\n",
       "      <td>0</td>\n",
       "      <td>129.0</td>\n",
       "      <td>1</td>\n",
       "      <td>0</td>\n",
       "      <td>0</td>\n",
       "      <td>0</td>\n",
       "      <td>0.25</td>\n",
       "      <td>(-18.0, -13.0]</td>\n",
       "    </tr>\n",
       "    <tr>\n",
       "      <th>1</th>\n",
       "      <td>2010.0</td>\n",
       "      <td>1.0</td>\n",
       "      <td>2.0</td>\n",
       "      <td>1.0</td>\n",
       "      <td>-15.0</td>\n",
       "      <td>-4.0</td>\n",
       "      <td>1020.0</td>\n",
       "      <td>2.68</td>\n",
       "      <td>0.0</td>\n",
       "      <td>0.0</td>\n",
       "      <td>...</td>\n",
       "      <td>0</td>\n",
       "      <td>1</td>\n",
       "      <td>0</td>\n",
       "      <td>148.0</td>\n",
       "      <td>1</td>\n",
       "      <td>0</td>\n",
       "      <td>0</td>\n",
       "      <td>0</td>\n",
       "      <td>0.50</td>\n",
       "      <td>(-18.0, -13.0]</td>\n",
       "    </tr>\n",
       "    <tr>\n",
       "      <th>2</th>\n",
       "      <td>2010.0</td>\n",
       "      <td>1.0</td>\n",
       "      <td>2.0</td>\n",
       "      <td>2.0</td>\n",
       "      <td>-11.0</td>\n",
       "      <td>-5.0</td>\n",
       "      <td>1021.0</td>\n",
       "      <td>3.57</td>\n",
       "      <td>0.0</td>\n",
       "      <td>0.0</td>\n",
       "      <td>...</td>\n",
       "      <td>0</td>\n",
       "      <td>1</td>\n",
       "      <td>0</td>\n",
       "      <td>159.0</td>\n",
       "      <td>1</td>\n",
       "      <td>0</td>\n",
       "      <td>0</td>\n",
       "      <td>0</td>\n",
       "      <td>0.50</td>\n",
       "      <td>(-13.0, -8.0]</td>\n",
       "    </tr>\n",
       "    <tr>\n",
       "      <th>3</th>\n",
       "      <td>2010.0</td>\n",
       "      <td>1.0</td>\n",
       "      <td>2.0</td>\n",
       "      <td>3.0</td>\n",
       "      <td>-7.0</td>\n",
       "      <td>-5.0</td>\n",
       "      <td>1022.0</td>\n",
       "      <td>5.36</td>\n",
       "      <td>1.0</td>\n",
       "      <td>0.0</td>\n",
       "      <td>...</td>\n",
       "      <td>0</td>\n",
       "      <td>1</td>\n",
       "      <td>0</td>\n",
       "      <td>181.0</td>\n",
       "      <td>1</td>\n",
       "      <td>0</td>\n",
       "      <td>0</td>\n",
       "      <td>0</td>\n",
       "      <td>0.50</td>\n",
       "      <td>(-8.0, -4.0]</td>\n",
       "    </tr>\n",
       "    <tr>\n",
       "      <th>4</th>\n",
       "      <td>2010.0</td>\n",
       "      <td>1.0</td>\n",
       "      <td>2.0</td>\n",
       "      <td>4.0</td>\n",
       "      <td>-7.0</td>\n",
       "      <td>-5.0</td>\n",
       "      <td>1022.0</td>\n",
       "      <td>6.25</td>\n",
       "      <td>2.0</td>\n",
       "      <td>0.0</td>\n",
       "      <td>...</td>\n",
       "      <td>0</td>\n",
       "      <td>1</td>\n",
       "      <td>0</td>\n",
       "      <td>138.0</td>\n",
       "      <td>1</td>\n",
       "      <td>0</td>\n",
       "      <td>0</td>\n",
       "      <td>0</td>\n",
       "      <td>0.75</td>\n",
       "      <td>(-8.0, -4.0]</td>\n",
       "    </tr>\n",
       "    <tr>\n",
       "      <th>5</th>\n",
       "      <td>2010.0</td>\n",
       "      <td>1.0</td>\n",
       "      <td>2.0</td>\n",
       "      <td>5.0</td>\n",
       "      <td>-7.0</td>\n",
       "      <td>-6.0</td>\n",
       "      <td>1022.0</td>\n",
       "      <td>7.14</td>\n",
       "      <td>3.0</td>\n",
       "      <td>0.0</td>\n",
       "      <td>...</td>\n",
       "      <td>0</td>\n",
       "      <td>1</td>\n",
       "      <td>0</td>\n",
       "      <td>109.0</td>\n",
       "      <td>1</td>\n",
       "      <td>0</td>\n",
       "      <td>0</td>\n",
       "      <td>0</td>\n",
       "      <td>0.75</td>\n",
       "      <td>(-8.0, -4.0]</td>\n",
       "    </tr>\n",
       "    <tr>\n",
       "      <th>6</th>\n",
       "      <td>2010.0</td>\n",
       "      <td>1.0</td>\n",
       "      <td>2.0</td>\n",
       "      <td>6.0</td>\n",
       "      <td>-7.0</td>\n",
       "      <td>-6.0</td>\n",
       "      <td>1023.0</td>\n",
       "      <td>8.93</td>\n",
       "      <td>4.0</td>\n",
       "      <td>0.0</td>\n",
       "      <td>...</td>\n",
       "      <td>0</td>\n",
       "      <td>1</td>\n",
       "      <td>0</td>\n",
       "      <td>105.0</td>\n",
       "      <td>1</td>\n",
       "      <td>0</td>\n",
       "      <td>0</td>\n",
       "      <td>0</td>\n",
       "      <td>0.75</td>\n",
       "      <td>(-8.0, -4.0]</td>\n",
       "    </tr>\n",
       "    <tr>\n",
       "      <th>7</th>\n",
       "      <td>2010.0</td>\n",
       "      <td>1.0</td>\n",
       "      <td>2.0</td>\n",
       "      <td>8.0</td>\n",
       "      <td>-8.0</td>\n",
       "      <td>-6.0</td>\n",
       "      <td>1024.0</td>\n",
       "      <td>12.51</td>\n",
       "      <td>0.0</td>\n",
       "      <td>0.0</td>\n",
       "      <td>...</td>\n",
       "      <td>0</td>\n",
       "      <td>1</td>\n",
       "      <td>0</td>\n",
       "      <td>120.0</td>\n",
       "      <td>1</td>\n",
       "      <td>0</td>\n",
       "      <td>0</td>\n",
       "      <td>0</td>\n",
       "      <td>0.75</td>\n",
       "      <td>(-13.0, -8.0]</td>\n",
       "    </tr>\n",
       "    <tr>\n",
       "      <th>8</th>\n",
       "      <td>2010.0</td>\n",
       "      <td>1.0</td>\n",
       "      <td>2.0</td>\n",
       "      <td>9.0</td>\n",
       "      <td>-7.0</td>\n",
       "      <td>-5.0</td>\n",
       "      <td>1025.0</td>\n",
       "      <td>14.30</td>\n",
       "      <td>0.0</td>\n",
       "      <td>0.0</td>\n",
       "      <td>...</td>\n",
       "      <td>0</td>\n",
       "      <td>1</td>\n",
       "      <td>0</td>\n",
       "      <td>132.0</td>\n",
       "      <td>1</td>\n",
       "      <td>0</td>\n",
       "      <td>0</td>\n",
       "      <td>0</td>\n",
       "      <td>0.75</td>\n",
       "      <td>(-8.0, -4.0]</td>\n",
       "    </tr>\n",
       "    <tr>\n",
       "      <th>9</th>\n",
       "      <td>2010.0</td>\n",
       "      <td>1.0</td>\n",
       "      <td>2.0</td>\n",
       "      <td>10.0</td>\n",
       "      <td>-7.0</td>\n",
       "      <td>-5.0</td>\n",
       "      <td>1026.0</td>\n",
       "      <td>17.43</td>\n",
       "      <td>1.0</td>\n",
       "      <td>0.0</td>\n",
       "      <td>...</td>\n",
       "      <td>0</td>\n",
       "      <td>1</td>\n",
       "      <td>0</td>\n",
       "      <td>140.0</td>\n",
       "      <td>1</td>\n",
       "      <td>0</td>\n",
       "      <td>0</td>\n",
       "      <td>0</td>\n",
       "      <td>0.75</td>\n",
       "      <td>(-8.0, -4.0]</td>\n",
       "    </tr>\n",
       "    <tr>\n",
       "      <th>10</th>\n",
       "      <td>2010.0</td>\n",
       "      <td>1.0</td>\n",
       "      <td>2.0</td>\n",
       "      <td>11.0</td>\n",
       "      <td>-8.0</td>\n",
       "      <td>-5.0</td>\n",
       "      <td>1026.0</td>\n",
       "      <td>20.56</td>\n",
       "      <td>0.0</td>\n",
       "      <td>0.0</td>\n",
       "      <td>...</td>\n",
       "      <td>0</td>\n",
       "      <td>1</td>\n",
       "      <td>0</td>\n",
       "      <td>152.0</td>\n",
       "      <td>1</td>\n",
       "      <td>0</td>\n",
       "      <td>0</td>\n",
       "      <td>0</td>\n",
       "      <td>0.75</td>\n",
       "      <td>(-13.0, -8.0]</td>\n",
       "    </tr>\n",
       "    <tr>\n",
       "      <th>11</th>\n",
       "      <td>2010.0</td>\n",
       "      <td>1.0</td>\n",
       "      <td>2.0</td>\n",
       "      <td>12.0</td>\n",
       "      <td>-8.0</td>\n",
       "      <td>-5.0</td>\n",
       "      <td>1026.0</td>\n",
       "      <td>23.69</td>\n",
       "      <td>0.0</td>\n",
       "      <td>0.0</td>\n",
       "      <td>...</td>\n",
       "      <td>0</td>\n",
       "      <td>1</td>\n",
       "      <td>0</td>\n",
       "      <td>148.0</td>\n",
       "      <td>1</td>\n",
       "      <td>0</td>\n",
       "      <td>0</td>\n",
       "      <td>0</td>\n",
       "      <td>1.00</td>\n",
       "      <td>(-13.0, -8.0]</td>\n",
       "    </tr>\n",
       "    <tr>\n",
       "      <th>12</th>\n",
       "      <td>2010.0</td>\n",
       "      <td>1.0</td>\n",
       "      <td>2.0</td>\n",
       "      <td>13.0</td>\n",
       "      <td>-8.0</td>\n",
       "      <td>-5.0</td>\n",
       "      <td>1025.0</td>\n",
       "      <td>27.71</td>\n",
       "      <td>0.0</td>\n",
       "      <td>0.0</td>\n",
       "      <td>...</td>\n",
       "      <td>0</td>\n",
       "      <td>1</td>\n",
       "      <td>0</td>\n",
       "      <td>164.0</td>\n",
       "      <td>1</td>\n",
       "      <td>0</td>\n",
       "      <td>0</td>\n",
       "      <td>0</td>\n",
       "      <td>1.00</td>\n",
       "      <td>(-13.0, -8.0]</td>\n",
       "    </tr>\n",
       "    <tr>\n",
       "      <th>13</th>\n",
       "      <td>2010.0</td>\n",
       "      <td>1.0</td>\n",
       "      <td>2.0</td>\n",
       "      <td>14.0</td>\n",
       "      <td>-9.0</td>\n",
       "      <td>-5.0</td>\n",
       "      <td>1025.0</td>\n",
       "      <td>31.73</td>\n",
       "      <td>0.0</td>\n",
       "      <td>0.0</td>\n",
       "      <td>...</td>\n",
       "      <td>0</td>\n",
       "      <td>1</td>\n",
       "      <td>0</td>\n",
       "      <td>158.0</td>\n",
       "      <td>1</td>\n",
       "      <td>0</td>\n",
       "      <td>0</td>\n",
       "      <td>0</td>\n",
       "      <td>1.00</td>\n",
       "      <td>(-13.0, -8.0]</td>\n",
       "    </tr>\n",
       "    <tr>\n",
       "      <th>14</th>\n",
       "      <td>2010.0</td>\n",
       "      <td>1.0</td>\n",
       "      <td>2.0</td>\n",
       "      <td>15.0</td>\n",
       "      <td>-9.0</td>\n",
       "      <td>-5.0</td>\n",
       "      <td>1025.0</td>\n",
       "      <td>35.75</td>\n",
       "      <td>0.0</td>\n",
       "      <td>0.0</td>\n",
       "      <td>...</td>\n",
       "      <td>0</td>\n",
       "      <td>1</td>\n",
       "      <td>0</td>\n",
       "      <td>154.0</td>\n",
       "      <td>1</td>\n",
       "      <td>0</td>\n",
       "      <td>0</td>\n",
       "      <td>0</td>\n",
       "      <td>1.00</td>\n",
       "      <td>(-13.0, -8.0]</td>\n",
       "    </tr>\n",
       "    <tr>\n",
       "      <th>15</th>\n",
       "      <td>2010.0</td>\n",
       "      <td>1.0</td>\n",
       "      <td>2.0</td>\n",
       "      <td>16.0</td>\n",
       "      <td>-9.0</td>\n",
       "      <td>-5.0</td>\n",
       "      <td>1026.0</td>\n",
       "      <td>37.54</td>\n",
       "      <td>0.0</td>\n",
       "      <td>0.0</td>\n",
       "      <td>...</td>\n",
       "      <td>0</td>\n",
       "      <td>1</td>\n",
       "      <td>0</td>\n",
       "      <td>159.0</td>\n",
       "      <td>1</td>\n",
       "      <td>0</td>\n",
       "      <td>0</td>\n",
       "      <td>0</td>\n",
       "      <td>1.00</td>\n",
       "      <td>(-13.0, -8.0]</td>\n",
       "    </tr>\n",
       "    <tr>\n",
       "      <th>16</th>\n",
       "      <td>2010.0</td>\n",
       "      <td>1.0</td>\n",
       "      <td>2.0</td>\n",
       "      <td>17.0</td>\n",
       "      <td>-8.0</td>\n",
       "      <td>-5.0</td>\n",
       "      <td>1027.0</td>\n",
       "      <td>39.33</td>\n",
       "      <td>0.0</td>\n",
       "      <td>0.0</td>\n",
       "      <td>...</td>\n",
       "      <td>0</td>\n",
       "      <td>1</td>\n",
       "      <td>0</td>\n",
       "      <td>164.0</td>\n",
       "      <td>1</td>\n",
       "      <td>0</td>\n",
       "      <td>0</td>\n",
       "      <td>0</td>\n",
       "      <td>1.00</td>\n",
       "      <td>(-13.0, -8.0]</td>\n",
       "    </tr>\n",
       "    <tr>\n",
       "      <th>17</th>\n",
       "      <td>2010.0</td>\n",
       "      <td>1.0</td>\n",
       "      <td>2.0</td>\n",
       "      <td>18.0</td>\n",
       "      <td>-8.0</td>\n",
       "      <td>-5.0</td>\n",
       "      <td>1027.0</td>\n",
       "      <td>42.46</td>\n",
       "      <td>0.0</td>\n",
       "      <td>0.0</td>\n",
       "      <td>...</td>\n",
       "      <td>0</td>\n",
       "      <td>1</td>\n",
       "      <td>0</td>\n",
       "      <td>170.0</td>\n",
       "      <td>1</td>\n",
       "      <td>0</td>\n",
       "      <td>0</td>\n",
       "      <td>0</td>\n",
       "      <td>1.00</td>\n",
       "      <td>(-13.0, -8.0]</td>\n",
       "    </tr>\n",
       "    <tr>\n",
       "      <th>18</th>\n",
       "      <td>2010.0</td>\n",
       "      <td>1.0</td>\n",
       "      <td>2.0</td>\n",
       "      <td>19.0</td>\n",
       "      <td>-8.0</td>\n",
       "      <td>-5.0</td>\n",
       "      <td>1028.0</td>\n",
       "      <td>44.25</td>\n",
       "      <td>0.0</td>\n",
       "      <td>0.0</td>\n",
       "      <td>...</td>\n",
       "      <td>0</td>\n",
       "      <td>1</td>\n",
       "      <td>0</td>\n",
       "      <td>149.0</td>\n",
       "      <td>1</td>\n",
       "      <td>0</td>\n",
       "      <td>0</td>\n",
       "      <td>0</td>\n",
       "      <td>1.00</td>\n",
       "      <td>(-13.0, -8.0]</td>\n",
       "    </tr>\n",
       "    <tr>\n",
       "      <th>19</th>\n",
       "      <td>2010.0</td>\n",
       "      <td>1.0</td>\n",
       "      <td>2.0</td>\n",
       "      <td>20.0</td>\n",
       "      <td>-7.0</td>\n",
       "      <td>-5.0</td>\n",
       "      <td>1028.0</td>\n",
       "      <td>46.04</td>\n",
       "      <td>0.0</td>\n",
       "      <td>0.0</td>\n",
       "      <td>...</td>\n",
       "      <td>0</td>\n",
       "      <td>1</td>\n",
       "      <td>0</td>\n",
       "      <td>154.0</td>\n",
       "      <td>1</td>\n",
       "      <td>0</td>\n",
       "      <td>0</td>\n",
       "      <td>0</td>\n",
       "      <td>1.00</td>\n",
       "      <td>(-8.0, -4.0]</td>\n",
       "    </tr>\n",
       "    <tr>\n",
       "      <th>20</th>\n",
       "      <td>2010.0</td>\n",
       "      <td>1.0</td>\n",
       "      <td>2.0</td>\n",
       "      <td>22.0</td>\n",
       "      <td>-8.0</td>\n",
       "      <td>-6.0</td>\n",
       "      <td>1028.0</td>\n",
       "      <td>52.30</td>\n",
       "      <td>2.0</td>\n",
       "      <td>0.0</td>\n",
       "      <td>...</td>\n",
       "      <td>0</td>\n",
       "      <td>1</td>\n",
       "      <td>0</td>\n",
       "      <td>156.0</td>\n",
       "      <td>1</td>\n",
       "      <td>0</td>\n",
       "      <td>0</td>\n",
       "      <td>0</td>\n",
       "      <td>1.00</td>\n",
       "      <td>(-13.0, -8.0]</td>\n",
       "    </tr>\n",
       "    <tr>\n",
       "      <th>21</th>\n",
       "      <td>2010.0</td>\n",
       "      <td>1.0</td>\n",
       "      <td>2.0</td>\n",
       "      <td>23.0</td>\n",
       "      <td>-8.0</td>\n",
       "      <td>-6.0</td>\n",
       "      <td>1027.0</td>\n",
       "      <td>55.43</td>\n",
       "      <td>3.0</td>\n",
       "      <td>0.0</td>\n",
       "      <td>...</td>\n",
       "      <td>0</td>\n",
       "      <td>1</td>\n",
       "      <td>0</td>\n",
       "      <td>126.0</td>\n",
       "      <td>1</td>\n",
       "      <td>0</td>\n",
       "      <td>0</td>\n",
       "      <td>0</td>\n",
       "      <td>1.00</td>\n",
       "      <td>(-13.0, -8.0]</td>\n",
       "    </tr>\n",
       "    <tr>\n",
       "      <th>22</th>\n",
       "      <td>2010.0</td>\n",
       "      <td>1.0</td>\n",
       "      <td>3.0</td>\n",
       "      <td>0.0</td>\n",
       "      <td>-7.0</td>\n",
       "      <td>-6.0</td>\n",
       "      <td>1027.0</td>\n",
       "      <td>58.56</td>\n",
       "      <td>4.0</td>\n",
       "      <td>0.0</td>\n",
       "      <td>...</td>\n",
       "      <td>0</td>\n",
       "      <td>1</td>\n",
       "      <td>0</td>\n",
       "      <td>90.0</td>\n",
       "      <td>1</td>\n",
       "      <td>0</td>\n",
       "      <td>0</td>\n",
       "      <td>0</td>\n",
       "      <td>1.00</td>\n",
       "      <td>(-8.0, -4.0]</td>\n",
       "    </tr>\n",
       "    <tr>\n",
       "      <th>23</th>\n",
       "      <td>2010.0</td>\n",
       "      <td>1.0</td>\n",
       "      <td>3.0</td>\n",
       "      <td>2.0</td>\n",
       "      <td>-8.0</td>\n",
       "      <td>-7.0</td>\n",
       "      <td>1026.0</td>\n",
       "      <td>65.71</td>\n",
       "      <td>6.0</td>\n",
       "      <td>0.0</td>\n",
       "      <td>...</td>\n",
       "      <td>0</td>\n",
       "      <td>1</td>\n",
       "      <td>0</td>\n",
       "      <td>65.0</td>\n",
       "      <td>1</td>\n",
       "      <td>0</td>\n",
       "      <td>0</td>\n",
       "      <td>0</td>\n",
       "      <td>1.00</td>\n",
       "      <td>(-13.0, -8.0]</td>\n",
       "    </tr>\n",
       "    <tr>\n",
       "      <th>24</th>\n",
       "      <td>2010.0</td>\n",
       "      <td>1.0</td>\n",
       "      <td>3.0</td>\n",
       "      <td>3.0</td>\n",
       "      <td>-8.0</td>\n",
       "      <td>-7.0</td>\n",
       "      <td>1025.0</td>\n",
       "      <td>68.84</td>\n",
       "      <td>7.0</td>\n",
       "      <td>0.0</td>\n",
       "      <td>...</td>\n",
       "      <td>0</td>\n",
       "      <td>1</td>\n",
       "      <td>0</td>\n",
       "      <td>55.0</td>\n",
       "      <td>1</td>\n",
       "      <td>0</td>\n",
       "      <td>0</td>\n",
       "      <td>0</td>\n",
       "      <td>1.00</td>\n",
       "      <td>(-13.0, -8.0]</td>\n",
       "    </tr>\n",
       "    <tr>\n",
       "      <th>25</th>\n",
       "      <td>2010.0</td>\n",
       "      <td>1.0</td>\n",
       "      <td>3.0</td>\n",
       "      <td>4.0</td>\n",
       "      <td>-8.0</td>\n",
       "      <td>-7.0</td>\n",
       "      <td>1024.0</td>\n",
       "      <td>72.86</td>\n",
       "      <td>8.0</td>\n",
       "      <td>0.0</td>\n",
       "      <td>...</td>\n",
       "      <td>0</td>\n",
       "      <td>1</td>\n",
       "      <td>0</td>\n",
       "      <td>65.0</td>\n",
       "      <td>1</td>\n",
       "      <td>0</td>\n",
       "      <td>0</td>\n",
       "      <td>0</td>\n",
       "      <td>1.00</td>\n",
       "      <td>(-13.0, -8.0]</td>\n",
       "    </tr>\n",
       "    <tr>\n",
       "      <th>26</th>\n",
       "      <td>2010.0</td>\n",
       "      <td>1.0</td>\n",
       "      <td>3.0</td>\n",
       "      <td>5.0</td>\n",
       "      <td>-9.0</td>\n",
       "      <td>-8.0</td>\n",
       "      <td>1024.0</td>\n",
       "      <td>76.88</td>\n",
       "      <td>9.0</td>\n",
       "      <td>0.0</td>\n",
       "      <td>...</td>\n",
       "      <td>0</td>\n",
       "      <td>1</td>\n",
       "      <td>0</td>\n",
       "      <td>83.0</td>\n",
       "      <td>1</td>\n",
       "      <td>0</td>\n",
       "      <td>0</td>\n",
       "      <td>0</td>\n",
       "      <td>1.00</td>\n",
       "      <td>(-13.0, -8.0]</td>\n",
       "    </tr>\n",
       "    <tr>\n",
       "      <th>27</th>\n",
       "      <td>2010.0</td>\n",
       "      <td>1.0</td>\n",
       "      <td>3.0</td>\n",
       "      <td>6.0</td>\n",
       "      <td>-10.0</td>\n",
       "      <td>-8.0</td>\n",
       "      <td>1024.0</td>\n",
       "      <td>80.90</td>\n",
       "      <td>10.0</td>\n",
       "      <td>0.0</td>\n",
       "      <td>...</td>\n",
       "      <td>0</td>\n",
       "      <td>1</td>\n",
       "      <td>0</td>\n",
       "      <td>91.0</td>\n",
       "      <td>1</td>\n",
       "      <td>0</td>\n",
       "      <td>0</td>\n",
       "      <td>0</td>\n",
       "      <td>1.00</td>\n",
       "      <td>(-13.0, -8.0]</td>\n",
       "    </tr>\n",
       "    <tr>\n",
       "      <th>28</th>\n",
       "      <td>2010.0</td>\n",
       "      <td>1.0</td>\n",
       "      <td>3.0</td>\n",
       "      <td>7.0</td>\n",
       "      <td>-10.0</td>\n",
       "      <td>-9.0</td>\n",
       "      <td>1024.0</td>\n",
       "      <td>84.92</td>\n",
       "      <td>11.0</td>\n",
       "      <td>0.0</td>\n",
       "      <td>...</td>\n",
       "      <td>0</td>\n",
       "      <td>1</td>\n",
       "      <td>0</td>\n",
       "      <td>86.0</td>\n",
       "      <td>1</td>\n",
       "      <td>0</td>\n",
       "      <td>0</td>\n",
       "      <td>0</td>\n",
       "      <td>1.00</td>\n",
       "      <td>(-13.0, -8.0]</td>\n",
       "    </tr>\n",
       "    <tr>\n",
       "      <th>29</th>\n",
       "      <td>2010.0</td>\n",
       "      <td>1.0</td>\n",
       "      <td>3.0</td>\n",
       "      <td>8.0</td>\n",
       "      <td>-10.0</td>\n",
       "      <td>-9.0</td>\n",
       "      <td>1024.0</td>\n",
       "      <td>89.84</td>\n",
       "      <td>12.0</td>\n",
       "      <td>0.0</td>\n",
       "      <td>...</td>\n",
       "      <td>0</td>\n",
       "      <td>1</td>\n",
       "      <td>0</td>\n",
       "      <td>82.0</td>\n",
       "      <td>1</td>\n",
       "      <td>0</td>\n",
       "      <td>0</td>\n",
       "      <td>0</td>\n",
       "      <td>1.00</td>\n",
       "      <td>(-13.0, -8.0]</td>\n",
       "    </tr>\n",
       "    <tr>\n",
       "      <th>...</th>\n",
       "      <td>...</td>\n",
       "      <td>...</td>\n",
       "      <td>...</td>\n",
       "      <td>...</td>\n",
       "      <td>...</td>\n",
       "      <td>...</td>\n",
       "      <td>...</td>\n",
       "      <td>...</td>\n",
       "      <td>...</td>\n",
       "      <td>...</td>\n",
       "      <td>...</td>\n",
       "      <td>...</td>\n",
       "      <td>...</td>\n",
       "      <td>...</td>\n",
       "      <td>...</td>\n",
       "      <td>...</td>\n",
       "      <td>...</td>\n",
       "      <td>...</td>\n",
       "      <td>...</td>\n",
       "      <td>...</td>\n",
       "      <td>...</td>\n",
       "    </tr>\n",
       "    <tr>\n",
       "      <th>37688</th>\n",
       "      <td>2014.0</td>\n",
       "      <td>12.0</td>\n",
       "      <td>30.0</td>\n",
       "      <td>16.0</td>\n",
       "      <td>-14.0</td>\n",
       "      <td>6.0</td>\n",
       "      <td>1018.0</td>\n",
       "      <td>0.89</td>\n",
       "      <td>0.0</td>\n",
       "      <td>0.0</td>\n",
       "      <td>...</td>\n",
       "      <td>0</td>\n",
       "      <td>0</td>\n",
       "      <td>1</td>\n",
       "      <td>60.0</td>\n",
       "      <td>0</td>\n",
       "      <td>0</td>\n",
       "      <td>0</td>\n",
       "      <td>1</td>\n",
       "      <td>0.25</td>\n",
       "      <td>(-18.0, -13.0]</td>\n",
       "    </tr>\n",
       "    <tr>\n",
       "      <th>37689</th>\n",
       "      <td>2014.0</td>\n",
       "      <td>12.0</td>\n",
       "      <td>30.0</td>\n",
       "      <td>17.0</td>\n",
       "      <td>-14.0</td>\n",
       "      <td>5.0</td>\n",
       "      <td>1019.0</td>\n",
       "      <td>1.79</td>\n",
       "      <td>0.0</td>\n",
       "      <td>0.0</td>\n",
       "      <td>...</td>\n",
       "      <td>0</td>\n",
       "      <td>0</td>\n",
       "      <td>0</td>\n",
       "      <td>63.0</td>\n",
       "      <td>0</td>\n",
       "      <td>0</td>\n",
       "      <td>0</td>\n",
       "      <td>1</td>\n",
       "      <td>0.25</td>\n",
       "      <td>(-18.0, -13.0]</td>\n",
       "    </tr>\n",
       "    <tr>\n",
       "      <th>37690</th>\n",
       "      <td>2014.0</td>\n",
       "      <td>12.0</td>\n",
       "      <td>30.0</td>\n",
       "      <td>18.0</td>\n",
       "      <td>-13.0</td>\n",
       "      <td>2.0</td>\n",
       "      <td>1020.0</td>\n",
       "      <td>3.58</td>\n",
       "      <td>0.0</td>\n",
       "      <td>0.0</td>\n",
       "      <td>...</td>\n",
       "      <td>0</td>\n",
       "      <td>0</td>\n",
       "      <td>0</td>\n",
       "      <td>79.0</td>\n",
       "      <td>0</td>\n",
       "      <td>0</td>\n",
       "      <td>0</td>\n",
       "      <td>1</td>\n",
       "      <td>0.50</td>\n",
       "      <td>(-18.0, -13.0]</td>\n",
       "    </tr>\n",
       "    <tr>\n",
       "      <th>37691</th>\n",
       "      <td>2014.0</td>\n",
       "      <td>12.0</td>\n",
       "      <td>30.0</td>\n",
       "      <td>19.0</td>\n",
       "      <td>-8.0</td>\n",
       "      <td>6.0</td>\n",
       "      <td>1021.0</td>\n",
       "      <td>5.81</td>\n",
       "      <td>0.0</td>\n",
       "      <td>0.0</td>\n",
       "      <td>...</td>\n",
       "      <td>1</td>\n",
       "      <td>0</td>\n",
       "      <td>0</td>\n",
       "      <td>35.0</td>\n",
       "      <td>0</td>\n",
       "      <td>0</td>\n",
       "      <td>0</td>\n",
       "      <td>1</td>\n",
       "      <td>0.75</td>\n",
       "      <td>(-13.0, -8.0]</td>\n",
       "    </tr>\n",
       "    <tr>\n",
       "      <th>37692</th>\n",
       "      <td>2014.0</td>\n",
       "      <td>12.0</td>\n",
       "      <td>30.0</td>\n",
       "      <td>20.0</td>\n",
       "      <td>-11.0</td>\n",
       "      <td>5.0</td>\n",
       "      <td>1022.0</td>\n",
       "      <td>12.96</td>\n",
       "      <td>0.0</td>\n",
       "      <td>0.0</td>\n",
       "      <td>...</td>\n",
       "      <td>1</td>\n",
       "      <td>0</td>\n",
       "      <td>0</td>\n",
       "      <td>26.0</td>\n",
       "      <td>0</td>\n",
       "      <td>0</td>\n",
       "      <td>0</td>\n",
       "      <td>1</td>\n",
       "      <td>0.75</td>\n",
       "      <td>(-13.0, -8.0]</td>\n",
       "    </tr>\n",
       "    <tr>\n",
       "      <th>37693</th>\n",
       "      <td>2014.0</td>\n",
       "      <td>12.0</td>\n",
       "      <td>30.0</td>\n",
       "      <td>21.0</td>\n",
       "      <td>-12.0</td>\n",
       "      <td>4.0</td>\n",
       "      <td>1023.0</td>\n",
       "      <td>21.90</td>\n",
       "      <td>0.0</td>\n",
       "      <td>0.0</td>\n",
       "      <td>...</td>\n",
       "      <td>1</td>\n",
       "      <td>0</td>\n",
       "      <td>0</td>\n",
       "      <td>20.0</td>\n",
       "      <td>0</td>\n",
       "      <td>0</td>\n",
       "      <td>0</td>\n",
       "      <td>1</td>\n",
       "      <td>0.75</td>\n",
       "      <td>(-13.0, -8.0]</td>\n",
       "    </tr>\n",
       "    <tr>\n",
       "      <th>37694</th>\n",
       "      <td>2014.0</td>\n",
       "      <td>12.0</td>\n",
       "      <td>30.0</td>\n",
       "      <td>22.0</td>\n",
       "      <td>-21.0</td>\n",
       "      <td>2.0</td>\n",
       "      <td>1025.0</td>\n",
       "      <td>31.73</td>\n",
       "      <td>0.0</td>\n",
       "      <td>0.0</td>\n",
       "      <td>...</td>\n",
       "      <td>1</td>\n",
       "      <td>0</td>\n",
       "      <td>0</td>\n",
       "      <td>8.0</td>\n",
       "      <td>0</td>\n",
       "      <td>0</td>\n",
       "      <td>0</td>\n",
       "      <td>1</td>\n",
       "      <td>1.00</td>\n",
       "      <td>(-40.1, -18.0]</td>\n",
       "    </tr>\n",
       "    <tr>\n",
       "      <th>37695</th>\n",
       "      <td>2014.0</td>\n",
       "      <td>12.0</td>\n",
       "      <td>30.0</td>\n",
       "      <td>23.0</td>\n",
       "      <td>-22.0</td>\n",
       "      <td>0.0</td>\n",
       "      <td>1026.0</td>\n",
       "      <td>38.88</td>\n",
       "      <td>0.0</td>\n",
       "      <td>0.0</td>\n",
       "      <td>...</td>\n",
       "      <td>1</td>\n",
       "      <td>0</td>\n",
       "      <td>0</td>\n",
       "      <td>16.0</td>\n",
       "      <td>0</td>\n",
       "      <td>0</td>\n",
       "      <td>0</td>\n",
       "      <td>1</td>\n",
       "      <td>1.00</td>\n",
       "      <td>(-40.1, -18.0]</td>\n",
       "    </tr>\n",
       "    <tr>\n",
       "      <th>37696</th>\n",
       "      <td>2014.0</td>\n",
       "      <td>12.0</td>\n",
       "      <td>31.0</td>\n",
       "      <td>0.0</td>\n",
       "      <td>-19.0</td>\n",
       "      <td>-1.0</td>\n",
       "      <td>1027.0</td>\n",
       "      <td>51.84</td>\n",
       "      <td>0.0</td>\n",
       "      <td>0.0</td>\n",
       "      <td>...</td>\n",
       "      <td>1</td>\n",
       "      <td>0</td>\n",
       "      <td>0</td>\n",
       "      <td>10.0</td>\n",
       "      <td>0</td>\n",
       "      <td>0</td>\n",
       "      <td>0</td>\n",
       "      <td>1</td>\n",
       "      <td>1.00</td>\n",
       "      <td>(-40.1, -18.0]</td>\n",
       "    </tr>\n",
       "    <tr>\n",
       "      <th>37697</th>\n",
       "      <td>2014.0</td>\n",
       "      <td>12.0</td>\n",
       "      <td>31.0</td>\n",
       "      <td>1.0</td>\n",
       "      <td>-18.0</td>\n",
       "      <td>-1.0</td>\n",
       "      <td>1028.0</td>\n",
       "      <td>61.67</td>\n",
       "      <td>0.0</td>\n",
       "      <td>0.0</td>\n",
       "      <td>...</td>\n",
       "      <td>0</td>\n",
       "      <td>0</td>\n",
       "      <td>0</td>\n",
       "      <td>11.0</td>\n",
       "      <td>0</td>\n",
       "      <td>0</td>\n",
       "      <td>0</td>\n",
       "      <td>1</td>\n",
       "      <td>1.00</td>\n",
       "      <td>(-40.1, -18.0]</td>\n",
       "    </tr>\n",
       "    <tr>\n",
       "      <th>37698</th>\n",
       "      <td>2014.0</td>\n",
       "      <td>12.0</td>\n",
       "      <td>31.0</td>\n",
       "      <td>2.0</td>\n",
       "      <td>-17.0</td>\n",
       "      <td>-1.0</td>\n",
       "      <td>1028.0</td>\n",
       "      <td>70.61</td>\n",
       "      <td>0.0</td>\n",
       "      <td>0.0</td>\n",
       "      <td>...</td>\n",
       "      <td>1</td>\n",
       "      <td>0</td>\n",
       "      <td>0</td>\n",
       "      <td>20.0</td>\n",
       "      <td>0</td>\n",
       "      <td>0</td>\n",
       "      <td>0</td>\n",
       "      <td>1</td>\n",
       "      <td>1.00</td>\n",
       "      <td>(-18.0, -13.0]</td>\n",
       "    </tr>\n",
       "    <tr>\n",
       "      <th>37699</th>\n",
       "      <td>2014.0</td>\n",
       "      <td>12.0</td>\n",
       "      <td>31.0</td>\n",
       "      <td>3.0</td>\n",
       "      <td>-17.0</td>\n",
       "      <td>-1.0</td>\n",
       "      <td>1029.0</td>\n",
       "      <td>81.79</td>\n",
       "      <td>0.0</td>\n",
       "      <td>0.0</td>\n",
       "      <td>...</td>\n",
       "      <td>1</td>\n",
       "      <td>0</td>\n",
       "      <td>0</td>\n",
       "      <td>9.0</td>\n",
       "      <td>0</td>\n",
       "      <td>0</td>\n",
       "      <td>0</td>\n",
       "      <td>1</td>\n",
       "      <td>1.00</td>\n",
       "      <td>(-18.0, -13.0]</td>\n",
       "    </tr>\n",
       "    <tr>\n",
       "      <th>37700</th>\n",
       "      <td>2014.0</td>\n",
       "      <td>12.0</td>\n",
       "      <td>31.0</td>\n",
       "      <td>4.0</td>\n",
       "      <td>-19.0</td>\n",
       "      <td>-2.0</td>\n",
       "      <td>1030.0</td>\n",
       "      <td>94.75</td>\n",
       "      <td>0.0</td>\n",
       "      <td>0.0</td>\n",
       "      <td>...</td>\n",
       "      <td>1</td>\n",
       "      <td>0</td>\n",
       "      <td>0</td>\n",
       "      <td>8.0</td>\n",
       "      <td>0</td>\n",
       "      <td>0</td>\n",
       "      <td>0</td>\n",
       "      <td>1</td>\n",
       "      <td>1.00</td>\n",
       "      <td>(-40.1, -18.0]</td>\n",
       "    </tr>\n",
       "    <tr>\n",
       "      <th>37701</th>\n",
       "      <td>2014.0</td>\n",
       "      <td>12.0</td>\n",
       "      <td>31.0</td>\n",
       "      <td>5.0</td>\n",
       "      <td>-21.0</td>\n",
       "      <td>-3.0</td>\n",
       "      <td>1030.0</td>\n",
       "      <td>109.95</td>\n",
       "      <td>0.0</td>\n",
       "      <td>0.0</td>\n",
       "      <td>...</td>\n",
       "      <td>1</td>\n",
       "      <td>0</td>\n",
       "      <td>0</td>\n",
       "      <td>9.0</td>\n",
       "      <td>0</td>\n",
       "      <td>0</td>\n",
       "      <td>0</td>\n",
       "      <td>1</td>\n",
       "      <td>1.00</td>\n",
       "      <td>(-40.1, -18.0]</td>\n",
       "    </tr>\n",
       "    <tr>\n",
       "      <th>37702</th>\n",
       "      <td>2014.0</td>\n",
       "      <td>12.0</td>\n",
       "      <td>31.0</td>\n",
       "      <td>6.0</td>\n",
       "      <td>-23.0</td>\n",
       "      <td>-4.0</td>\n",
       "      <td>1032.0</td>\n",
       "      <td>130.07</td>\n",
       "      <td>0.0</td>\n",
       "      <td>0.0</td>\n",
       "      <td>...</td>\n",
       "      <td>1</td>\n",
       "      <td>0</td>\n",
       "      <td>0</td>\n",
       "      <td>8.0</td>\n",
       "      <td>0</td>\n",
       "      <td>0</td>\n",
       "      <td>0</td>\n",
       "      <td>1</td>\n",
       "      <td>1.00</td>\n",
       "      <td>(-40.1, -18.0]</td>\n",
       "    </tr>\n",
       "    <tr>\n",
       "      <th>37703</th>\n",
       "      <td>2014.0</td>\n",
       "      <td>12.0</td>\n",
       "      <td>31.0</td>\n",
       "      <td>7.0</td>\n",
       "      <td>-22.0</td>\n",
       "      <td>-5.0</td>\n",
       "      <td>1034.0</td>\n",
       "      <td>143.03</td>\n",
       "      <td>0.0</td>\n",
       "      <td>0.0</td>\n",
       "      <td>...</td>\n",
       "      <td>1</td>\n",
       "      <td>0</td>\n",
       "      <td>0</td>\n",
       "      <td>8.0</td>\n",
       "      <td>0</td>\n",
       "      <td>0</td>\n",
       "      <td>0</td>\n",
       "      <td>1</td>\n",
       "      <td>1.00</td>\n",
       "      <td>(-40.1, -18.0]</td>\n",
       "    </tr>\n",
       "    <tr>\n",
       "      <th>37704</th>\n",
       "      <td>2014.0</td>\n",
       "      <td>12.0</td>\n",
       "      <td>31.0</td>\n",
       "      <td>8.0</td>\n",
       "      <td>-22.0</td>\n",
       "      <td>-5.0</td>\n",
       "      <td>1034.0</td>\n",
       "      <td>150.18</td>\n",
       "      <td>0.0</td>\n",
       "      <td>0.0</td>\n",
       "      <td>...</td>\n",
       "      <td>1</td>\n",
       "      <td>0</td>\n",
       "      <td>0</td>\n",
       "      <td>8.0</td>\n",
       "      <td>0</td>\n",
       "      <td>0</td>\n",
       "      <td>0</td>\n",
       "      <td>1</td>\n",
       "      <td>1.00</td>\n",
       "      <td>(-40.1, -18.0]</td>\n",
       "    </tr>\n",
       "    <tr>\n",
       "      <th>37705</th>\n",
       "      <td>2014.0</td>\n",
       "      <td>12.0</td>\n",
       "      <td>31.0</td>\n",
       "      <td>9.0</td>\n",
       "      <td>-22.0</td>\n",
       "      <td>-3.0</td>\n",
       "      <td>1034.0</td>\n",
       "      <td>155.99</td>\n",
       "      <td>0.0</td>\n",
       "      <td>0.0</td>\n",
       "      <td>...</td>\n",
       "      <td>1</td>\n",
       "      <td>0</td>\n",
       "      <td>0</td>\n",
       "      <td>8.0</td>\n",
       "      <td>0</td>\n",
       "      <td>0</td>\n",
       "      <td>0</td>\n",
       "      <td>1</td>\n",
       "      <td>1.00</td>\n",
       "      <td>(-40.1, -18.0]</td>\n",
       "    </tr>\n",
       "    <tr>\n",
       "      <th>37706</th>\n",
       "      <td>2014.0</td>\n",
       "      <td>12.0</td>\n",
       "      <td>31.0</td>\n",
       "      <td>10.0</td>\n",
       "      <td>-22.0</td>\n",
       "      <td>-2.0</td>\n",
       "      <td>1034.0</td>\n",
       "      <td>163.14</td>\n",
       "      <td>0.0</td>\n",
       "      <td>0.0</td>\n",
       "      <td>...</td>\n",
       "      <td>1</td>\n",
       "      <td>0</td>\n",
       "      <td>0</td>\n",
       "      <td>7.0</td>\n",
       "      <td>0</td>\n",
       "      <td>0</td>\n",
       "      <td>0</td>\n",
       "      <td>1</td>\n",
       "      <td>1.00</td>\n",
       "      <td>(-40.1, -18.0]</td>\n",
       "    </tr>\n",
       "    <tr>\n",
       "      <th>37707</th>\n",
       "      <td>2014.0</td>\n",
       "      <td>12.0</td>\n",
       "      <td>31.0</td>\n",
       "      <td>11.0</td>\n",
       "      <td>-22.0</td>\n",
       "      <td>-2.0</td>\n",
       "      <td>1034.0</td>\n",
       "      <td>170.29</td>\n",
       "      <td>0.0</td>\n",
       "      <td>0.0</td>\n",
       "      <td>...</td>\n",
       "      <td>1</td>\n",
       "      <td>0</td>\n",
       "      <td>0</td>\n",
       "      <td>12.0</td>\n",
       "      <td>0</td>\n",
       "      <td>0</td>\n",
       "      <td>0</td>\n",
       "      <td>1</td>\n",
       "      <td>1.00</td>\n",
       "      <td>(-40.1, -18.0]</td>\n",
       "    </tr>\n",
       "    <tr>\n",
       "      <th>37708</th>\n",
       "      <td>2014.0</td>\n",
       "      <td>12.0</td>\n",
       "      <td>31.0</td>\n",
       "      <td>12.0</td>\n",
       "      <td>-22.0</td>\n",
       "      <td>0.0</td>\n",
       "      <td>1033.0</td>\n",
       "      <td>177.44</td>\n",
       "      <td>0.0</td>\n",
       "      <td>0.0</td>\n",
       "      <td>...</td>\n",
       "      <td>1</td>\n",
       "      <td>0</td>\n",
       "      <td>0</td>\n",
       "      <td>17.0</td>\n",
       "      <td>0</td>\n",
       "      <td>0</td>\n",
       "      <td>0</td>\n",
       "      <td>1</td>\n",
       "      <td>1.00</td>\n",
       "      <td>(-40.1, -18.0]</td>\n",
       "    </tr>\n",
       "    <tr>\n",
       "      <th>37709</th>\n",
       "      <td>2014.0</td>\n",
       "      <td>12.0</td>\n",
       "      <td>31.0</td>\n",
       "      <td>13.0</td>\n",
       "      <td>-27.0</td>\n",
       "      <td>0.0</td>\n",
       "      <td>1032.0</td>\n",
       "      <td>186.38</td>\n",
       "      <td>0.0</td>\n",
       "      <td>0.0</td>\n",
       "      <td>...</td>\n",
       "      <td>1</td>\n",
       "      <td>0</td>\n",
       "      <td>0</td>\n",
       "      <td>11.0</td>\n",
       "      <td>0</td>\n",
       "      <td>0</td>\n",
       "      <td>0</td>\n",
       "      <td>1</td>\n",
       "      <td>1.00</td>\n",
       "      <td>(-40.1, -18.0]</td>\n",
       "    </tr>\n",
       "    <tr>\n",
       "      <th>37710</th>\n",
       "      <td>2014.0</td>\n",
       "      <td>12.0</td>\n",
       "      <td>31.0</td>\n",
       "      <td>14.0</td>\n",
       "      <td>-27.0</td>\n",
       "      <td>1.0</td>\n",
       "      <td>1032.0</td>\n",
       "      <td>196.21</td>\n",
       "      <td>0.0</td>\n",
       "      <td>0.0</td>\n",
       "      <td>...</td>\n",
       "      <td>1</td>\n",
       "      <td>0</td>\n",
       "      <td>0</td>\n",
       "      <td>9.0</td>\n",
       "      <td>0</td>\n",
       "      <td>0</td>\n",
       "      <td>0</td>\n",
       "      <td>1</td>\n",
       "      <td>1.00</td>\n",
       "      <td>(-40.1, -18.0]</td>\n",
       "    </tr>\n",
       "    <tr>\n",
       "      <th>37711</th>\n",
       "      <td>2014.0</td>\n",
       "      <td>12.0</td>\n",
       "      <td>31.0</td>\n",
       "      <td>15.0</td>\n",
       "      <td>-26.0</td>\n",
       "      <td>1.0</td>\n",
       "      <td>1032.0</td>\n",
       "      <td>205.15</td>\n",
       "      <td>0.0</td>\n",
       "      <td>0.0</td>\n",
       "      <td>...</td>\n",
       "      <td>1</td>\n",
       "      <td>0</td>\n",
       "      <td>0</td>\n",
       "      <td>11.0</td>\n",
       "      <td>0</td>\n",
       "      <td>0</td>\n",
       "      <td>0</td>\n",
       "      <td>1</td>\n",
       "      <td>1.00</td>\n",
       "      <td>(-40.1, -18.0]</td>\n",
       "    </tr>\n",
       "    <tr>\n",
       "      <th>37712</th>\n",
       "      <td>2014.0</td>\n",
       "      <td>12.0</td>\n",
       "      <td>31.0</td>\n",
       "      <td>16.0</td>\n",
       "      <td>-23.0</td>\n",
       "      <td>0.0</td>\n",
       "      <td>1032.0</td>\n",
       "      <td>214.09</td>\n",
       "      <td>0.0</td>\n",
       "      <td>0.0</td>\n",
       "      <td>...</td>\n",
       "      <td>1</td>\n",
       "      <td>0</td>\n",
       "      <td>0</td>\n",
       "      <td>8.0</td>\n",
       "      <td>0</td>\n",
       "      <td>0</td>\n",
       "      <td>0</td>\n",
       "      <td>1</td>\n",
       "      <td>1.00</td>\n",
       "      <td>(-40.1, -18.0]</td>\n",
       "    </tr>\n",
       "    <tr>\n",
       "      <th>37713</th>\n",
       "      <td>2014.0</td>\n",
       "      <td>12.0</td>\n",
       "      <td>31.0</td>\n",
       "      <td>18.0</td>\n",
       "      <td>-22.0</td>\n",
       "      <td>-2.0</td>\n",
       "      <td>1033.0</td>\n",
       "      <td>226.16</td>\n",
       "      <td>0.0</td>\n",
       "      <td>0.0</td>\n",
       "      <td>...</td>\n",
       "      <td>1</td>\n",
       "      <td>0</td>\n",
       "      <td>0</td>\n",
       "      <td>10.0</td>\n",
       "      <td>0</td>\n",
       "      <td>0</td>\n",
       "      <td>0</td>\n",
       "      <td>1</td>\n",
       "      <td>1.00</td>\n",
       "      <td>(-40.1, -18.0]</td>\n",
       "    </tr>\n",
       "    <tr>\n",
       "      <th>37714</th>\n",
       "      <td>2014.0</td>\n",
       "      <td>12.0</td>\n",
       "      <td>31.0</td>\n",
       "      <td>19.0</td>\n",
       "      <td>-23.0</td>\n",
       "      <td>-2.0</td>\n",
       "      <td>1034.0</td>\n",
       "      <td>231.97</td>\n",
       "      <td>0.0</td>\n",
       "      <td>0.0</td>\n",
       "      <td>...</td>\n",
       "      <td>1</td>\n",
       "      <td>0</td>\n",
       "      <td>0</td>\n",
       "      <td>8.0</td>\n",
       "      <td>0</td>\n",
       "      <td>0</td>\n",
       "      <td>0</td>\n",
       "      <td>1</td>\n",
       "      <td>1.00</td>\n",
       "      <td>(-40.1, -18.0]</td>\n",
       "    </tr>\n",
       "    <tr>\n",
       "      <th>37715</th>\n",
       "      <td>2014.0</td>\n",
       "      <td>12.0</td>\n",
       "      <td>31.0</td>\n",
       "      <td>20.0</td>\n",
       "      <td>-22.0</td>\n",
       "      <td>-3.0</td>\n",
       "      <td>1034.0</td>\n",
       "      <td>237.78</td>\n",
       "      <td>0.0</td>\n",
       "      <td>0.0</td>\n",
       "      <td>...</td>\n",
       "      <td>1</td>\n",
       "      <td>0</td>\n",
       "      <td>0</td>\n",
       "      <td>10.0</td>\n",
       "      <td>0</td>\n",
       "      <td>0</td>\n",
       "      <td>0</td>\n",
       "      <td>1</td>\n",
       "      <td>1.00</td>\n",
       "      <td>(-40.1, -18.0]</td>\n",
       "    </tr>\n",
       "    <tr>\n",
       "      <th>37716</th>\n",
       "      <td>2014.0</td>\n",
       "      <td>12.0</td>\n",
       "      <td>31.0</td>\n",
       "      <td>21.0</td>\n",
       "      <td>-22.0</td>\n",
       "      <td>-3.0</td>\n",
       "      <td>1034.0</td>\n",
       "      <td>242.70</td>\n",
       "      <td>0.0</td>\n",
       "      <td>0.0</td>\n",
       "      <td>...</td>\n",
       "      <td>1</td>\n",
       "      <td>0</td>\n",
       "      <td>0</td>\n",
       "      <td>10.0</td>\n",
       "      <td>0</td>\n",
       "      <td>0</td>\n",
       "      <td>0</td>\n",
       "      <td>1</td>\n",
       "      <td>1.00</td>\n",
       "      <td>(-40.1, -18.0]</td>\n",
       "    </tr>\n",
       "    <tr>\n",
       "      <th>37717</th>\n",
       "      <td>2014.0</td>\n",
       "      <td>12.0</td>\n",
       "      <td>31.0</td>\n",
       "      <td>22.0</td>\n",
       "      <td>-22.0</td>\n",
       "      <td>-4.0</td>\n",
       "      <td>1034.0</td>\n",
       "      <td>246.72</td>\n",
       "      <td>0.0</td>\n",
       "      <td>0.0</td>\n",
       "      <td>...</td>\n",
       "      <td>1</td>\n",
       "      <td>0</td>\n",
       "      <td>0</td>\n",
       "      <td>8.0</td>\n",
       "      <td>0</td>\n",
       "      <td>0</td>\n",
       "      <td>0</td>\n",
       "      <td>1</td>\n",
       "      <td>1.00</td>\n",
       "      <td>(-40.1, -18.0]</td>\n",
       "    </tr>\n",
       "  </tbody>\n",
       "</table>\n",
       "<p>19304 rows × 21 columns</p>\n",
       "</div>"
      ],
      "text/plain": [
       "         year  month   day  hour  dew_point  temperature  pressure  \\\n",
       "0      2010.0    1.0   2.0   0.0      -16.0         -4.0    1020.0   \n",
       "1      2010.0    1.0   2.0   1.0      -15.0         -4.0    1020.0   \n",
       "2      2010.0    1.0   2.0   2.0      -11.0         -5.0    1021.0   \n",
       "3      2010.0    1.0   2.0   3.0       -7.0         -5.0    1022.0   \n",
       "4      2010.0    1.0   2.0   4.0       -7.0         -5.0    1022.0   \n",
       "5      2010.0    1.0   2.0   5.0       -7.0         -6.0    1022.0   \n",
       "6      2010.0    1.0   2.0   6.0       -7.0         -6.0    1023.0   \n",
       "7      2010.0    1.0   2.0   8.0       -8.0         -6.0    1024.0   \n",
       "8      2010.0    1.0   2.0   9.0       -7.0         -5.0    1025.0   \n",
       "9      2010.0    1.0   2.0  10.0       -7.0         -5.0    1026.0   \n",
       "10     2010.0    1.0   2.0  11.0       -8.0         -5.0    1026.0   \n",
       "11     2010.0    1.0   2.0  12.0       -8.0         -5.0    1026.0   \n",
       "12     2010.0    1.0   2.0  13.0       -8.0         -5.0    1025.0   \n",
       "13     2010.0    1.0   2.0  14.0       -9.0         -5.0    1025.0   \n",
       "14     2010.0    1.0   2.0  15.0       -9.0         -5.0    1025.0   \n",
       "15     2010.0    1.0   2.0  16.0       -9.0         -5.0    1026.0   \n",
       "16     2010.0    1.0   2.0  17.0       -8.0         -5.0    1027.0   \n",
       "17     2010.0    1.0   2.0  18.0       -8.0         -5.0    1027.0   \n",
       "18     2010.0    1.0   2.0  19.0       -8.0         -5.0    1028.0   \n",
       "19     2010.0    1.0   2.0  20.0       -7.0         -5.0    1028.0   \n",
       "20     2010.0    1.0   2.0  22.0       -8.0         -6.0    1028.0   \n",
       "21     2010.0    1.0   2.0  23.0       -8.0         -6.0    1027.0   \n",
       "22     2010.0    1.0   3.0   0.0       -7.0         -6.0    1027.0   \n",
       "23     2010.0    1.0   3.0   2.0       -8.0         -7.0    1026.0   \n",
       "24     2010.0    1.0   3.0   3.0       -8.0         -7.0    1025.0   \n",
       "25     2010.0    1.0   3.0   4.0       -8.0         -7.0    1024.0   \n",
       "26     2010.0    1.0   3.0   5.0       -9.0         -8.0    1024.0   \n",
       "27     2010.0    1.0   3.0   6.0      -10.0         -8.0    1024.0   \n",
       "28     2010.0    1.0   3.0   7.0      -10.0         -9.0    1024.0   \n",
       "29     2010.0    1.0   3.0   8.0      -10.0         -9.0    1024.0   \n",
       "...       ...    ...   ...   ...        ...          ...       ...   \n",
       "37688  2014.0   12.0  30.0  16.0      -14.0          6.0    1018.0   \n",
       "37689  2014.0   12.0  30.0  17.0      -14.0          5.0    1019.0   \n",
       "37690  2014.0   12.0  30.0  18.0      -13.0          2.0    1020.0   \n",
       "37691  2014.0   12.0  30.0  19.0       -8.0          6.0    1021.0   \n",
       "37692  2014.0   12.0  30.0  20.0      -11.0          5.0    1022.0   \n",
       "37693  2014.0   12.0  30.0  21.0      -12.0          4.0    1023.0   \n",
       "37694  2014.0   12.0  30.0  22.0      -21.0          2.0    1025.0   \n",
       "37695  2014.0   12.0  30.0  23.0      -22.0          0.0    1026.0   \n",
       "37696  2014.0   12.0  31.0   0.0      -19.0         -1.0    1027.0   \n",
       "37697  2014.0   12.0  31.0   1.0      -18.0         -1.0    1028.0   \n",
       "37698  2014.0   12.0  31.0   2.0      -17.0         -1.0    1028.0   \n",
       "37699  2014.0   12.0  31.0   3.0      -17.0         -1.0    1029.0   \n",
       "37700  2014.0   12.0  31.0   4.0      -19.0         -2.0    1030.0   \n",
       "37701  2014.0   12.0  31.0   5.0      -21.0         -3.0    1030.0   \n",
       "37702  2014.0   12.0  31.0   6.0      -23.0         -4.0    1032.0   \n",
       "37703  2014.0   12.0  31.0   7.0      -22.0         -5.0    1034.0   \n",
       "37704  2014.0   12.0  31.0   8.0      -22.0         -5.0    1034.0   \n",
       "37705  2014.0   12.0  31.0   9.0      -22.0         -3.0    1034.0   \n",
       "37706  2014.0   12.0  31.0  10.0      -22.0         -2.0    1034.0   \n",
       "37707  2014.0   12.0  31.0  11.0      -22.0         -2.0    1034.0   \n",
       "37708  2014.0   12.0  31.0  12.0      -22.0          0.0    1033.0   \n",
       "37709  2014.0   12.0  31.0  13.0      -27.0          0.0    1032.0   \n",
       "37710  2014.0   12.0  31.0  14.0      -27.0          1.0    1032.0   \n",
       "37711  2014.0   12.0  31.0  15.0      -26.0          1.0    1032.0   \n",
       "37712  2014.0   12.0  31.0  16.0      -23.0          0.0    1032.0   \n",
       "37713  2014.0   12.0  31.0  18.0      -22.0         -2.0    1033.0   \n",
       "37714  2014.0   12.0  31.0  19.0      -23.0         -2.0    1034.0   \n",
       "37715  2014.0   12.0  31.0  20.0      -22.0         -3.0    1034.0   \n",
       "37716  2014.0   12.0  31.0  21.0      -22.0         -3.0    1034.0   \n",
       "37717  2014.0   12.0  31.0  22.0      -22.0         -4.0    1034.0   \n",
       "\n",
       "       wind_speed  hours_snow  hours_rain        ...         wind_dir_NW  \\\n",
       "0            1.79         0.0         0.0        ...                   0   \n",
       "1            2.68         0.0         0.0        ...                   0   \n",
       "2            3.57         0.0         0.0        ...                   0   \n",
       "3            5.36         1.0         0.0        ...                   0   \n",
       "4            6.25         2.0         0.0        ...                   0   \n",
       "5            7.14         3.0         0.0        ...                   0   \n",
       "6            8.93         4.0         0.0        ...                   0   \n",
       "7           12.51         0.0         0.0        ...                   0   \n",
       "8           14.30         0.0         0.0        ...                   0   \n",
       "9           17.43         1.0         0.0        ...                   0   \n",
       "10          20.56         0.0         0.0        ...                   0   \n",
       "11          23.69         0.0         0.0        ...                   0   \n",
       "12          27.71         0.0         0.0        ...                   0   \n",
       "13          31.73         0.0         0.0        ...                   0   \n",
       "14          35.75         0.0         0.0        ...                   0   \n",
       "15          37.54         0.0         0.0        ...                   0   \n",
       "16          39.33         0.0         0.0        ...                   0   \n",
       "17          42.46         0.0         0.0        ...                   0   \n",
       "18          44.25         0.0         0.0        ...                   0   \n",
       "19          46.04         0.0         0.0        ...                   0   \n",
       "20          52.30         2.0         0.0        ...                   0   \n",
       "21          55.43         3.0         0.0        ...                   0   \n",
       "22          58.56         4.0         0.0        ...                   0   \n",
       "23          65.71         6.0         0.0        ...                   0   \n",
       "24          68.84         7.0         0.0        ...                   0   \n",
       "25          72.86         8.0         0.0        ...                   0   \n",
       "26          76.88         9.0         0.0        ...                   0   \n",
       "27          80.90        10.0         0.0        ...                   0   \n",
       "28          84.92        11.0         0.0        ...                   0   \n",
       "29          89.84        12.0         0.0        ...                   0   \n",
       "...           ...         ...         ...        ...                 ...   \n",
       "37688        0.89         0.0         0.0        ...                   0   \n",
       "37689        1.79         0.0         0.0        ...                   0   \n",
       "37690        3.58         0.0         0.0        ...                   0   \n",
       "37691        5.81         0.0         0.0        ...                   1   \n",
       "37692       12.96         0.0         0.0        ...                   1   \n",
       "37693       21.90         0.0         0.0        ...                   1   \n",
       "37694       31.73         0.0         0.0        ...                   1   \n",
       "37695       38.88         0.0         0.0        ...                   1   \n",
       "37696       51.84         0.0         0.0        ...                   1   \n",
       "37697       61.67         0.0         0.0        ...                   0   \n",
       "37698       70.61         0.0         0.0        ...                   1   \n",
       "37699       81.79         0.0         0.0        ...                   1   \n",
       "37700       94.75         0.0         0.0        ...                   1   \n",
       "37701      109.95         0.0         0.0        ...                   1   \n",
       "37702      130.07         0.0         0.0        ...                   1   \n",
       "37703      143.03         0.0         0.0        ...                   1   \n",
       "37704      150.18         0.0         0.0        ...                   1   \n",
       "37705      155.99         0.0         0.0        ...                   1   \n",
       "37706      163.14         0.0         0.0        ...                   1   \n",
       "37707      170.29         0.0         0.0        ...                   1   \n",
       "37708      177.44         0.0         0.0        ...                   1   \n",
       "37709      186.38         0.0         0.0        ...                   1   \n",
       "37710      196.21         0.0         0.0        ...                   1   \n",
       "37711      205.15         0.0         0.0        ...                   1   \n",
       "37712      214.09         0.0         0.0        ...                   1   \n",
       "37713      226.16         0.0         0.0        ...                   1   \n",
       "37714      231.97         0.0         0.0        ...                   1   \n",
       "37715      237.78         0.0         0.0        ...                   1   \n",
       "37716      242.70         0.0         0.0        ...                   1   \n",
       "37717      246.72         0.0         0.0        ...                   1   \n",
       "\n",
       "       wind_dir_SE  wind_dir_cv    pm2  snow  rain  rain_snow  no_rain_snow  \\\n",
       "0                1            0  129.0     1     0          0             0   \n",
       "1                1            0  148.0     1     0          0             0   \n",
       "2                1            0  159.0     1     0          0             0   \n",
       "3                1            0  181.0     1     0          0             0   \n",
       "4                1            0  138.0     1     0          0             0   \n",
       "5                1            0  109.0     1     0          0             0   \n",
       "6                1            0  105.0     1     0          0             0   \n",
       "7                1            0  120.0     1     0          0             0   \n",
       "8                1            0  132.0     1     0          0             0   \n",
       "9                1            0  140.0     1     0          0             0   \n",
       "10               1            0  152.0     1     0          0             0   \n",
       "11               1            0  148.0     1     0          0             0   \n",
       "12               1            0  164.0     1     0          0             0   \n",
       "13               1            0  158.0     1     0          0             0   \n",
       "14               1            0  154.0     1     0          0             0   \n",
       "15               1            0  159.0     1     0          0             0   \n",
       "16               1            0  164.0     1     0          0             0   \n",
       "17               1            0  170.0     1     0          0             0   \n",
       "18               1            0  149.0     1     0          0             0   \n",
       "19               1            0  154.0     1     0          0             0   \n",
       "20               1            0  156.0     1     0          0             0   \n",
       "21               1            0  126.0     1     0          0             0   \n",
       "22               1            0   90.0     1     0          0             0   \n",
       "23               1            0   65.0     1     0          0             0   \n",
       "24               1            0   55.0     1     0          0             0   \n",
       "25               1            0   65.0     1     0          0             0   \n",
       "26               1            0   83.0     1     0          0             0   \n",
       "27               1            0   91.0     1     0          0             0   \n",
       "28               1            0   86.0     1     0          0             0   \n",
       "29               1            0   82.0     1     0          0             0   \n",
       "...            ...          ...    ...   ...   ...        ...           ...   \n",
       "37688            0            1   60.0     0     0          0             1   \n",
       "37689            0            0   63.0     0     0          0             1   \n",
       "37690            0            0   79.0     0     0          0             1   \n",
       "37691            0            0   35.0     0     0          0             1   \n",
       "37692            0            0   26.0     0     0          0             1   \n",
       "37693            0            0   20.0     0     0          0             1   \n",
       "37694            0            0    8.0     0     0          0             1   \n",
       "37695            0            0   16.0     0     0          0             1   \n",
       "37696            0            0   10.0     0     0          0             1   \n",
       "37697            0            0   11.0     0     0          0             1   \n",
       "37698            0            0   20.0     0     0          0             1   \n",
       "37699            0            0    9.0     0     0          0             1   \n",
       "37700            0            0    8.0     0     0          0             1   \n",
       "37701            0            0    9.0     0     0          0             1   \n",
       "37702            0            0    8.0     0     0          0             1   \n",
       "37703            0            0    8.0     0     0          0             1   \n",
       "37704            0            0    8.0     0     0          0             1   \n",
       "37705            0            0    8.0     0     0          0             1   \n",
       "37706            0            0    7.0     0     0          0             1   \n",
       "37707            0            0   12.0     0     0          0             1   \n",
       "37708            0            0   17.0     0     0          0             1   \n",
       "37709            0            0   11.0     0     0          0             1   \n",
       "37710            0            0    9.0     0     0          0             1   \n",
       "37711            0            0   11.0     0     0          0             1   \n",
       "37712            0            0    8.0     0     0          0             1   \n",
       "37713            0            0   10.0     0     0          0             1   \n",
       "37714            0            0    8.0     0     0          0             1   \n",
       "37715            0            0   10.0     0     0          0             1   \n",
       "37716            0            0   10.0     0     0          0             1   \n",
       "37717            0            0    8.0     0     0          0             1   \n",
       "\n",
       "       wind_speed_quartile  dew_point_decile  \n",
       "0                     0.25    (-18.0, -13.0]  \n",
       "1                     0.50    (-18.0, -13.0]  \n",
       "2                     0.50     (-13.0, -8.0]  \n",
       "3                     0.50      (-8.0, -4.0]  \n",
       "4                     0.75      (-8.0, -4.0]  \n",
       "5                     0.75      (-8.0, -4.0]  \n",
       "6                     0.75      (-8.0, -4.0]  \n",
       "7                     0.75     (-13.0, -8.0]  \n",
       "8                     0.75      (-8.0, -4.0]  \n",
       "9                     0.75      (-8.0, -4.0]  \n",
       "10                    0.75     (-13.0, -8.0]  \n",
       "11                    1.00     (-13.0, -8.0]  \n",
       "12                    1.00     (-13.0, -8.0]  \n",
       "13                    1.00     (-13.0, -8.0]  \n",
       "14                    1.00     (-13.0, -8.0]  \n",
       "15                    1.00     (-13.0, -8.0]  \n",
       "16                    1.00     (-13.0, -8.0]  \n",
       "17                    1.00     (-13.0, -8.0]  \n",
       "18                    1.00     (-13.0, -8.0]  \n",
       "19                    1.00      (-8.0, -4.0]  \n",
       "20                    1.00     (-13.0, -8.0]  \n",
       "21                    1.00     (-13.0, -8.0]  \n",
       "22                    1.00      (-8.0, -4.0]  \n",
       "23                    1.00     (-13.0, -8.0]  \n",
       "24                    1.00     (-13.0, -8.0]  \n",
       "25                    1.00     (-13.0, -8.0]  \n",
       "26                    1.00     (-13.0, -8.0]  \n",
       "27                    1.00     (-13.0, -8.0]  \n",
       "28                    1.00     (-13.0, -8.0]  \n",
       "29                    1.00     (-13.0, -8.0]  \n",
       "...                    ...               ...  \n",
       "37688                 0.25    (-18.0, -13.0]  \n",
       "37689                 0.25    (-18.0, -13.0]  \n",
       "37690                 0.50    (-18.0, -13.0]  \n",
       "37691                 0.75     (-13.0, -8.0]  \n",
       "37692                 0.75     (-13.0, -8.0]  \n",
       "37693                 0.75     (-13.0, -8.0]  \n",
       "37694                 1.00    (-40.1, -18.0]  \n",
       "37695                 1.00    (-40.1, -18.0]  \n",
       "37696                 1.00    (-40.1, -18.0]  \n",
       "37697                 1.00    (-40.1, -18.0]  \n",
       "37698                 1.00    (-18.0, -13.0]  \n",
       "37699                 1.00    (-18.0, -13.0]  \n",
       "37700                 1.00    (-40.1, -18.0]  \n",
       "37701                 1.00    (-40.1, -18.0]  \n",
       "37702                 1.00    (-40.1, -18.0]  \n",
       "37703                 1.00    (-40.1, -18.0]  \n",
       "37704                 1.00    (-40.1, -18.0]  \n",
       "37705                 1.00    (-40.1, -18.0]  \n",
       "37706                 1.00    (-40.1, -18.0]  \n",
       "37707                 1.00    (-40.1, -18.0]  \n",
       "37708                 1.00    (-40.1, -18.0]  \n",
       "37709                 1.00    (-40.1, -18.0]  \n",
       "37710                 1.00    (-40.1, -18.0]  \n",
       "37711                 1.00    (-40.1, -18.0]  \n",
       "37712                 1.00    (-40.1, -18.0]  \n",
       "37713                 1.00    (-40.1, -18.0]  \n",
       "37714                 1.00    (-40.1, -18.0]  \n",
       "37715                 1.00    (-40.1, -18.0]  \n",
       "37716                 1.00    (-40.1, -18.0]  \n",
       "37717                 1.00    (-40.1, -18.0]  \n",
       "\n",
       "[19304 rows x 21 columns]"
      ]
     },
     "execution_count": 32,
     "metadata": {},
     "output_type": "execute_result"
    }
   ],
   "source": [
    "decile = pm2_enc.iloc[pm2_enc.temperature.argmax()].dew_point_decile\n",
    "print(decile)\n",
    "pm2_enc.loc[pm2_enc.dew_point_decile < decile]"
   ]
  },
  {
   "cell_type": "markdown",
   "metadata": {},
   "source": [
    "## Feature Scaling\n",
    "Many of the machine learning algorithms we have at our disposal require that the feautures be on the the same scale in order to work properly.  In this exercise, you'll test out a few techniques with and without feature scaling and observe the outcomes."
   ]
  },
  {
   "cell_type": "markdown",
   "metadata": {},
   "source": [
    "1 - Head over to the [Machine Learning Repository](http://archive.ics.uci.edu/ml/index.php), download the [Wine Dataset](http://archive.ics.uci.edu/ml/datasets/Wine), and put it in a dataframe, being sure to label the columns properly."
   ]
  },
  {
   "cell_type": "code",
   "execution_count": 33,
   "metadata": {
    "collapsed": true
   },
   "outputs": [],
   "source": [
    "wine = pd.read_csv('http://archive.ics.uci.edu/ml/machine-learning-databases/wine/wine.data', header=None)\n",
    "wine.columns = ['class', 'alcohol', 'malic_acid', 'ash', 'alcalinity_ash', 'magnesium', 'total_phenols',\n",
    "                'flavanoids', 'nonflavanoid_phenols', 'proanthocyanins', 'color_intensity',\n",
    "                'hue', 'OD280_OD315', 'proline']"
   ]
  },
  {
   "cell_type": "code",
   "execution_count": 34,
   "metadata": {
    "scrolled": true
   },
   "outputs": [
    {
     "data": {
      "text/html": [
       "<div>\n",
       "<style>\n",
       "    .dataframe thead tr:only-child th {\n",
       "        text-align: right;\n",
       "    }\n",
       "\n",
       "    .dataframe thead th {\n",
       "        text-align: left;\n",
       "    }\n",
       "\n",
       "    .dataframe tbody tr th {\n",
       "        vertical-align: top;\n",
       "    }\n",
       "</style>\n",
       "<table border=\"1\" class=\"dataframe\">\n",
       "  <thead>\n",
       "    <tr style=\"text-align: right;\">\n",
       "      <th></th>\n",
       "      <th>class</th>\n",
       "      <th>alcohol</th>\n",
       "      <th>malic_acid</th>\n",
       "      <th>ash</th>\n",
       "      <th>alcalinity_ash</th>\n",
       "      <th>magnesium</th>\n",
       "      <th>total_phenols</th>\n",
       "      <th>flavanoids</th>\n",
       "      <th>nonflavanoid_phenols</th>\n",
       "      <th>proanthocyanins</th>\n",
       "      <th>color_intensity</th>\n",
       "      <th>hue</th>\n",
       "      <th>OD280_OD315</th>\n",
       "      <th>proline</th>\n",
       "    </tr>\n",
       "  </thead>\n",
       "  <tbody>\n",
       "    <tr>\n",
       "      <th>0</th>\n",
       "      <td>1</td>\n",
       "      <td>14.23</td>\n",
       "      <td>1.71</td>\n",
       "      <td>2.43</td>\n",
       "      <td>15.6</td>\n",
       "      <td>127</td>\n",
       "      <td>2.80</td>\n",
       "      <td>3.06</td>\n",
       "      <td>0.28</td>\n",
       "      <td>2.29</td>\n",
       "      <td>5.64</td>\n",
       "      <td>1.04</td>\n",
       "      <td>3.92</td>\n",
       "      <td>1065</td>\n",
       "    </tr>\n",
       "    <tr>\n",
       "      <th>1</th>\n",
       "      <td>1</td>\n",
       "      <td>13.20</td>\n",
       "      <td>1.78</td>\n",
       "      <td>2.14</td>\n",
       "      <td>11.2</td>\n",
       "      <td>100</td>\n",
       "      <td>2.65</td>\n",
       "      <td>2.76</td>\n",
       "      <td>0.26</td>\n",
       "      <td>1.28</td>\n",
       "      <td>4.38</td>\n",
       "      <td>1.05</td>\n",
       "      <td>3.40</td>\n",
       "      <td>1050</td>\n",
       "    </tr>\n",
       "    <tr>\n",
       "      <th>2</th>\n",
       "      <td>1</td>\n",
       "      <td>13.16</td>\n",
       "      <td>2.36</td>\n",
       "      <td>2.67</td>\n",
       "      <td>18.6</td>\n",
       "      <td>101</td>\n",
       "      <td>2.80</td>\n",
       "      <td>3.24</td>\n",
       "      <td>0.30</td>\n",
       "      <td>2.81</td>\n",
       "      <td>5.68</td>\n",
       "      <td>1.03</td>\n",
       "      <td>3.17</td>\n",
       "      <td>1185</td>\n",
       "    </tr>\n",
       "    <tr>\n",
       "      <th>3</th>\n",
       "      <td>1</td>\n",
       "      <td>14.37</td>\n",
       "      <td>1.95</td>\n",
       "      <td>2.50</td>\n",
       "      <td>16.8</td>\n",
       "      <td>113</td>\n",
       "      <td>3.85</td>\n",
       "      <td>3.49</td>\n",
       "      <td>0.24</td>\n",
       "      <td>2.18</td>\n",
       "      <td>7.80</td>\n",
       "      <td>0.86</td>\n",
       "      <td>3.45</td>\n",
       "      <td>1480</td>\n",
       "    </tr>\n",
       "    <tr>\n",
       "      <th>4</th>\n",
       "      <td>1</td>\n",
       "      <td>13.24</td>\n",
       "      <td>2.59</td>\n",
       "      <td>2.87</td>\n",
       "      <td>21.0</td>\n",
       "      <td>118</td>\n",
       "      <td>2.80</td>\n",
       "      <td>2.69</td>\n",
       "      <td>0.39</td>\n",
       "      <td>1.82</td>\n",
       "      <td>4.32</td>\n",
       "      <td>1.04</td>\n",
       "      <td>2.93</td>\n",
       "      <td>735</td>\n",
       "    </tr>\n",
       "  </tbody>\n",
       "</table>\n",
       "</div>"
      ],
      "text/plain": [
       "   class  alcohol  malic_acid   ash  alcalinity_ash  magnesium  total_phenols  \\\n",
       "0      1    14.23        1.71  2.43            15.6        127           2.80   \n",
       "1      1    13.20        1.78  2.14            11.2        100           2.65   \n",
       "2      1    13.16        2.36  2.67            18.6        101           2.80   \n",
       "3      1    14.37        1.95  2.50            16.8        113           3.85   \n",
       "4      1    13.24        2.59  2.87            21.0        118           2.80   \n",
       "\n",
       "   flavanoids  nonflavanoid_phenols  proanthocyanins  color_intensity   hue  \\\n",
       "0        3.06                  0.28             2.29             5.64  1.04   \n",
       "1        2.76                  0.26             1.28             4.38  1.05   \n",
       "2        3.24                  0.30             2.81             5.68  1.03   \n",
       "3        3.49                  0.24             2.18             7.80  0.86   \n",
       "4        2.69                  0.39             1.82             4.32  1.04   \n",
       "\n",
       "   OD280_OD315  proline  \n",
       "0         3.92     1065  \n",
       "1         3.40     1050  \n",
       "2         3.17     1185  \n",
       "3         3.45     1480  \n",
       "4         2.93      735  "
      ]
     },
     "execution_count": 34,
     "metadata": {},
     "output_type": "execute_result"
    }
   ],
   "source": [
    "wine.head()"
   ]
  },
  {
   "cell_type": "markdown",
   "metadata": {},
   "source": [
    "2 - Fit a Nearest Neighbors model to the data, using a normalized data set, a stardardized data set, and the original.  Split into test and train sets and compute the accuracy of the classifications and comment on your results."
   ]
  },
  {
   "cell_type": "code",
   "execution_count": 35,
   "metadata": {
    "collapsed": true
   },
   "outputs": [],
   "source": [
    "from sklearn.neighbors import KNeighborsClassifier\n",
    "from sklearn.preprocessing import MinMaxScaler, StandardScaler\n",
    "from sklearn.model_selection import train_test_split"
   ]
  },
  {
   "cell_type": "markdown",
   "metadata": {},
   "source": [
    "Original dataset:"
   ]
  },
  {
   "cell_type": "code",
   "execution_count": 36,
   "metadata": {},
   "outputs": [
    {
     "name": "stdout",
     "output_type": "stream",
     "text": [
      "0.790322580645\n",
      "0.722222222222\n"
     ]
    }
   ],
   "source": [
    "Xtrain, Xtest, ytrain, ytest = train_test_split(wine.iloc[:, 1:], wine.iloc[:, 0], test_size=0.3, random_state=0)\n",
    "knn = KNeighborsClassifier()\n",
    "knn.fit(Xtrain, ytrain)\n",
    "print(knn.score(Xtrain, ytrain))\n",
    "print(knn.score(Xtest, ytest))"
   ]
  },
  {
   "cell_type": "markdown",
   "metadata": {},
   "source": [
    "Normalized dataset:"
   ]
  },
  {
   "cell_type": "code",
   "execution_count": 37,
   "metadata": {},
   "outputs": [
    {
     "name": "stdout",
     "output_type": "stream",
     "text": [
      "0.967741935484\n",
      "1.0\n"
     ]
    }
   ],
   "source": [
    "mms = MinMaxScaler()\n",
    "Xtrain_norm = mms.fit_transform(Xtrain)\n",
    "Xtest_norm = mms.transform(Xtest)\n",
    "\n",
    "knn.fit(Xtrain_norm, ytrain)\n",
    "print(knn.score(Xtrain_norm, ytrain))\n",
    "print(knn.score(Xtest_norm, ytest))"
   ]
  },
  {
   "cell_type": "markdown",
   "metadata": {},
   "source": [
    "Standardized dataset:"
   ]
  },
  {
   "cell_type": "code",
   "execution_count": 38,
   "metadata": {},
   "outputs": [
    {
     "name": "stdout",
     "output_type": "stream",
     "text": [
      "0.975806451613\n",
      "1.0\n"
     ]
    }
   ],
   "source": [
    "ssc = StandardScaler()\n",
    "Xtrain_std = ssc.fit_transform(Xtrain)\n",
    "Xtest_std = ssc.transform(Xtest)\n",
    "\n",
    "knn.fit(Xtrain_std, ytrain)\n",
    "print(knn.score(Xtrain_std, ytrain))\n",
    "print(knn.score(Xtest_std, ytest))"
   ]
  },
  {
   "cell_type": "markdown",
   "metadata": {},
   "source": [
    "The accuracy is way better for a normalized or standardized dataset, with the least having a slightly better generalization: K-Nearest Neighbors is sensitive to feature scaling."
   ]
  },
  {
   "cell_type": "markdown",
   "metadata": {},
   "source": [
    "3 - Fit a Naive Bayes model to the data, using a normalized data set, a standardized data set, and the original.  Comment on your results."
   ]
  },
  {
   "cell_type": "code",
   "execution_count": 39,
   "metadata": {
    "collapsed": true
   },
   "outputs": [],
   "source": [
    "from sklearn.naive_bayes import GaussianNB"
   ]
  },
  {
   "cell_type": "markdown",
   "metadata": {},
   "source": [
    "Original dataset:"
   ]
  },
  {
   "cell_type": "code",
   "execution_count": 40,
   "metadata": {},
   "outputs": [
    {
     "name": "stdout",
     "output_type": "stream",
     "text": [
      "0.983870967742\n",
      "0.944444444444\n"
     ]
    }
   ],
   "source": [
    "gnb = GaussianNB()\n",
    "\n",
    "gnb.fit(Xtrain, ytrain)\n",
    "print(gnb.score(Xtrain, ytrain))\n",
    "print(gnb.score(Xtest, ytest))"
   ]
  },
  {
   "cell_type": "markdown",
   "metadata": {},
   "source": [
    "Normalized dataset:"
   ]
  },
  {
   "cell_type": "code",
   "execution_count": 41,
   "metadata": {},
   "outputs": [
    {
     "name": "stdout",
     "output_type": "stream",
     "text": [
      "0.983870967742\n",
      "0.944444444444\n"
     ]
    }
   ],
   "source": [
    "gnb.fit(Xtrain_norm, ytrain)\n",
    "print(gnb.score(Xtrain_norm, ytrain))\n",
    "print(gnb.score(Xtest_norm, ytest))"
   ]
  },
  {
   "cell_type": "markdown",
   "metadata": {},
   "source": [
    "Standardized dataset:"
   ]
  },
  {
   "cell_type": "code",
   "execution_count": 42,
   "metadata": {},
   "outputs": [
    {
     "name": "stdout",
     "output_type": "stream",
     "text": [
      "0.983870967742\n",
      "0.944444444444\n"
     ]
    }
   ],
   "source": [
    "gnb.fit(Xtrain_std, ytrain)\n",
    "print(gnb.score(Xtrain_std, ytrain))\n",
    "print(gnb.score(Xtest_std, ytest))"
   ]
  },
  {
   "cell_type": "markdown",
   "metadata": {},
   "source": [
    "For this algorithm there is no difference at all, so scaling the data isn't necessary."
   ]
  },
  {
   "cell_type": "markdown",
   "metadata": {},
   "source": [
    "## Feature Selection\n",
    "With many datasets, you will find yourself in a situation where not all of the provided features are relevant to your model and it may be best to discard them.  This is a very complex topic, involving many techniques, a few of which we will explore in this exercise, using the `Boston` housing data."
   ]
  },
  {
   "cell_type": "markdown",
   "metadata": {},
   "source": [
    "1 - From sklearn import the `load_boston` package, and put the data into a data frame with the proper column names, and then split into training and testing sets."
   ]
  },
  {
   "cell_type": "code",
   "execution_count": 2,
   "metadata": {
    "collapsed": true
   },
   "outputs": [],
   "source": [
    "from sklearn.datasets import load_boston\n",
    "\n",
    "boston = load_boston()"
   ]
  },
  {
   "cell_type": "code",
   "execution_count": 3,
   "metadata": {
    "collapsed": true
   },
   "outputs": [],
   "source": [
    "boston_df = pd.DataFrame(boston.data, columns=boston.feature_names)\n",
    "boston_target = boston.target"
   ]
  },
  {
   "cell_type": "code",
   "execution_count": 4,
   "metadata": {
    "collapsed": true
   },
   "outputs": [],
   "source": [
    "from sklearn.model_selection import train_test_split\n",
    "Xtrain, Xtest, ytrain, ytest = train_test_split(boston_df, boston_target, test_size=0.3, random_state=0)"
   ]
  },
  {
   "cell_type": "markdown",
   "metadata": {},
   "source": [
    "2 - Fit a series of least squares multilinear regression models to the data, and use the F-Statistic to select the K best features for values of `k` ranging from `1` to the total number of features.  Plot the MSE for each model against the test set and print the best features for each iteration.  Comment on your results."
   ]
  },
  {
   "cell_type": "code",
   "execution_count": 5,
   "metadata": {
    "collapsed": true
   },
   "outputs": [],
   "source": [
    "from sklearn.feature_selection import f_classif, SelectKBest\n",
    "from sklearn.metrics import mean_squared_error"
   ]
  },
  {
   "cell_type": "code",
   "execution_count": 7,
   "metadata": {},
   "outputs": [
    {
     "name": "stdout",
     "output_type": "stream",
     "text": [
      "Top 1 features Index(['LSTAT'], dtype='object')\n",
      "Top 2 features Index(['RM', 'LSTAT'], dtype='object')\n",
      "Top 3 features Index(['RM', 'PTRATIO', 'LSTAT'], dtype='object')\n",
      "Top 4 features Index(['INDUS', 'RM', 'PTRATIO', 'LSTAT'], dtype='object')\n",
      "Top 5 features Index(['INDUS', 'RM', 'TAX', 'PTRATIO', 'LSTAT'], dtype='object')\n",
      "Top 6 features Index(['INDUS', 'NOX', 'RM', 'TAX', 'PTRATIO', 'LSTAT'], dtype='object')\n",
      "Top 7 features Index(['INDUS', 'NOX', 'RM', 'AGE', 'TAX', 'PTRATIO', 'LSTAT'], dtype='object')\n",
      "Top 8 features Index(['INDUS', 'NOX', 'RM', 'AGE', 'RAD', 'TAX', 'PTRATIO', 'LSTAT'], dtype='object')\n",
      "Top 9 features Index(['ZN', 'INDUS', 'NOX', 'RM', 'AGE', 'RAD', 'TAX', 'PTRATIO', 'LSTAT'], dtype='object')\n",
      "Top 10 features Index(['CRIM', 'ZN', 'INDUS', 'NOX', 'RM', 'AGE', 'RAD', 'TAX', 'PTRATIO',\n",
      "       'LSTAT'],\n",
      "      dtype='object')\n",
      "Top 11 features Index(['CRIM', 'ZN', 'INDUS', 'NOX', 'RM', 'AGE', 'RAD', 'TAX', 'PTRATIO', 'B',\n",
      "       'LSTAT'],\n",
      "      dtype='object')\n",
      "Top 12 features Index(['CRIM', 'ZN', 'INDUS', 'NOX', 'RM', 'AGE', 'DIS', 'RAD', 'TAX',\n",
      "       'PTRATIO', 'B', 'LSTAT'],\n",
      "      dtype='object')\n",
      "Top 13 features Index(['CRIM', 'ZN', 'INDUS', 'CHAS', 'NOX', 'RM', 'AGE', 'DIS', 'RAD', 'TAX',\n",
      "       'PTRATIO', 'B', 'LSTAT'],\n",
      "      dtype='object')\n"
     ]
    }
   ],
   "source": [
    "# in the solutions he uses f_regression and not f_classif\n",
    "# also, best features are obtained by cols[sel.get_support()] with cols = Xtrain.columns\n",
    "# and lr is instantiated with normalize=True\n",
    "\n",
    "from sklearn.feature_selection import f_regression\n",
    "from sklearn.linear_model import LinearRegression\n",
    "\n",
    "mse = []\n",
    "cols = Xtrain.columns\n",
    "lr = LinearRegression(normalize=True)\n",
    "\n",
    "# looping through the number of features desired and storing the results in mse\n",
    "for k in range(1, boston_df.shape[1]+1):\n",
    "    # using SelectKBest with the F-statistic as the score\n",
    "    sel = SelectKBest(score_func=f_regression, k=k)\n",
    "    # fitting the selector\n",
    "    sel.fit(Xtrain, ytrain)\n",
    "    # transforming train and test sets\n",
    "    Xtrain_k = sel.transform(Xtrain)\n",
    "    Xtest_k = sel.transform(Xtest)\n",
    "    # fitting linear regression model and printing out the k best features\n",
    "    lr.fit(Xtrain_k, ytrain)\n",
    "    print('Top {} features {}'.format(sel.k, cols[sel.get_support()]))\n",
    "    mse.append(mean_squared_error(lr.predict(Xtest_k), ytest))"
   ]
  },
  {
   "cell_type": "code",
   "execution_count": 8,
   "metadata": {},
   "outputs": [
    {
     "data": {
      "text/plain": [
       "[39.817150504744163,\n",
       " 32.725071692814936,\n",
       " 33.426174254778516,\n",
       " 33.514812256758411,\n",
       " 33.941382846798568,\n",
       " 33.945815157082791,\n",
       " 33.388969094681421,\n",
       " 31.906854569362178,\n",
       " 31.897354107703546,\n",
       " 31.600132144384535,\n",
       " 30.623108795919531,\n",
       " 27.696011416585776,\n",
       " 27.183847647603191]"
      ]
     },
     "execution_count": 8,
     "metadata": {},
     "output_type": "execute_result"
    }
   ],
   "source": [
    "mse"
   ]
  },
  {
   "cell_type": "code",
   "execution_count": 54,
   "metadata": {},
   "outputs": [
    {
     "name": "stdout",
     "output_type": "stream",
     "text": [
      "Top 1 features ['LSTAT']\n",
      "Top 2 features ['LSTAT' 'CRIM']\n",
      "Top 3 features ['LSTAT' 'CRIM' 'RM']\n",
      "Top 4 features ['LSTAT' 'CRIM' 'RM' 'AGE']\n",
      "Top 5 features ['LSTAT' 'CRIM' 'RM' 'AGE' 'B']\n",
      "Top 6 features ['LSTAT' 'CRIM' 'RM' 'AGE' 'B' 'TAX']\n",
      "Top 7 features ['LSTAT' 'CRIM' 'RM' 'AGE' 'B' 'TAX' 'NOX']\n",
      "Top 8 features ['LSTAT' 'CRIM' 'RM' 'AGE' 'B' 'TAX' 'NOX' 'RAD']\n",
      "Top 9 features ['LSTAT' 'CRIM' 'RM' 'AGE' 'B' 'TAX' 'NOX' 'RAD' 'INDUS']\n",
      "Top 10 features ['LSTAT' 'CRIM' 'RM' 'AGE' 'B' 'TAX' 'NOX' 'RAD' 'INDUS' 'PTRATIO']\n",
      "Top 11 features ['LSTAT' 'CRIM' 'RM' 'AGE' 'B' 'TAX' 'NOX' 'RAD' 'INDUS' 'PTRATIO' 'ZN']\n",
      "Top 12 features ['LSTAT' 'CRIM' 'RM' 'AGE' 'B' 'TAX' 'NOX' 'RAD' 'INDUS' 'PTRATIO' 'ZN'\n",
      " 'DIS']\n",
      "Top 13 features ['LSTAT' 'CRIM' 'RM' 'AGE' 'B' 'TAX' 'NOX' 'RAD' 'INDUS' 'PTRATIO' 'ZN'\n",
      " 'DIS' 'CHAS']\n"
     ]
    }
   ],
   "source": [
    "mse = []\n",
    "# looping through the number of features desired and storing the results in mse\n",
    "for k in range(1, boston_df.shape[1]+1):\n",
    "    # using SelectKBest with the F-statistic as the score\n",
    "    sel = SelectKBest(score_func=f_classif, k=k)\n",
    "    # fitting the selector\n",
    "    sel.fit(Xtrain, ytrain)\n",
    "    # transforming train and test sets\n",
    "    Xtrain_k = sel.transform(Xtrain)\n",
    "    Xtest_k = sel.transform(Xtest)\n",
    "    # fitting linear regression model and printing out the k best features\n",
    "    lr.fit(Xtrain_k, ytrain)\n",
    "    print('Top {} features {}'.format(k, pd.Series(sel.scores_, index=Xtrain.columns).\\\n",
    "                                      sort_values(ascending=False).\\\n",
    "                                      head(k).index.values))\n",
    "    mse.append(mean_squared_error(lr.predict(Xtest_k), ytest))"
   ]
  },
  {
   "cell_type": "code",
   "execution_count": 48,
   "metadata": {
    "collapsed": true
   },
   "outputs": [],
   "source": [
    "import matplotlib.pyplot as plt\n",
    "%matplotlib inline"
   ]
  },
  {
   "cell_type": "code",
   "execution_count": 55,
   "metadata": {},
   "outputs": [
    {
     "data": {
      "image/png": "[encoded data removed]",
      "text/plain": [
       "<matplotlib.figure.Figure at 0x22be2168390>"
      ]
     },
     "metadata": {},
     "output_type": "display_data"
    }
   ],
   "source": [
    "plt.figure(figsize=(16, 8))\n",
    "plt.plot(range(1, len(mse)+1), mse)\n",
    "plt.title('MSE for models with different number of features')\n",
    "plt.xlabel('Number of Features')\n",
    "plt.ylabel('MSE');"
   ]
  },
  {
   "cell_type": "markdown",
   "metadata": {},
   "source": [
    "The MSE keeps going down adding features, there is a great gain after the 11th feature is added."
   ]
  },
  {
   "cell_type": "markdown",
   "metadata": {},
   "source": [
    "3 - Do the same as in part (2) instead this time using recursive feature selection."
   ]
  },
  {
   "cell_type": "code",
   "execution_count": 50,
   "metadata": {
    "collapsed": true
   },
   "outputs": [],
   "source": [
    "from sklearn.feature_selection import RFE"
   ]
  },
  {
   "cell_type": "code",
   "execution_count": 51,
   "metadata": {},
   "outputs": [
    {
     "name": "stdout",
     "output_type": "stream",
     "text": [
      "Top 1 features ['NOX']\n",
      "Top 2 features ['RM' 'NOX']\n",
      "Top 3 features ['RM' 'NOX' 'CHAS']\n",
      "Top 4 features ['PTRATIO' 'RM' 'NOX' 'CHAS']\n",
      "Top 5 features ['PTRATIO' 'DIS' 'RM' 'NOX' 'CHAS']\n",
      "Top 6 features ['LSTAT' 'PTRATIO' 'DIS' 'RM' 'NOX' 'CHAS']\n",
      "Top 7 features ['LSTAT' 'PTRATIO' 'DIS' 'RM' 'NOX' 'CHAS' 'CRIM']\n",
      "Top 8 features ['LSTAT' 'PTRATIO' 'RAD' 'DIS' 'RM' 'NOX' 'CHAS' 'CRIM']\n",
      "Top 9 features ['LSTAT' 'PTRATIO' 'RAD' 'DIS' 'RM' 'NOX' 'CHAS' 'ZN' 'CRIM']\n",
      "Top 10 features ['LSTAT' 'PTRATIO' 'TAX' 'RAD' 'DIS' 'RM' 'NOX' 'CHAS' 'ZN' 'CRIM']\n",
      "Top 11 features ['LSTAT' 'PTRATIO' 'TAX' 'RAD' 'DIS' 'RM' 'NOX' 'CHAS' 'INDUS' 'ZN' 'CRIM']\n",
      "Top 12 features ['LSTAT' 'PTRATIO' 'TAX' 'RAD' 'DIS' 'AGE' 'RM' 'NOX' 'CHAS' 'INDUS' 'ZN'\n",
      " 'CRIM']\n",
      "Top 13 features ['LSTAT' 'B' 'PTRATIO' 'TAX' 'RAD' 'DIS' 'AGE' 'RM' 'NOX' 'CHAS' 'INDUS'\n",
      " 'ZN' 'CRIM']\n"
     ]
    }
   ],
   "source": [
    "mse = []\n",
    "# looping through the number of features desired and storing the results in mse\n",
    "for k in range(1, boston_df.shape[1]+1):\n",
    "    # using Recursive Feature Selection with linear regression as estimator\n",
    "    sel = RFE(estimator=lr, n_features_to_select=k)\n",
    "    # fitting the selector\n",
    "    sel.fit(Xtrain, ytrain)\n",
    "    # transforming train and test sets\n",
    "    Xtrain_k = sel.transform(Xtrain)\n",
    "    Xtest_k = sel.transform(Xtest)\n",
    "    # fitting linear regression model and printing out the k best features\n",
    "    lr.fit(Xtrain_k, ytrain)\n",
    "    print('Top {} features {}'.format(k, pd.Series(sel.support_, index=Xtrain.columns).\\\n",
    "                                      sort_values(ascending=False).\\\n",
    "                                      head(k).index.values))\n",
    "    mse.append(mean_squared_error(lr.predict(Xtest_k), ytest))"
   ]
  },
  {
   "cell_type": "code",
   "execution_count": 52,
   "metadata": {},
   "outputs": [
    {
     "data": {
      "image/png": "[encoded data removed]",
      "text/plain": [
       "<matplotlib.figure.Figure at 0x22be2188048>"
      ]
     },
     "metadata": {},
     "output_type": "display_data"
    }
   ],
   "source": [
    "plt.figure(figsize=(16, 8))\n",
    "plt.plot(range(1, len(mse)+1), mse)\n",
    "plt.title('MSE for models with different number of features')\n",
    "plt.xlabel('Number of Features')\n",
    "plt.ylabel('MSE');"
   ]
  },
  {
   "cell_type": "markdown",
   "metadata": {},
   "source": [
    "The MSE keeps going down adding features but after the sixth feature is added there isn't much improvement."
   ]
  },
  {
   "cell_type": "markdown",
   "metadata": {},
   "source": [
    "4 - Fit a Ridge Regression model to the data and use recursive feature elimination and `SelectFromModel` in `sklearn` to select your features.  Generate the same plots and best features as in parts (2) and (3) and comment and compare your results to what you have found previously."
   ]
  },
  {
   "cell_type": "code",
   "execution_count": null,
   "metadata": {
    "collapsed": true
   },
   "outputs": [],
   "source": [
    "# in solutions he doesn't use select from model but repeats the previous exercise only using ridge instead\n",
    "# ok no, it does both"
   ]
  },
  {
   "cell_type": "code",
   "execution_count": 21,
   "metadata": {},
   "outputs": [
    {
     "name": "stdout",
     "output_type": "stream",
     "text": [
      "c=0.1 features Index(['CHAS', 'NOX', 'RM', 'DIS', 'RAD', 'PTRATIO', 'LSTAT'], dtype='object')\n",
      "c=0.2 features Index(['CHAS', 'NOX', 'RM', 'DIS', 'PTRATIO', 'LSTAT'], dtype='object')\n",
      "c=0.30000000000000004 features Index(['CHAS', 'NOX', 'RM', 'DIS', 'PTRATIO', 'LSTAT'], dtype='object')\n",
      "c=0.4 features Index(['CHAS', 'NOX', 'RM', 'DIS', 'PTRATIO'], dtype='object')\n",
      "c=0.5 features Index(['CHAS', 'NOX', 'RM', 'DIS', 'PTRATIO'], dtype='object')\n",
      "c=0.6 features Index(['CHAS', 'NOX', 'RM', 'DIS', 'PTRATIO'], dtype='object')\n",
      "c=0.7000000000000001 features Index(['CHAS', 'NOX', 'RM', 'DIS'], dtype='object')\n",
      "c=0.8 features Index(['CHAS', 'NOX', 'RM', 'DIS'], dtype='object')\n",
      "c=0.9 features Index(['CHAS', 'NOX', 'RM', 'DIS'], dtype='object')\n",
      "c=1.0 features Index(['CHAS', 'NOX', 'RM', 'DIS'], dtype='object')\n",
      "c=1.1 features Index(['CHAS', 'NOX', 'RM'], dtype='object')\n",
      "c=1.2000000000000002 features Index(['CHAS', 'NOX', 'RM'], dtype='object')\n",
      "c=1.3000000000000003 features Index(['CHAS', 'NOX', 'RM'], dtype='object')\n",
      "c=1.4000000000000001 features Index(['CHAS', 'NOX', 'RM'], dtype='object')\n",
      "c=1.5000000000000002 features Index(['CHAS', 'NOX', 'RM'], dtype='object')\n",
      "c=1.6 features Index(['CHAS', 'NOX', 'RM'], dtype='object')\n",
      "c=1.7000000000000002 features Index(['CHAS', 'NOX', 'RM'], dtype='object')\n",
      "c=1.8000000000000003 features Index(['NOX', 'RM'], dtype='object')\n",
      "c=1.9000000000000001 features Index(['NOX', 'RM'], dtype='object')\n",
      "c=2.0 features Index(['NOX', 'RM'], dtype='object')\n"
     ]
    }
   ],
   "source": [
    "# in selectfrommodel it uses c_vals = np.arange(0.1, 2.1, 0.1) to loop through and the threshold is set to\n",
    "# str(c) + '*mean' for c in c_vals\n",
    "# also, he always fits the ridge model\n",
    "\n",
    "from sklearn.linear_model import Ridge\n",
    "from sklearn.feature_selection import SelectFromModel\n",
    "# fitting ridge regression\n",
    "ridge = Ridge()\n",
    "c_vals = np.arange(0.1, 2.1, 0.1)\n",
    "cols = Xtrain.columns\n",
    "\n",
    "mse = []\n",
    "# looping through the possible threshholds from above and storing the results in mse\n",
    "for c in c_vals:\n",
    "    # using SelectFromModel with the ridge scores from above\n",
    "    selfrmod = SelectFromModel(ridge, threshold=str(c) + '*mean')\n",
    "    # fitting the selector\n",
    "    selfrmod.fit(Xtrain, ytrain)\n",
    "    # transforming train and test sets\n",
    "    Xtrain_k = selfrmod.transform(Xtrain)\n",
    "    Xtest_k = selfrmod.transform(Xtest)\n",
    "    # fitting linear regression model and printing out the k best features\n",
    "    ridge.fit(Xtrain_k, ytrain)\n",
    "    print('c={} features {}'.format(c, cols[selfrmod.get_support()]))\n",
    "    mse.append(mean_squared_error(ridge.predict(Xtest_k), ytest))"
   ]
  },
  {
   "cell_type": "code",
   "execution_count": 22,
   "metadata": {},
   "outputs": [
    {
     "data": {
      "text/plain": [
       "[30.381411907076952,\n",
       " 30.058877215058555,\n",
       " 30.058877215058555,\n",
       " 39.880365155466372,\n",
       " 39.880365155466372,\n",
       " 39.880365155466372,\n",
       " 40.711281688327347,\n",
       " 40.711281688327347,\n",
       " 40.711281688327347,\n",
       " 40.711281688327347,\n",
       " 41.059776421045399,\n",
       " 41.059776421045399,\n",
       " 41.059776421045399,\n",
       " 41.059776421045399,\n",
       " 41.059776421045399,\n",
       " 41.059776421045399,\n",
       " 41.059776421045399,\n",
       " 43.600677124666888,\n",
       " 43.600677124666888,\n",
       " 43.600677124666888]"
      ]
     },
     "execution_count": 22,
     "metadata": {},
     "output_type": "execute_result"
    }
   ],
   "source": [
    "mse"
   ]
  },
  {
   "cell_type": "code",
   "execution_count": 23,
   "metadata": {},
   "outputs": [
    {
     "data": {
      "image/png": "[encoded data removed]",
      "text/plain": [
       "<matplotlib.figure.Figure at 0x2a47ae793c8>"
      ]
     },
     "metadata": {},
     "output_type": "display_data"
    }
   ],
   "source": [
    "import matplotlib.pyplot as plt\n",
    "%matplotlib inline\n",
    "\n",
    "plt.figure(figsize=(16, 8))\n",
    "plt.plot(c_vals, mse)\n",
    "plt.title('MSE for different thresholds')\n",
    "plt.xlabel('c')\n",
    "plt.ylabel('MSE');"
   ]
  },
  {
   "cell_type": "code",
   "execution_count": 56,
   "metadata": {},
   "outputs": [
    {
     "name": "stdout",
     "output_type": "stream",
     "text": [
      "Top 1 features ['RM']\n",
      "Top 2 features ['RM' 'CHAS']\n",
      "Top 3 features ['RM' 'CHAS' 'RAD']\n",
      "Top 4 features ['RM' 'CHAS' 'RAD' 'ZN']\n",
      "Top 5 features ['RM' 'CHAS' 'RAD' 'ZN' 'B']\n",
      "Top 6 features ['RM' 'CHAS' 'RAD' 'ZN' 'B' 'TAX']\n",
      "Top 7 features ['RM' 'CHAS' 'RAD' 'ZN' 'B' 'TAX' 'AGE']\n",
      "Top 8 features ['RM' 'CHAS' 'RAD' 'ZN' 'B' 'TAX' 'AGE' 'INDUS']\n",
      "Top 9 features ['RM' 'CHAS' 'RAD' 'ZN' 'B' 'TAX' 'AGE' 'INDUS' 'CRIM']\n",
      "Top 10 features ['RM' 'CHAS' 'RAD' 'ZN' 'B' 'TAX' 'AGE' 'INDUS' 'CRIM' 'LSTAT']\n",
      "Top 11 features ['RM' 'CHAS' 'RAD' 'ZN' 'B' 'TAX' 'AGE' 'INDUS' 'CRIM' 'LSTAT' 'PTRATIO']\n",
      "Top 12 features ['RM' 'CHAS' 'RAD' 'ZN' 'B' 'TAX' 'AGE' 'INDUS' 'CRIM' 'LSTAT' 'PTRATIO'\n",
      " 'DIS']\n",
      "Top 13 features ['RM' 'CHAS' 'RAD' 'ZN' 'B' 'TAX' 'AGE' 'INDUS' 'CRIM' 'LSTAT' 'PTRATIO'\n",
      " 'DIS' 'NOX']\n"
     ]
    }
   ],
   "source": [
    "from sklearn.linear_model import Ridge\n",
    "# from sklearn.feature_selection import RFECV\n",
    "from sklearn.feature_selection import SelectFromModel\n",
    "# fitting ridge regression\n",
    "ridge = Ridge()\n",
    "ridge.fit(Xtrain, ytrain)\n",
    "# storing features importance\n",
    "coef = ridge.coef_\n",
    "\n",
    "mse = []\n",
    "# looping through the possible threshholds from above and storing the results in mse\n",
    "for k, thresh in enumerate(sorted(coef, reverse=True)):\n",
    "    # using SelectFromModel with the ridge scores from above\n",
    "    selfrmod = SelectFromModel(ridge, threshold=thresh)\n",
    "    # fitting the selector\n",
    "    selfrmod.fit(Xtrain, ytrain)\n",
    "    # transforming train and test sets\n",
    "    Xtrain_k = selfrmod.transform(Xtrain)\n",
    "    Xtest_k = selfrmod.transform(Xtest)\n",
    "    # fitting linear regression model and printing out the k best features\n",
    "    lr.fit(Xtrain_k, ytrain)\n",
    "    print('Top {} features {}'.format(k+1, pd.Series(ridge.coef_, index=Xtrain.columns).\\\n",
    "                                      sort_values(ascending=False).\\\n",
    "                                      head(k+1).index.values))\n",
    "    mse.append(mean_squared_error(lr.predict(Xtest_k), ytest))"
   ]
  },
  {
   "cell_type": "code",
   "execution_count": 57,
   "metadata": {},
   "outputs": [
    {
     "data": {
      "image/png": "[encoded data removed]",
      "text/plain": [
       "<matplotlib.figure.Figure at 0x22be10c3c88>"
      ]
     },
     "metadata": {},
     "output_type": "display_data"
    }
   ],
   "source": [
    "plt.figure(figsize=(16, 8))\n",
    "plt.plot(range(1, len(mse)+1), mse)\n",
    "plt.title('MSE for models with different number of features')\n",
    "plt.xlabel('Number of Features')\n",
    "plt.ylabel('MSE');"
   ]
  },
  {
   "cell_type": "markdown",
   "metadata": {},
   "source": [
    "After the fourth feature there is no improvement.\n",
    "\n",
    "Also, the MSE seems better than all the trials before."
   ]
  },
  {
   "cell_type": "markdown",
   "metadata": {},
   "source": [
    "5 - L1 regularization can also be used for model selection.  Choose an algorithm in `sklearn` and repeat part (4) using model selection via regularization."
   ]
  },
  {
   "cell_type": "code",
   "execution_count": 24,
   "metadata": {},
   "outputs": [
    {
     "name": "stdout",
     "output_type": "stream",
     "text": [
      "c=0.1 features Index(['CRIM', 'ZN', 'RM', 'DIS', 'RAD', 'PTRATIO', 'LSTAT'], dtype='object')\n",
      "c=0.2 features Index(['CRIM', 'RM', 'DIS', 'RAD', 'PTRATIO', 'LSTAT'], dtype='object')\n",
      "c=0.30000000000000004 features Index(['RM', 'DIS', 'RAD', 'PTRATIO', 'LSTAT'], dtype='object')\n",
      "c=0.4 features Index(['RM', 'DIS', 'RAD', 'PTRATIO', 'LSTAT'], dtype='object')\n",
      "c=0.5 features Index(['RM', 'DIS', 'RAD', 'PTRATIO', 'LSTAT'], dtype='object')\n",
      "c=0.6 features Index(['RM', 'DIS', 'RAD', 'PTRATIO', 'LSTAT'], dtype='object')\n",
      "c=0.7000000000000001 features Index(['RM', 'DIS', 'PTRATIO', 'LSTAT'], dtype='object')\n",
      "c=0.8 features Index(['RM', 'DIS', 'PTRATIO', 'LSTAT'], dtype='object')\n",
      "c=0.9 features Index(['RM', 'DIS', 'PTRATIO', 'LSTAT'], dtype='object')\n",
      "c=1.0 features Index(['RM', 'DIS', 'PTRATIO', 'LSTAT'], dtype='object')\n",
      "c=1.1 features Index(['RM', 'DIS', 'PTRATIO', 'LSTAT'], dtype='object')\n",
      "c=1.2000000000000002 features Index(['RM', 'DIS', 'PTRATIO', 'LSTAT'], dtype='object')\n",
      "c=1.3000000000000003 features Index(['RM', 'DIS', 'PTRATIO', 'LSTAT'], dtype='object')\n",
      "c=1.4000000000000001 features Index(['RM', 'DIS', 'PTRATIO', 'LSTAT'], dtype='object')\n",
      "c=1.5000000000000002 features Index(['RM', 'DIS', 'PTRATIO', 'LSTAT'], dtype='object')\n",
      "c=1.6 features Index(['RM', 'DIS', 'PTRATIO', 'LSTAT'], dtype='object')\n",
      "c=1.7000000000000002 features Index(['RM', 'DIS', 'PTRATIO', 'LSTAT'], dtype='object')\n",
      "c=1.8000000000000003 features Index(['RM', 'DIS', 'PTRATIO', 'LSTAT'], dtype='object')\n",
      "c=1.9000000000000001 features Index(['RM', 'DIS', 'PTRATIO', 'LSTAT'], dtype='object')\n",
      "c=2.0 features Index(['RM', 'DIS', 'PTRATIO'], dtype='object')\n"
     ]
    }
   ],
   "source": [
    "# again, in solutions he uses the c_vals as before and he fits the lasso\n",
    "\n",
    "from sklearn.linear_model import LassoCV\n",
    "from sklearn.feature_selection import SelectFromModel\n",
    "# fitting ridge regression\n",
    "lasso = LassoCV()\n",
    "c_vals = np.arange(0.1, 2.1, 0.1)\n",
    "cols = Xtrain.columns\n",
    "\n",
    "mse = []\n",
    "# looping through the possible threshholds from above and storing the results in mse\n",
    "for c in c_vals:\n",
    "    # using SelectFromModel with the ridge scores from above\n",
    "    selfrmod = SelectFromModel(lasso, threshold=str(c) + '*mean')\n",
    "    # fitting the selector\n",
    "    selfrmod.fit(Xtrain, ytrain)\n",
    "    # transforming train and test sets\n",
    "    Xtrain_k = selfrmod.transform(Xtrain)\n",
    "    Xtest_k = selfrmod.transform(Xtest)\n",
    "    # fitting linear regression model and printing out the k best features\n",
    "    lasso.fit(Xtrain_k, ytrain)\n",
    "    print('c={} features {}'.format(c, cols[selfrmod.get_support()]))\n",
    "    mse.append(mean_squared_error(lasso.predict(Xtest_k), ytest))"
   ]
  },
  {
   "cell_type": "code",
   "execution_count": 25,
   "metadata": {},
   "outputs": [
    {
     "data": {
      "text/plain": [
       "[31.703214268512056,\n",
       " 32.200167969738231,\n",
       " 32.581821738916972,\n",
       " 32.581821738916972,\n",
       " 32.581821738916972,\n",
       " 32.581821738916972,\n",
       " 31.776158436397562,\n",
       " 31.776158436397562,\n",
       " 31.776158436397562,\n",
       " 31.776158436397562,\n",
       " 31.776158436397562,\n",
       " 31.776158436397562,\n",
       " 31.776158436397562,\n",
       " 31.776158436397562,\n",
       " 31.776158436397562,\n",
       " 31.776158436397562,\n",
       " 31.776158436397562,\n",
       " 31.776158436397562,\n",
       " 31.776158436397562,\n",
       " 45.568824859833477]"
      ]
     },
     "execution_count": 25,
     "metadata": {},
     "output_type": "execute_result"
    }
   ],
   "source": [
    "mse"
   ]
  },
  {
   "cell_type": "code",
   "execution_count": 26,
   "metadata": {},
   "outputs": [
    {
     "data": {
      "image/png": "[encoded data removed]",
      "text/plain": [
       "<matplotlib.figure.Figure at 0x2a47b55b0b8>"
      ]
     },
     "metadata": {},
     "output_type": "display_data"
    }
   ],
   "source": [
    "import matplotlib.pyplot as plt\n",
    "%matplotlib inline\n",
    "\n",
    "plt.figure(figsize=(16, 8))\n",
    "plt.plot(c_vals, mse)\n",
    "plt.title('MSE for different thresholds')\n",
    "plt.xlabel('c')\n",
    "plt.ylabel('MSE');"
   ]
  },
  {
   "cell_type": "code",
   "execution_count": 58,
   "metadata": {},
   "outputs": [
    {
     "name": "stdout",
     "output_type": "stream",
     "text": [
      "Top 1 features ['RM']\n",
      "Top 2 features ['RM' 'RAD']\n",
      "Top 3 features ['RM' 'RAD' 'ZN']\n",
      "Top 4 features ['RM' 'RAD' 'ZN' 'B']\n",
      "Top 5 features ['RM' 'RAD' 'ZN' 'B' 'AGE']\n",
      "Top 6 features ['RM' 'RAD' 'ZN' 'B' 'AGE' 'NOX']\n",
      "Top 7 features ['RM' 'RAD' 'ZN' 'B' 'AGE' 'NOX' 'CHAS']\n",
      "Top 8 features ['RM' 'RAD' 'ZN' 'B' 'AGE' 'NOX' 'CHAS' 'INDUS']\n",
      "Top 9 features ['RM' 'RAD' 'ZN' 'B' 'AGE' 'NOX' 'CHAS' 'INDUS' 'TAX']\n",
      "Top 10 features ['RM' 'RAD' 'ZN' 'B' 'AGE' 'NOX' 'CHAS' 'INDUS' 'TAX' 'CRIM']\n",
      "Top 11 features ['RM' 'RAD' 'ZN' 'B' 'AGE' 'NOX' 'CHAS' 'INDUS' 'TAX' 'CRIM' 'LSTAT']\n",
      "Top 12 features ['RM' 'RAD' 'ZN' 'B' 'AGE' 'NOX' 'CHAS' 'INDUS' 'TAX' 'CRIM' 'LSTAT'\n",
      " 'PTRATIO']\n",
      "Top 13 features ['RM' 'RAD' 'ZN' 'B' 'AGE' 'NOX' 'CHAS' 'INDUS' 'TAX' 'CRIM' 'LSTAT'\n",
      " 'PTRATIO' 'DIS']\n"
     ]
    }
   ],
   "source": [
    "from sklearn.linear_model import LassoCV\n",
    "# fitting lasso regression\n",
    "lasso = LassoCV()\n",
    "lasso.fit(Xtrain, ytrain)\n",
    "# storing features importance\n",
    "coef = lasso.coef_\n",
    "\n",
    "mse = []\n",
    "# looping through the possible threshholds from above and storing the results in mse\n",
    "for k, thresh in enumerate(sorted(coef, reverse=True)):\n",
    "    # using SelectFromModel with the lasso scores from above\n",
    "    selfrmod = SelectFromModel(lasso, threshold=thresh)\n",
    "    # fitting the selector\n",
    "    selfrmod.fit(Xtrain, ytrain)\n",
    "    # transforming train and test sets\n",
    "    Xtrain_k = selfrmod.transform(Xtrain)\n",
    "    Xtest_k = selfrmod.transform(Xtest)\n",
    "    # fitting linear regression model and printing out the k best features\n",
    "    lr.fit(Xtrain_k, ytrain)\n",
    "    print('Top {} features {}'.format(k+1, pd.Series(lasso.coef_, index=Xtrain.columns).\\\n",
    "                                      sort_values(ascending=False).\\\n",
    "                                      head(k+1).index.values))\n",
    "    mse.append(mean_squared_error(lr.predict(Xtest_k), ytest))"
   ]
  },
  {
   "cell_type": "code",
   "execution_count": 59,
   "metadata": {},
   "outputs": [
    {
     "data": {
      "image/png": "[encoded data removed]",
      "text/plain": [
       "<matplotlib.figure.Figure at 0x22be0607f28>"
      ]
     },
     "metadata": {},
     "output_type": "display_data"
    }
   ],
   "source": [
    "plt.figure(figsize=(16, 8))\n",
    "plt.plot(range(1, len(mse)+1), mse)\n",
    "plt.title('MSE for models with different number of features')\n",
    "plt.xlabel('Number of Features')\n",
    "plt.ylabel('MSE');"
   ]
  },
  {
   "cell_type": "markdown",
   "metadata": {},
   "source": [
    "The performances are similar as before, but this time the improvement in MSE stops at 6 features instead of 4.\n",
    "\n",
    "It should be noted that all the methods selected different subsets of features as optimal!"
   ]
  }
 ],
 "metadata": {
  "anaconda-cloud": {},
  "kernelspec": {
   "display_name": "Python 3",
   "language": "python",
   "name": "python3"
  },
  "language_info": {
   "codemirror_mode": {
    "name": "ipython",
    "version": 3
   },
   "file_extension": ".py",
   "mimetype": "text/x-python",
   "name": "python",
   "nbconvert_exporter": "python",
   "pygments_lexer": "ipython3",
   "version": "3.6.2"
  }
 },
 "nbformat": 4,
 "nbformat_minor": 2
}
