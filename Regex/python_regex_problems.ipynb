{
 "cells": [
  {
   "cell_type": "markdown",
   "metadata": {},
   "source": [
    "# Regex Problems"
   ]
  },
  {
   "cell_type": "markdown",
   "metadata": {},
   "source": [
    "## 1. *Efficiently* Get a list of all complete URLs that use https protocol"
   ]
  },
  {
   "cell_type": "code",
   "execution_count": 1,
   "metadata": {
    "collapsed": true
   },
   "outputs": [],
   "source": [
    "urls = ['http://www.domain.com',\n",
    "        'https://somedomain.com',\n",
    "        'http://my-domain-123.net',\n",
    "        'https://google.com',\n",
    "        'http://www.foo.com',\n",
    "        'https://bar-baz3.com',\n",
    "        'ftp://domain2.com']"
   ]
  },
  {
   "cell_type": "code",
   "execution_count": 3,
   "metadata": {
    "collapsed": false
   },
   "outputs": [],
   "source": [
    "import re"
   ]
  },
  {
   "cell_type": "code",
   "execution_count": 28,
   "metadata": {
    "collapsed": false
   },
   "outputs": [
    {
     "data": {
      "text/plain": [
       "['https://somedomain.com', 'https://google.com', 'https://bar-baz3.com']"
      ]
     },
     "execution_count": 28,
     "metadata": {},
     "output_type": "execute_result"
    }
   ],
   "source": [
    "# A complete match checking for the presence of some alphanumeric after the // followed\n",
    "# by at least one group of .alphanumeric could be 'https://\\w+(.\\w+)+'\n",
    "# I don't check if it ends with .com, .net or others but there are too many options here\n",
    "\n",
    "[m.string for u in urls for m in [re.search('https://', u)] if m]"
   ]
  },
  {
   "cell_type": "markdown",
   "metadata": {},
   "source": [
    "## 2. Get domains (without protocols) (including extension, e.g. .com) for URLs with both http and https protocols."
   ]
  },
  {
   "cell_type": "code",
   "execution_count": 31,
   "metadata": {
    "collapsed": false
   },
   "outputs": [
    {
     "data": {
      "text/plain": [
       "['www.domain.com',\n",
       " 'somedomain.com',\n",
       " 'my-domain-123.net',\n",
       " 'google.com',\n",
       " 'www.foo.com',\n",
       " 'bar-baz3.com']"
      ]
     },
     "execution_count": 31,
     "metadata": {},
     "output_type": "execute_result"
    }
   ],
   "source": [
    "[m.group(1) for u in urls for m in [re.search('https?://(\\w+(.\\w+)+)', u)] if m]"
   ]
  },
  {
   "cell_type": "markdown",
   "metadata": {},
   "source": [
    "## 3. Below is a list of language codes. Determine how many are some form of English\n",
    "\n",
    "* English codes will start with En, en, or EN"
   ]
  },
  {
   "cell_type": "code",
   "execution_count": 32,
   "metadata": {
    "collapsed": true
   },
   "outputs": [],
   "source": [
    "languages = ['Ar','It','it','En','En_gb','jp','en_GB','EN_IE','en-NZ','en','es','ES-es']"
   ]
  },
  {
   "cell_type": "code",
   "execution_count": 37,
   "metadata": {
    "collapsed": false
   },
   "outputs": [
    {
     "data": {
      "text/plain": [
       "6"
      ]
     },
     "execution_count": 37,
     "metadata": {},
     "output_type": "execute_result"
    }
   ],
   "source": [
    "sum([1 for c in languages for m in [re.search('^en', c, re.IGNORECASE)] if m])"
   ]
  },
  {
   "cell_type": "markdown",
   "metadata": {},
   "source": [
    "## 4. Fix all langauge codes so that they are formatted as such:\n",
    "* first two letters are lower case\n",
    "* codes with region endings use hyphen and not underscore\n",
    "* the region endings are upper case"
   ]
  },
  {
   "cell_type": "code",
   "execution_count": 67,
   "metadata": {
    "collapsed": false
   },
   "outputs": [
    {
     "data": {
      "text/plain": [
       "['ar',\n",
       " 'it',\n",
       " 'it',\n",
       " 'en',\n",
       " 'en-GB',\n",
       " 'jp',\n",
       " 'en-GB',\n",
       " 'en-IE',\n",
       " 'en-NZ',\n",
       " 'en',\n",
       " 'es',\n",
       " 'es-ES']"
      ]
     },
     "execution_count": 67,
     "metadata": {},
     "output_type": "execute_result"
    }
   ],
   "source": [
    "[m.group(1).lower() + ('-' + m.group(4).upper() if m.group(2) else '')\\\n",
    " for c in languages for m in [re.search('(^[A-Za-z]{2})((.)([A-Za-z]{2}$))?', c)] if m]"
   ]
  }
 ],
 "metadata": {
  "anaconda-cloud": {},
  "kernelspec": {
   "display_name": "Python 3",
   "language": "python",
   "name": "python3"
  },
  "language_info": {
   "codemirror_mode": {
    "name": "ipython",
    "version": 3
   },
   "file_extension": ".py",
   "mimetype": "text/x-python",
   "name": "python",
   "nbconvert_exporter": "python",
   "pygments_lexer": "ipython3",
   "version": "3.6.0"
  }
 },
 "nbformat": 4,
 "nbformat_minor": 2
}
